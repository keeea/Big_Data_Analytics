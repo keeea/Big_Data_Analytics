{
  "cells": [
    {
      "cell_type": "markdown",
      "source": [
        "# CIS 545 Homework 4: Machine Learning\n",
        "\n",
        "*Due Date: **4th April 2022 at 10:00PM EST**, 100 points total (= 87 autograded + 13 manually graded).*\n",
        "\n",
        "**PLEASE READ THE FAQ as you do this assignment!** It's pinned on Piazza and we TAs work really hard to keep it updated with everything you might need to know or anything we might have failed to specify. Writing these HWs and test cases gets tricky since students always end up implementing solutions that we did not anticipate and thus could not have prepared the grader correctly for."
      ],
      "metadata": {
        "id": "ynuCWzxwQvfz"
      }
    },
    {
      "cell_type": "markdown",
      "metadata": {
        "id": "ETZ9CDIDLYHp"
      },
      "source": [
        "# Libraries and Setup Jargon\n",
        "Run the following cells to set up the notebook.\n",
        "\n",
        "When prompted for a selection, select the number that is associated with java 8 (this should be option 2)"
      ]
    },
    {
      "cell_type": "code",
      "metadata": {
        "id": "KLatjcDhLUIy",
        "colab": {
          "base_uri": "https://localhost:8080/"
        },
        "outputId": "7868420d-ab78-4120-c357-680cd3e7af87"
      },
      "source": [
        "! sudo apt install openjdk-8-jdk\n",
        "! sudo update-alternatives --config java"
      ],
      "execution_count": 1,
      "outputs": [
        {
          "output_type": "stream",
          "name": "stdout",
          "text": [
            "Reading package lists... Done\n",
            "Building dependency tree       \n",
            "Reading state information... Done\n",
            "openjdk-8-jdk is already the newest version (8u312-b07-0ubuntu1~18.04).\n",
            "0 upgraded, 0 newly installed, 0 to remove and 95 not upgraded.\n",
            "There are 2 choices for the alternative java (providing /usr/bin/java).\n",
            "\n",
            "  Selection    Path                                            Priority   Status\n",
            "------------------------------------------------------------\n",
            "  0            /usr/lib/jvm/java-11-openjdk-amd64/bin/java      1111      auto mode\n",
            "  1            /usr/lib/jvm/java-11-openjdk-amd64/bin/java      1111      manual mode\n",
            "* 2            /usr/lib/jvm/java-8-openjdk-amd64/jre/bin/java   1081      manual mode\n",
            "\n",
            "Press <enter> to keep the current choice[*], or type selection number: 2\n"
          ]
        }
      ]
    },
    {
      "cell_type": "markdown",
      "metadata": {
        "id": "eEUIzvEuMdGQ"
      },
      "source": [
        "Please make sure you enter your **8 digit Penn ID** in the student ID field below."
      ]
    },
    {
      "cell_type": "code",
      "metadata": {
        "id": "adECTPlZLtVi"
      },
      "source": [
        "%%capture\n",
        "!pip install penngrader\n",
        "from penngrader.grader import *\n",
        "\n",
        "#PLEASE ENSURE YOUR PENN-ID IS ENTERED CORRECTLY. IF NOT, THE AUTOGRADER WON'T KNOW WHO \n",
        "#TO ASSIGN POINTS TO YOU IN OUR BACKEND\n",
        "STUDENT_ID = 83510311 # YOUR PENN-ID GOES HERE AS AN INTEGER\n",
        "\n",
        "grader = PennGrader(homework_id = 'CIS545_Spring_2022_HW4', student_id = STUDENT_ID)"
      ],
      "execution_count": 2,
      "outputs": []
    },
    {
      "cell_type": "code",
      "source": [
        "# Versioning again\n",
        "!pip install pandas==1.1.5"
      ],
      "metadata": {
        "id": "miNed7QP9op_",
        "colab": {
          "base_uri": "https://localhost:8080/"
        },
        "outputId": "41276255-c932-40e7-e53a-c3d5484a8814"
      },
      "execution_count": 3,
      "outputs": [
        {
          "output_type": "stream",
          "name": "stdout",
          "text": [
            "Requirement already satisfied: pandas==1.1.5 in /usr/local/lib/python3.7/dist-packages (1.1.5)\n",
            "Requirement already satisfied: pytz>=2017.2 in /usr/local/lib/python3.7/dist-packages (from pandas==1.1.5) (2018.9)\n",
            "Requirement already satisfied: python-dateutil>=2.7.3 in /usr/local/lib/python3.7/dist-packages (from pandas==1.1.5) (2.8.2)\n",
            "Requirement already satisfied: numpy>=1.15.4 in /usr/local/lib/python3.7/dist-packages (from pandas==1.1.5) (1.21.5)\n",
            "Requirement already satisfied: six>=1.5 in /usr/local/lib/python3.7/dist-packages (from python-dateutil>=2.7.3->pandas==1.1.5) (1.15.0)\n"
          ]
        }
      ]
    },
    {
      "cell_type": "code",
      "metadata": {
        "id": "TBTaESEdMmiU"
      },
      "source": [
        "# Sklearn and Pandas Setup\n",
        "import json\n",
        "import glob\n",
        "import pandas as pd\n",
        "import numpy as np\n",
        "import datetime as dt\n",
        "import re\n",
        "import os\n",
        "import matplotlib.pyplot as plt\n",
        "import seaborn as sns\n",
        "from matplotlib import cm\n",
        "from google.colab import drive"
      ],
      "execution_count": 4,
      "outputs": []
    },
    {
      "cell_type": "code",
      "metadata": {
        "id": "tA6oTIZtRjf7",
        "colab": {
          "base_uri": "https://localhost:8080/"
        },
        "outputId": "2652a546-ea51-4e56-af45-d9d7842d904f"
      },
      "source": [
        "!apt update\n",
        "!apt install gcc python-dev libkrb5-dev"
      ],
      "execution_count": 5,
      "outputs": [
        {
          "output_type": "stream",
          "name": "stdout",
          "text": [
            "\u001b[33m\r0% [Working]\u001b[0m\r            \rGet:1 http://security.ubuntu.com/ubuntu bionic-security InRelease [88.7 kB]\n",
            "\u001b[33m\r0% [Connecting to archive.ubuntu.com (185.125.190.36)] [1 InRelease 0 B/88.7 kB\u001b[0m\r                                                                               \rHit:2 https://cloud.r-project.org/bin/linux/ubuntu bionic-cran40/ InRelease\n",
            "\u001b[33m\r0% [Connecting to archive.ubuntu.com (185.125.190.36)] [1 InRelease 88.7 kB/88.\u001b[0m\u001b[33m\r0% [Connecting to archive.ubuntu.com (185.125.190.36)] [Waiting for headers] [W\u001b[0m\u001b[33m\r0% [2 InRelease gpgv 3,626 B] [Connecting to archive.ubuntu.com (185.125.190.36\u001b[0m\r                                                                               \rHit:3 http://ppa.launchpad.net/c2d4u.team/c2d4u4.0+/ubuntu bionic InRelease\n",
            "\u001b[33m\r0% [2 InRelease gpgv 3,626 B] [Waiting for headers] [Connecting to ppa.launchpa\u001b[0m\r                                                                               \rIgn:4 https://developer.download.nvidia.com/compute/cuda/repos/ubuntu1804/x86_64  InRelease\n",
            "Hit:5 http://archive.ubuntu.com/ubuntu bionic InRelease\n",
            "Get:6 http://archive.ubuntu.com/ubuntu bionic-updates InRelease [88.7 kB]\n",
            "Ign:7 https://developer.download.nvidia.com/compute/machine-learning/repos/ubuntu1804/x86_64  InRelease\n",
            "Hit:8 https://developer.download.nvidia.com/compute/cuda/repos/ubuntu1804/x86_64  Release\n",
            "Hit:9 https://developer.download.nvidia.com/compute/machine-learning/repos/ubuntu1804/x86_64  Release\n",
            "Hit:10 http://ppa.launchpad.net/cran/libgit2/ubuntu bionic InRelease\n",
            "Hit:11 http://ppa.launchpad.net/deadsnakes/ppa/ubuntu bionic InRelease\n",
            "Get:12 http://archive.ubuntu.com/ubuntu bionic-backports InRelease [74.6 kB]\n",
            "Hit:13 http://ppa.launchpad.net/graphics-drivers/ppa/ubuntu bionic InRelease\n",
            "Get:16 http://archive.ubuntu.com/ubuntu bionic-updates/main amd64 Packages [3,132 kB]\n",
            "Fetched 3,384 kB in 4s (845 kB/s)\n",
            "Reading package lists... Done\n",
            "Building dependency tree       \n",
            "Reading state information... Done\n",
            "95 packages can be upgraded. Run 'apt list --upgradable' to see them.\n",
            "Reading package lists... Done\n",
            "Building dependency tree       \n",
            "Reading state information... Done\n",
            "python-dev is already the newest version (2.7.15~rc1-1).\n",
            "gcc is already the newest version (4:7.4.0-1ubuntu2.3).\n",
            "libkrb5-dev is already the newest version (1.16-2ubuntu0.2).\n",
            "0 upgraded, 0 newly installed, 0 to remove and 95 not upgraded.\n"
          ]
        }
      ]
    },
    {
      "cell_type": "markdown",
      "source": [
        "# **Part I:** Preprocessing and Modeling in `scikit-learn` (65 points)"
      ],
      "metadata": {
        "id": "dfjGBhj2nqdx"
      }
    },
    {
      "cell_type": "markdown",
      "metadata": {
        "id": "8NK8KtAccKOr"
      },
      "source": [
        "## **1.1** Data Loading and Preprocessing\n"
      ]
    },
    {
      "cell_type": "markdown",
      "metadata": {
        "id": "1Sw7LCAacKOu"
      },
      "source": [
        "### **1.1.1** Read\n",
        "\n",
        "We are using one CSV for this homework, `rideshare_kaggle.csv` from [this Kaggle](https://www.kaggle.com/brllrb/uber-and-lyft-dataset-boston-ma) dataset. The price corresponds to the prices of each ride. Go to the Kaggle link and create an account, go to Account, click on Create New API Token to get the API key in the form of a json file ```kaggle.json```! This can be helpful for your project if you decide to use Kaggle. \n",
        "\n",
        "Load `rideshare_kaggle.csv` as `rides_df`."
      ]
    },
    {
      "cell_type": "code",
      "source": [
        "!pip install kaggle"
      ],
      "metadata": {
        "id": "29JnUuqzfu5R",
        "colab": {
          "base_uri": "https://localhost:8080/"
        },
        "outputId": "f8966734-20da-4343-8c5d-b698c5befe84"
      },
      "execution_count": 6,
      "outputs": [
        {
          "output_type": "stream",
          "name": "stdout",
          "text": [
            "Requirement already satisfied: kaggle in /usr/local/lib/python3.7/dist-packages (1.5.12)\n",
            "Requirement already satisfied: six>=1.10 in /usr/local/lib/python3.7/dist-packages (from kaggle) (1.15.0)\n",
            "Requirement already satisfied: requests in /usr/local/lib/python3.7/dist-packages (from kaggle) (2.23.0)\n",
            "Requirement already satisfied: python-slugify in /usr/local/lib/python3.7/dist-packages (from kaggle) (6.1.1)\n",
            "Requirement already satisfied: python-dateutil in /usr/local/lib/python3.7/dist-packages (from kaggle) (2.8.2)\n",
            "Requirement already satisfied: certifi in /usr/local/lib/python3.7/dist-packages (from kaggle) (2021.10.8)\n",
            "Requirement already satisfied: tqdm in /usr/local/lib/python3.7/dist-packages (from kaggle) (4.63.0)\n",
            "Requirement already satisfied: urllib3 in /usr/local/lib/python3.7/dist-packages (from kaggle) (1.24.3)\n",
            "Requirement already satisfied: text-unidecode>=1.3 in /usr/local/lib/python3.7/dist-packages (from python-slugify->kaggle) (1.3)\n",
            "Requirement already satisfied: chardet<4,>=3.0.2 in /usr/local/lib/python3.7/dist-packages (from requests->kaggle) (3.0.4)\n",
            "Requirement already satisfied: idna<3,>=2.5 in /usr/local/lib/python3.7/dist-packages (from requests->kaggle) (2.10)\n"
          ]
        }
      ]
    },
    {
      "cell_type": "markdown",
      "source": [
        "Click on the folder button on the left panel, then upload the ```kaggle.json``` file to content! Use the ![image.png](data:image/png;base64,iVBORw0KGgoAAAANSUhEUgAAACIAAAAcCAYAAAAEN20fAAAAAXNSR0IArs4c6QAAAARnQU1BAACxjwv8YQUAAAAJcEhZcwAADsMAAA7DAcdvqGQAAAFESURBVEhL7ZZBjkRAFIbfzNqePXtbN7B0Aw5gR+IQEu5A4gCWDuAA9uwdgPVM/kpVwqRnVFdV90wm/SXyeBa+lP8Vb0EQfNAf4J3XX+cl8hWpjCRJQnEc86vbbNtGeZ7TPM+8cx+XIpZlUd/3tO/7tw9xHIds29aSuRTxfZ/quqZpmijLMt49c1wxVRnjGcEKVlVFnufxjhwPCauKzMOmRsggPzIYEVnXlWXoeCDckEGIZTAiMgwDC/LxeHpYZZf+Ci2RMAyp6zpWdVEWwcOLomDnqLoySiJHCYGuzN0imIQ0Tdn5siynij7uq3C3CLZwMRnjOLIealmWrIf7Kii9Gowm9oojGGGVj51AOaym0RIRGxmqLpe/AdiwsFfg3YtQyuC6LgtuFEVSuTH2h3aLtm2paRp+9TNSIs/gf4TVJC+RM0SfnIKZRHxHcTIAAAAASUVORK5CYII=) button on the left panel.\n",
        "\n",
        "Once done, simply run the following commands!"
      ],
      "metadata": {
        "id": "MhBHR4XNjxes"
      }
    },
    {
      "cell_type": "code",
      "source": [
        "# Create the kaggle directory and read the uploaded kaggle.json file\n",
        "!mkdir ~/.kaggle\n",
        "!cp kaggle.json ~/.kaggle/"
      ],
      "metadata": {
        "id": "lQUgnXKvg95m",
        "colab": {
          "base_uri": "https://localhost:8080/"
        },
        "outputId": "8b701af5-3de9-4c16-fb55-56d815b01691"
      },
      "execution_count": 7,
      "outputs": [
        {
          "output_type": "stream",
          "name": "stdout",
          "text": [
            "mkdir: cannot create directory ‘/root/.kaggle’: File exists\n"
          ]
        }
      ]
    },
    {
      "cell_type": "code",
      "source": [
        "# Download dataset\n",
        "!kaggle datasets download -d brllrb/uber-and-lyft-dataset-boston-ma"
      ],
      "metadata": {
        "id": "njhDTXTEf-TJ",
        "colab": {
          "base_uri": "https://localhost:8080/"
        },
        "outputId": "654b574f-daec-4a56-f844-8474bc25a1a9"
      },
      "execution_count": 8,
      "outputs": [
        {
          "output_type": "stream",
          "name": "stdout",
          "text": [
            "Warning: Your Kaggle API key is readable by other users on this system! To fix this, you can run 'chmod 600 /root/.kaggle/kaggle.json'\n",
            "uber-and-lyft-dataset-boston-ma.zip: Skipping, found more recently modified local copy (use --force to force download)\n"
          ]
        }
      ]
    },
    {
      "cell_type": "code",
      "source": [
        "# Unzip folder in Colab content folder\n",
        "!unzip /content/uber-and-lyft-dataset-boston-ma.zip"
      ],
      "metadata": {
        "id": "MxrxHX05hcNs",
        "colab": {
          "base_uri": "https://localhost:8080/"
        },
        "outputId": "d3caee96-c4bc-47fc-c1f3-e26d46612980"
      },
      "execution_count": 9,
      "outputs": [
        {
          "output_type": "stream",
          "name": "stdout",
          "text": [
            "Archive:  /content/uber-and-lyft-dataset-boston-ma.zip\n",
            "replace rideshare_kaggle.csv? [y]es, [n]o, [A]ll, [N]one, [r]ename: y\n",
            "  inflating: rideshare_kaggle.csv    y\n",
            "\n"
          ]
        }
      ]
    },
    {
      "cell_type": "code",
      "execution_count": 10,
      "metadata": {
        "id": "PB4RPNywcKOv"
      },
      "outputs": [],
      "source": [
        "# TO-DO: Read the csv file and save it to a dataframe called \"rides_df\"\n",
        "rides_df = pd.read_csv('/content/rideshare_kaggle.csv')"
      ]
    },
    {
      "cell_type": "markdown",
      "metadata": {
        "id": "P6uMmFxacKOv"
      },
      "source": [
        "### **1.1.2** Check Nulls\n",
        "\n",
        "Remove all the rows that have NaN in price. Store this into `rides_df`."
      ]
    },
    {
      "cell_type": "code",
      "execution_count": 11,
      "metadata": {
        "id": "NEirwemqcKOw"
      },
      "outputs": [],
      "source": [
        "# TO-DO: Remove NaN in the price column\n",
        "rides_df = rides_df.dropna(how='any')"
      ]
    },
    {
      "cell_type": "code",
      "source": [
        "# 2 points\n",
        "grader.grade(test_case_id = 'check_remove_nans', answer = rides_df.shape)"
      ],
      "metadata": {
        "id": "cqk_Gns0RXND",
        "colab": {
          "base_uri": "https://localhost:8080/"
        },
        "outputId": "528dd5fe-f290-40df-ccbc-73a56cd140d3"
      },
      "execution_count": 12,
      "outputs": [
        {
          "output_type": "stream",
          "name": "stdout",
          "text": [
            "Correct! You earned 2/2 points. You are a star!\n",
            "\n",
            "Your submission has been successfully recorded in the gradebook.\n"
          ]
        }
      ]
    },
    {
      "cell_type": "markdown",
      "metadata": {
        "id": "pysFrZsLcKOx"
      },
      "source": [
        "## **1.2** EDA\n",
        "\n",
        "Exploratory Data Analysis (EDA) is an approach to analyzing data sets to summarize their main characteristics, often with visual methods. A statistical model can be used or not, but primarily EDA is for seeing what the data can tell us beyond the formal modeling or hypothesis testing task.\n"
      ]
    },
    {
      "cell_type": "markdown",
      "source": [
        "### 1.2.0 Tidying Up\n",
        "\n",
        "Upon inspection, we can see that the `product_id` column isn't going to be useful since `name` already contains the information that we need. Likewise, we won't need to use `timestamp` since `datetime` gives us more interpretable information."
      ],
      "metadata": {
        "id": "udDV2IEs_HkX"
      }
    },
    {
      "cell_type": "code",
      "source": [
        "# TO-DO: Drop the \"product_id\" and \"timestamp\" columns, but keep everything else for now\n",
        "rides_df = rides_df.drop(columns=[\"product_id\", \"timestamp\"])\n",
        "rides_df.head()"
      ],
      "metadata": {
        "id": "CWRe5oyyeueR",
        "colab": {
          "base_uri": "https://localhost:8080/",
          "height": 560
        },
        "outputId": "3f7f7dc8-d0ab-4d67-f93d-43f2430990c3"
      },
      "execution_count": 13,
      "outputs": [
        {
          "output_type": "execute_result",
          "data": {
            "text/plain": [
              "                                     id  hour  day  month  \\\n",
              "0  424553bb-7174-41ea-aeb4-fe06d4f4b9d7     9   16     12   \n",
              "1  4bd23055-6827-41c6-b23b-3c491f24e74d     2   27     11   \n",
              "2  981a3613-77af-4620-a42a-0c0866077d1e     1   28     11   \n",
              "3  c2d88af2-d278-4bfd-a8d0-29ca77cc5512     4   30     11   \n",
              "4  e0126e1f-8ca9-4f2e-82b3-50505a09db9a     3   29     11   \n",
              "\n",
              "              datetime          timezone            source    destination  \\\n",
              "0  2018-12-16 09:30:07  America/New_York  Haymarket Square  North Station   \n",
              "1  2018-11-27 02:00:23  America/New_York  Haymarket Square  North Station   \n",
              "2  2018-11-28 01:00:22  America/New_York  Haymarket Square  North Station   \n",
              "3  2018-11-30 04:53:02  America/New_York  Haymarket Square  North Station   \n",
              "4  2018-11-29 03:49:20  America/New_York  Haymarket Square  North Station   \n",
              "\n",
              "  cab_type          name  ...  precipIntensityMax  uvIndexTime  \\\n",
              "0     Lyft        Shared  ...              0.1276   1544979600   \n",
              "1     Lyft           Lux  ...              0.1300   1543251600   \n",
              "2     Lyft          Lyft  ...              0.1064   1543338000   \n",
              "3     Lyft  Lux Black XL  ...              0.0000   1543507200   \n",
              "4     Lyft       Lyft XL  ...              0.0001   1543420800   \n",
              "\n",
              "   temperatureMin  temperatureMinTime  temperatureMax  temperatureMaxTime  \\\n",
              "0           39.89          1545012000           43.68          1544968800   \n",
              "1           40.49          1543233600           47.30          1543251600   \n",
              "2           35.36          1543377600           47.55          1543320000   \n",
              "3           34.67          1543550400           45.03          1543510800   \n",
              "4           33.10          1543402800           42.18          1543420800   \n",
              "\n",
              "   apparentTemperatureMin apparentTemperatureMinTime apparentTemperatureMax  \\\n",
              "0                   33.73                 1545012000                  38.07   \n",
              "1                   36.20                 1543291200                  43.92   \n",
              "2                   31.04                 1543377600                  44.12   \n",
              "3                   30.30                 1543550400                  38.53   \n",
              "4                   29.11                 1543392000                  35.75   \n",
              "\n",
              "   apparentTemperatureMaxTime  \n",
              "0                  1544958000  \n",
              "1                  1543251600  \n",
              "2                  1543320000  \n",
              "3                  1543510800  \n",
              "4                  1543420800  \n",
              "\n",
              "[5 rows x 55 columns]"
            ],
            "text/html": [
              "\n",
              "  <div id=\"df-e3a5531c-8491-455c-995c-daa97d437a67\">\n",
              "    <div class=\"colab-df-container\">\n",
              "      <div>\n",
              "<style scoped>\n",
              "    .dataframe tbody tr th:only-of-type {\n",
              "        vertical-align: middle;\n",
              "    }\n",
              "\n",
              "    .dataframe tbody tr th {\n",
              "        vertical-align: top;\n",
              "    }\n",
              "\n",
              "    .dataframe thead th {\n",
              "        text-align: right;\n",
              "    }\n",
              "</style>\n",
              "<table border=\"1\" class=\"dataframe\">\n",
              "  <thead>\n",
              "    <tr style=\"text-align: right;\">\n",
              "      <th></th>\n",
              "      <th>id</th>\n",
              "      <th>hour</th>\n",
              "      <th>day</th>\n",
              "      <th>month</th>\n",
              "      <th>datetime</th>\n",
              "      <th>timezone</th>\n",
              "      <th>source</th>\n",
              "      <th>destination</th>\n",
              "      <th>cab_type</th>\n",
              "      <th>name</th>\n",
              "      <th>...</th>\n",
              "      <th>precipIntensityMax</th>\n",
              "      <th>uvIndexTime</th>\n",
              "      <th>temperatureMin</th>\n",
              "      <th>temperatureMinTime</th>\n",
              "      <th>temperatureMax</th>\n",
              "      <th>temperatureMaxTime</th>\n",
              "      <th>apparentTemperatureMin</th>\n",
              "      <th>apparentTemperatureMinTime</th>\n",
              "      <th>apparentTemperatureMax</th>\n",
              "      <th>apparentTemperatureMaxTime</th>\n",
              "    </tr>\n",
              "  </thead>\n",
              "  <tbody>\n",
              "    <tr>\n",
              "      <th>0</th>\n",
              "      <td>424553bb-7174-41ea-aeb4-fe06d4f4b9d7</td>\n",
              "      <td>9</td>\n",
              "      <td>16</td>\n",
              "      <td>12</td>\n",
              "      <td>2018-12-16 09:30:07</td>\n",
              "      <td>America/New_York</td>\n",
              "      <td>Haymarket Square</td>\n",
              "      <td>North Station</td>\n",
              "      <td>Lyft</td>\n",
              "      <td>Shared</td>\n",
              "      <td>...</td>\n",
              "      <td>0.1276</td>\n",
              "      <td>1544979600</td>\n",
              "      <td>39.89</td>\n",
              "      <td>1545012000</td>\n",
              "      <td>43.68</td>\n",
              "      <td>1544968800</td>\n",
              "      <td>33.73</td>\n",
              "      <td>1545012000</td>\n",
              "      <td>38.07</td>\n",
              "      <td>1544958000</td>\n",
              "    </tr>\n",
              "    <tr>\n",
              "      <th>1</th>\n",
              "      <td>4bd23055-6827-41c6-b23b-3c491f24e74d</td>\n",
              "      <td>2</td>\n",
              "      <td>27</td>\n",
              "      <td>11</td>\n",
              "      <td>2018-11-27 02:00:23</td>\n",
              "      <td>America/New_York</td>\n",
              "      <td>Haymarket Square</td>\n",
              "      <td>North Station</td>\n",
              "      <td>Lyft</td>\n",
              "      <td>Lux</td>\n",
              "      <td>...</td>\n",
              "      <td>0.1300</td>\n",
              "      <td>1543251600</td>\n",
              "      <td>40.49</td>\n",
              "      <td>1543233600</td>\n",
              "      <td>47.30</td>\n",
              "      <td>1543251600</td>\n",
              "      <td>36.20</td>\n",
              "      <td>1543291200</td>\n",
              "      <td>43.92</td>\n",
              "      <td>1543251600</td>\n",
              "    </tr>\n",
              "    <tr>\n",
              "      <th>2</th>\n",
              "      <td>981a3613-77af-4620-a42a-0c0866077d1e</td>\n",
              "      <td>1</td>\n",
              "      <td>28</td>\n",
              "      <td>11</td>\n",
              "      <td>2018-11-28 01:00:22</td>\n",
              "      <td>America/New_York</td>\n",
              "      <td>Haymarket Square</td>\n",
              "      <td>North Station</td>\n",
              "      <td>Lyft</td>\n",
              "      <td>Lyft</td>\n",
              "      <td>...</td>\n",
              "      <td>0.1064</td>\n",
              "      <td>1543338000</td>\n",
              "      <td>35.36</td>\n",
              "      <td>1543377600</td>\n",
              "      <td>47.55</td>\n",
              "      <td>1543320000</td>\n",
              "      <td>31.04</td>\n",
              "      <td>1543377600</td>\n",
              "      <td>44.12</td>\n",
              "      <td>1543320000</td>\n",
              "    </tr>\n",
              "    <tr>\n",
              "      <th>3</th>\n",
              "      <td>c2d88af2-d278-4bfd-a8d0-29ca77cc5512</td>\n",
              "      <td>4</td>\n",
              "      <td>30</td>\n",
              "      <td>11</td>\n",
              "      <td>2018-11-30 04:53:02</td>\n",
              "      <td>America/New_York</td>\n",
              "      <td>Haymarket Square</td>\n",
              "      <td>North Station</td>\n",
              "      <td>Lyft</td>\n",
              "      <td>Lux Black XL</td>\n",
              "      <td>...</td>\n",
              "      <td>0.0000</td>\n",
              "      <td>1543507200</td>\n",
              "      <td>34.67</td>\n",
              "      <td>1543550400</td>\n",
              "      <td>45.03</td>\n",
              "      <td>1543510800</td>\n",
              "      <td>30.30</td>\n",
              "      <td>1543550400</td>\n",
              "      <td>38.53</td>\n",
              "      <td>1543510800</td>\n",
              "    </tr>\n",
              "    <tr>\n",
              "      <th>4</th>\n",
              "      <td>e0126e1f-8ca9-4f2e-82b3-50505a09db9a</td>\n",
              "      <td>3</td>\n",
              "      <td>29</td>\n",
              "      <td>11</td>\n",
              "      <td>2018-11-29 03:49:20</td>\n",
              "      <td>America/New_York</td>\n",
              "      <td>Haymarket Square</td>\n",
              "      <td>North Station</td>\n",
              "      <td>Lyft</td>\n",
              "      <td>Lyft XL</td>\n",
              "      <td>...</td>\n",
              "      <td>0.0001</td>\n",
              "      <td>1543420800</td>\n",
              "      <td>33.10</td>\n",
              "      <td>1543402800</td>\n",
              "      <td>42.18</td>\n",
              "      <td>1543420800</td>\n",
              "      <td>29.11</td>\n",
              "      <td>1543392000</td>\n",
              "      <td>35.75</td>\n",
              "      <td>1543420800</td>\n",
              "    </tr>\n",
              "  </tbody>\n",
              "</table>\n",
              "<p>5 rows × 55 columns</p>\n",
              "</div>\n",
              "      <button class=\"colab-df-convert\" onclick=\"convertToInteractive('df-e3a5531c-8491-455c-995c-daa97d437a67')\"\n",
              "              title=\"Convert this dataframe to an interactive table.\"\n",
              "              style=\"display:none;\">\n",
              "        \n",
              "  <svg xmlns=\"http://www.w3.org/2000/svg\" height=\"24px\"viewBox=\"0 0 24 24\"\n",
              "       width=\"24px\">\n",
              "    <path d=\"M0 0h24v24H0V0z\" fill=\"none\"/>\n",
              "    <path d=\"M18.56 5.44l.94 2.06.94-2.06 2.06-.94-2.06-.94-.94-2.06-.94 2.06-2.06.94zm-11 1L8.5 8.5l.94-2.06 2.06-.94-2.06-.94L8.5 2.5l-.94 2.06-2.06.94zm10 10l.94 2.06.94-2.06 2.06-.94-2.06-.94-.94-2.06-.94 2.06-2.06.94z\"/><path d=\"M17.41 7.96l-1.37-1.37c-.4-.4-.92-.59-1.43-.59-.52 0-1.04.2-1.43.59L10.3 9.45l-7.72 7.72c-.78.78-.78 2.05 0 2.83L4 21.41c.39.39.9.59 1.41.59.51 0 1.02-.2 1.41-.59l7.78-7.78 2.81-2.81c.8-.78.8-2.07 0-2.86zM5.41 20L4 18.59l7.72-7.72 1.47 1.35L5.41 20z\"/>\n",
              "  </svg>\n",
              "      </button>\n",
              "      \n",
              "  <style>\n",
              "    .colab-df-container {\n",
              "      display:flex;\n",
              "      flex-wrap:wrap;\n",
              "      gap: 12px;\n",
              "    }\n",
              "\n",
              "    .colab-df-convert {\n",
              "      background-color: #E8F0FE;\n",
              "      border: none;\n",
              "      border-radius: 50%;\n",
              "      cursor: pointer;\n",
              "      display: none;\n",
              "      fill: #1967D2;\n",
              "      height: 32px;\n",
              "      padding: 0 0 0 0;\n",
              "      width: 32px;\n",
              "    }\n",
              "\n",
              "    .colab-df-convert:hover {\n",
              "      background-color: #E2EBFA;\n",
              "      box-shadow: 0px 1px 2px rgba(60, 64, 67, 0.3), 0px 1px 3px 1px rgba(60, 64, 67, 0.15);\n",
              "      fill: #174EA6;\n",
              "    }\n",
              "\n",
              "    [theme=dark] .colab-df-convert {\n",
              "      background-color: #3B4455;\n",
              "      fill: #D2E3FC;\n",
              "    }\n",
              "\n",
              "    [theme=dark] .colab-df-convert:hover {\n",
              "      background-color: #434B5C;\n",
              "      box-shadow: 0px 1px 3px 1px rgba(0, 0, 0, 0.15);\n",
              "      filter: drop-shadow(0px 1px 2px rgba(0, 0, 0, 0.3));\n",
              "      fill: #FFFFFF;\n",
              "    }\n",
              "  </style>\n",
              "\n",
              "      <script>\n",
              "        const buttonEl =\n",
              "          document.querySelector('#df-e3a5531c-8491-455c-995c-daa97d437a67 button.colab-df-convert');\n",
              "        buttonEl.style.display =\n",
              "          google.colab.kernel.accessAllowed ? 'block' : 'none';\n",
              "\n",
              "        async function convertToInteractive(key) {\n",
              "          const element = document.querySelector('#df-e3a5531c-8491-455c-995c-daa97d437a67');\n",
              "          const dataTable =\n",
              "            await google.colab.kernel.invokeFunction('convertToInteractive',\n",
              "                                                     [key], {});\n",
              "          if (!dataTable) return;\n",
              "\n",
              "          const docLinkHtml = 'Like what you see? Visit the ' +\n",
              "            '<a target=\"_blank\" href=https://colab.research.google.com/notebooks/data_table.ipynb>data table notebook</a>'\n",
              "            + ' to learn more about interactive tables.';\n",
              "          element.innerHTML = '';\n",
              "          dataTable['output_type'] = 'display_data';\n",
              "          await google.colab.output.renderOutput(dataTable, element);\n",
              "          const docLink = document.createElement('div');\n",
              "          docLink.innerHTML = docLinkHtml;\n",
              "          element.appendChild(docLink);\n",
              "        }\n",
              "      </script>\n",
              "    </div>\n",
              "  </div>\n",
              "  "
            ]
          },
          "metadata": {},
          "execution_count": 13
        }
      ]
    },
    {
      "cell_type": "markdown",
      "source": [
        "The `name` column isn't a very self-explanatory column title though, so let's rename it `fare_type`."
      ],
      "metadata": {
        "id": "7aABEKRa-1py"
      }
    },
    {
      "cell_type": "code",
      "source": [
        "# TO-DO: Rename the \"name\" column so that the new name is \"fare_type\"\n",
        "rides_df.rename(columns={\"name\":\"fare_type\"}, inplace=True)\n"
      ],
      "metadata": {
        "id": "-VellYsmz1uJ"
      },
      "execution_count": 14,
      "outputs": []
    },
    {
      "cell_type": "markdown",
      "source": [
        "As you might suspect, there is not necessarily a single recipe for conducting EDA that works for all datasets. We are guiding you through a few standard EDA tasks, but in order to build a good model, you will need to do some more EDA on your own.\n"
      ],
      "metadata": {
        "id": "SrzD6cT4ug06"
      }
    },
    {
      "cell_type": "markdown",
      "source": [
        "### 1.2.1 Distribution of Fare Types by Carrier\n",
        "\n",
        "Create a Pandas series that shows the number of rides (i.e. number of rows) for each fare type for Uber rides. Call this series `uber_type_counts`, which has been sorted in **descending order** (highest to lowest counts)\n",
        "\n",
        "Repeat this exercise to get the number of rides for each fare_type for Lyft rides and call it `lyft_type_counts`.\n",
        "\n",
        "_(Note: There should be a column that tells you whether a ride was facilitated by Uber or Lyft. You should not need to do any string manipulation on the `fare_type` column)_"
      ],
      "metadata": {
        "id": "PZSihyFkDR_C"
      }
    },
    {
      "cell_type": "code",
      "execution_count": 15,
      "metadata": {
        "id": "DY_8G5akcKOz",
        "colab": {
          "base_uri": "https://localhost:8080/"
        },
        "outputId": "55225b97-f336-40d1-f106-b03f68581a3c"
      },
      "outputs": [
        {
          "output_type": "execute_result",
          "data": {
            "text/plain": [
              "Black SUV    55096\n",
              "WAV          55096\n",
              "UberXL       55096\n",
              "Black        55095\n",
              "UberX        55094\n",
              "Name: fare_type, dtype: int64"
            ]
          },
          "metadata": {},
          "execution_count": 15
        }
      ],
      "source": [
        "# TO-DO: Create uber_type_counts\n",
        "uber_type_counts = rides_df[rides_df['cab_type'] == \"Uber\"]['fare_type'].value_counts()\n",
        "uber_type_counts.head()"
      ]
    },
    {
      "cell_type": "code",
      "source": [
        "# TO-DO: Create lyft_type_counts\n",
        "lyft_type_counts = rides_df[rides_df['cab_type'] == \"Lyft\"]['fare_type'].value_counts()\n",
        "lyft_type_counts.index"
      ],
      "metadata": {
        "id": "HL3fcg66C66x",
        "colab": {
          "base_uri": "https://localhost:8080/"
        },
        "outputId": "fe38c734-a3d4-4f13-a2ce-8ea14eeb23dd"
      },
      "execution_count": 16,
      "outputs": [
        {
          "output_type": "execute_result",
          "data": {
            "text/plain": [
              "Index(['Lyft XL', 'Lux', 'Lyft', 'Lux Black', 'Lux Black XL', 'Shared'], dtype='object')"
            ]
          },
          "metadata": {},
          "execution_count": 16
        }
      ]
    },
    {
      "cell_type": "code",
      "source": [
        "# 5 points\n",
        "grader.grade(test_case_id = 'carrier_type_counts', answer = (uber_type_counts, lyft_type_counts))\n"
      ],
      "metadata": {
        "id": "iiIAzVCDEVX9",
        "colab": {
          "base_uri": "https://localhost:8080/"
        },
        "outputId": "8f67e109-6693-4b0b-8084-5023e0016937"
      },
      "execution_count": 17,
      "outputs": [
        {
          "output_type": "stream",
          "name": "stdout",
          "text": [
            "Correct! You earned 5/5 points. You are a star!\n",
            "\n",
            "Your submission has been successfully recorded in the gradebook.\n"
          ]
        }
      ]
    },
    {
      "cell_type": "markdown",
      "source": [
        "Now let's visualize this! This is going to be a bit more involved than the plots you've made in HW #1 since we want to help you develop your attention to detail. Most importantly, you always want your plots to be clear and interpretable to your reader.\n",
        "\n",
        "**TO-DO:** Plot a bar chart showing the frequency distribution of all fare types for both Uber and Lyft rides on a _single_ set of axes. Make sure that:\n",
        "- The graph has an appropriate title and axes labels\n",
        "- The $y$-axis has been truncated to show a range between 50,000 to 56,000\n",
        "- Bars are color coded by `cab_type` (carrier):\n",
        "  - All Uber fare type bars are colored _**black**_\n",
        "  - All Lyft fare type bars are colored _**magenta**_.\n",
        "  - You must include the corresponding legend/color key for each platform/carrier (`cab_type`)\n",
        "- Your graph is clearly legible _(e.g. there should not be overlapping text)_\n",
        "\n",
        "**REMINDER:** Do NOT save the plot as a separate image file! You must ensure that the plot is displayed in your Colab notebook before submission. If you do not hit \"Restart and Run All\" to ensure this before your final submission, we _**will deduct -3 points from your final score.**_"
      ],
      "metadata": {
        "id": "AR0QLW81SCAi"
      }
    },
    {
      "cell_type": "code",
      "source": [
        "# TO-DO: Plot the chart using seaborn's countplot function. \n",
        "#        Please make sure to address all bullet points noted above!\n",
        "#        This will be manually graded and worth 5 points.\n",
        "\n",
        "# Initialize figure/axes\n",
        "fig, ax = plt.subplots(figsize=(12,6))\n",
        "\n",
        "# Palette assignment\n",
        "palette = {'Uber':'black', 'Lyft':'magenta'}\n",
        "\n",
        "# Count plot\n",
        "ax = sns.countplot(x =\"fare_type\", \n",
        "                   data = rides_df, \n",
        "                   hue = \"cab_type\",\n",
        "                   palette = palette\n",
        "                   )\n",
        "\n",
        "# Set format\n",
        "ax.set_ylim(50000,56000)\n",
        "ax.set_title(\"Frequency Distribution of Fare Types for Uber and Lyft Rides\",\n",
        "             fontdict= { 'fontsize': 20, 'fontweight':'bold'},\n",
        "             y =1.05)\n",
        "ax.set_xlabel('Fare Types', fontsize = 12)\n",
        "ax.set_ylabel('Count', fontsize = 12)\n",
        "ax.legend(title = \"Carrier\")\n",
        "plt.xticks(rotation = 45)\n",
        "plt.show()"
      ],
      "metadata": {
        "id": "AYcRRDxLCUUZ",
        "colab": {
          "base_uri": "https://localhost:8080/",
          "height": 470
        },
        "outputId": "6b51cff9-b383-4c3d-fa47-686371bedc1b"
      },
      "execution_count": 18,
      "outputs": [
        {
          "output_type": "display_data",
          "data": {
            "text/plain": [
              "<Figure size 864x432 with 1 Axes>"
            ],
            "image/png": "[encoded data removed]"
          },
          "metadata": {
            "needs_background": "light"
          }
        }
      ]
    },
    {
      "cell_type": "markdown",
      "metadata": {
        "id": "UkyfCIICcKO0"
      },
      "source": [
        "### **1.2.2** Use the `datetime` column to extract the calendar date, minutes, and seconds\n",
        "\n",
        "Notice that while this dataset has already extracted the day of the month, the month, and hour of the day from the `'datetime'` column as separate features already, this may not be entirely useful to us. We may prefer to keep this as an actual date, but more importantly, the time components are of interest to us since we don't actually have the minutes and seconds from the timestamp yet."
      ]
    },
    {
      "cell_type": "markdown",
      "source": [
        "_**Converting to `datetime` Object**_\n",
        "\n",
        "First, use the `striptime` function from the `datetime` package to convert the \"datetime\" string into a datettime object."
      ],
      "metadata": {
        "id": "sinwM5ybYIJs"
      }
    },
    {
      "cell_type": "code",
      "execution_count": 19,
      "metadata": {
        "id": "gSpDnQZGcKO1"
      },
      "outputs": [],
      "source": [
        "# TO-DO: Convert this into a datetime object \n",
        "\n",
        "from datetime import datetime\n",
        "\n",
        "rides_df['datetime'] = rides_df['datetime'].apply(lambda x : datetime.strptime(x, \"%Y-%m-%d %H:%M:%S\"))"
      ]
    },
    {
      "cell_type": "markdown",
      "source": [
        "_**Extracting Time Components**_\n",
        "\n",
        "Now extract the date (`YYYY-mm-dd` format), minutes, and seconds from it to be stored in columns called \"date\", \"min\" and \"sec\" respectively in the `rides_df` dataframe. Make sure to double-check that the dtypes of these columns are what you would expect!\n",
        "\n",
        "_(Note: the `hour` column already exists in the original dataframe so we don't need to extract it)_"
      ],
      "metadata": {
        "id": "Lwy6TwskRUpu"
      }
    },
    {
      "cell_type": "code",
      "execution_count": 20,
      "metadata": {
        "id": "4VSNeUCdcKO2"
      },
      "outputs": [],
      "source": [
        "# TO-DO: Extract the calendar date (YYYY-mm-dd format), the minutes, and seconds to separate columns\n",
        "rides_df['date'] = rides_df['datetime'].dt.date\n",
        "rides_df['min'] = rides_df['datetime'].dt.minute\n",
        "rides_df['sec'] = rides_df['datetime'].dt.second "
      ]
    },
    {
      "cell_type": "code",
      "source": [
        "# 4 points\n",
        "grader.grade(test_case_id = 'check_date_minute_second', answer = [rides_df['date'].unique(),\n",
        "                                                                  rides_df[['date', 'min', 'sec']].head()])"
      ],
      "metadata": {
        "id": "6tf-J63nbnSy",
        "colab": {
          "base_uri": "https://localhost:8080/"
        },
        "outputId": "1e845b4f-7613-4bc7-87d0-299286af598d"
      },
      "execution_count": 21,
      "outputs": [
        {
          "output_type": "stream",
          "name": "stdout",
          "text": [
            "Correct! You earned 4/4 points. You are a star!\n",
            "\n",
            "Your submission has been successfully recorded in the gradebook.\n"
          ]
        }
      ]
    },
    {
      "cell_type": "markdown",
      "source": [
        "With that, we have no more use for the original `datetime` column so we can drop it. There are also some other columns that are useless to use so we'll drop them all at once:"
      ],
      "metadata": {
        "id": "a4VT5NJeVr_6"
      }
    },
    {
      "cell_type": "code",
      "source": [
        "# TO-DO: Drop the 'id', 'datetime' 'timezone', 'long_summary', and 'icon' columns from rides_df\n",
        "rides_df = rides_df.drop(columns = ['id', 'datetime', 'timezone', 'long_summary', 'icon'])"
      ],
      "metadata": {
        "id": "lvc95e9_Vrij"
      },
      "execution_count": 22,
      "outputs": []
    },
    {
      "cell_type": "markdown",
      "source": [
        "### **1.2.3** Mean, Standard Deviation, Min, and Max\n",
        "\n",
        "There are certain numeric features of interest to us that we want to examine sample statistics for.\n",
        "\n",
        "Compute simple statistics - specifically the mean, standard deviation, min, and max - for each of the following numerical features and store them into lists in this order: `[distance, price, longitude, latitude]`\n",
        "\n",
        "In other words, create 4 lists:\n",
        "- **means** = `[distance_mean, price_mean, longitude_mean, latitude_mean]`\n",
        "- **stdevs** = `[distance_sd, price_sd, longitude_sd, latitude_sd]`\n",
        "- **mins** = `[distance_min, price_min, longitude_min, latitude_min]`\n",
        "- **maxes** = `[distance_max, price_max, longitude_max, latitude_max]`"
      ],
      "metadata": {
        "id": "ypxtTw1ykY7o"
      }
    },
    {
      "cell_type": "code",
      "source": [
        "# TO-DO: Create \"means\" list for distance, price, longitude, and latitude\n",
        "means = [rides_df['distance'].mean(), rides_df['price'].mean(), rides_df['longitude'].mean(), rides_df['latitude'].mean()]\n",
        "\n",
        "# TO-DO: Create \"stdevs\" list for distance, price, longitude, and latitude\n",
        "stdevs = [rides_df['distance'].std(), rides_df['price'].std(), rides_df['longitude'].std(), rides_df['latitude'].std()]\n",
        "\n",
        "# TO-DO: Create \"mins\" list for distance, price, longitude, and latitude\n",
        "mins = [rides_df['distance'].min(), rides_df['price'].min(), rides_df['longitude'].min(), rides_df['latitude'].min()]\n",
        "\n",
        "# TO-DO: Create \"max\" list for distance, price, longitude, and latitude\n",
        "maxes= [rides_df['distance'].max(), rides_df['price'].max(), rides_df['longitude'].max(), rides_df['latitude'].max()]"
      ],
      "metadata": {
        "id": "DwxMReqAkYHs"
      },
      "execution_count": 23,
      "outputs": []
    },
    {
      "cell_type": "code",
      "source": [
        "# 4 points\n",
        "grader.grade(test_case_id = 'check_min_max_means_std', answer = (maxes, mins, stdevs, means))"
      ],
      "metadata": {
        "id": "1ZT5RTScnW4L",
        "colab": {
          "base_uri": "https://localhost:8080/"
        },
        "outputId": "b66a03df-0505-4995-85a5-c875cef14770"
      },
      "execution_count": 24,
      "outputs": [
        {
          "output_type": "stream",
          "name": "stdout",
          "text": [
            "Correct! You earned 4/4 points. You are a star!\n",
            "\n",
            "Your submission has been successfully recorded in the gradebook.\n"
          ]
        }
      ]
    },
    {
      "cell_type": "markdown",
      "source": [
        "### **1.2.4** Correlation of Feature Variables\n",
        "\n",
        "With such an overwhelming number of features, it can be somewhat exhausting to do bivariate analysis on every possible pair of features. While you certainly should, your first instinct should be to check for the correlation between features since certain models (e.g. Linear Regression) won't work well if we have strong multicollinearity."
      ],
      "metadata": {
        "id": "K-JkIcQclNbj"
      }
    },
    {
      "cell_type": "markdown",
      "source": [
        "_**Isolating Numerics from Categorical Features**_\n",
        "\n",
        "Before anything else, it may help to create groups of the numeric vs. categorical variables"
      ],
      "metadata": {
        "id": "7GjB8dGT_UEv"
      }
    },
    {
      "cell_type": "code",
      "source": [
        "# TO-DO: create a dataframe called numerics_df to keep the subset of numeric variables columns\n",
        "numerics_df = rides_df.select_dtypes(include='number')"
      ],
      "metadata": {
        "id": "yo4JmHYrufrC"
      },
      "execution_count": 25,
      "outputs": []
    },
    {
      "cell_type": "code",
      "source": [
        "# TO-DO: create a dataframe called categorical_df to keep the subset of non-numeric columns\n",
        "categorical_df = rides_df.select_dtypes(exclude='number')"
      ],
      "metadata": {
        "id": "GEzChi3afQOU"
      },
      "execution_count": 26,
      "outputs": []
    },
    {
      "cell_type": "code",
      "source": [
        "# 2 points\n",
        "grader.grade(test_case_id = 'check_typed_subsets', answer = [numerics_df.columns, categorical_df.columns])"
      ],
      "metadata": {
        "id": "ATqiI-elSIcC",
        "colab": {
          "base_uri": "https://localhost:8080/"
        },
        "outputId": "0dc7c4d5-02f3-4571-fb5e-328d2e0bb254"
      },
      "execution_count": 27,
      "outputs": [
        {
          "output_type": "stream",
          "name": "stdout",
          "text": [
            "Correct! You earned 2/2 points. You are a star!\n",
            "\n",
            "Your submission has been successfully recorded in the gradebook.\n"
          ]
        }
      ]
    },
    {
      "cell_type": "markdown",
      "source": [
        "_**Correlation Heatmap**_\n",
        "\n",
        "Next, create a correlation matrix using `numerics_df` and call it `corr_matrix`. Using that, generate a correlation heatmap for these numeric features. Look into how to use the `seaborn` library to do this _(imported as `sns` above)_.\n",
        "\n",
        "Like the plot in 1.2.1, we are going to be rather strict about the details and presentability when we manually grade this (out of **4 points**). Make sure your correlation heatmap meets the following criteria:\n",
        "- Ensure that your heatmap is appropriately sized: all feature labels should be visible on both the $x$-axis and $y$-axis\n",
        "- Use the `RdBu` color map to ensure that negative correlations are red and positive correlations are blue\n",
        "- Standardize the color scale so that -1 takes the darkest red color, 0 is totally white, and +1 takes the darkest blue color "
      ],
      "metadata": {
        "id": "6RNUI0QhL59O"
      }
    },
    {
      "cell_type": "code",
      "source": [
        "# TO-DO: Get the correlation matrix\n",
        "corr = numerics_df.corr()"
      ],
      "metadata": {
        "id": "lVSCkNhoLBvZ"
      },
      "execution_count": 28,
      "outputs": []
    },
    {
      "cell_type": "code",
      "source": [
        "# TO-DO: Plot correlation heatmap (4 points)\n",
        "\n",
        "# Generate a mask for the upper triangle\n",
        "mask = np.triu(np.ones_like(corr, dtype=bool))\n",
        "\n",
        "# Initialize figure/axes\n",
        "fig, ax = plt.subplots(figsize=(12,11))\n",
        "\n",
        "# heatmap\n",
        "ax = sns.heatmap(data=corr, \n",
        "                 mask=mask, \n",
        "                 cmap='RdBu', \n",
        "                 vmax=1,\n",
        "                 vmin=-1, \n",
        "                 center=0,\n",
        "                 square=True, \n",
        "                 linewidths=.2, \n",
        "                 cbar_kws={\"shrink\": .8}\n",
        "                 )\n",
        "\n",
        "# Set format\n",
        "ax.set_title(\"Correlation Heatmap for Numeric Features\",\n",
        "             fontdict= { 'fontsize': 20, 'fontweight':'bold'},\n",
        "             y =1.2)\n",
        "plt.tick_params(left = False, bottom = False)\n",
        "\n",
        "plt.show()"
      ],
      "metadata": {
        "id": "K2erlmdclW0B",
        "colab": {
          "base_uri": "https://localhost:8080/",
          "height": 750
        },
        "outputId": "3bc80593-10e8-4d7b-9950-ade66d60d595"
      },
      "execution_count": 29,
      "outputs": [
        {
          "output_type": "display_data",
          "data": {
            "text/plain": [
              "<Figure size 864x792 with 2 Axes>"
            ],
            "image/png": "[encoded data removed]"
          },
          "metadata": {
            "needs_background": "light"
          }
        }
      ]
    },
    {
      "cell_type": "markdown",
      "metadata": {
        "id": "QZ1Rkcb_cKO7"
      },
      "source": [
        "## **1.3** Feature Engineering\n",
        "\n",
        "Feature engineering is the process of applying domain knowledge to extract features from raw data via data mining techniques. These features can be used to improve the performance of machine learning algorithms."
      ]
    },
    {
      "cell_type": "markdown",
      "metadata": {
        "id": "rkh1k-V6cKO7"
      },
      "source": [
        "### **1.3.1** Proposed Ranking System for Ordinal Encoding\n",
        "\n",
        "The `short_summary` column contains information on the weather at the timestamp for a particular ride. As such, in order to make the data useful as feature variables, we encode these weathers using _Ordinal Encoding_. If a certain type of weather makes it more difficult for drivers to drive, we want it to have a higher ranked value. Create a new column called `\"weather_factor\"` that contains these ordinal encodings (ranks).\n",
        "\n",
        "**Clarifications**:\n",
        "- To eliminate ambiguity, please rank the weather according to: `Clear < Partly Cloudy < Mostly Cloudy < Overcast < Possible Drizzle < Drizzle < Light Rain < Rain < Foggy`\n",
        "- If the weather is Clear, assign the lowest rank of 0 to it."
      ]
    },
    {
      "cell_type": "code",
      "source": [
        "# TO-DO: Create a new column called \"weather_factor\" that takes a ranked integer value between 0 and 8.\n",
        "dic = {'Clear': 0, 'Partly Cloudy':1, 'Mostly Cloudy':2, 'Overcast':3, 'Possible Drizzle':4, 'Drizzle':5, 'Light Rain':6, 'Rain':7, 'Foggy':8}\n",
        "\n",
        "rides_df['weather_factor'] = rides_df['short_summary'].apply(lambda x : dic[x.strip()])\n"
      ],
      "metadata": {
        "id": "RREImdfcpbYV"
      },
      "execution_count": 30,
      "outputs": []
    },
    {
      "cell_type": "code",
      "source": [
        "# 2 points\n",
        "grader.grade(test_case_id = 'check_short_summary', answer = rides_df['weather_factor'][:10000])"
      ],
      "metadata": {
        "id": "pSCmdBFznzCE",
        "colab": {
          "base_uri": "https://localhost:8080/"
        },
        "outputId": "b7975a97-f5f7-4e03-ba5f-1c5ebc0fb938"
      },
      "execution_count": 31,
      "outputs": [
        {
          "output_type": "stream",
          "name": "stdout",
          "text": [
            "Correct! You earned 2/2 points. You are a star!\n",
            "\n",
            "Your submission has been successfully recorded in the gradebook.\n"
          ]
        }
      ]
    },
    {
      "cell_type": "markdown",
      "metadata": {
        "id": "Fe3ZsHohcKO8"
      },
      "source": [
        "### **1.3.2** Creating Target Variable - whether price exceeds mean threshold for the carrier\n",
        "\n",
        "While this is an ideal dataset for regression modeling, there aren't any obvious choices for meaningful binary target variables for the purpose of classification modeling, which we will get to in Section 1.4. Thus, for the purpose of the exercise, we will need to design a binary target variable to work with: whether the price for a given ride is above the average price.\n",
        "\n",
        "However, recall that this dataset combines data from both Lyft and Uber. While both carriers are competitors in the ridesharing industry, they are each different in their own way. As a result, it won't be meaningful to use a single mean price as a benchmark for our target variable; we will need to consider **each carrier's respective mean** price when comparing rides to that mean."
      ]
    },
    {
      "cell_type": "code",
      "source": [
        "# Consider the following features from the original rides_df dataframe\n",
        "# NOTE: we will use this for the rest of Part I, so no more calling `ride_df`\n",
        "new_df = rides_df[['date', 'hour', 'min', 'sec', 'price', 'weather_factor', \n",
        "                   'source', 'destination', 'cab_type', 'fare_type',\n",
        "                   'distance', 'surge_multiplier', 'latitude', 'longitude',\n",
        "                   'temperature', 'humidity', 'windGust', 'visibility',\n",
        "                   'uvIndex', 'precipIntensity', 'precipProbability']]"
      ],
      "metadata": {
        "id": "fHZ-z-GGUqOx"
      },
      "execution_count": 32,
      "outputs": []
    },
    {
      "cell_type": "code",
      "source": [
        "# TO-DO: Get mean price for Uber and Lyft in new_df\n",
        "mean_uber = new_df[new_df['cab_type'] == \"Uber\"]['price'].mean()\n",
        "mean_lyft = new_df[new_df['cab_type'] == \"Lyft\"]['price'].mean()"
      ],
      "metadata": {
        "id": "usNxeIe4pc8C"
      },
      "execution_count": 33,
      "outputs": []
    },
    {
      "cell_type": "code",
      "source": [
        "# TO-DO: Create the \"above_average\" target variable as a new column in new_df\n",
        "#        where 1: above average score, 0: equal to or below average score for that carrier\n",
        "\n",
        "def def_above_avg(row):\n",
        "  above_average = None\n",
        "  if row['cab_type'] == \"Uber\":\n",
        "    if row['price'] > mean_uber:\n",
        "      above_average = 1\n",
        "    else:\n",
        "      above_average = 0\n",
        "  else:\n",
        "     if row['price'] > mean_lyft:\n",
        "      above_average = 1\n",
        "     else:\n",
        "      above_average = 0\n",
        "  return above_average\n"
      ],
      "metadata": {
        "id": "1GyHOr963YCr"
      },
      "execution_count": 34,
      "outputs": []
    },
    {
      "cell_type": "code",
      "source": [
        "\n",
        "new_df['above_average'] = new_df.apply(lambda x : def_above_avg(x), axis=1)\n"
      ],
      "metadata": {
        "colab": {
          "base_uri": "https://localhost:8080/"
        },
        "id": "m7xJszlhFVI8",
        "outputId": "5b24f367-0e6b-4ba5-bdcd-4ff61d8f0b14"
      },
      "execution_count": 35,
      "outputs": [
        {
          "output_type": "stream",
          "name": "stderr",
          "text": [
            "/usr/local/lib/python3.7/dist-packages/ipykernel_launcher.py:2: SettingWithCopyWarning: \n",
            "A value is trying to be set on a copy of a slice from a DataFrame.\n",
            "Try using .loc[row_indexer,col_indexer] = value instead\n",
            "\n",
            "See the caveats in the documentation: https://pandas.pydata.org/pandas-docs/stable/user_guide/indexing.html#returning-a-view-versus-a-copy\n",
            "  \n"
          ]
        }
      ]
    },
    {
      "cell_type": "code",
      "source": [
        "# 3 points\n",
        "grader.grade(test_case_id = 'check_average_threshold', answer = (new_df[:1000]['above_average'].sum(),\n",
        "                                                                 mean_uber,\n",
        "                                                                 mean_lyft))"
      ],
      "metadata": {
        "id": "vmzWSnt85lVJ",
        "colab": {
          "base_uri": "https://localhost:8080/"
        },
        "outputId": "6ae371c7-111d-41de-cbae-149f7304014f"
      },
      "execution_count": 36,
      "outputs": [
        {
          "output_type": "stream",
          "name": "stdout",
          "text": [
            "Correct! You earned 3/3 points. You are a star!\n",
            "\n",
            "Your submission has been successfully recorded in the gradebook.\n"
          ]
        }
      ]
    },
    {
      "cell_type": "markdown",
      "metadata": {
        "id": "5jp0gOf-cKO8"
      },
      "source": [
        "### **1.3.3** Label-Encode the Product Types\n",
        "\n",
        "Identify the remaining categorical features and convert them into label-encoded vectors. There are **2 categorical variables that need to be encoded**, `cab_type`, `fare_type`.\n",
        "\n",
        "To do this, we use the [LabelEncoder](https://scikit-learn.org/stable/modules/generated/sklearn.preprocessing.LabelEncoder.html) in the sklearn package. Make sure you keep track of the mappings for reference.\n",
        "\n",
        "Assign all labels to `new_df` as `cab_type_label` and `fare_type_label`."
      ]
    },
    {
      "cell_type": "code",
      "execution_count": 37,
      "metadata": {
        "id": "nNeNnR6XcKO9",
        "colab": {
          "base_uri": "https://localhost:8080/"
        },
        "outputId": "17298b21-20e0-458d-ee65-aaf72d22af47"
      },
      "outputs": [
        {
          "output_type": "execute_result",
          "data": {
            "text/plain": [
              "LabelEncoder()"
            ]
          },
          "metadata": {},
          "execution_count": 37
        }
      ],
      "source": [
        "from sklearn.preprocessing import LabelEncoder\n",
        "\n",
        "# TO-DO: Create label encoders for cab_type and fare_type\n",
        "le_cab = LabelEncoder()\n",
        "le_cab.fit(new_df['cab_type'])\n",
        "\n",
        "le_fare = LabelEncoder()\n",
        "le_fare.fit(new_df['fare_type'])"
      ]
    },
    {
      "cell_type": "code",
      "source": [
        "# TO-DO: add as new columns to new_df (do not drop any columns yet)\n",
        "new_df['cab_type_label'] = le_cab.transform(new_df['cab_type'])\n",
        "new_df['fare_type_label'] = le_fare.transform(new_df['fare_type'])"
      ],
      "metadata": {
        "id": "qB5dkv5UbS4o",
        "colab": {
          "base_uri": "https://localhost:8080/"
        },
        "outputId": "6193ebce-6a34-4268-b6dd-3c6f29b6166b"
      },
      "execution_count": 38,
      "outputs": [
        {
          "output_type": "stream",
          "name": "stderr",
          "text": [
            "/usr/local/lib/python3.7/dist-packages/ipykernel_launcher.py:2: SettingWithCopyWarning: \n",
            "A value is trying to be set on a copy of a slice from a DataFrame.\n",
            "Try using .loc[row_indexer,col_indexer] = value instead\n",
            "\n",
            "See the caveats in the documentation: https://pandas.pydata.org/pandas-docs/stable/user_guide/indexing.html#returning-a-view-versus-a-copy\n",
            "  \n",
            "/usr/local/lib/python3.7/dist-packages/ipykernel_launcher.py:3: SettingWithCopyWarning: \n",
            "A value is trying to be set on a copy of a slice from a DataFrame.\n",
            "Try using .loc[row_indexer,col_indexer] = value instead\n",
            "\n",
            "See the caveats in the documentation: https://pandas.pydata.org/pandas-docs/stable/user_guide/indexing.html#returning-a-view-versus-a-copy\n",
            "  This is separate from the ipykernel package so we can avoid doing imports until\n"
          ]
        }
      ]
    },
    {
      "cell_type": "code",
      "source": [
        "# 3 points\n",
        "grader.grade(test_case_id = 'check_encoding_var', answer = [new_df['cab_type_label'][0],\n",
        "                                                            new_df.shape,\n",
        "                                                            new_df['fare_type_label'][0]])"
      ],
      "metadata": {
        "id": "zFVpDv-D6rYI",
        "colab": {
          "base_uri": "https://localhost:8080/"
        },
        "outputId": "76dd2bda-67f5-40b6-9d93-2a9cc4d8e6a4"
      },
      "execution_count": 39,
      "outputs": [
        {
          "output_type": "stream",
          "name": "stdout",
          "text": [
            "Correct! You earned 3/3 points. You are a star!\n",
            "\n",
            "Your submission has been successfully recorded in the gradebook.\n"
          ]
        }
      ]
    },
    {
      "cell_type": "markdown",
      "source": [
        "Let's write out the modified data we created to a file so that we can reuse it in Part II when we deal with Spark."
      ],
      "metadata": {
        "id": "IqJTjqUQh5pZ"
      }
    },
    {
      "cell_type": "code",
      "source": [
        "combined_data_sec_2 = new_df.copy()\n",
        "combined_data_sec_2.to_csv('/content/combined.csv')"
      ],
      "metadata": {
        "id": "eSRBQcn5hV6X"
      },
      "execution_count": 40,
      "outputs": []
    },
    {
      "cell_type": "markdown",
      "source": [
        "### **1.3.4** Preprocessing: Split into Features and Label\n",
        "\n",
        "Now that we have explored and cleaned our dataset, let's prepare it for a machine learning task. In this homework, you will work with various models and attempt to predict the price of ride. Since we converted the prices to binary labels above, you will actually predict whether the ride has high price (`above_average = 1`) or low price (`above_average = 0`) for classification and actual price for regression.\n",
        "\n",
        "The features will be the encoded variables together with some other attributes: `weather_factor`, `fare_type_label`, `cab_type_label`, `distance`, `surge_multiplier`, `hour`, `temperature`, `precipIntensity` and `precipProbability`. The label will be the binary indicator created in 1.3.2, indicating if the price is above average. Store these two as `features` and `labels`, respectively."
      ],
      "metadata": {
        "id": "U5ieCGnN_VQJ"
      }
    },
    {
      "cell_type": "code",
      "source": [
        "# TO-DO: stores features dataframe into variable called \"features\"\n",
        "features = new_df[['weather_factor', 'fare_type_label', 'cab_type_label', 'distance', 'surge_multiplier', 'hour', \n",
        "            'temperature', 'precipIntensity', 'precipProbability']]\n",
        "\n",
        "# TO-DO: store the binary classification target variable into \"labels\"\n",
        "labels = new_df['above_average']\n",
        "\n",
        "# TO-DO: store the regression target variable into \"prices\"\n",
        "prices = new_df['price']"
      ],
      "metadata": {
        "id": "36JiZOTHcJRj"
      },
      "execution_count": 41,
      "outputs": []
    },
    {
      "cell_type": "code",
      "source": [
        "# 3 points\n",
        "grader.grade(test_case_id = 'check_features_labels', answer = (features.columns, labels.name, prices.name))"
      ],
      "metadata": {
        "id": "Kkg5_-ZP8FT4",
        "colab": {
          "base_uri": "https://localhost:8080/"
        },
        "outputId": "d9174f93-baa5-49d1-85f1-3daad931dbc8"
      },
      "execution_count": 42,
      "outputs": [
        {
          "output_type": "stream",
          "name": "stdout",
          "text": [
            "Correct! You earned 3/3 points. You are a star!\n",
            "\n",
            "Your submission has been successfully recorded in the gradebook.\n"
          ]
        }
      ]
    },
    {
      "cell_type": "markdown",
      "metadata": {
        "id": "K-iqlFZacKO9"
      },
      "source": [
        "## **1.4** Modeling (sklearn)"
      ]
    },
    {
      "cell_type": "markdown",
      "source": [
        "### **1.4.1** Split Data into Train and Test\n",
        "\n",
        "Use scikit-learn's `train_test_split` function to split data for regression into train and test sets. The split should be 80-20 meaning 80% for training and rest for testing.\n",
        "\n",
        "Since this part concerns regression, you should carefully think about what should be our target variable: should it be `labels` or `prices`?\n",
        "\n",
        "**_IMPORTANT_: Please set the `random_state` parameter to `random_state = 42`** and store the resulting splits as `x_train, x_test, y_train,` and `y_test`."
      ],
      "metadata": {
        "id": "ZgPdmeQuditm"
      }
    },
    {
      "cell_type": "code",
      "source": [
        "from sklearn.model_selection import train_test_split\n",
        "\n",
        "# TO-DO: Conduct 80/20 train-test split with random_state = 42\n",
        "x_train, x_test, y_train, y_test = train_test_split(features, prices, random_state = 42, test_size = 0.2)"
      ],
      "metadata": {
        "id": "h1zUkUjYdnNO"
      },
      "execution_count": 43,
      "outputs": []
    },
    {
      "cell_type": "code",
      "source": [
        "# 4 points\n",
        "grader.grade(test_case_id = 'check_train_test_split', answer = (x_train.shape, x_test.shape, y_train.shape, y_test.shape, y_test[:100]))"
      ],
      "metadata": {
        "id": "2uin38Jx9Pnm",
        "colab": {
          "base_uri": "https://localhost:8080/"
        },
        "outputId": "0ea94ad9-eaff-4abe-ce28-873820e65bf5"
      },
      "execution_count": 44,
      "outputs": [
        {
          "output_type": "stream",
          "name": "stdout",
          "text": [
            "Correct! You earned 4/4 points. You are a star!\n",
            "\n",
            "Your submission has been successfully recorded in the gradebook.\n"
          ]
        }
      ]
    },
    {
      "cell_type": "markdown",
      "metadata": {
        "id": "NGlb6tnNcKO-"
      },
      "source": [
        "### **1.4.2** Regression Models"
      ]
    },
    {
      "cell_type": "markdown",
      "metadata": {
        "id": "cdbOofuUcKO_"
      },
      "source": [
        "#### (a) Linear Regression (Unregularized)\n",
        "\n",
        "Use the `LinearRegression` class in scikit-learn to perform Linear Regression. Initialize the model with default parameters, fit the model to the training set, and then make predictions on the testing set.\n",
        "\n",
        "Save your predictions in an array named `y_pred`, and report your R-squared score (saved it as a variable called `score`)."
      ]
    },
    {
      "cell_type": "code",
      "source": [
        "from sklearn.linear_model import LinearRegression\n",
        "\n",
        "# Your code here\n",
        "# Initialize \n",
        "lnreg = LinearRegression()\n",
        "# Fit\n",
        "lnreg.fit(x_train, y_train)\n",
        "# Predict\n",
        "y_pred = lnreg.predict(x_test)"
      ],
      "metadata": {
        "id": "vh0nlylinV1r"
      },
      "execution_count": 45,
      "outputs": []
    },
    {
      "cell_type": "code",
      "source": [
        "score = lnreg.score(x_test, y_pred)\n",
        "score"
      ],
      "metadata": {
        "colab": {
          "base_uri": "https://localhost:8080/"
        },
        "id": "iwhLcJ73mqTt",
        "outputId": "0144ab65-4ec3-4a42-f245-dcd12968f455"
      },
      "execution_count": 46,
      "outputs": [
        {
          "output_type": "execute_result",
          "data": {
            "text/plain": [
              "1.0"
            ]
          },
          "metadata": {},
          "execution_count": 46
        }
      ]
    },
    {
      "cell_type": "code",
      "source": [
        "# 6 points\n",
        "grader.grade(test_case_id = 'check_linear_reg', answer = [y_pred, score])"
      ],
      "metadata": {
        "id": "s1rsdlEomDmZ",
        "colab": {
          "base_uri": "https://localhost:8080/"
        },
        "outputId": "bac05744-47f6-4d01-b555-05e460afc3dc"
      },
      "execution_count": 47,
      "outputs": [
        {
          "output_type": "stream",
          "name": "stdout",
          "text": [
            "Correct! You earned 6/6 points. You are a star!\n",
            "\n",
            "Your submission has been successfully recorded in the gradebook.\n"
          ]
        }
      ]
    },
    {
      "cell_type": "markdown",
      "metadata": {
        "id": "G7EV4dpDcKO_"
      },
      "source": [
        "#### (b) Ridge Regression\n",
        "\n",
        "Use the `Ridge` class in scikit-learn to perform $L_2$ Regularized Linear Regression. Initialize the model with regularization strength `alpha = 1.0`, fit the model to the training set, and then make predictions on the testing set.\n",
        "\n",
        "Report your $R^2$ score and save it as a variable called `ridge_score`."
      ]
    },
    {
      "cell_type": "code",
      "source": [
        "from sklearn.linear_model import Ridge\n",
        "\n",
        "# Your code here\n",
        "# Initialize \n",
        "rreg = Ridge(alpha=1.0)\n",
        "# Fit\n",
        "rreg.fit(x_train, y_train)\n",
        "# Predict\n",
        "y_pred = rreg.predict(x_test)\n",
        "\n",
        "# score\n",
        "ridge_score = rreg.score(x_test, y_pred)\n",
        "ridge_score"
      ],
      "metadata": {
        "id": "yDytBWJbn3EX",
        "colab": {
          "base_uri": "https://localhost:8080/"
        },
        "outputId": "384cc14e-e569-412e-9556-5a0838f550fd"
      },
      "execution_count": 48,
      "outputs": [
        {
          "output_type": "execute_result",
          "data": {
            "text/plain": [
              "1.0"
            ]
          },
          "metadata": {},
          "execution_count": 48
        }
      ]
    },
    {
      "cell_type": "code",
      "source": [
        "# 2 points\n",
        "grader.grade(test_case_id = 'check_ridge_reg', answer = ridge_score)"
      ],
      "metadata": {
        "id": "wSOPMz04VZMr",
        "colab": {
          "base_uri": "https://localhost:8080/"
        },
        "outputId": "282e7b60-40df-449e-ef95-3194a598e1f9"
      },
      "execution_count": 49,
      "outputs": [
        {
          "output_type": "stream",
          "name": "stdout",
          "text": [
            "Correct! You earned 2/2 points. You are a star!\n",
            "\n",
            "Your submission has been successfully recorded in the gradebook.\n"
          ]
        }
      ]
    },
    {
      "cell_type": "markdown",
      "source": [
        "_**Exam-Style Practice Questions:**_\n",
        "\n",
        "_(While we will NOT grade this for the purpose of the HW, it is in your best interest to take just 30-60 seconds to think about this as I may very well put something similar in the final exam!_ 😉_)_\n",
        "\n",
        "- What do you notice about the $R^2$ scores of the Ridge and unregularized Linear Regression above?\n",
        "- If Ridge is supposed to \"improve\" Linear Regression, we may find it unusual if that is not happening here. Under what circumstances would we consider using Ridge over unregularized Linear Regression?\n",
        "- Would you expect different results if we made `alpha` bigger ($\\alpha \\rightarrow \\infty$)? smaller ($\\alpha \\rightarrow 0$)? Why or why not?"
      ],
      "metadata": {
        "id": "A1Cl9DePQzfq"
      }
    },
    {
      "cell_type": "markdown",
      "metadata": {
        "id": "EF3qpHRNcKPA"
      },
      "source": [
        "### **1.4.3** Classification Models"
      ]
    },
    {
      "cell_type": "markdown",
      "source": [
        "#### (a) Split Data into Train and Test\n",
        "\n",
        "Repeat 1.4.1 again but this time where our target variable is now `labels` (not \"prices\").\n",
        "\n",
        "Again, we will use scikit-learn's `train_test_split` function to split the data for the classification problem into train and test sets. The split should be 80-20 meaning 80% for training and the rest for testing.\n",
        "\n",
        "**_IMPORTANT_: Again, please set the `random_state` parameter to `random_state = 42`** and store the resulting splits as `x_train, x_test, y_train,` and `y_test`."
      ],
      "metadata": {
        "id": "OoRHu9Y-VuOP"
      }
    },
    {
      "cell_type": "code",
      "source": [
        "# TO-DO: Do a 80/20 train-test split with random_state = 42 but for labels as our target this time \n",
        "x_train, x_test, y_train, y_test = train_test_split(features, labels, random_state = 42, test_size = 0.2)"
      ],
      "metadata": {
        "id": "UuYm9t9FVyLi"
      },
      "execution_count": 50,
      "outputs": []
    },
    {
      "cell_type": "code",
      "source": [
        "# 4 points\n",
        "grader.grade(test_case_id = 'check_class_split', answer = (x_train.shape, x_test.shape, y_train.shape, y_test.shape, y_test[:100]))"
      ],
      "metadata": {
        "id": "UJWjP68VV3iA",
        "colab": {
          "base_uri": "https://localhost:8080/"
        },
        "outputId": "815cc66a-b602-441d-e5fd-3ab2862c9b54"
      },
      "execution_count": 51,
      "outputs": [
        {
          "output_type": "stream",
          "name": "stdout",
          "text": [
            "Correct! You earned 4/4 points. You are a star!\n",
            "\n",
            "Your submission has been successfully recorded in the gradebook.\n"
          ]
        }
      ]
    },
    {
      "cell_type": "markdown",
      "metadata": {
        "id": "RMo898Q3cKPB"
      },
      "source": [
        "#### (b) PCA to Reduce Dimensionality\n",
        "\n",
        "The goal of Principal Component Analysis is to reduce number of dimensions of our features."
      ]
    },
    {
      "cell_type": "markdown",
      "source": [
        "_**Initial PCA**_\n",
        "\n",
        "As a first step instantiate and fit `PCA` from scikit-learn on your training set.\n",
        "\n",
        "Please remember that PCA is **not** scale-invariant! What does this imply you need to do first?"
      ],
      "metadata": {
        "id": "IibSssjHdxNI"
      }
    },
    {
      "cell_type": "code",
      "source": [
        "# TO-DO: Instantiate and Fit PCA\n",
        "# Instantiate\n",
        "from sklearn.preprocessing import StandardScaler\n",
        "scaled_features = StandardScaler().fit_transform(features)\n",
        "scaled_x_train, scaled_x_test, scaled_y_train, scaled_y_test = train_test_split(scaled_features, labels, random_state = 42, test_size = 0.2)"
      ],
      "metadata": {
        "id": "4w430CrIegJC"
      },
      "execution_count": 52,
      "outputs": []
    },
    {
      "cell_type": "code",
      "source": [
        "# Fit\n",
        "from sklearn.decomposition import PCA\n",
        "pca = PCA(n_components=len(features.columns))\n",
        "pca = pca.fit(scaled_x_train)"
      ],
      "metadata": {
        "id": "qU1mh5Feupnu"
      },
      "execution_count": 53,
      "outputs": []
    },
    {
      "cell_type": "markdown",
      "metadata": {
        "id": "t_zXoB2UNipf"
      },
      "source": [
        "_**Cumulative Explained Variance Ratios**_\n",
        "\n",
        "Create an array of explained variance ratios and store it into a variable called `explained_variance_ratios`. Also, calculate the _cumulative_ explained variance ratios and store that into another variable called `cum_evr`."
      ]
    },
    {
      "cell_type": "code",
      "execution_count": 54,
      "metadata": {
        "id": "vE7SYQRYNiph"
      },
      "outputs": [],
      "source": [
        "# TO-DO: Save the explained variance ratios into variable called \"explained_variance_ratios\"\n",
        "explained_variance_ratios = pca.explained_variance_ratio_\n",
        "# TO-DO: Save the CUMULATIVE explained variance ratios into variable called \"cum_evr\"\n",
        "cum_evr = np.cumsum(pca.explained_variance_ratio_)"
      ]
    },
    {
      "cell_type": "markdown",
      "metadata": {
        "id": "qfK-XB7jNipj"
      },
      "source": [
        "Now plot the _cumulative_ `explained_variance_ratio` against the number of components to decide the number of components you should keep.\n",
        "\n",
        "As before, you should ensure that the plot follows the best practices you've developed over the past 2 plotting exercises in this HW. **This will be manually graded for 2 points**\n",
        "\n",
        "\n",
        "_**CAUTION:** Recall that Python starts counting from 0, but this would make it very intuitive when reading from your graph. We strongly recommend that you modify the x-axis of your graph so that the **number of components begins at 1**. Otherwise, you may risk making silly mistakes in the subsequent sections._"
      ]
    },
    {
      "cell_type": "code",
      "execution_count": 55,
      "metadata": {
        "id": "mtwJbU6CNipl",
        "colab": {
          "base_uri": "https://localhost:8080/",
          "height": 420
        },
        "outputId": "1699850b-6279-4dce-bc9e-37f91c94000f"
      },
      "outputs": [
        {
          "output_type": "display_data",
          "data": {
            "text/plain": [
              "<Figure size 576x432 with 1 Axes>"
            ],
            "image/png": "[encoded data removed]"
          },
          "metadata": {
            "needs_background": "light"
          }
        }
      ],
      "source": [
        "# TO-DO: find optimal num components to use (n) by plotting explained variance ratio (2 points)\n",
        "# Plot (1 point for correct shape)\n",
        "# Aesthetics (1 point for title AND both axes labels)\n",
        "\n",
        "# Initialize figure/axes\n",
        "fig, ax = plt.subplots(figsize=(8,6))\n",
        "\n",
        "# Plot\n",
        "plt.plot(np.arange(1, 10), cum_evr)\n",
        "plt.plot(np.arange(1, 10), [0.8]*9)\n",
        "\n",
        "# Set format\n",
        "ax.set_title(\"Cumulative Explained Variance Ratios and the Line for 0.8 variance\",\n",
        "             fontdict= { 'fontsize': 12, 'fontweight':'bold'},\n",
        "             y =1.05)\n",
        "ax.set_xlabel(\"Number of components\")\n",
        "ax.set_ylabel(\"Variance ratio\")\n",
        "ax.legend(['Cumulative explained variance ratios', '0.8 variance'])\n",
        "plt.show()"
      ]
    },
    {
      "cell_type": "code",
      "execution_count": 56,
      "metadata": {
        "id": "arm3a6__Nipn",
        "colab": {
          "base_uri": "https://localhost:8080/"
        },
        "outputId": "e4092ead-82c3-462b-d7b7-61fb0940f61c"
      },
      "outputs": [
        {
          "output_type": "stream",
          "name": "stdout",
          "text": [
            "Correct! You earned 2/2 points. You are a star!\n",
            "\n",
            "Your submission has been successfully recorded in the gradebook.\n"
          ]
        }
      ],
      "source": [
        "# 2 points\n",
        "grader.grade(test_case_id = 'check_pca_explained_variance', answer = explained_variance_ratios)"
      ]
    },
    {
      "cell_type": "markdown",
      "source": [
        "_**Final PCA**_\n",
        "\n",
        "Using your results above to help you decide the number of components to keep, choose a number (`n`) that explains **at least 80% of total variance** in the dataset. Then re-fit and transform your PCA on the training set using the number of components you decided.\n",
        "\n",
        "Remember that your PCA should be trained on the training set (`x_train`) but only transformed on the test set (`x_test`).\n",
        "\n",
        "Call your transformed set of principal components `x_test_pca` in order to submit it to the autograder."
      ],
      "metadata": {
        "id": "yE-BK7tHfHiN"
      }
    },
    {
      "cell_type": "code",
      "source": [
        "# TO-DO: Get transformed set of principal components on x_test\n",
        "pca = PCA(n_components=5).fit(scaled_x_train)\n",
        "\n",
        "x_test_pca = pca.transform(scaled_x_test)\n"
      ],
      "metadata": {
        "id": "s1XTsChOfGiZ"
      },
      "execution_count": 57,
      "outputs": []
    },
    {
      "cell_type": "code",
      "source": [
        "# 2 points\n",
        "grader.grade(test_case_id = 'check_fitted_pca', answer = (x_test_pca[:10,:]))"
      ],
      "metadata": {
        "id": "Gv2qiPNLWwOM",
        "colab": {
          "base_uri": "https://localhost:8080/"
        },
        "outputId": "972bde1f-a615-419a-9a8b-59170b27d25a"
      },
      "execution_count": 58,
      "outputs": [
        {
          "output_type": "stream",
          "name": "stdout",
          "text": [
            "Correct! You earned 2/2 points. You are a star!\n",
            "\n",
            "Your submission has been successfully recorded in the gradebook.\n"
          ]
        }
      ]
    },
    {
      "cell_type": "markdown",
      "source": [
        "_**Visualizing Top 2 Principal Components**_\n",
        "\n",
        "Just to visualize what's going on (separate from what you just did), use PCA once more but this time to reduce the number dimensions to 2 and plot the first 5000 rows for each component. PCA should be applied to the training data in this case after the required transformations.\n",
        "\n",
        "**This will be manually graded** so as before, make sure you fully title and label your plot! We are specifically looking to see if you understand which component goes on the x-axis and which goes on the y-axis in this particular case."
      ],
      "metadata": {
        "id": "XZO3QajFftkz"
      }
    },
    {
      "cell_type": "code",
      "source": [
        "# TO-DO: Visualize 2 components of PCA when applied to the training data (2 points)\n",
        "x_train_pca_2 = PCA(n_components=2).fit_transform(scaled_x_train)\n",
        "\n",
        "x_train_pca_2 = x_train_pca_2[0:5000,]\n",
        "\n",
        "x_train_pca_2"
      ],
      "metadata": {
        "id": "emGHsFyefnUw",
        "colab": {
          "base_uri": "https://localhost:8080/"
        },
        "outputId": "075dd5c1-73d0-4677-c57f-cc5846c9ec4e"
      },
      "execution_count": 61,
      "outputs": [
        {
          "output_type": "execute_result",
          "data": {
            "text/plain": [
              "array([[ 2.9493142 , -1.32319126],\n",
              "       [-0.63128911,  0.93913158],\n",
              "       [-1.69851762,  0.0555883 ],\n",
              "       ...,\n",
              "       [ 3.90017735,  0.7179197 ],\n",
              "       [-0.45171087,  0.22565971],\n",
              "       [-0.67990637,  0.70914622]])"
            ]
          },
          "metadata": {},
          "execution_count": 61
        }
      ]
    },
    {
      "cell_type": "code",
      "source": [
        "# Initialize figure/axes\n",
        "fig, ax = plt.subplots(figsize=(8,6))\n",
        "\n",
        "# Plot\n",
        "plt.scatter(x_train_pca_2[:,0], \n",
        "            x_train_pca_2[:,1],\n",
        "            s=1)\n",
        "\n",
        "# Set format\n",
        "ax.set_xlabel('The first principal component')\n",
        "ax.set_ylabel('The second principal component')\n",
        "ax.set_title(\"Visualization of Top 2 Principal Components\",\n",
        "             fontdict= { 'fontsize': 12, 'fontweight':'bold'},\n",
        "             y =1.05)\n",
        "plt.show()"
      ],
      "metadata": {
        "colab": {
          "base_uri": "https://localhost:8080/",
          "height": 420
        },
        "id": "4NHa5EkcHo-b",
        "outputId": "a8e4d285-6a57-4bf2-8ad4-d56bff310cab"
      },
      "execution_count": 62,
      "outputs": [
        {
          "output_type": "display_data",
          "data": {
            "text/plain": [
              "<Figure size 576x432 with 1 Axes>"
            ],
            "image/png": "[encoded data removed]"
          },
          "metadata": {
            "needs_background": "light"
          }
        }
      ]
    },
    {
      "cell_type": "markdown",
      "metadata": {
        "id": "A2q2puz-cKPC"
      },
      "source": [
        "#### (c) Logistic Regression\n",
        "\n",
        "1. Fit the logistic regression on your Final Principal Components data using your optimal `n`.\n",
        "2. Make predictions on the test set.\n",
        "3. Report accuracy for the test set and call it `test_accuracy`"
      ]
    },
    {
      "cell_type": "code",
      "source": [
        "from sklearn.linear_model import LogisticRegression\n",
        "\n",
        "# TO-DO: Instantiate, fit, predict, and score logistic regression\n",
        "# pca transformation \n",
        "x_train_pca = pca.transform(scaled_x_train)\n",
        "\n",
        "# Fit\n",
        "pca_clf = LogisticRegression()\n",
        "pca_clf.fit(x_train_pca, scaled_y_train)\n",
        "\n",
        "# Predict\n",
        "y_pred = pca_clf.predict(x_test_pca)\n",
        "\n",
        "from sklearn.metrics import accuracy_score\n",
        "test_accuracy = accuracy_score(scaled_y_test, y_pred)"
      ],
      "metadata": {
        "id": "V0A32a6Agjn1"
      },
      "execution_count": 63,
      "outputs": []
    },
    {
      "cell_type": "code",
      "source": [
        "# 4 points\n",
        "grader.grade(test_case_id = 'check_lr', answer = test_accuracy)"
      ],
      "metadata": {
        "id": "-uUNm6fuZNm_",
        "colab": {
          "base_uri": "https://localhost:8080/"
        },
        "outputId": "721830d7-5018-45d4-bfbe-c68aadb3887c"
      },
      "execution_count": 64,
      "outputs": [
        {
          "output_type": "stream",
          "name": "stdout",
          "text": [
            "Correct! You earned 4/4 points. You are a star!\n",
            "\n",
            "Your submission has been successfully recorded in the gradebook.\n"
          ]
        }
      ]
    },
    {
      "cell_type": "markdown",
      "metadata": {
        "id": "nyURjOkMcKPD"
      },
      "source": [
        "# **Part II:** Distributed Machine Learning with Spark (35 points)\n",
        "\n",
        "Apache Spark ML is a machine learning library that consists of common learning algorithms and utilities, including classification, regression, clustering, collaborative filtering, dimensionality reduction, and underlying optimization primitives.\n",
        "\n",
        "**Why Spark ML?**\n",
        "\n",
        "Moving to the Big Data Era requires heavy iterative computations on very large datasets. Standard implementations of machine learning algorithms require very powerful machines to be able to run. However, depending on high-end machines is not advantageous due to their high price and improper costs of scaling up. The idea of using distributed computing engines is to distribute the calculations to multiple low-end machines (commodity hardware) instead of a single high-end one. _This **definitely speeds up** the learning phase and allows us to create better models._\n",
        "\n",
        "Read more about it with the python documentation **[here](https://spark.apache.org/docs/latest/ml-guide.html)**.\n",
        "\n",
        "Run the code below to set up Spark."
      ]
    },
    {
      "cell_type": "code",
      "source": [
        "!apt install libkrb5-dev\n",
        "!wget https://downloads.apache.org/spark/spark-3.1.2/spark-3.1.2-bin-hadoop3.2.tgz\n",
        "!tar xf spark-3.1.2-bin-hadoop3.2.tgz\n",
        "!pip install findspark\n",
        "!pip install sparkmagic\n",
        "!pip install pyspark\n",
        "! pip install pyspark --user\n",
        "! pip install seaborn --user\n",
        "! pip install plotly --user\n",
        "! pip install imageio --user\n",
        "! pip install folium --user"
      ],
      "metadata": {
        "id": "AtR2QWmLe8ws",
        "colab": {
          "base_uri": "https://localhost:8080/"
        },
        "outputId": "cda14a86-e04a-4c7a-ed2c-db06c2fcabec"
      },
      "execution_count": 6,
      "outputs": [
        {
          "output_type": "stream",
          "name": "stdout",
          "text": [
            "Reading package lists... Done\n",
            "Building dependency tree       \n",
            "Reading state information... Done\n",
            "libkrb5-dev is already the newest version (1.16-2ubuntu0.2).\n",
            "0 upgraded, 0 newly installed, 0 to remove and 95 not upgraded.\n",
            "--2022-04-06 12:55:21--  https://downloads.apache.org/spark/spark-3.1.2/spark-3.1.2-bin-hadoop3.2.tgz\n",
            "Resolving downloads.apache.org (downloads.apache.org)... 135.181.214.104, 88.99.95.219, 2a01:4f8:10a:201a::2, ...\n",
            "Connecting to downloads.apache.org (downloads.apache.org)|135.181.214.104|:443... connected.\n",
            "HTTP request sent, awaiting response... 200 OK\n",
            "Length: 228834641 (218M) [application/x-gzip]\n",
            "Saving to: ‘spark-3.1.2-bin-hadoop3.2.tgz’\n",
            "\n",
            "spark-3.1.2-bin-had 100%[===================>] 218.23M  28.4MB/s    in 8.4s    \n",
            "\n",
            "2022-04-06 12:55:30 (26.0 MB/s) - ‘spark-3.1.2-bin-hadoop3.2.tgz’ saved [228834641/228834641]\n",
            "\n",
            "Collecting findspark\n",
            "  Downloading findspark-2.0.1-py2.py3-none-any.whl (4.4 kB)\n",
            "Installing collected packages: findspark\n",
            "Successfully installed findspark-2.0.1\n",
            "Collecting sparkmagic\n",
            "  Downloading sparkmagic-0.19.1.tar.gz (43 kB)\n",
            "\u001b[K     |████████████████████████████████| 43 kB 1.5 MB/s \n",
            "\u001b[?25hCollecting hdijupyterutils>=0.6\n",
            "  Downloading hdijupyterutils-0.19.1.tar.gz (5.0 kB)\n",
            "Collecting autovizwidget>=0.6\n",
            "  Downloading autovizwidget-0.19.1.tar.gz (8.7 kB)\n",
            "Requirement already satisfied: ipython>=4.0.2 in /usr/local/lib/python3.7/dist-packages (from sparkmagic) (5.5.0)\n",
            "Collecting nose\n",
            "  Downloading nose-1.3.7-py3-none-any.whl (154 kB)\n",
            "\u001b[K     |████████████████████████████████| 154 kB 43.2 MB/s \n",
            "\u001b[?25hCollecting mock\n",
            "  Downloading mock-4.0.3-py3-none-any.whl (28 kB)\n",
            "Requirement already satisfied: pandas>=0.17.1 in /usr/local/lib/python3.7/dist-packages (from sparkmagic) (1.1.5)\n",
            "Requirement already satisfied: numpy in /usr/local/lib/python3.7/dist-packages (from sparkmagic) (1.21.5)\n",
            "Requirement already satisfied: requests in /usr/local/lib/python3.7/dist-packages (from sparkmagic) (2.23.0)\n",
            "Requirement already satisfied: ipykernel<6.0.0 in /usr/local/lib/python3.7/dist-packages (from sparkmagic) (4.10.1)\n",
            "Requirement already satisfied: ipywidgets>5.0.0 in /usr/local/lib/python3.7/dist-packages (from sparkmagic) (7.7.0)\n",
            "Requirement already satisfied: notebook>=4.2 in /usr/local/lib/python3.7/dist-packages (from sparkmagic) (5.3.1)\n",
            "Requirement already satisfied: tornado>=4 in /usr/local/lib/python3.7/dist-packages (from sparkmagic) (5.1.1)\n",
            "Collecting requests_kerberos>=0.8.0\n",
            "  Downloading requests_kerberos-0.14.0-py2.py3-none-any.whl (11 kB)\n",
            "Requirement already satisfied: plotly>=3 in /usr/local/lib/python3.7/dist-packages (from autovizwidget>=0.6->sparkmagic) (5.5.0)\n",
            "Requirement already satisfied: jupyter>=1 in /usr/local/lib/python3.7/dist-packages (from hdijupyterutils>=0.6->sparkmagic) (1.0.0)\n",
            "Requirement already satisfied: jupyter-client in /usr/local/lib/python3.7/dist-packages (from ipykernel<6.0.0->sparkmagic) (5.3.5)\n",
            "Requirement already satisfied: traitlets>=4.1.0 in /usr/local/lib/python3.7/dist-packages (from ipykernel<6.0.0->sparkmagic) (5.1.1)\n",
            "Requirement already satisfied: pexpect in /usr/local/lib/python3.7/dist-packages (from ipython>=4.0.2->sparkmagic) (4.8.0)\n",
            "Requirement already satisfied: pygments in /usr/local/lib/python3.7/dist-packages (from ipython>=4.0.2->sparkmagic) (2.6.1)\n",
            "Requirement already satisfied: simplegeneric>0.8 in /usr/local/lib/python3.7/dist-packages (from ipython>=4.0.2->sparkmagic) (0.8.1)\n",
            "Requirement already satisfied: prompt-toolkit<2.0.0,>=1.0.4 in /usr/local/lib/python3.7/dist-packages (from ipython>=4.0.2->sparkmagic) (1.0.18)\n",
            "Requirement already satisfied: pickleshare in /usr/local/lib/python3.7/dist-packages (from ipython>=4.0.2->sparkmagic) (0.7.5)\n",
            "Requirement already satisfied: setuptools>=18.5 in /usr/local/lib/python3.7/dist-packages (from ipython>=4.0.2->sparkmagic) (57.4.0)\n",
            "Requirement already satisfied: decorator in /usr/local/lib/python3.7/dist-packages (from ipython>=4.0.2->sparkmagic) (4.4.2)\n",
            "Requirement already satisfied: nbformat>=4.2.0 in /usr/local/lib/python3.7/dist-packages (from ipywidgets>5.0.0->sparkmagic) (5.2.0)\n",
            "Requirement already satisfied: jupyterlab-widgets>=1.0.0 in /usr/local/lib/python3.7/dist-packages (from ipywidgets>5.0.0->sparkmagic) (1.1.0)\n",
            "Requirement already satisfied: ipython-genutils~=0.2.0 in /usr/local/lib/python3.7/dist-packages (from ipywidgets>5.0.0->sparkmagic) (0.2.0)\n",
            "Requirement already satisfied: widgetsnbextension~=3.6.0 in /usr/local/lib/python3.7/dist-packages (from ipywidgets>5.0.0->sparkmagic) (3.6.0)\n",
            "Requirement already satisfied: qtconsole in /usr/local/lib/python3.7/dist-packages (from jupyter>=1->hdijupyterutils>=0.6->sparkmagic) (5.2.2)\n",
            "Requirement already satisfied: nbconvert in /usr/local/lib/python3.7/dist-packages (from jupyter>=1->hdijupyterutils>=0.6->sparkmagic) (5.6.1)\n",
            "Requirement already satisfied: jupyter-console in /usr/local/lib/python3.7/dist-packages (from jupyter>=1->hdijupyterutils>=0.6->sparkmagic) (5.2.0)\n",
            "Requirement already satisfied: jsonschema!=2.5.0,>=2.4 in /usr/local/lib/python3.7/dist-packages (from nbformat>=4.2.0->ipywidgets>5.0.0->sparkmagic) (4.3.3)\n",
            "Requirement already satisfied: jupyter-core in /usr/local/lib/python3.7/dist-packages (from nbformat>=4.2.0->ipywidgets>5.0.0->sparkmagic) (4.9.2)\n",
            "Requirement already satisfied: importlib-resources>=1.4.0 in /usr/local/lib/python3.7/dist-packages (from jsonschema!=2.5.0,>=2.4->nbformat>=4.2.0->ipywidgets>5.0.0->sparkmagic) (5.4.0)\n",
            "Requirement already satisfied: typing-extensions in /usr/local/lib/python3.7/dist-packages (from jsonschema!=2.5.0,>=2.4->nbformat>=4.2.0->ipywidgets>5.0.0->sparkmagic) (3.10.0.2)\n",
            "Requirement already satisfied: attrs>=17.4.0 in /usr/local/lib/python3.7/dist-packages (from jsonschema!=2.5.0,>=2.4->nbformat>=4.2.0->ipywidgets>5.0.0->sparkmagic) (21.4.0)\n",
            "Requirement already satisfied: pyrsistent!=0.17.0,!=0.17.1,!=0.17.2,>=0.14.0 in /usr/local/lib/python3.7/dist-packages (from jsonschema!=2.5.0,>=2.4->nbformat>=4.2.0->ipywidgets>5.0.0->sparkmagic) (0.18.1)\n",
            "Requirement already satisfied: importlib-metadata in /usr/local/lib/python3.7/dist-packages (from jsonschema!=2.5.0,>=2.4->nbformat>=4.2.0->ipywidgets>5.0.0->sparkmagic) (4.11.3)\n",
            "Requirement already satisfied: zipp>=3.1.0 in /usr/local/lib/python3.7/dist-packages (from importlib-resources>=1.4.0->jsonschema!=2.5.0,>=2.4->nbformat>=4.2.0->ipywidgets>5.0.0->sparkmagic) (3.7.0)\n",
            "Requirement already satisfied: terminado>=0.8.1 in /usr/local/lib/python3.7/dist-packages (from notebook>=4.2->sparkmagic) (0.13.3)\n",
            "Requirement already satisfied: Send2Trash in /usr/local/lib/python3.7/dist-packages (from notebook>=4.2->sparkmagic) (1.8.0)\n",
            "Requirement already satisfied: jinja2 in /usr/local/lib/python3.7/dist-packages (from notebook>=4.2->sparkmagic) (2.11.3)\n",
            "Requirement already satisfied: python-dateutil>=2.1 in /usr/local/lib/python3.7/dist-packages (from jupyter-client->ipykernel<6.0.0->sparkmagic) (2.8.2)\n",
            "Requirement already satisfied: pyzmq>=13 in /usr/local/lib/python3.7/dist-packages (from jupyter-client->ipykernel<6.0.0->sparkmagic) (22.3.0)\n",
            "Requirement already satisfied: pytz>=2017.2 in /usr/local/lib/python3.7/dist-packages (from pandas>=0.17.1->sparkmagic) (2018.9)\n",
            "Requirement already satisfied: tenacity>=6.2.0 in /usr/local/lib/python3.7/dist-packages (from plotly>=3->autovizwidget>=0.6->sparkmagic) (8.0.1)\n",
            "Requirement already satisfied: six in /usr/local/lib/python3.7/dist-packages (from plotly>=3->autovizwidget>=0.6->sparkmagic) (1.15.0)\n",
            "Requirement already satisfied: wcwidth in /usr/local/lib/python3.7/dist-packages (from prompt-toolkit<2.0.0,>=1.0.4->ipython>=4.0.2->sparkmagic) (0.2.5)\n",
            "Collecting pyspnego[kerberos]\n",
            "  Downloading pyspnego-0.5.1-py2.py3-none-any.whl (122 kB)\n",
            "\u001b[K     |████████████████████████████████| 122 kB 33.5 MB/s \n",
            "\u001b[?25hCollecting cryptography>=1.3\n",
            "  Downloading cryptography-36.0.2-cp36-abi3-manylinux_2_24_x86_64.whl (3.6 MB)\n",
            "\u001b[K     |████████████████████████████████| 3.6 MB 50.1 MB/s \n",
            "\u001b[?25hRequirement already satisfied: cffi>=1.12 in /usr/local/lib/python3.7/dist-packages (from cryptography>=1.3->requests_kerberos>=0.8.0->sparkmagic) (1.15.0)\n",
            "Requirement already satisfied: pycparser in /usr/local/lib/python3.7/dist-packages (from cffi>=1.12->cryptography>=1.3->requests_kerberos>=0.8.0->sparkmagic) (2.21)\n",
            "Requirement already satisfied: idna<3,>=2.5 in /usr/local/lib/python3.7/dist-packages (from requests->sparkmagic) (2.10)\n",
            "Requirement already satisfied: chardet<4,>=3.0.2 in /usr/local/lib/python3.7/dist-packages (from requests->sparkmagic) (3.0.4)\n",
            "Requirement already satisfied: certifi>=2017.4.17 in /usr/local/lib/python3.7/dist-packages (from requests->sparkmagic) (2021.10.8)\n",
            "Requirement already satisfied: urllib3!=1.25.0,!=1.25.1,<1.26,>=1.21.1 in /usr/local/lib/python3.7/dist-packages (from requests->sparkmagic) (1.24.3)\n",
            "Requirement already satisfied: ptyprocess in /usr/local/lib/python3.7/dist-packages (from terminado>=0.8.1->notebook>=4.2->sparkmagic) (0.7.0)\n",
            "Requirement already satisfied: MarkupSafe>=0.23 in /usr/local/lib/python3.7/dist-packages (from jinja2->notebook>=4.2->sparkmagic) (2.0.1)\n",
            "Requirement already satisfied: testpath in /usr/local/lib/python3.7/dist-packages (from nbconvert->jupyter>=1->hdijupyterutils>=0.6->sparkmagic) (0.6.0)\n",
            "Requirement already satisfied: entrypoints>=0.2.2 in /usr/local/lib/python3.7/dist-packages (from nbconvert->jupyter>=1->hdijupyterutils>=0.6->sparkmagic) (0.4)\n",
            "Requirement already satisfied: bleach in /usr/local/lib/python3.7/dist-packages (from nbconvert->jupyter>=1->hdijupyterutils>=0.6->sparkmagic) (4.1.0)\n",
            "Requirement already satisfied: pandocfilters>=1.4.1 in /usr/local/lib/python3.7/dist-packages (from nbconvert->jupyter>=1->hdijupyterutils>=0.6->sparkmagic) (1.5.0)\n",
            "Requirement already satisfied: mistune<2,>=0.8.1 in /usr/local/lib/python3.7/dist-packages (from nbconvert->jupyter>=1->hdijupyterutils>=0.6->sparkmagic) (0.8.4)\n",
            "Requirement already satisfied: defusedxml in /usr/local/lib/python3.7/dist-packages (from nbconvert->jupyter>=1->hdijupyterutils>=0.6->sparkmagic) (0.7.1)\n",
            "Requirement already satisfied: packaging in /usr/local/lib/python3.7/dist-packages (from bleach->nbconvert->jupyter>=1->hdijupyterutils>=0.6->sparkmagic) (21.3)\n",
            "Requirement already satisfied: webencodings in /usr/local/lib/python3.7/dist-packages (from bleach->nbconvert->jupyter>=1->hdijupyterutils>=0.6->sparkmagic) (0.5.1)\n",
            "Requirement already satisfied: pyparsing!=3.0.5,>=2.0.2 in /usr/local/lib/python3.7/dist-packages (from packaging->bleach->nbconvert->jupyter>=1->hdijupyterutils>=0.6->sparkmagic) (3.0.7)\n",
            "Collecting gssapi>=1.5.0\n",
            "  Downloading gssapi-1.7.3.tar.gz (1.3 MB)\n",
            "\u001b[K     |████████████████████████████████| 1.3 MB 42.0 MB/s \n",
            "\u001b[?25hCollecting krb5>=0.3.0\n",
            "  Downloading krb5-0.3.0.tar.gz (1.7 MB)\n",
            "\u001b[K     |████████████████████████████████| 1.7 MB 51.6 MB/s \n",
            "\u001b[?25h  Installing build dependencies ... \u001b[?25l\u001b[?25hdone\n",
            "  Getting requirements to build wheel ... \u001b[?25l\u001b[?25hdone\n",
            "    Preparing wheel metadata ... \u001b[?25l\u001b[?25hdone\n",
            "Requirement already satisfied: qtpy in /usr/local/lib/python3.7/dist-packages (from qtconsole->jupyter>=1->hdijupyterutils>=0.6->sparkmagic) (2.0.1)\n",
            "Building wheels for collected packages: sparkmagic, autovizwidget, hdijupyterutils, gssapi, krb5\n",
            "  Building wheel for sparkmagic (setup.py) ... \u001b[?25l\u001b[?25hdone\n",
            "  Created wheel for sparkmagic: filename=sparkmagic-0.19.1-py3-none-any.whl size=64701 sha256=560873552fd50a262947af98b0064d7821a0a663ee24b10ece9fb67ff0659560\n",
            "  Stored in directory: /root/.cache/pip/wheels/77/00/d5/153197547803fa423ee3d0a7a1ff19f138cbcc385a5d11e0dd\n",
            "  Building wheel for autovizwidget (setup.py) ... \u001b[?25l\u001b[?25hdone\n",
            "  Created wheel for autovizwidget: filename=autovizwidget-0.19.1-py3-none-any.whl size=14544 sha256=a071c347c0c2f95b38edb61397d469d4e98213896f8d464592e0db1b838d2a68\n",
            "  Stored in directory: /root/.cache/pip/wheels/09/76/d9/ff313b7bd4ff55b1ff8c299f31889f525dc5129556853e1330\n",
            "  Building wheel for hdijupyterutils (setup.py) ... \u001b[?25l\u001b[?25hdone\n",
            "  Created wheel for hdijupyterutils: filename=hdijupyterutils-0.19.1-py3-none-any.whl size=7676 sha256=8f15519f8b126dc57e8bf6d633289ffe08a1c4c5c31053f65472a7d820664955\n",
            "  Stored in directory: /root/.cache/pip/wheels/18/64/eb/292698b4780fb4eed0d7521f8e8acac011eda244f368b88aa0\n",
            "  Building wheel for gssapi (setup.py) ... \u001b[?25l\u001b[?25hdone\n",
            "  Created wheel for gssapi: filename=gssapi-1.7.3-cp37-cp37m-linux_x86_64.whl size=2748913 sha256=c272878d13c9c555e3c892ba6ebfcbd030e158430ad40926cc7e71ee09f903a6\n",
            "  Stored in directory: /root/.cache/pip/wheels/39/98/00/50c2dc63e573ee6526a8a64017272d5ecaddcd66034430b88b\n",
            "  Building wheel for krb5 (PEP 517) ... \u001b[?25l\u001b[?25hdone\n",
            "  Created wheel for krb5: filename=krb5-0.3.0-cp37-cp37m-linux_x86_64.whl size=3073531 sha256=c16c2e576242953754d599e521e1c556422fd55845ea17c2d04e9dfc6749ebff\n",
            "  Stored in directory: /root/.cache/pip/wheels/8d/9c/5b/c797df276a5e2d9fd6ffd544aade607a6edae4428c0b511093\n",
            "Successfully built sparkmagic autovizwidget hdijupyterutils gssapi krb5\n",
            "Installing collected packages: cryptography, pyspnego, nose, mock, krb5, gssapi, hdijupyterutils, requests-kerberos, autovizwidget, sparkmagic\n",
            "Successfully installed autovizwidget-0.19.1 cryptography-36.0.2 gssapi-1.7.3 hdijupyterutils-0.19.1 krb5-0.3.0 mock-4.0.3 nose-1.3.7 pyspnego-0.5.1 requests-kerberos-0.14.0 sparkmagic-0.19.1\n",
            "Collecting pyspark\n",
            "  Downloading pyspark-3.2.1.tar.gz (281.4 MB)\n",
            "\u001b[K     |████████████████████████████████| 281.4 MB 37 kB/s \n",
            "\u001b[?25hCollecting py4j==0.10.9.3\n",
            "  Downloading py4j-0.10.9.3-py2.py3-none-any.whl (198 kB)\n",
            "\u001b[K     |████████████████████████████████| 198 kB 45.5 MB/s \n",
            "\u001b[?25hBuilding wheels for collected packages: pyspark\n",
            "  Building wheel for pyspark (setup.py) ... \u001b[?25l\u001b[?25hdone\n",
            "  Created wheel for pyspark: filename=pyspark-3.2.1-py2.py3-none-any.whl size=281853642 sha256=8aa5bb75763d08d92f7ef2f2c6ca1e81efe915b1fbcd13a77f3fd199382fa5c3\n",
            "  Stored in directory: /root/.cache/pip/wheels/9f/f5/07/7cd8017084dce4e93e84e92efd1e1d5334db05f2e83bcef74f\n",
            "Successfully built pyspark\n",
            "Installing collected packages: py4j, pyspark\n",
            "Successfully installed py4j-0.10.9.3 pyspark-3.2.1\n",
            "Requirement already satisfied: pyspark in /usr/local/lib/python3.7/dist-packages (3.2.1)\n",
            "Requirement already satisfied: py4j==0.10.9.3 in /usr/local/lib/python3.7/dist-packages (from pyspark) (0.10.9.3)\n",
            "Requirement already satisfied: seaborn in /usr/local/lib/python3.7/dist-packages (0.11.2)\n",
            "Requirement already satisfied: matplotlib>=2.2 in /usr/local/lib/python3.7/dist-packages (from seaborn) (3.2.2)\n",
            "Requirement already satisfied: pandas>=0.23 in /usr/local/lib/python3.7/dist-packages (from seaborn) (1.1.5)\n",
            "Requirement already satisfied: numpy>=1.15 in /usr/local/lib/python3.7/dist-packages (from seaborn) (1.21.5)\n",
            "Requirement already satisfied: scipy>=1.0 in /usr/local/lib/python3.7/dist-packages (from seaborn) (1.4.1)\n",
            "Requirement already satisfied: pyparsing!=2.0.4,!=2.1.2,!=2.1.6,>=2.0.1 in /usr/local/lib/python3.7/dist-packages (from matplotlib>=2.2->seaborn) (3.0.7)\n",
            "Requirement already satisfied: cycler>=0.10 in /usr/local/lib/python3.7/dist-packages (from matplotlib>=2.2->seaborn) (0.11.0)\n",
            "Requirement already satisfied: python-dateutil>=2.1 in /usr/local/lib/python3.7/dist-packages (from matplotlib>=2.2->seaborn) (2.8.2)\n",
            "Requirement already satisfied: kiwisolver>=1.0.1 in /usr/local/lib/python3.7/dist-packages (from matplotlib>=2.2->seaborn) (1.4.0)\n",
            "Requirement already satisfied: typing-extensions in /usr/local/lib/python3.7/dist-packages (from kiwisolver>=1.0.1->matplotlib>=2.2->seaborn) (3.10.0.2)\n",
            "Requirement already satisfied: pytz>=2017.2 in /usr/local/lib/python3.7/dist-packages (from pandas>=0.23->seaborn) (2018.9)\n",
            "Requirement already satisfied: six>=1.5 in /usr/local/lib/python3.7/dist-packages (from python-dateutil>=2.1->matplotlib>=2.2->seaborn) (1.15.0)\n",
            "Requirement already satisfied: plotly in /usr/local/lib/python3.7/dist-packages (5.5.0)\n",
            "Requirement already satisfied: tenacity>=6.2.0 in /usr/local/lib/python3.7/dist-packages (from plotly) (8.0.1)\n",
            "Requirement already satisfied: six in /usr/local/lib/python3.7/dist-packages (from plotly) (1.15.0)\n",
            "Requirement already satisfied: imageio in /usr/local/lib/python3.7/dist-packages (2.4.1)\n",
            "Requirement already satisfied: pillow in /usr/local/lib/python3.7/dist-packages (from imageio) (7.1.2)\n",
            "Requirement already satisfied: numpy in /usr/local/lib/python3.7/dist-packages (from imageio) (1.21.5)\n",
            "Requirement already satisfied: folium in /usr/local/lib/python3.7/dist-packages (0.8.3)\n",
            "Requirement already satisfied: requests in /usr/local/lib/python3.7/dist-packages (from folium) (2.23.0)\n",
            "Requirement already satisfied: numpy in /usr/local/lib/python3.7/dist-packages (from folium) (1.21.5)\n",
            "Requirement already satisfied: jinja2 in /usr/local/lib/python3.7/dist-packages (from folium) (2.11.3)\n",
            "Requirement already satisfied: branca>=0.3.0 in /usr/local/lib/python3.7/dist-packages (from folium) (0.4.2)\n",
            "Requirement already satisfied: six in /usr/local/lib/python3.7/dist-packages (from folium) (1.15.0)\n",
            "Requirement already satisfied: MarkupSafe>=0.23 in /usr/local/lib/python3.7/dist-packages (from jinja2->folium) (2.0.1)\n",
            "Requirement already satisfied: certifi>=2017.4.17 in /usr/local/lib/python3.7/dist-packages (from requests->folium) (2021.10.8)\n",
            "Requirement already satisfied: chardet<4,>=3.0.2 in /usr/local/lib/python3.7/dist-packages (from requests->folium) (3.0.4)\n",
            "Requirement already satisfied: idna<3,>=2.5 in /usr/local/lib/python3.7/dist-packages (from requests->folium) (2.10)\n",
            "Requirement already satisfied: urllib3!=1.25.0,!=1.25.1,<1.26,>=1.21.1 in /usr/local/lib/python3.7/dist-packages (from requests->folium) (1.24.3)\n"
          ]
        }
      ]
    },
    {
      "cell_type": "code",
      "source": [
        "from pyspark.sql import SparkSession\n",
        "from pyspark.sql.types import *\n",
        "import pyspark.sql.functions as F\n",
        "\n",
        "import os\n",
        "\n",
        "spark = SparkSession.builder.appName('ml-hw4').getOrCreate()"
      ],
      "metadata": {
        "id": "Vsq0iyoge-PU"
      },
      "execution_count": 7,
      "outputs": []
    },
    {
      "cell_type": "code",
      "source": [
        "%load_ext sparkmagic.magics"
      ],
      "metadata": {
        "id": "7_hUaF5nfFv6"
      },
      "execution_count": 8,
      "outputs": []
    },
    {
      "cell_type": "code",
      "source": [
        "# Graph section\n",
        "import networkx as nx\n",
        "# SQLite RDBMS\n",
        "import sqlite3\n",
        "# Parallel processing\n",
        "# import swifter\n",
        "import pandas as pd\n",
        "# NoSQL DB\n",
        "from pymongo import MongoClient\n",
        "from pymongo.errors import DuplicateKeyError, OperationFailure\n",
        "\n",
        "import os\n",
        "os.environ['SPARK_HOME'] = '/content/spark-3.1.2-bin-hadoop3.2'\n",
        "os.environ[\"JAVA_HOME\"] = \"/usr/lib/jvm/java-8-openjdk-amd64\"\n",
        "import pyspark\n",
        "from pyspark.sql import SQLContext"
      ],
      "metadata": {
        "id": "kJOrCIYYfIXj"
      },
      "execution_count": 9,
      "outputs": []
    },
    {
      "cell_type": "code",
      "source": [
        "try:\n",
        "    if(spark == None):\n",
        "        spark = SparkSession.builder.appName('Initial').getOrCreate()\n",
        "        sqlContext=SQLContext(spark)\n",
        "except NameError:\n",
        "    spark = SparkSession.builder.appName('Initial').getOrCreate()\n",
        "    sqlContext=SQLContext(spark)"
      ],
      "metadata": {
        "id": "rnUXhTeMfLFk"
      },
      "execution_count": 10,
      "outputs": []
    },
    {
      "cell_type": "markdown",
      "source": [
        "#### **2.1** Initializing Spark Data\n",
        "\n",
        "We have the spark setup ready. Now we need the data for our ML algorithms. We will use the data you processed in Section 1 but in Spark. \n",
        "\n",
        "Read in the .csv that you created into a Spark dataframe (`sdf`). Make sure to set the inferSchema flag to True when you do this so that the columns are the correct datatypes and not all strings."
      ],
      "metadata": {
        "id": "vXIZt4pWfVdM"
      }
    },
    {
      "cell_type": "code",
      "source": [
        "# TO-DO: Read in the csv\n",
        "sdf = spark.read.csv('combined.csv',header = True, inferSchema= True)"
      ],
      "metadata": {
        "id": "pWJrKACwfmwz"
      },
      "execution_count": 38,
      "outputs": []
    },
    {
      "cell_type": "markdown",
      "source": [
        "Print out the Dataframe Schema and verify the datatypes. If you did everything correctly so far, the schema should be:\n",
        "```\n",
        "root\n",
        " |-- _c0: integer (nullable = true)\n",
        " |-- date: string (nullable = true)\n",
        " |-- hour: integer (nullable = true)\n",
        " |-- min: integer (nullable = true)\n",
        " |-- sec: integer (nullable = true)\n",
        " |-- price: double (nullable = true)\n",
        " |-- weather_factor: integer (nullable = true)\n",
        " |-- source: string (nullable = true)\n",
        " |-- destination: string (nullable = true)\n",
        " |-- cab_type: string (nullable = true)\n",
        " |-- fare_type: string (nullable = true)\n",
        " |-- distance: double (nullable = true)\n",
        " |-- surge_multiplier: double (nullable = true)\n",
        " |-- latitude: double (nullable = true)\n",
        " |-- longitude: double (nullable = true)\n",
        " |-- temperature: double (nullable = true)\n",
        " |-- humidity: double (nullable = true)\n",
        " |-- windGust: double (nullable = true)\n",
        " |-- visibility: double (nullable = true)\n",
        " |-- uvIndex: integer (nullable = true)\n",
        " |-- precipIntensity: double (nullable = true)\n",
        " |-- precipProbability: double (nullable = true)\n",
        " |-- above_average: integer (nullable = true)\n",
        " |-- cab_type_label: integer (nullable = true)\n",
        " |-- fare_type_label: integer (nullable = true)\n",
        " ```"
      ],
      "metadata": {
        "id": "j49Ce4bCfwYh"
      }
    },
    {
      "cell_type": "code",
      "source": [
        "# TO-DO: Verify that the schema of your Spark dataframe matches the above\n",
        "sdf.printSchema()"
      ],
      "metadata": {
        "id": "7dRic2gGfzA7",
        "colab": {
          "base_uri": "https://localhost:8080/"
        },
        "outputId": "13112624-3959-4d3a-b5f0-e6216a5abef8"
      },
      "execution_count": 39,
      "outputs": [
        {
          "output_type": "stream",
          "name": "stdout",
          "text": [
            "root\n",
            " |-- _c0: integer (nullable = true)\n",
            " |-- date: string (nullable = true)\n",
            " |-- hour: integer (nullable = true)\n",
            " |-- min: integer (nullable = true)\n",
            " |-- sec: integer (nullable = true)\n",
            " |-- price: double (nullable = true)\n",
            " |-- weather_factor: integer (nullable = true)\n",
            " |-- source: string (nullable = true)\n",
            " |-- destination: string (nullable = true)\n",
            " |-- cab_type: string (nullable = true)\n",
            " |-- fare_type: string (nullable = true)\n",
            " |-- distance: double (nullable = true)\n",
            " |-- surge_multiplier: double (nullable = true)\n",
            " |-- latitude: double (nullable = true)\n",
            " |-- longitude: double (nullable = true)\n",
            " |-- temperature: double (nullable = true)\n",
            " |-- humidity: double (nullable = true)\n",
            " |-- windGust: double (nullable = true)\n",
            " |-- visibility: double (nullable = true)\n",
            " |-- uvIndex: integer (nullable = true)\n",
            " |-- precipIntensity: double (nullable = true)\n",
            " |-- precipProbability: double (nullable = true)\n",
            " |-- above_average: integer (nullable = true)\n",
            " |-- cab_type_label: integer (nullable = true)\n",
            " |-- fare_type_label: integer (nullable = true)\n",
            "\n"
          ]
        }
      ]
    },
    {
      "cell_type": "markdown",
      "source": [
        "Great job, we have the processed data now. For Spark ML, we need to create a feature column which has all features concatenated and a single column for labels, which we already have!\n",
        "We will use `VectorAssembler()` to create a feature vector from all categorical and numerical features and we call the final vector as “features”.\n",
        "First list all columns in the data and store it in a list named all_columns."
      ],
      "metadata": {
        "id": "lhG-g1t-f1YN"
      }
    },
    {
      "cell_type": "code",
      "source": [
        "from pyspark.ml.feature import StringIndexer, VectorAssembler\n",
        "\n",
        "# TO-DO: store all columns in the data and store it in a list called \"all_columns\"\n",
        "all_columns = sdf.columns"
      ],
      "metadata": {
        "id": "yS6f7OqNf48w"
      },
      "execution_count": 40,
      "outputs": []
    },
    {
      "cell_type": "markdown",
      "source": [
        "Create a list of columns which you don't want to include in your features (i.e. the original columns of labels and probably other columns which don't help the machine learning model). Name this list `drop_columns`."
      ],
      "metadata": {
        "id": "kFPm7jbAgCvt"
      }
    },
    {
      "cell_type": "code",
      "source": [
        "# TO-DO: Create drop_columns\n",
        "drop_columns = ['price','cab_type','above_average','_c0','date','source','destination','fare_type']"
      ],
      "metadata": {
        "id": "B7A2b_a1f7xP"
      },
      "execution_count": 51,
      "outputs": []
    },
    {
      "cell_type": "markdown",
      "source": [
        "Now using `drop_columns` or otherwise, create a list called `columns_to_use` that contains the names of all surviving columns."
      ],
      "metadata": {
        "id": "DeFoYhpWvPRu"
      }
    },
    {
      "cell_type": "code",
      "source": [
        "# TO-DO: Create columns_to_use\n",
        "columns_to_use = [x for x in all_columns if x not in drop_columns]"
      ],
      "metadata": {
        "id": "yY3fz1irgDbb"
      },
      "execution_count": 52,
      "outputs": []
    },
    {
      "cell_type": "code",
      "source": [
        "# 3 points\n",
        "grader.grade(test_case_id = 'check_columns_to_use', answer = columns_to_use)"
      ],
      "metadata": {
        "id": "_hX_lApTgMeG",
        "colab": {
          "base_uri": "https://localhost:8080/"
        },
        "outputId": "6c795030-f489-4ab0-872d-9d38788da950"
      },
      "execution_count": 53,
      "outputs": [
        {
          "output_type": "stream",
          "name": "stdout",
          "text": [
            "Correct! You earned 3/3 points. You are a star!\n",
            "\n",
            "Your submission has been successfully recorded in the gradebook.\n"
          ]
        }
      ]
    },
    {
      "cell_type": "markdown",
      "source": [
        "Create a VectorAssembler object with columns you want to use. Name your output column as `features` (i.e. they are the features you wanna use later)."
      ],
      "metadata": {
        "id": "Sk7YM4O3gPiQ"
      }
    },
    {
      "cell_type": "code",
      "source": [
        "# TO-DO: Create VectorAssembler object (to be used later)\n",
        "features_assm = VectorAssembler(inputCols = columns_to_use, outputCol = \"features\")"
      ],
      "metadata": {
        "id": "nP92xIhmgTU8"
      },
      "execution_count": 54,
      "outputs": []
    },
    {
      "cell_type": "markdown",
      "source": [
        "## **2.2** Create Pipeline\n",
        "\n",
        "Now we will create a pipeline with many stages. For this data, we just need a single stage with the assembler, but you could have other stages before that where you perform operations on the data like converting categorical strings in the features to numeric values, or do feature scaling operations.\n",
        "\n",
        "In this step, we will create a pipeline with a single stage — the assembler. Fit the pipeline to your data and create the transformed dataframe and name it `modified_data_sdf`."
      ],
      "metadata": {
        "id": "mvzi9hTzsBv5"
      }
    },
    {
      "cell_type": "code",
      "source": [
        "from pyspark.ml import Pipeline\n",
        "\n",
        "# Your code goes here\n",
        "pipe  = Pipeline(stages = [features_assm])\n",
        "modified_data_sdf = pipe.fit(sdf).transform(sdf)"
      ],
      "metadata": {
        "id": "y1d_nR6qsO2Z"
      },
      "execution_count": 55,
      "outputs": []
    },
    {
      "cell_type": "markdown",
      "source": [
        "Now that we have the data in the format we need, we will create our train and test sets.\n",
        "\n",
        "Conduct a train-test split where 80% of the data is assigned to the training set while the remaining 20% is assigned to the testing set.\n",
        "\n",
        "**Clarifications:**\n",
        "- Name these `train_sdf` and `test_sdf` respectively.\n",
        "- Add the argument `seed = 24` in the function to fix the random state in order to ensure consistency with our results."
      ],
      "metadata": {
        "id": "TMCLmsX2sWz_"
      }
    },
    {
      "cell_type": "code",
      "source": [
        "# TO-DO: Do 80/20 train-test split with seed = 24\n",
        "train_sdf, test_sdf = modified_data_sdf.randomSplit([0.8, 0.2], seed = 24)"
      ],
      "metadata": {
        "id": "JBjj8o9vsaLg"
      },
      "execution_count": 56,
      "outputs": []
    },
    {
      "cell_type": "code",
      "source": [
        "# 2 points\n",
        "grader.grade(test_case_id = 'check_train_test_split_spark', answer = (train_sdf.count(), test_sdf.count()))"
      ],
      "metadata": {
        "id": "C7M6aOTcsgGP",
        "colab": {
          "base_uri": "https://localhost:8080/"
        },
        "outputId": "fa438a67-6fa1-43a8-a1a0-34e2c428e484"
      },
      "execution_count": 57,
      "outputs": [
        {
          "output_type": "stream",
          "name": "stdout",
          "text": [
            "Correct! You earned 2/2 points. You are a star!\n",
            "\n",
            "Your submission has been successfully recorded in the gradebook.\n"
          ]
        }
      ]
    },
    {
      "cell_type": "markdown",
      "metadata": {
        "id": "a4U2k-r4cKPD"
      },
      "source": [
        "## **2.3** LASSO Regularized Logistic Regression"
      ]
    },
    {
      "cell_type": "markdown",
      "source": [
        "**Logistic Regression Using SparkML**\n",
        "\n",
        "Time to do the cool stuff! Let's train a Logistic Regression model to our data and try to predict whether a ride will be above the average price for that carrier/platform/cab_type again.\n",
        "\n",
        "This time, we will use \"Big\" data tools to help us build a Logistic Regression model for binary classification.\n",
        "\n",
        "Look up the documentation online and try to understand how to implement this.\n",
        "\n",
        "**Model 1: Train a Model without any Regularization.**"
      ],
      "metadata": {
        "id": "2FbFVHYaWr2V"
      }
    },
    {
      "cell_type": "code",
      "source": [
        "from pyspark.ml.classification import LogisticRegression\n",
        "\n",
        "# TO-DO: Instantiate and fit Logistic Regression model to training data\n",
        "logit = LogisticRegression(featuresCol = \"features\", labelCol = \"above_average\", maxIter = 10)\n",
        "logit = logit.fit(train_sdf);"
      ],
      "metadata": {
        "id": "isJEVu32Ws6D"
      },
      "execution_count": 58,
      "outputs": []
    },
    {
      "cell_type": "code",
      "source": [
        "# TO-DO: Get training accuracy\n",
        "\n",
        "# Set Up BinaryClassificationEvaluator\n",
        "from pyspark.ml.evaluation import BinaryClassificationEvaluator\n",
        "evaluator = BinaryClassificationEvaluator(rawPredictionCol='prediction', labelCol='above_average')\n",
        "\n",
        "# predict on train\n",
        "predictions_train = logit.transform(train_sdf)\n",
        "\n",
        "# training accuracy \n",
        "training_accuracy = evaluator.evaluate(predictions_train)"
      ],
      "metadata": {
        "id": "89SqvGHYWxsq"
      },
      "execution_count": 59,
      "outputs": []
    },
    {
      "cell_type": "markdown",
      "source": [
        "Now, find out how good the model actually is and see if it overfits to the training data.\n",
        "\n",
        "Predict the label for `above_average` for your test data _(Hint: it is called 'transform' in Spark ML)_"
      ],
      "metadata": {
        "id": "h0CkqbjiWyM_"
      }
    },
    {
      "cell_type": "code",
      "source": [
        "# TO-DO: Make predictions on testing set\n",
        "predictions_test = logit.transform(test_sdf)"
      ],
      "metadata": {
        "id": "N0kDXvlbW09r"
      },
      "execution_count": 61,
      "outputs": []
    },
    {
      "cell_type": "markdown",
      "source": [
        "Evaluate the performance using the area under the ROC curve using 'BinaryClassificationEvaluator' object in the Spark ML Regression library."
      ],
      "metadata": {
        "id": "P_Qe_O_HyYq8"
      }
    },
    {
      "cell_type": "code",
      "source": [
        "from pyspark.ml.evaluation import RegressionEvaluator\n",
        "\n",
        "# TO-DO: Get AUC ROC score and save to variable called \"test_predictions_log\"\n",
        "test_predictions_log = evaluator.evaluate(predictions_test,{evaluator.metricName: \"areaUnderROC\"})"
      ],
      "metadata": {
        "id": "kvmteSpKXFMJ"
      },
      "execution_count": 62,
      "outputs": []
    },
    {
      "cell_type": "code",
      "source": [
        "# 8 points\n",
        "grader.grade(test_case_id = 'check_logistic_without_reg', answer = (training_accuracy, test_predictions_log))"
      ],
      "metadata": {
        "id": "HA9xymKFXN0X",
        "colab": {
          "base_uri": "https://localhost:8080/"
        },
        "outputId": "50d0498a-062d-4d24-d98a-a2fb6678a5d2"
      },
      "execution_count": 63,
      "outputs": [
        {
          "output_type": "stream",
          "name": "stdout",
          "text": [
            "Correct! You earned 8/8 points. You are a star!\n",
            "\n",
            "Your submission has been successfully recorded in the gradebook.\n"
          ]
        }
      ]
    },
    {
      "cell_type": "markdown",
      "source": [
        "**Model 2: Train a Model with Regularization.**\n",
        "\n",
        "Now, we will add regularization to avoid overfitting. \n",
        "\n",
        "Play around with different regularization parameters - try out LASSO (L1), Ridge (L2) and elastic net (combination of L1 and L2) and different regularization hyperparameters when initializing 3 different regularized logistic regression models. \n",
        "\n",
        "Compare these with each other and the non regularized regression done above.\n",
        "\n",
        "Make sure to evaluate the performance on test data using the same metric as above(area under ROC curve)"
      ],
      "metadata": {
        "id": "gbdKAxIBXSbo"
      }
    },
    {
      "cell_type": "code",
      "source": [
        "# TO-DO: LASSO/L1 regularized model's AUC ROC score and save to \"test_area_l1\" \n",
        "predictions_test_LASSO = LogisticRegression(regParam=0.1, \n",
        "                                            elasticNetParam=1, \n",
        "                                            featuresCol = \"features\", \n",
        "                                            labelCol = \"above_average\").fit(train_sdf).transform(test_sdf)\n",
        "test_area_l1 = evaluator.evaluate(predictions_test_LASSO,\n",
        "                                  {evaluator.metricName: \"areaUnderROC\"})\n",
        "\n",
        "# TO-DO: Ridge/L2 regularized model's AUC ROC score and save to \"test_area_l2\"\n",
        "predictions_test_Ridge = LogisticRegression(regParam=0.1, \n",
        "                                            elasticNetParam=0, \n",
        "                                            featuresCol = \"features\", \n",
        "                                            labelCol = \"above_average\").fit(train_sdf).transform(test_sdf)\n",
        "test_area_l2 = evaluator.evaluate(predictions_test_Ridge,\n",
        "                                  {evaluator.metricName: \"areaUnderROC\"})\n",
        "\n",
        "# TO-DO: Your choice of Elastic Net model's AUC ROC score and save to \"test_area_elastic\"\n",
        "predictions_test_ElasticNet = LogisticRegression(regParam=0.1, \n",
        "                                                 elasticNetParam=0.5, \n",
        "                                                 featuresCol = \"features\", \n",
        "                                                 labelCol = \"above_average\").fit(train_sdf).transform(test_sdf)\n",
        "test_area_elastic = evaluator.evaluate(predictions_test_ElasticNet,\n",
        "                                       {evaluator.metricName: \"areaUnderROC\"})"
      ],
      "metadata": {
        "id": "8fNf9iAiXTfk"
      },
      "execution_count": 70,
      "outputs": []
    },
    {
      "cell_type": "code",
      "source": [
        "# 6 points\n",
        "grader.grade(test_case_id = 'check_logistic_with_reg', answer = (test_area_l1, test_area_l2, test_area_elastic))"
      ],
      "metadata": {
        "id": "DurugFakXe-P",
        "colab": {
          "base_uri": "https://localhost:8080/"
        },
        "outputId": "931b8bde-093b-4cf8-8f03-14ad88e9edc2"
      },
      "execution_count": 71,
      "outputs": [
        {
          "output_type": "stream",
          "name": "stdout",
          "text": [
            "Correct! You earned 6/6 points. You are a star!\n",
            "\n",
            "Your submission has been successfully recorded in the gradebook.\n"
          ]
        }
      ]
    },
    {
      "cell_type": "markdown",
      "metadata": {
        "id": "EMfnmzDZcKPE"
      },
      "source": [
        "## **2.4** Random Forest\n",
        "\n",
        "If you are looking to win Kaggle competitions, you definitely must know about Random Forests, Boosted Trees, etc. These ensemble methods generalize and work surprisingly well for a lot of classification problems and sometimes for regression problems (though regression trees are not the focus of this course).\n",
        "\n",
        "Let's give it a go. Similar to what you did for the Logistic Regression model, create a Random Forest classifier model and fit it to the training data."
      ]
    },
    {
      "cell_type": "code",
      "execution_count": 74,
      "metadata": {
        "id": "aq20dW0XcKPF"
      },
      "outputs": [],
      "source": [
        "from pyspark.ml.classification import RandomForestClassifier\n",
        "from pyspark.ml.feature import StringIndexer\n",
        "\n",
        "# TO-DO: Instantiate and fit RF Model to training data\n",
        "rf = RandomForestClassifier(featuresCol = \"features\",\n",
        "                            labelCol = \"above_average\", \n",
        "                            maxDepth = 5, \n",
        "                            numTrees = 20)\n",
        "rf = rf.fit(train_sdf)"
      ]
    },
    {
      "cell_type": "markdown",
      "source": [
        "This time, get predictions on both the training and testing sets."
      ],
      "metadata": {
        "id": "smJ9cPBl2L8z"
      }
    },
    {
      "cell_type": "code",
      "source": [
        "# TO-DO: Get predictions and save to \"train_pred\" and \"test_pred\" respectively\n",
        "train_pred = rf.transform(train_sdf)\n",
        "test_pred = rf.transform(test_sdf)"
      ],
      "metadata": {
        "id": "yVUZZk0TntjC"
      },
      "execution_count": 75,
      "outputs": []
    },
    {
      "cell_type": "markdown",
      "source": [
        "Evaluate only using the Area Under the ROC Curve (AUC ROC) metric this time."
      ],
      "metadata": {
        "id": "hYXCM7gG2ywa"
      }
    },
    {
      "cell_type": "code",
      "source": [
        "# TO-DO: Evaluate predictions using AUC ROC for both train and test\n",
        "#        and call these \"train_area\" and \"test_area\" respectively\n",
        "evaluator = BinaryClassificationEvaluator(rawPredictionCol='prediction', labelCol='above_average')\n",
        "\n",
        "train_area = evaluator.evaluate(train_pred,\n",
        "                                {evaluator.metricName: \"areaUnderROC\"})\n",
        "\n",
        "test_area = evaluator.evaluate(test_pred,\n",
        "                                {evaluator.metricName: \"areaUnderROC\"})"
      ],
      "metadata": {
        "id": "ryve4Jrgny2p"
      },
      "execution_count": 76,
      "outputs": []
    },
    {
      "cell_type": "code",
      "source": [
        "# 8 points\n",
        "grader.grade(test_case_id = 'check_random_forest', answer = (train_area, test_area))"
      ],
      "metadata": {
        "id": "7Imj7A8En4ny",
        "colab": {
          "base_uri": "https://localhost:8080/"
        },
        "outputId": "de45f9a5-54b1-49af-edb4-62ca0adc7b6b"
      },
      "execution_count": 77,
      "outputs": [
        {
          "output_type": "stream",
          "name": "stdout",
          "text": [
            "Correct! You earned 8/8 points. You are a star!\n",
            "\n",
            "Your submission has been successfully recorded in the gradebook.\n"
          ]
        }
      ]
    },
    {
      "cell_type": "markdown",
      "source": [
        "##**2.5** Dimensionality Reduction Using PCA\n",
        "\n",
        "We will again use the powerful PCA to reduce the dimensions and project the data onto a lower dimensional space and fit a logistic regression on the new projected data.\n",
        "\n",
        "You will need to choose a new appropriate value for the number of dimensions.\n",
        "\n",
        "_Steps for this section:_\n",
        "1.   Initialize a PCA model with the appropriate number of dimensions.\n",
        "2.   Fit the model using the training data\n",
        "3.   Get the PCA features from the trained model\n",
        "4.   Train a Logistic Regression model using the PCA features\n",
        "5.   Evaluate the performance on the test set using the Area Under the ROC Curve (AUC ROC) metric"
      ],
      "metadata": {
        "id": "Iveni93tn9hi"
      }
    },
    {
      "cell_type": "code",
      "source": [
        "from pyspark.ml.feature import PCA\n",
        "from pyspark.ml.feature import StandardScaler\n",
        "\n",
        "# TO-DO:\n",
        "# scale data\n",
        "scaler = StandardScaler(inputCol=\"features\", outputCol=\"scaledFeatures\", withStd=True, withMean=False)\n",
        "pipeline = Pipeline(stages=[scaler])\n",
        "\n",
        "scaler_fit  = pipeline.fit(train_sdf)\n",
        "scaled_train_sdf = scaler_fit.transform(train_sdf)\n",
        "scaled_test_sdf = scaler_fit.transform(test_sdf)"
      ],
      "metadata": {
        "id": "Td_SnRHYoKuO"
      },
      "execution_count": 82,
      "outputs": []
    },
    {
      "cell_type": "code",
      "source": [
        "# explore number of dimensions\n",
        "pca = PCA(k=17, inputCol='scaledFeatures', outputCol='Main component')\n",
        "pca = pca.fit(scaled_train_sdf)\n",
        "\n",
        "# plot\n",
        "# Initialize figure/axes\n",
        "fig, ax = plt.subplots(figsize=(8,6))\n",
        "\n",
        "# Plot\n",
        "plt.plot(np.arange(1, 18), np.cumsum(pca.explainedVariance))\n",
        "plt.plot(np.arange(1,18), [0.95]*17)\n",
        "\n",
        "# Set format\n",
        "ax.set_title(\"Cumulative Explained Variance Ratios and the Line for 0.95 variance\",\n",
        "             fontdict= { 'fontsize': 12, 'fontweight':'bold'},\n",
        "             y =1.05)\n",
        "ax.set_xlabel(\"Number of components\")\n",
        "ax.set_ylabel(\"Variance ratio\")\n",
        "ax.legend(['Cumulative explained variance ratios', '0.95 variance'])\n",
        "plt.show()"
      ],
      "metadata": {
        "colab": {
          "base_uri": "https://localhost:8080/",
          "height": 420
        },
        "id": "R2PR3HscJPNv",
        "outputId": "9909d609-07d9-414b-dbca-c988f4ddc58e"
      },
      "execution_count": 83,
      "outputs": [
        {
          "output_type": "display_data",
          "data": {
            "text/plain": [
              "<Figure size 576x432 with 1 Axes>"
            ],
            "image/png": "[encoded data removed]"
          },
          "metadata": {
            "needs_background": "light"
          }
        }
      ]
    },
    {
      "cell_type": "code",
      "source": [
        "# Fit the model using the training data\n",
        "final_pca = PCA(k=13, inputCol='scaledFeatures', outputCol='Main component')\n",
        "final_pca = final_pca.fit(scaled_train_sdf)\n",
        "\n",
        "#Get the PCA features from the trained model\n",
        "pca_train_sdf = final_pca.transform(scaled_train_sdf)\n",
        "pca_test_sdf = final_pca.transform(scaled_test_sdf)"
      ],
      "metadata": {
        "id": "tRqKP2ypJzfH"
      },
      "execution_count": 84,
      "outputs": []
    },
    {
      "cell_type": "code",
      "source": [
        "# Train a Logistic Regression model using the PCA features\n",
        "pca_log = LogisticRegression(featuresCol = \"Main component\", \n",
        "                             labelCol = \"above_average\").fit(pca_train_sdf)\n",
        "\n",
        "predictions_training_pca = pca_log.transform(pca_train_sdf)\n",
        "predictions_test_pca = pca_log.transform(pca_test_sdf)"
      ],
      "metadata": {
        "id": "K7V27zMgKX44"
      },
      "execution_count": 86,
      "outputs": []
    },
    {
      "cell_type": "code",
      "source": [
        "# TO-DO: Evaluate predictions on train and call this \"training_ROC_area_pca\"\n",
        "training_ROC_area_pca = evaluator.evaluate(predictions_training_pca,\n",
        "                                           {evaluator.metricName: \"areaUnderROC\"})\n",
        "\n",
        "# TO-DO: Evaluate predictions on test and call this \"test_ROC_area_pca\"\n",
        "test_ROC_area_pca = evaluator.evaluate(predictions_test_pca,\n",
        "                                           {evaluator.metricName: \"areaUnderROC\"})"
      ],
      "metadata": {
        "id": "AMv1Cw2Wo25C"
      },
      "execution_count": 87,
      "outputs": []
    },
    {
      "cell_type": "code",
      "source": [
        "# 8 points\n",
        "grader.grade(test_case_id = 'check_pca', answer = (training_ROC_area_pca, test_ROC_area_pca))"
      ],
      "metadata": {
        "id": "Y4rkfgDzpIBz",
        "colab": {
          "base_uri": "https://localhost:8080/"
        },
        "outputId": "77041239-db01-4e8e-fa51-972eb61b4643"
      },
      "execution_count": 88,
      "outputs": [
        {
          "output_type": "stream",
          "name": "stdout",
          "text": [
            "Correct! You earned 8/8 points. You are a star!\n",
            "\n",
            "Your submission has been successfully recorded in the gradebook.\n"
          ]
        }
      ]
    },
    {
      "cell_type": "markdown",
      "source": [
        "# Homework Submission\n",
        "\n",
        "Good job! You finished the homework :) The submission instructions are as follows:\n",
        "\n",
        "* **Double check** that you have the correct PennID (all numbers) in the autograder. \n",
        "\n",
        "* **Triple check** that you have all plots shown in this Colab notebook before submitting (otherwise subject to a **penalty of -3 points**)\n",
        "\n",
        "*  Go to the \"File\" tab at the top left, and click \"Download .ipynb\" and then \"Download .py\".  **Rename** the files to \"homework4.ipynb\" and \"homework4.py\" respectively and upload them to Gradescope.\n",
        "\n",
        "* You must submit your notebook to receive credit. Post any issues with submission on Piazza and make sure to keep in mind the late day policy.\n",
        "\n",
        "* We will do a manual round of grading to sanity check that the stuff you have .\n"
      ],
      "metadata": {
        "id": "oQNYaTMspbWT"
      }
    }
  ],
  "metadata": {
    "kernelspec": {
      "display_name": "Python 3",
      "language": "python",
      "name": "python3"
    },
    "language_info": {
      "codemirror_mode": {
        "name": "ipython",
        "version": 3
      },
      "file_extension": ".py",
      "mimetype": "text/x-python",
      "name": "python",
      "nbconvert_exporter": "python",
      "pygments_lexer": "ipython3",
      "version": "3.7.1"
    },
    "colab": {
      "name": "Copy of Homework 4 Spring 2022.ipynb",
      "provenance": [],
      "collapsed_sections": [],
      "toc_visible": true
    }
  },
  "nbformat": 4,
  "nbformat_minor": 0
}