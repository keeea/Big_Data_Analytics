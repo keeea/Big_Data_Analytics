{
  "nbformat": 4,
  "nbformat_minor": 0,
  "metadata": {
    "colab": {
      "name": "Copy of Spring 2022 Homework 2.ipynb",
      "provenance": [],
      "collapsed_sections": [],
      "toc_visible": true
    },
    "kernelspec": {
      "display_name": "Python 3",
      "name": "python3"
    },
    "language_info": {
      "name": "python"
    }
  },
  "cells": [
    {
      "cell_type": "markdown",
      "metadata": {
        "id": "wlv8esDGMj0h"
      },
      "source": [
        "# CIS 545 Homework 2: SQL\n",
        "## Due: Monday, February 21, 2022 by 10pm \n",
        "### Worth 100 points in total\n",
        "\n",
        "Welcome to Homework 2! By now, you should be familiar with the world of data science and the Pandas library. This assignment will focus on broadening both of these horizons by covering hierarchical data, graphs, and traversing relationships as well as a new tool to add to your data science arsenal: SQL.\n",
        "\n",
        "Through this homework, we will familiarize ourselves with SQL (specifically **pandasql**) and explore a dataset that involves movie statistics and reviews courtesy of Rotten Tomatoes. We will finish off the homework with some text analysis.\n",
        "\n",
        "We are introducing a lot of new things in this homework, and it is often where students start to get lost in the data science sauce, so we **strongly** encourage you to review the slides/material as you work through this assignment and will try to link the most relevant sections!\n",
        "\n",
        "**Before you Begin**\n",
        "- Be sure to click \"Copy to Drive\" to make sure you are working on your own personal version of the homework\n",
        "- Read the Piazza and FAQ for updates! If you have been stuck, chances are other students are too! We don't want you to waste away for two hours trying to get that last point on the autograder so do check Piazza for similar struggles or even homework bugs that will be clarified in the FAQ :) "
      ]
    },
    {
      "cell_type": "markdown",
      "metadata": {
        "id": "W0hcZWDcqCUL"
      },
      "source": [
        "## Part 0: Libraries and Set Up Jargon (The usual wall of imports)"
      ]
    },
    {
      "cell_type": "code",
      "metadata": {
        "id": "ylkUtozb2Oc8",
        "colab": {
          "base_uri": "https://localhost:8080/"
        },
        "outputId": "28749798-2934-4885-c2f9-7c4ea6b97e04"
      },
      "source": [
        "!pip3 install penngrader\n",
        "!pip install pandasql"
      ],
      "execution_count": 1,
      "outputs": [
        {
          "output_type": "stream",
          "name": "stdout",
          "text": [
            "Requirement already satisfied: penngrader in /usr/local/lib/python3.7/dist-packages (0.4)\n",
            "Requirement already satisfied: pandasql in /usr/local/lib/python3.7/dist-packages (0.7.3)\n",
            "Requirement already satisfied: numpy in /usr/local/lib/python3.7/dist-packages (from pandasql) (1.21.5)\n",
            "Requirement already satisfied: pandas in /usr/local/lib/python3.7/dist-packages (from pandasql) (1.1.5)\n",
            "Requirement already satisfied: sqlalchemy in /usr/local/lib/python3.7/dist-packages (from pandasql) (1.4.31)\n",
            "Requirement already satisfied: python-dateutil>=2.7.3 in /usr/local/lib/python3.7/dist-packages (from pandas->pandasql) (2.8.2)\n",
            "Requirement already satisfied: pytz>=2017.2 in /usr/local/lib/python3.7/dist-packages (from pandas->pandasql) (2018.9)\n",
            "Requirement already satisfied: six>=1.5 in /usr/local/lib/python3.7/dist-packages (from python-dateutil>=2.7.3->pandas->pandasql) (1.15.0)\n",
            "Requirement already satisfied: greenlet!=0.4.17 in /usr/local/lib/python3.7/dist-packages (from sqlalchemy->pandasql) (1.1.2)\n",
            "Requirement already satisfied: importlib-metadata in /usr/local/lib/python3.7/dist-packages (from sqlalchemy->pandasql) (4.11.0)\n",
            "Requirement already satisfied: zipp>=0.5 in /usr/local/lib/python3.7/dist-packages (from importlib-metadata->sqlalchemy->pandasql) (3.7.0)\n",
            "Requirement already satisfied: typing-extensions>=3.6.4 in /usr/local/lib/python3.7/dist-packages (from importlib-metadata->sqlalchemy->pandasql) (3.10.0.2)\n"
          ]
        }
      ]
    },
    {
      "cell_type": "code",
      "source": [
        "!pip install pandas==1.1.5"
      ],
      "metadata": {
        "id": "goglom5eSRPk",
        "colab": {
          "base_uri": "https://localhost:8080/"
        },
        "outputId": "55f13773-b51f-4e96-8c7f-b87e84ee8b87"
      },
      "execution_count": 2,
      "outputs": [
        {
          "output_type": "stream",
          "name": "stdout",
          "text": [
            "Requirement already satisfied: pandas==1.1.5 in /usr/local/lib/python3.7/dist-packages (1.1.5)\n",
            "Requirement already satisfied: numpy>=1.15.4 in /usr/local/lib/python3.7/dist-packages (from pandas==1.1.5) (1.21.5)\n",
            "Requirement already satisfied: python-dateutil>=2.7.3 in /usr/local/lib/python3.7/dist-packages (from pandas==1.1.5) (2.8.2)\n",
            "Requirement already satisfied: pytz>=2017.2 in /usr/local/lib/python3.7/dist-packages (from pandas==1.1.5) (2018.9)\n",
            "Requirement already satisfied: six>=1.5 in /usr/local/lib/python3.7/dist-packages (from python-dateutil>=2.7.3->pandas==1.1.5) (1.15.0)\n"
          ]
        }
      ]
    },
    {
      "cell_type": "code",
      "metadata": {
        "id": "LAXVD0Lo454x",
        "colab": {
          "base_uri": "https://localhost:8080/"
        },
        "outputId": "3e29d62c-8a38-433c-a8de-9c60eec41987"
      },
      "source": [
        "from penngrader.grader import *\n",
        "import pandas as pd\n",
        "import datetime as dt\n",
        "import re\n",
        "import pandasql as ps #SQL on Pandas Dataframe\n",
        "import nltk\n",
        "nltk.download('punkt')\n",
        "\n",
        "from wordcloud import WordCloud\n",
        "import matplotlib.pyplot as plt \n",
        "from collections import Counter\n",
        "import random"
      ],
      "execution_count": 3,
      "outputs": [
        {
          "output_type": "stream",
          "name": "stdout",
          "text": [
            "[nltk_data] Downloading package punkt to /root/nltk_data...\n",
            "[nltk_data]   Package punkt is already up-to-date!\n"
          ]
        }
      ]
    },
    {
      "cell_type": "code",
      "metadata": {
        "id": "LyTldwTj4aY9",
        "colab": {
          "base_uri": "https://localhost:8080/"
        },
        "outputId": "bbaa1d45-462b-43da-ebdf-720b5e5f7f34"
      },
      "source": [
        "# Three datasets we're using\n",
        "! wget -nc https://storage.googleapis.com/penn-cis545/rotten_tomatoes_movies.csv\n",
        "! wget -nc https://storage.googleapis.com/penn-cis545/rotten_tomatoes_critic_reviews.csv\n",
        "! wget -nc https://storage.googleapis.com/penn-cis545/MoviesOnStreamingPlatforms.csv"
      ],
      "execution_count": 4,
      "outputs": [
        {
          "output_type": "stream",
          "name": "stdout",
          "text": [
            "File ‘rotten_tomatoes_movies.csv’ already there; not retrieving.\n",
            "\n",
            "File ‘rotten_tomatoes_critic_reviews.csv’ already there; not retrieving.\n",
            "\n",
            "File ‘MoviesOnStreamingPlatforms.csv’ already there; not retrieving.\n",
            "\n"
          ]
        }
      ]
    },
    {
      "cell_type": "code",
      "metadata": {
        "id": "b5NogkmdhhQ7",
        "colab": {
          "base_uri": "https://localhost:8080/"
        },
        "outputId": "963962ea-1921-4df8-ea33-2b71a66ea6b9"
      },
      "source": [
        "print(pd.__version__)\n",
        "# Make sure it's 1.1.5"
      ],
      "execution_count": 5,
      "outputs": [
        {
          "output_type": "stream",
          "name": "stdout",
          "text": [
            "1.1.5\n"
          ]
        }
      ]
    },
    {
      "cell_type": "markdown",
      "metadata": {
        "id": "TeyWoMn6pxSC"
      },
      "source": [
        "### PennGrader Setup"
      ]
    },
    {
      "cell_type": "code",
      "metadata": {
        "id": "4ds2HHSkpvBO"
      },
      "source": [
        "# PLEASE ENSURE YOUR PENN-ID IS ENTERED CORRECTLY. IF NOT, THE AUTOGRADER WON'T KNOW \n",
        "# TO ASSIGN POINTS TO YOU IN OUR BACKEND\n",
        "STUDENT_ID = 83510311\n",
        "# YOUR PENN-ID GOES HERE AS AN INTEGER #"
      ],
      "execution_count": 6,
      "outputs": []
    },
    {
      "cell_type": "code",
      "metadata": {
        "id": "vAsLYJGotKbO",
        "colab": {
          "base_uri": "https://localhost:8080/"
        },
        "outputId": "1284efc3-c525-4e9b-de47-ffd1984b9168"
      },
      "source": [
        "grader = PennGrader(homework_id = 'CIS545_Spring_2022_HW2', student_id = STUDENT_ID)"
      ],
      "execution_count": 7,
      "outputs": [
        {
          "output_type": "stream",
          "name": "stdout",
          "text": [
            "PennGrader initialized with Student ID: 83510311\n",
            "\n",
            "Make sure this correct or we will not be able to store your grade\n"
          ]
        }
      ]
    },
    {
      "cell_type": "markdown",
      "metadata": {
        "id": "VzZ6JNnKLplQ"
      },
      "source": [
        "\n",
        "\n",
        "# Section 1: Welcome to the movies!\n",
        "\n",
        "<br>\n",
        "<center><img src = \"https://upload.wikimedia.org/wikipedia/commons/thumb/6/6f/Rotten_Tomatoes_logo.svg/2880px-Rotten_Tomatoes_logo.svg.png\" width= \"500\" align =\"center\"/></center>\n",
        "<br>\n",
        "\n",
        "I'm sure everyone has looked on the internet at some point in their lives for reviews, whether it be for products, locations, or services. Reviews are important because they give us knowledge about how good (or bad) the reviewed item was, at least in the past. Rotten Tomatoes contains one of the most comprehensive databases of movie/TV show reviews. Its name comes from how audience members in the past tended to throw rotten tomatoes when they disliked a stage performance. Formed in 1998 by a bunch of students, it has withstood the test of time, and the rest is history... that you can read about yourself on [Wikipedia](https://en.wikipedia.org/wiki/Rotten_Tomatoes). \n",
        "\n",
        "\n",
        "In this homework, we'll be exploring some data about movies including:\n",
        "\n",
        "*   Movies: data about movies in the Rotten Tomatoes database.\n",
        "\n",
        "*   Reviews: data about each review that was posted on Rotten Tomatoes.\n",
        "\n",
        "*   Streamed movies: data about the movies that are currently available on major streaming platforms. \n",
        "\n",
        "\n",
        "We'll be parsing this data into dataframes and relations, and then exploring how to query and assemble the tables into results. We will primarily be using PandaSQL, but for some of the initial questions, we will ask you to perform the same operations in Pandas as well, so as to familiarize you with the differences and similarities of the two. `"
      ]
    },
    {
      "cell_type": "markdown",
      "metadata": {
        "id": "oENmSeFkFRCo"
      },
      "source": [
        "## Part 1: Load & Process our Datasets [9 points total]\n",
        "\n",
        "Before we get into the data, we first need to load and clean our datasets. \n",
        "\n",
        "**TODO**:\n",
        "* Load and save the `rotten_tomatoes_movies.csv` to a dataframe called `movies_df`.\n",
        "* Load and save the `rotten_tomatoes_critic_reviews.csv` to a dataframe called `reviews_df`.\n",
        "* Load and save the `MoviesOnStreamingPlatforms.csv` to a dataframe called `streaming_df` without the index column being included."
      ]
    },
    {
      "cell_type": "code",
      "metadata": {
        "id": "zfMn38A25Vt8"
      },
      "source": [
        "# TODO: Import the datasets to pandas dataframes -- make sure the dataframes are named correctly! \n",
        "movies_df = pd.read_csv('rotten_tomatoes_movies.csv')"
      ],
      "execution_count": 8,
      "outputs": []
    },
    {
      "cell_type": "code",
      "metadata": {
        "id": "6LLY5EEmNxnr"
      },
      "source": [
        "# view movies_df to make sure the import was successful\n",
        "reviews_df = pd.read_csv('rotten_tomatoes_critic_reviews.csv')"
      ],
      "execution_count": 9,
      "outputs": []
    },
    {
      "cell_type": "code",
      "metadata": {
        "id": "Py_XvfZiNzXx"
      },
      "source": [
        "# view reviews_df to make sure the import was successful\n",
        "streaming_df = pd.read_csv('MoviesOnStreamingPlatforms.csv')"
      ],
      "execution_count": 10,
      "outputs": []
    },
    {
      "cell_type": "code",
      "source": [
        "# view streaming_df to make sure the import was successful\n",
        "streaming_df.head()"
      ],
      "metadata": {
        "id": "hZJwhz1lx4ZV",
        "colab": {
          "base_uri": "https://localhost:8080/",
          "height": 250
        },
        "outputId": "15aa45ab-7432-44e4-bb7c-a84b2ff90f54"
      },
      "execution_count": 11,
      "outputs": [
        {
          "output_type": "execute_result",
          "data": {
            "text/html": [
              "\n",
              "  <div id=\"df-dcc95007-62fd-42ed-b5a7-44465de2070c\">\n",
              "    <div class=\"colab-df-container\">\n",
              "      <div>\n",
              "<style scoped>\n",
              "    .dataframe tbody tr th:only-of-type {\n",
              "        vertical-align: middle;\n",
              "    }\n",
              "\n",
              "    .dataframe tbody tr th {\n",
              "        vertical-align: top;\n",
              "    }\n",
              "\n",
              "    .dataframe thead th {\n",
              "        text-align: right;\n",
              "    }\n",
              "</style>\n",
              "<table border=\"1\" class=\"dataframe\">\n",
              "  <thead>\n",
              "    <tr style=\"text-align: right;\">\n",
              "      <th></th>\n",
              "      <th>Unnamed: 0</th>\n",
              "      <th>ID</th>\n",
              "      <th>Title</th>\n",
              "      <th>Year</th>\n",
              "      <th>Age</th>\n",
              "      <th>Rotten Tomatoes</th>\n",
              "      <th>Netflix</th>\n",
              "      <th>Hulu</th>\n",
              "      <th>Prime Video</th>\n",
              "      <th>Disney+</th>\n",
              "      <th>Type</th>\n",
              "    </tr>\n",
              "  </thead>\n",
              "  <tbody>\n",
              "    <tr>\n",
              "      <th>0</th>\n",
              "      <td>0</td>\n",
              "      <td>1</td>\n",
              "      <td>The Irishman</td>\n",
              "      <td>2019</td>\n",
              "      <td>18+</td>\n",
              "      <td>98/100</td>\n",
              "      <td>1</td>\n",
              "      <td>0</td>\n",
              "      <td>0</td>\n",
              "      <td>0</td>\n",
              "      <td>0</td>\n",
              "    </tr>\n",
              "    <tr>\n",
              "      <th>1</th>\n",
              "      <td>1</td>\n",
              "      <td>2</td>\n",
              "      <td>Dangal</td>\n",
              "      <td>2016</td>\n",
              "      <td>7+</td>\n",
              "      <td>97/100</td>\n",
              "      <td>1</td>\n",
              "      <td>0</td>\n",
              "      <td>0</td>\n",
              "      <td>0</td>\n",
              "      <td>0</td>\n",
              "    </tr>\n",
              "    <tr>\n",
              "      <th>2</th>\n",
              "      <td>2</td>\n",
              "      <td>3</td>\n",
              "      <td>David Attenborough: A Life on Our Planet</td>\n",
              "      <td>2020</td>\n",
              "      <td>7+</td>\n",
              "      <td>95/100</td>\n",
              "      <td>1</td>\n",
              "      <td>0</td>\n",
              "      <td>0</td>\n",
              "      <td>0</td>\n",
              "      <td>0</td>\n",
              "    </tr>\n",
              "    <tr>\n",
              "      <th>3</th>\n",
              "      <td>3</td>\n",
              "      <td>4</td>\n",
              "      <td>Lagaan: Once Upon a Time in India</td>\n",
              "      <td>2001</td>\n",
              "      <td>7+</td>\n",
              "      <td>94/100</td>\n",
              "      <td>1</td>\n",
              "      <td>0</td>\n",
              "      <td>0</td>\n",
              "      <td>0</td>\n",
              "      <td>0</td>\n",
              "    </tr>\n",
              "    <tr>\n",
              "      <th>4</th>\n",
              "      <td>4</td>\n",
              "      <td>5</td>\n",
              "      <td>Roma</td>\n",
              "      <td>2018</td>\n",
              "      <td>18+</td>\n",
              "      <td>94/100</td>\n",
              "      <td>1</td>\n",
              "      <td>0</td>\n",
              "      <td>0</td>\n",
              "      <td>0</td>\n",
              "      <td>0</td>\n",
              "    </tr>\n",
              "  </tbody>\n",
              "</table>\n",
              "</div>\n",
              "      <button class=\"colab-df-convert\" onclick=\"convertToInteractive('df-dcc95007-62fd-42ed-b5a7-44465de2070c')\"\n",
              "              title=\"Convert this dataframe to an interactive table.\"\n",
              "              style=\"display:none;\">\n",
              "        \n",
              "  <svg xmlns=\"http://www.w3.org/2000/svg\" height=\"24px\"viewBox=\"0 0 24 24\"\n",
              "       width=\"24px\">\n",
              "    <path d=\"M0 0h24v24H0V0z\" fill=\"none\"/>\n",
              "    <path d=\"M18.56 5.44l.94 2.06.94-2.06 2.06-.94-2.06-.94-.94-2.06-.94 2.06-2.06.94zm-11 1L8.5 8.5l.94-2.06 2.06-.94-2.06-.94L8.5 2.5l-.94 2.06-2.06.94zm10 10l.94 2.06.94-2.06 2.06-.94-2.06-.94-.94-2.06-.94 2.06-2.06.94z\"/><path d=\"M17.41 7.96l-1.37-1.37c-.4-.4-.92-.59-1.43-.59-.52 0-1.04.2-1.43.59L10.3 9.45l-7.72 7.72c-.78.78-.78 2.05 0 2.83L4 21.41c.39.39.9.59 1.41.59.51 0 1.02-.2 1.41-.59l7.78-7.78 2.81-2.81c.8-.78.8-2.07 0-2.86zM5.41 20L4 18.59l7.72-7.72 1.47 1.35L5.41 20z\"/>\n",
              "  </svg>\n",
              "      </button>\n",
              "      \n",
              "  <style>\n",
              "    .colab-df-container {\n",
              "      display:flex;\n",
              "      flex-wrap:wrap;\n",
              "      gap: 12px;\n",
              "    }\n",
              "\n",
              "    .colab-df-convert {\n",
              "      background-color: #E8F0FE;\n",
              "      border: none;\n",
              "      border-radius: 50%;\n",
              "      cursor: pointer;\n",
              "      display: none;\n",
              "      fill: #1967D2;\n",
              "      height: 32px;\n",
              "      padding: 0 0 0 0;\n",
              "      width: 32px;\n",
              "    }\n",
              "\n",
              "    .colab-df-convert:hover {\n",
              "      background-color: #E2EBFA;\n",
              "      box-shadow: 0px 1px 2px rgba(60, 64, 67, 0.3), 0px 1px 3px 1px rgba(60, 64, 67, 0.15);\n",
              "      fill: #174EA6;\n",
              "    }\n",
              "\n",
              "    [theme=dark] .colab-df-convert {\n",
              "      background-color: #3B4455;\n",
              "      fill: #D2E3FC;\n",
              "    }\n",
              "\n",
              "    [theme=dark] .colab-df-convert:hover {\n",
              "      background-color: #434B5C;\n",
              "      box-shadow: 0px 1px 3px 1px rgba(0, 0, 0, 0.15);\n",
              "      filter: drop-shadow(0px 1px 2px rgba(0, 0, 0, 0.3));\n",
              "      fill: #FFFFFF;\n",
              "    }\n",
              "  </style>\n",
              "\n",
              "      <script>\n",
              "        const buttonEl =\n",
              "          document.querySelector('#df-dcc95007-62fd-42ed-b5a7-44465de2070c button.colab-df-convert');\n",
              "        buttonEl.style.display =\n",
              "          google.colab.kernel.accessAllowed ? 'block' : 'none';\n",
              "\n",
              "        async function convertToInteractive(key) {\n",
              "          const element = document.querySelector('#df-dcc95007-62fd-42ed-b5a7-44465de2070c');\n",
              "          const dataTable =\n",
              "            await google.colab.kernel.invokeFunction('convertToInteractive',\n",
              "                                                     [key], {});\n",
              "          if (!dataTable) return;\n",
              "\n",
              "          const docLinkHtml = 'Like what you see? Visit the ' +\n",
              "            '<a target=\"_blank\" href=https://colab.research.google.com/notebooks/data_table.ipynb>data table notebook</a>'\n",
              "            + ' to learn more about interactive tables.';\n",
              "          element.innerHTML = '';\n",
              "          dataTable['output_type'] = 'display_data';\n",
              "          await google.colab.output.renderOutput(dataTable, element);\n",
              "          const docLink = document.createElement('div');\n",
              "          docLink.innerHTML = docLinkHtml;\n",
              "          element.appendChild(docLink);\n",
              "        }\n",
              "      </script>\n",
              "    </div>\n",
              "  </div>\n",
              "  "
            ],
            "text/plain": [
              "   Unnamed: 0  ID  ... Disney+  Type\n",
              "0           0   1  ...       0     0\n",
              "1           1   2  ...       0     0\n",
              "2           2   3  ...       0     0\n",
              "3           3   4  ...       0     0\n",
              "4           4   5  ...       0     0\n",
              "\n",
              "[5 rows x 11 columns]"
            ]
          },
          "metadata": {},
          "execution_count": 11
        }
      ]
    },
    {
      "cell_type": "markdown",
      "metadata": {
        "id": "CPitr7eRJfO0"
      },
      "source": [
        "### 1.1 Data Preprocessing\n",
        "\n",
        "Next, we are going to want to clean up our dataframes, namely `movies_df` and `reviews_df`, by 1) fixing column names, 2) changing datatypes, 3) cleaning text, and 4) handling nulls.\n",
        "\n",
        "First, let us view the first few rows of `movies_df`. You may also call `.info()` to view the specifics of the dataframe. This is a good first step to take for Exploratory Data Analysis (EDA)."
      ]
    },
    {
      "cell_type": "code",
      "source": [
        "movies_df.head(n=1)"
      ],
      "metadata": {
        "colab": {
          "base_uri": "https://localhost:8080/",
          "height": 249
        },
        "id": "O-LFYnyb_3Ur",
        "outputId": "d59be9f2-2067-4f70-8e64-913c5854b594"
      },
      "execution_count": 12,
      "outputs": [
        {
          "output_type": "execute_result",
          "data": {
            "text/html": [
              "\n",
              "  <div id=\"df-e438c428-4763-4643-ae91-1af3d664dd1d\">\n",
              "    <div class=\"colab-df-container\">\n",
              "      <div>\n",
              "<style scoped>\n",
              "    .dataframe tbody tr th:only-of-type {\n",
              "        vertical-align: middle;\n",
              "    }\n",
              "\n",
              "    .dataframe tbody tr th {\n",
              "        vertical-align: top;\n",
              "    }\n",
              "\n",
              "    .dataframe thead th {\n",
              "        text-align: right;\n",
              "    }\n",
              "</style>\n",
              "<table border=\"1\" class=\"dataframe\">\n",
              "  <thead>\n",
              "    <tr style=\"text-align: right;\">\n",
              "      <th></th>\n",
              "      <th>rotten_tomatoes_link</th>\n",
              "      <th>movie_title</th>\n",
              "      <th>movie_info</th>\n",
              "      <th>critics_consensus</th>\n",
              "      <th>content_rating</th>\n",
              "      <th>genres</th>\n",
              "      <th>directors</th>\n",
              "      <th>authors</th>\n",
              "      <th>actors</th>\n",
              "      <th>original_release_date</th>\n",
              "      <th>streaming_release_date</th>\n",
              "      <th>runtime</th>\n",
              "      <th>production_company</th>\n",
              "      <th>tomatometer_status</th>\n",
              "      <th>tomatometer_rating</th>\n",
              "      <th>tomatometer_count</th>\n",
              "      <th>audience_status</th>\n",
              "      <th>audience_rating</th>\n",
              "      <th>audience_count</th>\n",
              "      <th>tomatometer_fresh_critics_count</th>\n",
              "      <th>tomatometer_rotten_critics_count</th>\n",
              "    </tr>\n",
              "  </thead>\n",
              "  <tbody>\n",
              "    <tr>\n",
              "      <th>0</th>\n",
              "      <td>m/0814255</td>\n",
              "      <td>Percy Jackson &amp; the Olympians: The Lightning T...</td>\n",
              "      <td>Always trouble-prone, the life of teenager Per...</td>\n",
              "      <td>Though it may seem like just another Harry Pot...</td>\n",
              "      <td>PG</td>\n",
              "      <td>Action &amp; Adventure, Comedy, Drama, Science Fic...</td>\n",
              "      <td>Chris Columbus</td>\n",
              "      <td>Craig Titley, Chris Columbus, Rick Riordan</td>\n",
              "      <td>Logan Lerman, Brandon T. Jackson, Alexandra Da...</td>\n",
              "      <td>2010-02-12</td>\n",
              "      <td>2015-11-25</td>\n",
              "      <td>119.0</td>\n",
              "      <td>20th Century Fox</td>\n",
              "      <td>Rotten</td>\n",
              "      <td>49.0</td>\n",
              "      <td>149.0</td>\n",
              "      <td>Spilled</td>\n",
              "      <td>53.0</td>\n",
              "      <td>254421.0</td>\n",
              "      <td>73</td>\n",
              "      <td>76</td>\n",
              "    </tr>\n",
              "  </tbody>\n",
              "</table>\n",
              "</div>\n",
              "      <button class=\"colab-df-convert\" onclick=\"convertToInteractive('df-e438c428-4763-4643-ae91-1af3d664dd1d')\"\n",
              "              title=\"Convert this dataframe to an interactive table.\"\n",
              "              style=\"display:none;\">\n",
              "        \n",
              "  <svg xmlns=\"http://www.w3.org/2000/svg\" height=\"24px\"viewBox=\"0 0 24 24\"\n",
              "       width=\"24px\">\n",
              "    <path d=\"M0 0h24v24H0V0z\" fill=\"none\"/>\n",
              "    <path d=\"M18.56 5.44l.94 2.06.94-2.06 2.06-.94-2.06-.94-.94-2.06-.94 2.06-2.06.94zm-11 1L8.5 8.5l.94-2.06 2.06-.94-2.06-.94L8.5 2.5l-.94 2.06-2.06.94zm10 10l.94 2.06.94-2.06 2.06-.94-2.06-.94-.94-2.06-.94 2.06-2.06.94z\"/><path d=\"M17.41 7.96l-1.37-1.37c-.4-.4-.92-.59-1.43-.59-.52 0-1.04.2-1.43.59L10.3 9.45l-7.72 7.72c-.78.78-.78 2.05 0 2.83L4 21.41c.39.39.9.59 1.41.59.51 0 1.02-.2 1.41-.59l7.78-7.78 2.81-2.81c.8-.78.8-2.07 0-2.86zM5.41 20L4 18.59l7.72-7.72 1.47 1.35L5.41 20z\"/>\n",
              "  </svg>\n",
              "      </button>\n",
              "      \n",
              "  <style>\n",
              "    .colab-df-container {\n",
              "      display:flex;\n",
              "      flex-wrap:wrap;\n",
              "      gap: 12px;\n",
              "    }\n",
              "\n",
              "    .colab-df-convert {\n",
              "      background-color: #E8F0FE;\n",
              "      border: none;\n",
              "      border-radius: 50%;\n",
              "      cursor: pointer;\n",
              "      display: none;\n",
              "      fill: #1967D2;\n",
              "      height: 32px;\n",
              "      padding: 0 0 0 0;\n",
              "      width: 32px;\n",
              "    }\n",
              "\n",
              "    .colab-df-convert:hover {\n",
              "      background-color: #E2EBFA;\n",
              "      box-shadow: 0px 1px 2px rgba(60, 64, 67, 0.3), 0px 1px 3px 1px rgba(60, 64, 67, 0.15);\n",
              "      fill: #174EA6;\n",
              "    }\n",
              "\n",
              "    [theme=dark] .colab-df-convert {\n",
              "      background-color: #3B4455;\n",
              "      fill: #D2E3FC;\n",
              "    }\n",
              "\n",
              "    [theme=dark] .colab-df-convert:hover {\n",
              "      background-color: #434B5C;\n",
              "      box-shadow: 0px 1px 3px 1px rgba(0, 0, 0, 0.15);\n",
              "      filter: drop-shadow(0px 1px 2px rgba(0, 0, 0, 0.3));\n",
              "      fill: #FFFFFF;\n",
              "    }\n",
              "  </style>\n",
              "\n",
              "      <script>\n",
              "        const buttonEl =\n",
              "          document.querySelector('#df-e438c428-4763-4643-ae91-1af3d664dd1d button.colab-df-convert');\n",
              "        buttonEl.style.display =\n",
              "          google.colab.kernel.accessAllowed ? 'block' : 'none';\n",
              "\n",
              "        async function convertToInteractive(key) {\n",
              "          const element = document.querySelector('#df-e438c428-4763-4643-ae91-1af3d664dd1d');\n",
              "          const dataTable =\n",
              "            await google.colab.kernel.invokeFunction('convertToInteractive',\n",
              "                                                     [key], {});\n",
              "          if (!dataTable) return;\n",
              "\n",
              "          const docLinkHtml = 'Like what you see? Visit the ' +\n",
              "            '<a target=\"_blank\" href=https://colab.research.google.com/notebooks/data_table.ipynb>data table notebook</a>'\n",
              "            + ' to learn more about interactive tables.';\n",
              "          element.innerHTML = '';\n",
              "          dataTable['output_type'] = 'display_data';\n",
              "          await google.colab.output.renderOutput(dataTable, element);\n",
              "          const docLink = document.createElement('div');\n",
              "          docLink.innerHTML = docLinkHtml;\n",
              "          element.appendChild(docLink);\n",
              "        }\n",
              "      </script>\n",
              "    </div>\n",
              "  </div>\n",
              "  "
            ],
            "text/plain": [
              "  rotten_tomatoes_link  ... tomatometer_rotten_critics_count\n",
              "0            m/0814255  ...                               76\n",
              "\n",
              "[1 rows x 21 columns]"
            ]
          },
          "metadata": {},
          "execution_count": 12
        }
      ]
    },
    {
      "cell_type": "code",
      "source": [
        "# view info information regarding movies_df\n",
        "movies_df.info()"
      ],
      "metadata": {
        "id": "2nCrp9Z2SCRD",
        "colab": {
          "base_uri": "https://localhost:8080/"
        },
        "outputId": "097c8d5d-1d8a-40b7-8a86-26cdb25acb48"
      },
      "execution_count": 13,
      "outputs": [
        {
          "output_type": "stream",
          "name": "stdout",
          "text": [
            "<class 'pandas.core.frame.DataFrame'>\n",
            "RangeIndex: 17712 entries, 0 to 17711\n",
            "Data columns (total 21 columns):\n",
            " #   Column                            Non-Null Count  Dtype  \n",
            "---  ------                            --------------  -----  \n",
            " 0   rotten_tomatoes_link              17712 non-null  object \n",
            " 1   movie_title                       17712 non-null  object \n",
            " 2   movie_info                        17391 non-null  object \n",
            " 3   critics_consensus                 9134 non-null   object \n",
            " 4   content_rating                    17712 non-null  object \n",
            " 5   genres                            17693 non-null  object \n",
            " 6   directors                         17518 non-null  object \n",
            " 7   authors                           16170 non-null  object \n",
            " 8   actors                            17360 non-null  object \n",
            " 9   original_release_date             16546 non-null  object \n",
            " 10  streaming_release_date            17328 non-null  object \n",
            " 11  runtime                           17398 non-null  float64\n",
            " 12  production_company                17213 non-null  object \n",
            " 13  tomatometer_status                17668 non-null  object \n",
            " 14  tomatometer_rating                17668 non-null  float64\n",
            " 15  tomatometer_count                 17668 non-null  float64\n",
            " 16  audience_status                   17264 non-null  object \n",
            " 17  audience_rating                   17416 non-null  float64\n",
            " 18  audience_count                    17415 non-null  float64\n",
            " 19  tomatometer_fresh_critics_count   17712 non-null  int64  \n",
            " 20  tomatometer_rotten_critics_count  17712 non-null  int64  \n",
            "dtypes: float64(5), int64(2), object(14)\n",
            "memory usage: 2.8+ MB\n"
          ]
        }
      ]
    },
    {
      "cell_type": "markdown",
      "metadata": {
        "id": "c-ukI21sPkYV"
      },
      "source": [
        "#### 1.1.1 Cleaning `movies_df`\n",
        "\n",
        "`.info()` gives us meaningful information regarding columns, their types, and the amount of nulls, based on which we can now clean our dataframe. \n",
        "\n",
        "**TODO**:\n",
        "* Drop the columns `critics_consensus` and `production_company`.\n",
        "* Replace all nulls in the column `genres` with the string `\"No Genre\"`.\n",
        "* Drop all rows that have at least one null.\n",
        "* Cast columns `original_release_date`,`streaming_release_date` to be type `datetime64[ns]`.\n",
        "* Cast columns `runtime`,`tomatometer_count`, `tomatometer_rating`, `audience_count`, and `audience_rating` to be type `int64`."
      ]
    },
    {
      "cell_type": "code",
      "metadata": {
        "id": "cMmQTXV7P4YK"
      },
      "source": [
        "# TODO: clean movies_df\n",
        "movies_df = movies_df.drop(columns = ['critics_consensus', 'production_company'])\n",
        "movies_df['genres'] = movies_df['genres'].fillna(\"No Genre\")\n",
        "movies_df = movies_df.dropna(how = 'any')\n",
        "movies_df['original_release_date'] = movies_df['original_release_date'].apply(pd.to_datetime)\n",
        "movies_df['streaming_release_date'] = movies_df['streaming_release_date'].apply(pd.to_datetime)\n",
        "movies_df[['runtime', 'tomatometer_count', 'tomatometer_rating', 'audience_count', 'audience_rating']] = movies_df[['runtime', 'tomatometer_count', 'tomatometer_rating', 'audience_count', 'audience_rating']].astype('int64')"
      ],
      "execution_count": 14,
      "outputs": []
    },
    {
      "cell_type": "code",
      "metadata": {
        "id": "9SYxGtgOQKLY",
        "colab": {
          "base_uri": "https://localhost:8080/"
        },
        "outputId": "55dd12e8-d353-4cad-8850-88b445646352"
      },
      "source": [
        "# 3 points\n",
        "grader.grade(test_case_id = 'test_cleaning_movies', answer = movies_df.head(1000))"
      ],
      "execution_count": 15,
      "outputs": [
        {
          "output_type": "stream",
          "name": "stdout",
          "text": [
            "Correct! You earned 3/3 points. You are a star!\n",
            "\n",
            "Your submission has been successfully recorded in the gradebook.\n"
          ]
        }
      ]
    },
    {
      "cell_type": "markdown",
      "source": [
        "#### 1.1.2 Processing Genres\n",
        "\n",
        "`movies_df` also contains a `genres` column that represents an exhaustive list of all the genres a particular movie falls under. The comma-separated string format this column is in isn't too useful to us at the moment...\n",
        "\n",
        "**TODO**:\n",
        "- Copy over `movies_df` into a new dataframe called `exploded_movies_df`. \n",
        "- Split the genres listed such that each row contains only one listed genre (if a particular movie has 2 genres, that row will appear twice for each of the genres) - call this column `genre`\n",
        "- Strip the `genre` column of any leading or trailing whitespaces\n",
        "\n",
        "\n",
        "**Hint**: See the `.explode()` and `.strip()` functions"
      ],
      "metadata": {
        "id": "aI_zsI3hNJCf"
      }
    },
    {
      "cell_type": "code",
      "source": [
        "# TODO: create new dataframe and genre column\n",
        "exploded_movies_df = movies_df.copy()\n",
        "exploded_movies_df['genres'] = exploded_movies_df['genres'].str.split(pat=',', expand=False)\n",
        "exploded_movies_df = exploded_movies_df.explode('genres')\n",
        "exploded_movies_df['genres'] = exploded_movies_df['genres'].str.strip()\n",
        "exploded_movies_df = exploded_movies_df.rename(columns={\"genres\":\"genre\"})"
      ],
      "metadata": {
        "id": "ZOfBFzD7NK8i"
      },
      "execution_count": 16,
      "outputs": []
    },
    {
      "cell_type": "code",
      "source": [
        "# 3 points\n",
        "grader.grade(test_case_id = 'test_genre_processing', answer = exploded_movies_df.head(1000))"
      ],
      "metadata": {
        "id": "sKA2_ScM6nWv",
        "colab": {
          "base_uri": "https://localhost:8080/"
        },
        "outputId": "0bca41d1-b7c2-49ee-dbb7-654ea6d9a6ee"
      },
      "execution_count": 17,
      "outputs": [
        {
          "output_type": "stream",
          "name": "stdout",
          "text": [
            "Correct! You earned 3/3 points. You are a star!\n",
            "\n",
            "Your submission has been successfully recorded in the gradebook.\n"
          ]
        }
      ]
    },
    {
      "cell_type": "markdown",
      "metadata": {
        "id": "38JSvyEGCGYN"
      },
      "source": [
        "#### 1.1.3 Cleaning `reviews_df`\n",
        "\n",
        "Then, let's take a look at cleaning `reviews_df`."
      ]
    },
    {
      "cell_type": "code",
      "source": [
        "reviews_df.head(n=1)"
      ],
      "metadata": {
        "colab": {
          "base_uri": "https://localhost:8080/",
          "height": 159
        },
        "id": "5bjmVpiyGdWK",
        "outputId": "187d565b-83aa-4132-8b80-b214f8b2c7ec"
      },
      "execution_count": 18,
      "outputs": [
        {
          "output_type": "execute_result",
          "data": {
            "text/html": [
              "\n",
              "  <div id=\"df-b691ced0-d420-42b7-97be-a306af1e369e\">\n",
              "    <div class=\"colab-df-container\">\n",
              "      <div>\n",
              "<style scoped>\n",
              "    .dataframe tbody tr th:only-of-type {\n",
              "        vertical-align: middle;\n",
              "    }\n",
              "\n",
              "    .dataframe tbody tr th {\n",
              "        vertical-align: top;\n",
              "    }\n",
              "\n",
              "    .dataframe thead th {\n",
              "        text-align: right;\n",
              "    }\n",
              "</style>\n",
              "<table border=\"1\" class=\"dataframe\">\n",
              "  <thead>\n",
              "    <tr style=\"text-align: right;\">\n",
              "      <th></th>\n",
              "      <th>rotten_tomatoes_link</th>\n",
              "      <th>critic_name</th>\n",
              "      <th>top_critic</th>\n",
              "      <th>publisher_name</th>\n",
              "      <th>review_type</th>\n",
              "      <th>review_score</th>\n",
              "      <th>review_date</th>\n",
              "      <th>review_content</th>\n",
              "    </tr>\n",
              "  </thead>\n",
              "  <tbody>\n",
              "    <tr>\n",
              "      <th>0</th>\n",
              "      <td>m/0814255</td>\n",
              "      <td>Andrew L. Urban</td>\n",
              "      <td>False</td>\n",
              "      <td>Urban Cinefile</td>\n",
              "      <td>Fresh</td>\n",
              "      <td>NaN</td>\n",
              "      <td>2010-02-06</td>\n",
              "      <td>A fantasy adventure that fuses Greek mythology...</td>\n",
              "    </tr>\n",
              "  </tbody>\n",
              "</table>\n",
              "</div>\n",
              "      <button class=\"colab-df-convert\" onclick=\"convertToInteractive('df-b691ced0-d420-42b7-97be-a306af1e369e')\"\n",
              "              title=\"Convert this dataframe to an interactive table.\"\n",
              "              style=\"display:none;\">\n",
              "        \n",
              "  <svg xmlns=\"http://www.w3.org/2000/svg\" height=\"24px\"viewBox=\"0 0 24 24\"\n",
              "       width=\"24px\">\n",
              "    <path d=\"M0 0h24v24H0V0z\" fill=\"none\"/>\n",
              "    <path d=\"M18.56 5.44l.94 2.06.94-2.06 2.06-.94-2.06-.94-.94-2.06-.94 2.06-2.06.94zm-11 1L8.5 8.5l.94-2.06 2.06-.94-2.06-.94L8.5 2.5l-.94 2.06-2.06.94zm10 10l.94 2.06.94-2.06 2.06-.94-2.06-.94-.94-2.06-.94 2.06-2.06.94z\"/><path d=\"M17.41 7.96l-1.37-1.37c-.4-.4-.92-.59-1.43-.59-.52 0-1.04.2-1.43.59L10.3 9.45l-7.72 7.72c-.78.78-.78 2.05 0 2.83L4 21.41c.39.39.9.59 1.41.59.51 0 1.02-.2 1.41-.59l7.78-7.78 2.81-2.81c.8-.78.8-2.07 0-2.86zM5.41 20L4 18.59l7.72-7.72 1.47 1.35L5.41 20z\"/>\n",
              "  </svg>\n",
              "      </button>\n",
              "      \n",
              "  <style>\n",
              "    .colab-df-container {\n",
              "      display:flex;\n",
              "      flex-wrap:wrap;\n",
              "      gap: 12px;\n",
              "    }\n",
              "\n",
              "    .colab-df-convert {\n",
              "      background-color: #E8F0FE;\n",
              "      border: none;\n",
              "      border-radius: 50%;\n",
              "      cursor: pointer;\n",
              "      display: none;\n",
              "      fill: #1967D2;\n",
              "      height: 32px;\n",
              "      padding: 0 0 0 0;\n",
              "      width: 32px;\n",
              "    }\n",
              "\n",
              "    .colab-df-convert:hover {\n",
              "      background-color: #E2EBFA;\n",
              "      box-shadow: 0px 1px 2px rgba(60, 64, 67, 0.3), 0px 1px 3px 1px rgba(60, 64, 67, 0.15);\n",
              "      fill: #174EA6;\n",
              "    }\n",
              "\n",
              "    [theme=dark] .colab-df-convert {\n",
              "      background-color: #3B4455;\n",
              "      fill: #D2E3FC;\n",
              "    }\n",
              "\n",
              "    [theme=dark] .colab-df-convert:hover {\n",
              "      background-color: #434B5C;\n",
              "      box-shadow: 0px 1px 3px 1px rgba(0, 0, 0, 0.15);\n",
              "      filter: drop-shadow(0px 1px 2px rgba(0, 0, 0, 0.3));\n",
              "      fill: #FFFFFF;\n",
              "    }\n",
              "  </style>\n",
              "\n",
              "      <script>\n",
              "        const buttonEl =\n",
              "          document.querySelector('#df-b691ced0-d420-42b7-97be-a306af1e369e button.colab-df-convert');\n",
              "        buttonEl.style.display =\n",
              "          google.colab.kernel.accessAllowed ? 'block' : 'none';\n",
              "\n",
              "        async function convertToInteractive(key) {\n",
              "          const element = document.querySelector('#df-b691ced0-d420-42b7-97be-a306af1e369e');\n",
              "          const dataTable =\n",
              "            await google.colab.kernel.invokeFunction('convertToInteractive',\n",
              "                                                     [key], {});\n",
              "          if (!dataTable) return;\n",
              "\n",
              "          const docLinkHtml = 'Like what you see? Visit the ' +\n",
              "            '<a target=\"_blank\" href=https://colab.research.google.com/notebooks/data_table.ipynb>data table notebook</a>'\n",
              "            + ' to learn more about interactive tables.';\n",
              "          element.innerHTML = '';\n",
              "          dataTable['output_type'] = 'display_data';\n",
              "          await google.colab.output.renderOutput(dataTable, element);\n",
              "          const docLink = document.createElement('div');\n",
              "          docLink.innerHTML = docLinkHtml;\n",
              "          element.appendChild(docLink);\n",
              "        }\n",
              "      </script>\n",
              "    </div>\n",
              "  </div>\n",
              "  "
            ],
            "text/plain": [
              "  rotten_tomatoes_link  ...                                     review_content\n",
              "0            m/0814255  ...  A fantasy adventure that fuses Greek mythology...\n",
              "\n",
              "[1 rows x 8 columns]"
            ]
          },
          "metadata": {},
          "execution_count": 18
        }
      ]
    },
    {
      "cell_type": "code",
      "source": [
        "#view info of reviews_df\n",
        "reviews_df.info()"
      ],
      "metadata": {
        "id": "vKv7Gdi_CGYQ",
        "colab": {
          "base_uri": "https://localhost:8080/"
        },
        "outputId": "944386d1-b256-4c63-dba3-8ff75020e241"
      },
      "execution_count": 19,
      "outputs": [
        {
          "output_type": "stream",
          "name": "stdout",
          "text": [
            "<class 'pandas.core.frame.DataFrame'>\n",
            "RangeIndex: 1130017 entries, 0 to 1130016\n",
            "Data columns (total 8 columns):\n",
            " #   Column                Non-Null Count    Dtype \n",
            "---  ------                --------------    ----- \n",
            " 0   rotten_tomatoes_link  1130017 non-null  object\n",
            " 1   critic_name           1111488 non-null  object\n",
            " 2   top_critic            1130017 non-null  bool  \n",
            " 3   publisher_name        1130017 non-null  object\n",
            " 4   review_type           1130017 non-null  object\n",
            " 5   review_score          824081 non-null   object\n",
            " 6   review_date           1130017 non-null  object\n",
            " 7   review_content        1064211 non-null  object\n",
            "dtypes: bool(1), object(7)\n",
            "memory usage: 61.4+ MB\n"
          ]
        }
      ]
    },
    {
      "cell_type": "markdown",
      "metadata": {
        "id": "Cz3Xx84WCGYU"
      },
      "source": [
        "\n",
        "**TODO**:\n",
        "* Drop all rows that have a null value in the column `review_score` or `review_content`.\n",
        "* Replace each null in the `critic_name` column with the string `\"Anonymous\"`.\n",
        "* Convert column `review_date` into type `datetime64[ns]`.\n"
      ]
    },
    {
      "cell_type": "code",
      "metadata": {
        "id": "GfBTqJs3CGYV",
        "colab": {
          "base_uri": "https://localhost:8080/"
        },
        "outputId": "5bb40433-fad3-4949-ecbe-354ad3036782"
      },
      "source": [
        "#TODO: Clean reviews_df\n",
        "reviews_df = reviews_df.dropna(subset=['review_score', 'review_content'], how = 'any')\n",
        "reviews_df['critic_name'] = reviews_df['critic_name'].fillna(\"Anonymous\")\n",
        "reviews_df['review_date'] = reviews_df['review_date'].apply(pd.to_datetime)"
      ],
      "execution_count": 20,
      "outputs": [
        {
          "output_type": "stream",
          "name": "stderr",
          "text": [
            "/usr/local/lib/python3.7/dist-packages/ipykernel_launcher.py:3: SettingWithCopyWarning: \n",
            "A value is trying to be set on a copy of a slice from a DataFrame.\n",
            "Try using .loc[row_indexer,col_indexer] = value instead\n",
            "\n",
            "See the caveats in the documentation: https://pandas.pydata.org/pandas-docs/stable/user_guide/indexing.html#returning-a-view-versus-a-copy\n",
            "  This is separate from the ipykernel package so we can avoid doing imports until\n"
          ]
        }
      ]
    },
    {
      "cell_type": "code",
      "metadata": {
        "id": "PacFnS9JCGYW",
        "colab": {
          "base_uri": "https://localhost:8080/"
        },
        "outputId": "e34dd5f0-f93f-4ef7-dfcd-b0cd02e397ab"
      },
      "source": [
        "# 3 points\n",
        "grader.grade(test_case_id = 'test_cleaning_reviews', answer = reviews_df.head(1000))"
      ],
      "execution_count": 21,
      "outputs": [
        {
          "output_type": "stream",
          "name": "stdout",
          "text": [
            "Correct! You earned 3/3 points. You are a star!\n",
            "\n",
            "Your submission has been successfully recorded in the gradebook.\n"
          ]
        }
      ]
    },
    {
      "cell_type": "markdown",
      "metadata": {
        "id": "kYp9fW_SvG3g"
      },
      "source": [
        "### 1.2 Your Sandbox \n",
        "\n",
        ".info() is just one of many basic tools that you can use for Exploratory Data Analysis (EDA). Instead of throwing you straight into the deep end, we wanted to give you a chance to take some time and explore the data on your own. **This section is not graded**, so for the speedrunners out there feel free to just jump in, but we wanted to at least give you a small space to utilize your EDA toolkit to familiarize yourself with all the data you just downloaded.\n",
        "\n",
        "Some suggestions to get you started:\n",
        "- `df.head()`\n",
        "- `df.describe()`\n",
        "- `Series.unique()`"
      ]
    },
    {
      "cell_type": "code",
      "metadata": {
        "id": "U429NTI5RY4a",
        "colab": {
          "base_uri": "https://localhost:8080/",
          "height": 364
        },
        "outputId": "a4cf12cb-8841-4c9f-9431-aad1a472869c"
      },
      "source": [
        "# Your EDA here! Feel free to add more cells\n",
        "exploded_movies_df.describe()"
      ],
      "execution_count": 22,
      "outputs": [
        {
          "output_type": "execute_result",
          "data": {
            "text/html": [
              "\n",
              "  <div id=\"df-23ff46d0-bda6-451e-89a6-58fd67239ab9\">\n",
              "    <div class=\"colab-df-container\">\n",
              "      <div>\n",
              "<style scoped>\n",
              "    .dataframe tbody tr th:only-of-type {\n",
              "        vertical-align: middle;\n",
              "    }\n",
              "\n",
              "    .dataframe tbody tr th {\n",
              "        vertical-align: top;\n",
              "    }\n",
              "\n",
              "    .dataframe thead th {\n",
              "        text-align: right;\n",
              "    }\n",
              "</style>\n",
              "<table border=\"1\" class=\"dataframe\">\n",
              "  <thead>\n",
              "    <tr style=\"text-align: right;\">\n",
              "      <th></th>\n",
              "      <th>runtime</th>\n",
              "      <th>tomatometer_rating</th>\n",
              "      <th>tomatometer_count</th>\n",
              "      <th>audience_rating</th>\n",
              "      <th>audience_count</th>\n",
              "      <th>tomatometer_fresh_critics_count</th>\n",
              "      <th>tomatometer_rotten_critics_count</th>\n",
              "    </tr>\n",
              "  </thead>\n",
              "  <tbody>\n",
              "    <tr>\n",
              "      <th>count</th>\n",
              "      <td>33005.000000</td>\n",
              "      <td>33005.000000</td>\n",
              "      <td>33005.000000</td>\n",
              "      <td>33005.000000</td>\n",
              "      <td>3.300500e+04</td>\n",
              "      <td>33005.000000</td>\n",
              "      <td>33005.000000</td>\n",
              "    </tr>\n",
              "    <tr>\n",
              "      <th>mean</th>\n",
              "      <td>103.663869</td>\n",
              "      <td>60.624663</td>\n",
              "      <td>59.350432</td>\n",
              "      <td>60.946069</td>\n",
              "      <td>1.714511e+05</td>\n",
              "      <td>37.541585</td>\n",
              "      <td>21.821027</td>\n",
              "    </tr>\n",
              "    <tr>\n",
              "      <th>std</th>\n",
              "      <td>19.139535</td>\n",
              "      <td>28.073298</td>\n",
              "      <td>68.417631</td>\n",
              "      <td>20.231864</td>\n",
              "      <td>1.916547e+06</td>\n",
              "      <td>52.484828</td>\n",
              "      <td>30.874536</td>\n",
              "    </tr>\n",
              "    <tr>\n",
              "      <th>min</th>\n",
              "      <td>8.000000</td>\n",
              "      <td>0.000000</td>\n",
              "      <td>5.000000</td>\n",
              "      <td>0.000000</td>\n",
              "      <td>5.000000e+00</td>\n",
              "      <td>0.000000</td>\n",
              "      <td>0.000000</td>\n",
              "    </tr>\n",
              "    <tr>\n",
              "      <th>25%</th>\n",
              "      <td>91.000000</td>\n",
              "      <td>38.000000</td>\n",
              "      <td>13.000000</td>\n",
              "      <td>45.000000</td>\n",
              "      <td>1.268000e+03</td>\n",
              "      <td>6.000000</td>\n",
              "      <td>3.000000</td>\n",
              "    </tr>\n",
              "    <tr>\n",
              "      <th>50%</th>\n",
              "      <td>100.000000</td>\n",
              "      <td>66.000000</td>\n",
              "      <td>31.000000</td>\n",
              "      <td>63.000000</td>\n",
              "      <td>6.091000e+03</td>\n",
              "      <td>18.000000</td>\n",
              "      <td>9.000000</td>\n",
              "    </tr>\n",
              "    <tr>\n",
              "      <th>75%</th>\n",
              "      <td>112.000000</td>\n",
              "      <td>85.000000</td>\n",
              "      <td>80.000000</td>\n",
              "      <td>78.000000</td>\n",
              "      <td>3.629600e+04</td>\n",
              "      <td>46.000000</td>\n",
              "      <td>26.000000</td>\n",
              "    </tr>\n",
              "    <tr>\n",
              "      <th>max</th>\n",
              "      <td>266.000000</td>\n",
              "      <td>100.000000</td>\n",
              "      <td>535.000000</td>\n",
              "      <td>100.000000</td>\n",
              "      <td>3.579764e+07</td>\n",
              "      <td>497.000000</td>\n",
              "      <td>303.000000</td>\n",
              "    </tr>\n",
              "  </tbody>\n",
              "</table>\n",
              "</div>\n",
              "      <button class=\"colab-df-convert\" onclick=\"convertToInteractive('df-23ff46d0-bda6-451e-89a6-58fd67239ab9')\"\n",
              "              title=\"Convert this dataframe to an interactive table.\"\n",
              "              style=\"display:none;\">\n",
              "        \n",
              "  <svg xmlns=\"http://www.w3.org/2000/svg\" height=\"24px\"viewBox=\"0 0 24 24\"\n",
              "       width=\"24px\">\n",
              "    <path d=\"M0 0h24v24H0V0z\" fill=\"none\"/>\n",
              "    <path d=\"M18.56 5.44l.94 2.06.94-2.06 2.06-.94-2.06-.94-.94-2.06-.94 2.06-2.06.94zm-11 1L8.5 8.5l.94-2.06 2.06-.94-2.06-.94L8.5 2.5l-.94 2.06-2.06.94zm10 10l.94 2.06.94-2.06 2.06-.94-2.06-.94-.94-2.06-.94 2.06-2.06.94z\"/><path d=\"M17.41 7.96l-1.37-1.37c-.4-.4-.92-.59-1.43-.59-.52 0-1.04.2-1.43.59L10.3 9.45l-7.72 7.72c-.78.78-.78 2.05 0 2.83L4 21.41c.39.39.9.59 1.41.59.51 0 1.02-.2 1.41-.59l7.78-7.78 2.81-2.81c.8-.78.8-2.07 0-2.86zM5.41 20L4 18.59l7.72-7.72 1.47 1.35L5.41 20z\"/>\n",
              "  </svg>\n",
              "      </button>\n",
              "      \n",
              "  <style>\n",
              "    .colab-df-container {\n",
              "      display:flex;\n",
              "      flex-wrap:wrap;\n",
              "      gap: 12px;\n",
              "    }\n",
              "\n",
              "    .colab-df-convert {\n",
              "      background-color: #E8F0FE;\n",
              "      border: none;\n",
              "      border-radius: 50%;\n",
              "      cursor: pointer;\n",
              "      display: none;\n",
              "      fill: #1967D2;\n",
              "      height: 32px;\n",
              "      padding: 0 0 0 0;\n",
              "      width: 32px;\n",
              "    }\n",
              "\n",
              "    .colab-df-convert:hover {\n",
              "      background-color: #E2EBFA;\n",
              "      box-shadow: 0px 1px 2px rgba(60, 64, 67, 0.3), 0px 1px 3px 1px rgba(60, 64, 67, 0.15);\n",
              "      fill: #174EA6;\n",
              "    }\n",
              "\n",
              "    [theme=dark] .colab-df-convert {\n",
              "      background-color: #3B4455;\n",
              "      fill: #D2E3FC;\n",
              "    }\n",
              "\n",
              "    [theme=dark] .colab-df-convert:hover {\n",
              "      background-color: #434B5C;\n",
              "      box-shadow: 0px 1px 3px 1px rgba(0, 0, 0, 0.15);\n",
              "      filter: drop-shadow(0px 1px 2px rgba(0, 0, 0, 0.3));\n",
              "      fill: #FFFFFF;\n",
              "    }\n",
              "  </style>\n",
              "\n",
              "      <script>\n",
              "        const buttonEl =\n",
              "          document.querySelector('#df-23ff46d0-bda6-451e-89a6-58fd67239ab9 button.colab-df-convert');\n",
              "        buttonEl.style.display =\n",
              "          google.colab.kernel.accessAllowed ? 'block' : 'none';\n",
              "\n",
              "        async function convertToInteractive(key) {\n",
              "          const element = document.querySelector('#df-23ff46d0-bda6-451e-89a6-58fd67239ab9');\n",
              "          const dataTable =\n",
              "            await google.colab.kernel.invokeFunction('convertToInteractive',\n",
              "                                                     [key], {});\n",
              "          if (!dataTable) return;\n",
              "\n",
              "          const docLinkHtml = 'Like what you see? Visit the ' +\n",
              "            '<a target=\"_blank\" href=https://colab.research.google.com/notebooks/data_table.ipynb>data table notebook</a>'\n",
              "            + ' to learn more about interactive tables.';\n",
              "          element.innerHTML = '';\n",
              "          dataTable['output_type'] = 'display_data';\n",
              "          await google.colab.output.renderOutput(dataTable, element);\n",
              "          const docLink = document.createElement('div');\n",
              "          docLink.innerHTML = docLinkHtml;\n",
              "          element.appendChild(docLink);\n",
              "        }\n",
              "      </script>\n",
              "    </div>\n",
              "  </div>\n",
              "  "
            ],
            "text/plain": [
              "            runtime  ...  tomatometer_rotten_critics_count\n",
              "count  33005.000000  ...                      33005.000000\n",
              "mean     103.663869  ...                         21.821027\n",
              "std       19.139535  ...                         30.874536\n",
              "min        8.000000  ...                          0.000000\n",
              "25%       91.000000  ...                          3.000000\n",
              "50%      100.000000  ...                          9.000000\n",
              "75%      112.000000  ...                         26.000000\n",
              "max      266.000000  ...                        303.000000\n",
              "\n",
              "[8 rows x 7 columns]"
            ]
          },
          "metadata": {},
          "execution_count": 22
        }
      ]
    },
    {
      "cell_type": "markdown",
      "metadata": {
        "id": "CHFdRtQKLbti"
      },
      "source": [
        "## Part 2: Exploring the Data with PandasSQL (and Pandas) [75 points total]\n",
        "\n",
        "Now that you are familiar (or still unfamiliar) with the dataset, we will now introduce you to SQL, or more specifically **pandasql**: a package created to allow users to query pandas DataFrames with SQL statements.\n",
        "\n",
        "The typical flow to use pandasql (shortened to **ps**) is as follows:\n",
        "1. Write a SQL query in the form of a string (Tip: use triple quotes \"\"\"x\"\"\" to write multi-line strings)\n",
        "2. Run the query using **ps.sqldf(your_query, locals())**\n",
        "\n",
        "Pandasql is convenient in that it allows you to reference the dataframes that are currently defined in your notebook, so you will be able to fully utilize the dataframes `movies_df`, `reviews_df` and `streaming_df` that you have created above!\n",
        "\n",
        "Given that it is a brand new language, we wanted to give you a chance to directly compare the similarities/differences of the pandas that you already know and the SQL that you are about to learn. Thus, for each of the simpler queries, we ask that you **look into the question twice: once with pandas and once with pandasql**. \n",
        "\n",
        "Each answer will thus require both a `pd_` and `sql_` prefixed-dataframe that you will submit seperately to the autograder. **We will be reviewing your code to make sure you wrote the code in the corresponding languages.**\n"
      ]
    },
    {
      "cell_type": "markdown",
      "source": [
        "###2.1 Movie Recommendations"
      ],
      "metadata": {
        "id": "8gIjaNk9BnJ-"
      }
    },
    {
      "cell_type": "markdown",
      "metadata": {
        "id": "geYyH57csade"
      },
      "source": [
        "#### 2.1.1 What movies have good reviews from critics and audience?\n",
        "\n",
        "`movies_df` contains all sorts of movies. We all love good movies, so let's try to separate the good from the bad.\n",
        "\n",
        "Rotten Tomatoes offers two major aggregate ratings: \n",
        "- one by critics, in the column `tomatometer_status`, and has three possible values: `Certified-Fresh`,`Fresh`, and `Rotten`.\n",
        "- the other by audience members, in the column `audience_status`, and has two possible values: `Upright` (good) and `Spilled` (bad).\n",
        "\n",
        "**TODO:** Using **pandas**, filter out movies from `movies_df` that are `Certified-Fresh` or `Fresh` into a new dataframe named `good_critics_df`, which should have the following schema:\n",
        "\n",
        ">rotten_tomatoes_link | movie_title\n",
        ">--- | ---\n",
        "\n"
      ]
    },
    {
      "cell_type": "code",
      "metadata": {
        "id": "8aZCy0IZR7v2"
      },
      "source": [
        "# TODO: Use pandas to obtain good_critics_df\n",
        "good_critics_df = movies_df[movies_df['tomatometer_status'] != \"Rotten\"][['rotten_tomatoes_link', 'movie_title']]"
      ],
      "execution_count": 23,
      "outputs": []
    },
    {
      "cell_type": "code",
      "metadata": {
        "id": "gmRuF4phW_CT",
        "colab": {
          "base_uri": "https://localhost:8080/"
        },
        "outputId": "15a6229b-c1ae-43ed-b466-9c038237ba6c"
      },
      "source": [
        "# 2 points\n",
        "grader.grade(test_case_id = 'test_good_critics_df', answer = good_critics_df)"
      ],
      "execution_count": 24,
      "outputs": [
        {
          "output_type": "stream",
          "name": "stdout",
          "text": [
            "Correct! You earned 2/2 points. You are a star!\n",
            "\n",
            "Your submission has been successfully recorded in the gradebook.\n"
          ]
        }
      ]
    },
    {
      "cell_type": "markdown",
      "source": [
        "then, let's consider the ratings by movie-goers.\n",
        "\n",
        "**TODO:** Using **pandasql**, filter out movies from `movies_df` that are rated as `Upright` by the audience, into a new dataframe named `good_audience_df`, which should have the following schema:\n",
        "\n",
        ">rotten_tomatoes_link | movie_title\n",
        ">--- | ---"
      ],
      "metadata": {
        "id": "Hj58V6drh88p"
      }
    },
    {
      "cell_type": "code",
      "metadata": {
        "id": "MsjMINr3X1zk"
      },
      "source": [
        "# TODO: Use pandasql to obtain good_audience_df\n",
        "good_audience_query = \"\"\"\n",
        "SELECT rotten_tomatoes_link, movie_title \n",
        "FROM movies_df \n",
        "WHERE audience_status = \"Upright\"\n",
        "\"\"\"\n",
        "\n",
        "good_audience_df = ps.sqldf(good_audience_query, locals())"
      ],
      "execution_count": 25,
      "outputs": []
    },
    {
      "cell_type": "code",
      "metadata": {
        "id": "XKddWLnIIF7v",
        "colab": {
          "base_uri": "https://localhost:8080/"
        },
        "outputId": "9887d5b6-3751-445d-f7e7-a358f259ad60"
      },
      "source": [
        "# 2 points\n",
        "grader.grade(test_case_id = 'test_good_audience_df', answer = good_audience_df)"
      ],
      "execution_count": 26,
      "outputs": [
        {
          "output_type": "stream",
          "name": "stdout",
          "text": [
            "Correct! You earned 2/2 points. You are a star!\n",
            "\n",
            "Your submission has been successfully recorded in the gradebook.\n"
          ]
        }
      ]
    },
    {
      "cell_type": "markdown",
      "metadata": {
        "id": "zHzBYzlDYoLx"
      },
      "source": [
        "Now, we can simply join these dataframes to get a table of all the best movies and binge watch one every night! But wait! Sometimes, the opinions of critics and audience may differ, so we need to make sure that the good movies we watch are ones that are viewed positively by both critics and audiences. \n",
        "\n",
        "**TODO**: Using **pandas and pandasql**, filter out movies with **mixed reviews** (ie. audience and critic opinions differ) to a new dataframe `pd/sql_mixed_movies_df`, ordered by lexicographic order of `movie_title`.\n",
        "\n",
        "For this question, you should **NOT** use `movies_df` or `exploded_movies_df`.\n",
        "\n",
        "Some tips:\n",
        "* For pandas, explore the `indicator` parameter within the `merge()` function.\n",
        "* For pandasql, considering using `EXCEPT`."
      ]
    },
    {
      "cell_type": "code",
      "metadata": {
        "id": "m2FvwI2CaA0X"
      },
      "source": [
        "# TODO: Filter out movies with mixed reviews using pandas\n",
        "pd_mixed_movies_df = pd.merge(good_audience_df, good_critics_df, on=['movie_title','rotten_tomatoes_link'], how='outer', indicator=True)\n",
        "pd_mixed_movies_df = pd_mixed_movies_df[pd_mixed_movies_df['_merge'] != \"both\"].sort_values(by='movie_title')\n",
        "pd_mixed_movies_df = pd_mixed_movies_df.drop(columns=['_merge'])"
      ],
      "execution_count": 27,
      "outputs": []
    },
    {
      "cell_type": "code",
      "source": [
        "# 4 points\n",
        "grader.grade(test_case_id = 'test_pd_mixed_movies', answer = pd_mixed_movies_df)"
      ],
      "metadata": {
        "id": "_ZAJ1otoIktJ",
        "colab": {
          "base_uri": "https://localhost:8080/"
        },
        "outputId": "dd76b7b5-8a71-486c-b5e0-c65e61d333e8"
      },
      "execution_count": 28,
      "outputs": [
        {
          "output_type": "stream",
          "name": "stdout",
          "text": [
            "Correct! You earned 4/4 points. You are a star!\n",
            "\n",
            "Your submission has been successfully recorded in the gradebook.\n"
          ]
        }
      ]
    },
    {
      "cell_type": "code",
      "metadata": {
        "id": "08AFCWPEYlKW"
      },
      "source": [
        "# TODO: Filter out movies with mixed reviews from good_critics_df and good_audience_df\n",
        "mixed_query = \"\"\"\n",
        "SELECT * FROM\n",
        "  (\n",
        "    SELECT * FROM good_critics_df\n",
        "    EXCEPT \n",
        "    SELECT * FROM good_audience_df\n",
        "  )\n",
        "UNION\n",
        "SELECT * FROM\n",
        "  (\n",
        "    SELECT * FROM good_audience_df \n",
        "    EXCEPT\n",
        "    SELECT * FROM good_critics_df\n",
        "  )\n",
        "  ORDER BY movie_title;\n",
        "\"\"\"\n",
        "\n",
        "sql_mixed_movies_df = ps.sqldf(mixed_query, locals())"
      ],
      "execution_count": 29,
      "outputs": []
    },
    {
      "cell_type": "code",
      "source": [
        "# 4 points\n",
        "grader.grade(test_case_id = 'test_sql_mixed_movies', answer = (mixed_query,sql_mixed_movies_df))"
      ],
      "metadata": {
        "id": "7CDAyh7F1XiJ",
        "colab": {
          "base_uri": "https://localhost:8080/"
        },
        "outputId": "8a5fe529-c252-4e23-9d8d-d637073bfc30"
      },
      "execution_count": 30,
      "outputs": [
        {
          "output_type": "stream",
          "name": "stdout",
          "text": [
            "Correct! You earned 4/4 points. You are a star!\n",
            "\n",
            "Your submission has been successfully recorded in the gradebook.\n"
          ]
        }
      ]
    },
    {
      "cell_type": "markdown",
      "source": [
        "**TODO:**\n",
        "\n",
        "Using **pandas/pandasql** and `pd/sql_mixed_movies_df`, find the top 10 mixed movies with the **largest absolute difference** in critic review score and audience review score. You should calculate this as the absolute difference between `tomatometer_rating` and `audience_rating`, and store this in a column named `diff`. If multiple movies have the same `diff` value, order their rows in lexicographic order.\n",
        "\n",
        "Format the output as a dataframe called `pd/sql_top_10_mixed_movies_df` that has the following schema:\n",
        "\n",
        ">movie_title | diff\n",
        ">--- | ---\n"
      ],
      "metadata": {
        "id": "8xcASc2QFZaV"
      }
    },
    {
      "cell_type": "code",
      "source": [
        "# TODO: pandas\n",
        "pd_top_10_mixed_movies_df = pd.merge(pd_mixed_movies_df, movies_df[['movie_title','rotten_tomatoes_link','tomatometer_rating', 'audience_rating']], \n",
        "                                  on=['movie_title','rotten_tomatoes_link'], how='left')\n",
        "pd_top_10_mixed_movies_df['diff'] = (pd_top_10_mixed_movies_df.tomatometer_rating - pd_top_10_mixed_movies_df.audience_rating).abs()\n",
        "pd_top_10_mixed_movies_df = pd_top_10_mixed_movies_df.sort_values(by=['diff','movie_title'], ascending=[False, True])[0:10]\n",
        "pd_top_10_mixed_movies_df = pd_top_10_mixed_movies_df.drop(columns=['rotten_tomatoes_link','tomatometer_rating', 'audience_rating'])\n",
        "pd_top_10_mixed_movies_df"
      ],
      "metadata": {
        "id": "bH8hYj3iHGxz",
        "colab": {
          "base_uri": "https://localhost:8080/",
          "height": 363
        },
        "outputId": "1100636f-9091-41b8-d965-81d0e29ddf1d"
      },
      "execution_count": 31,
      "outputs": [
        {
          "output_type": "execute_result",
          "data": {
            "text/html": [
              "\n",
              "  <div id=\"df-51676a5b-c0d6-4e05-b4cf-ff6ed5c64d1a\">\n",
              "    <div class=\"colab-df-container\">\n",
              "      <div>\n",
              "<style scoped>\n",
              "    .dataframe tbody tr th:only-of-type {\n",
              "        vertical-align: middle;\n",
              "    }\n",
              "\n",
              "    .dataframe tbody tr th {\n",
              "        vertical-align: top;\n",
              "    }\n",
              "\n",
              "    .dataframe thead th {\n",
              "        text-align: right;\n",
              "    }\n",
              "</style>\n",
              "<table border=\"1\" class=\"dataframe\">\n",
              "  <thead>\n",
              "    <tr style=\"text-align: right;\">\n",
              "      <th></th>\n",
              "      <th>movie_title</th>\n",
              "      <th>diff</th>\n",
              "    </tr>\n",
              "  </thead>\n",
              "  <tbody>\n",
              "    <tr>\n",
              "      <th>46</th>\n",
              "      <td>96 Souls</td>\n",
              "      <td>95</td>\n",
              "    </tr>\n",
              "    <tr>\n",
              "      <th>1151</th>\n",
              "      <td>Hating Breitbart</td>\n",
              "      <td>92</td>\n",
              "    </tr>\n",
              "    <tr>\n",
              "      <th>1353</th>\n",
              "      <td>Is That a Gun in Your Pocket?</td>\n",
              "      <td>92</td>\n",
              "    </tr>\n",
              "    <tr>\n",
              "      <th>2527</th>\n",
              "      <td>The After Party</td>\n",
              "      <td>87</td>\n",
              "    </tr>\n",
              "    <tr>\n",
              "      <th>1959</th>\n",
              "      <td>Outside the Law</td>\n",
              "      <td>86</td>\n",
              "    </tr>\n",
              "    <tr>\n",
              "      <th>878</th>\n",
              "      <td>Fall</td>\n",
              "      <td>84</td>\n",
              "    </tr>\n",
              "    <tr>\n",
              "      <th>3357</th>\n",
              "      <td>Vengeance Valley</td>\n",
              "      <td>82</td>\n",
              "    </tr>\n",
              "    <tr>\n",
              "      <th>2975</th>\n",
              "      <td>The Music of Silence</td>\n",
              "      <td>81</td>\n",
              "    </tr>\n",
              "    <tr>\n",
              "      <th>166</th>\n",
              "      <td>All Relative</td>\n",
              "      <td>80</td>\n",
              "    </tr>\n",
              "    <tr>\n",
              "      <th>2368</th>\n",
              "      <td>Sparkle</td>\n",
              "      <td>80</td>\n",
              "    </tr>\n",
              "  </tbody>\n",
              "</table>\n",
              "</div>\n",
              "      <button class=\"colab-df-convert\" onclick=\"convertToInteractive('df-51676a5b-c0d6-4e05-b4cf-ff6ed5c64d1a')\"\n",
              "              title=\"Convert this dataframe to an interactive table.\"\n",
              "              style=\"display:none;\">\n",
              "        \n",
              "  <svg xmlns=\"http://www.w3.org/2000/svg\" height=\"24px\"viewBox=\"0 0 24 24\"\n",
              "       width=\"24px\">\n",
              "    <path d=\"M0 0h24v24H0V0z\" fill=\"none\"/>\n",
              "    <path d=\"M18.56 5.44l.94 2.06.94-2.06 2.06-.94-2.06-.94-.94-2.06-.94 2.06-2.06.94zm-11 1L8.5 8.5l.94-2.06 2.06-.94-2.06-.94L8.5 2.5l-.94 2.06-2.06.94zm10 10l.94 2.06.94-2.06 2.06-.94-2.06-.94-.94-2.06-.94 2.06-2.06.94z\"/><path d=\"M17.41 7.96l-1.37-1.37c-.4-.4-.92-.59-1.43-.59-.52 0-1.04.2-1.43.59L10.3 9.45l-7.72 7.72c-.78.78-.78 2.05 0 2.83L4 21.41c.39.39.9.59 1.41.59.51 0 1.02-.2 1.41-.59l7.78-7.78 2.81-2.81c.8-.78.8-2.07 0-2.86zM5.41 20L4 18.59l7.72-7.72 1.47 1.35L5.41 20z\"/>\n",
              "  </svg>\n",
              "      </button>\n",
              "      \n",
              "  <style>\n",
              "    .colab-df-container {\n",
              "      display:flex;\n",
              "      flex-wrap:wrap;\n",
              "      gap: 12px;\n",
              "    }\n",
              "\n",
              "    .colab-df-convert {\n",
              "      background-color: #E8F0FE;\n",
              "      border: none;\n",
              "      border-radius: 50%;\n",
              "      cursor: pointer;\n",
              "      display: none;\n",
              "      fill: #1967D2;\n",
              "      height: 32px;\n",
              "      padding: 0 0 0 0;\n",
              "      width: 32px;\n",
              "    }\n",
              "\n",
              "    .colab-df-convert:hover {\n",
              "      background-color: #E2EBFA;\n",
              "      box-shadow: 0px 1px 2px rgba(60, 64, 67, 0.3), 0px 1px 3px 1px rgba(60, 64, 67, 0.15);\n",
              "      fill: #174EA6;\n",
              "    }\n",
              "\n",
              "    [theme=dark] .colab-df-convert {\n",
              "      background-color: #3B4455;\n",
              "      fill: #D2E3FC;\n",
              "    }\n",
              "\n",
              "    [theme=dark] .colab-df-convert:hover {\n",
              "      background-color: #434B5C;\n",
              "      box-shadow: 0px 1px 3px 1px rgba(0, 0, 0, 0.15);\n",
              "      filter: drop-shadow(0px 1px 2px rgba(0, 0, 0, 0.3));\n",
              "      fill: #FFFFFF;\n",
              "    }\n",
              "  </style>\n",
              "\n",
              "      <script>\n",
              "        const buttonEl =\n",
              "          document.querySelector('#df-51676a5b-c0d6-4e05-b4cf-ff6ed5c64d1a button.colab-df-convert');\n",
              "        buttonEl.style.display =\n",
              "          google.colab.kernel.accessAllowed ? 'block' : 'none';\n",
              "\n",
              "        async function convertToInteractive(key) {\n",
              "          const element = document.querySelector('#df-51676a5b-c0d6-4e05-b4cf-ff6ed5c64d1a');\n",
              "          const dataTable =\n",
              "            await google.colab.kernel.invokeFunction('convertToInteractive',\n",
              "                                                     [key], {});\n",
              "          if (!dataTable) return;\n",
              "\n",
              "          const docLinkHtml = 'Like what you see? Visit the ' +\n",
              "            '<a target=\"_blank\" href=https://colab.research.google.com/notebooks/data_table.ipynb>data table notebook</a>'\n",
              "            + ' to learn more about interactive tables.';\n",
              "          element.innerHTML = '';\n",
              "          dataTable['output_type'] = 'display_data';\n",
              "          await google.colab.output.renderOutput(dataTable, element);\n",
              "          const docLink = document.createElement('div');\n",
              "          docLink.innerHTML = docLinkHtml;\n",
              "          element.appendChild(docLink);\n",
              "        }\n",
              "      </script>\n",
              "    </div>\n",
              "  </div>\n",
              "  "
            ],
            "text/plain": [
              "                        movie_title  diff\n",
              "46                         96 Souls    95\n",
              "1151               Hating Breitbart    92\n",
              "1353  Is That a Gun in Your Pocket?    92\n",
              "2527                The After Party    87\n",
              "1959                Outside the Law    86\n",
              "878                            Fall    84\n",
              "3357               Vengeance Valley    82\n",
              "2975           The Music of Silence    81\n",
              "166                    All Relative    80\n",
              "2368                        Sparkle    80"
            ]
          },
          "metadata": {},
          "execution_count": 31
        }
      ]
    },
    {
      "cell_type": "code",
      "source": [
        "#TODO: pandasql\n",
        "top_10_mixed_query = \"\"\"\n",
        "SELECT s.movie_title, ABS(tomatometer_rating - audience_rating) AS diff\n",
        "FROM sql_mixed_movies_df s\n",
        "LEFT JOIN movies_df m\n",
        "ON s.movie_title = m.movie_title\n",
        "AND s.rotten_tomatoes_link = m.rotten_tomatoes_link\n",
        "ORDER BY diff DESC, s.movie_title ASC\n",
        "LIMIT 10\n",
        "\"\"\"\n",
        "\n",
        "sql_top_10_mixed_movies_df = ps.sqldf(top_10_mixed_query, locals())\n",
        "sql_top_10_mixed_movies_df"
      ],
      "metadata": {
        "id": "5fuKqn8YLnOD",
        "colab": {
          "base_uri": "https://localhost:8080/",
          "height": 363
        },
        "outputId": "3ae94c2b-4b37-403e-94ad-acdf1a1736b5"
      },
      "execution_count": 32,
      "outputs": [
        {
          "output_type": "execute_result",
          "data": {
            "text/html": [
              "\n",
              "  <div id=\"df-ee9c19f4-b21c-4246-a494-abb7e63e9aa3\">\n",
              "    <div class=\"colab-df-container\">\n",
              "      <div>\n",
              "<style scoped>\n",
              "    .dataframe tbody tr th:only-of-type {\n",
              "        vertical-align: middle;\n",
              "    }\n",
              "\n",
              "    .dataframe tbody tr th {\n",
              "        vertical-align: top;\n",
              "    }\n",
              "\n",
              "    .dataframe thead th {\n",
              "        text-align: right;\n",
              "    }\n",
              "</style>\n",
              "<table border=\"1\" class=\"dataframe\">\n",
              "  <thead>\n",
              "    <tr style=\"text-align: right;\">\n",
              "      <th></th>\n",
              "      <th>movie_title</th>\n",
              "      <th>diff</th>\n",
              "    </tr>\n",
              "  </thead>\n",
              "  <tbody>\n",
              "    <tr>\n",
              "      <th>0</th>\n",
              "      <td>96 Souls</td>\n",
              "      <td>95</td>\n",
              "    </tr>\n",
              "    <tr>\n",
              "      <th>1</th>\n",
              "      <td>Hating Breitbart</td>\n",
              "      <td>92</td>\n",
              "    </tr>\n",
              "    <tr>\n",
              "      <th>2</th>\n",
              "      <td>Is That a Gun in Your Pocket?</td>\n",
              "      <td>92</td>\n",
              "    </tr>\n",
              "    <tr>\n",
              "      <th>3</th>\n",
              "      <td>The After Party</td>\n",
              "      <td>87</td>\n",
              "    </tr>\n",
              "    <tr>\n",
              "      <th>4</th>\n",
              "      <td>Outside the Law</td>\n",
              "      <td>86</td>\n",
              "    </tr>\n",
              "    <tr>\n",
              "      <th>5</th>\n",
              "      <td>Fall</td>\n",
              "      <td>84</td>\n",
              "    </tr>\n",
              "    <tr>\n",
              "      <th>6</th>\n",
              "      <td>Vengeance Valley</td>\n",
              "      <td>82</td>\n",
              "    </tr>\n",
              "    <tr>\n",
              "      <th>7</th>\n",
              "      <td>The Music of Silence</td>\n",
              "      <td>81</td>\n",
              "    </tr>\n",
              "    <tr>\n",
              "      <th>8</th>\n",
              "      <td>All Relative</td>\n",
              "      <td>80</td>\n",
              "    </tr>\n",
              "    <tr>\n",
              "      <th>9</th>\n",
              "      <td>Sparkle</td>\n",
              "      <td>80</td>\n",
              "    </tr>\n",
              "  </tbody>\n",
              "</table>\n",
              "</div>\n",
              "      <button class=\"colab-df-convert\" onclick=\"convertToInteractive('df-ee9c19f4-b21c-4246-a494-abb7e63e9aa3')\"\n",
              "              title=\"Convert this dataframe to an interactive table.\"\n",
              "              style=\"display:none;\">\n",
              "        \n",
              "  <svg xmlns=\"http://www.w3.org/2000/svg\" height=\"24px\"viewBox=\"0 0 24 24\"\n",
              "       width=\"24px\">\n",
              "    <path d=\"M0 0h24v24H0V0z\" fill=\"none\"/>\n",
              "    <path d=\"M18.56 5.44l.94 2.06.94-2.06 2.06-.94-2.06-.94-.94-2.06-.94 2.06-2.06.94zm-11 1L8.5 8.5l.94-2.06 2.06-.94-2.06-.94L8.5 2.5l-.94 2.06-2.06.94zm10 10l.94 2.06.94-2.06 2.06-.94-2.06-.94-.94-2.06-.94 2.06-2.06.94z\"/><path d=\"M17.41 7.96l-1.37-1.37c-.4-.4-.92-.59-1.43-.59-.52 0-1.04.2-1.43.59L10.3 9.45l-7.72 7.72c-.78.78-.78 2.05 0 2.83L4 21.41c.39.39.9.59 1.41.59.51 0 1.02-.2 1.41-.59l7.78-7.78 2.81-2.81c.8-.78.8-2.07 0-2.86zM5.41 20L4 18.59l7.72-7.72 1.47 1.35L5.41 20z\"/>\n",
              "  </svg>\n",
              "      </button>\n",
              "      \n",
              "  <style>\n",
              "    .colab-df-container {\n",
              "      display:flex;\n",
              "      flex-wrap:wrap;\n",
              "      gap: 12px;\n",
              "    }\n",
              "\n",
              "    .colab-df-convert {\n",
              "      background-color: #E8F0FE;\n",
              "      border: none;\n",
              "      border-radius: 50%;\n",
              "      cursor: pointer;\n",
              "      display: none;\n",
              "      fill: #1967D2;\n",
              "      height: 32px;\n",
              "      padding: 0 0 0 0;\n",
              "      width: 32px;\n",
              "    }\n",
              "\n",
              "    .colab-df-convert:hover {\n",
              "      background-color: #E2EBFA;\n",
              "      box-shadow: 0px 1px 2px rgba(60, 64, 67, 0.3), 0px 1px 3px 1px rgba(60, 64, 67, 0.15);\n",
              "      fill: #174EA6;\n",
              "    }\n",
              "\n",
              "    [theme=dark] .colab-df-convert {\n",
              "      background-color: #3B4455;\n",
              "      fill: #D2E3FC;\n",
              "    }\n",
              "\n",
              "    [theme=dark] .colab-df-convert:hover {\n",
              "      background-color: #434B5C;\n",
              "      box-shadow: 0px 1px 3px 1px rgba(0, 0, 0, 0.15);\n",
              "      filter: drop-shadow(0px 1px 2px rgba(0, 0, 0, 0.3));\n",
              "      fill: #FFFFFF;\n",
              "    }\n",
              "  </style>\n",
              "\n",
              "      <script>\n",
              "        const buttonEl =\n",
              "          document.querySelector('#df-ee9c19f4-b21c-4246-a494-abb7e63e9aa3 button.colab-df-convert');\n",
              "        buttonEl.style.display =\n",
              "          google.colab.kernel.accessAllowed ? 'block' : 'none';\n",
              "\n",
              "        async function convertToInteractive(key) {\n",
              "          const element = document.querySelector('#df-ee9c19f4-b21c-4246-a494-abb7e63e9aa3');\n",
              "          const dataTable =\n",
              "            await google.colab.kernel.invokeFunction('convertToInteractive',\n",
              "                                                     [key], {});\n",
              "          if (!dataTable) return;\n",
              "\n",
              "          const docLinkHtml = 'Like what you see? Visit the ' +\n",
              "            '<a target=\"_blank\" href=https://colab.research.google.com/notebooks/data_table.ipynb>data table notebook</a>'\n",
              "            + ' to learn more about interactive tables.';\n",
              "          element.innerHTML = '';\n",
              "          dataTable['output_type'] = 'display_data';\n",
              "          await google.colab.output.renderOutput(dataTable, element);\n",
              "          const docLink = document.createElement('div');\n",
              "          docLink.innerHTML = docLinkHtml;\n",
              "          element.appendChild(docLink);\n",
              "        }\n",
              "      </script>\n",
              "    </div>\n",
              "  </div>\n",
              "  "
            ],
            "text/plain": [
              "                     movie_title  diff\n",
              "0                       96 Souls    95\n",
              "1               Hating Breitbart    92\n",
              "2  Is That a Gun in Your Pocket?    92\n",
              "3                The After Party    87\n",
              "4                Outside the Law    86\n",
              "5                           Fall    84\n",
              "6               Vengeance Valley    82\n",
              "7           The Music of Silence    81\n",
              "8                   All Relative    80\n",
              "9                        Sparkle    80"
            ]
          },
          "metadata": {},
          "execution_count": 32
        }
      ]
    },
    {
      "cell_type": "code",
      "source": [
        "# 6 points\n",
        "grader.grade(test_case_id = 'test_top_10_mixed', answer = (top_10_mixed_query,pd_top_10_mixed_movies_df,sql_top_10_mixed_movies_df))"
      ],
      "metadata": {
        "id": "IR5WxqBK70Q3",
        "colab": {
          "base_uri": "https://localhost:8080/"
        },
        "outputId": "b6481c76-c62b-403a-bab6-611f47e4fb19"
      },
      "execution_count": 33,
      "outputs": [
        {
          "output_type": "stream",
          "name": "stdout",
          "text": [
            "Correct! You earned 6/6 points. You are a star!\n",
            "\n",
            "Your submission has been successfully recorded in the gradebook.\n"
          ]
        }
      ]
    },
    {
      "cell_type": "markdown",
      "metadata": {
        "id": "ooVqjTGm9eCA"
      },
      "source": [
        "#### 2.1.2 What movies can we recommend to Professor Davidson?\n",
        "\n",
        "Professor Davidson wants to take a break from teaching CIS 545. She is considering watching a movie on her Netflix account, and is gathering movie recommendations from you.\n",
        "\n",
        "Because her favourite holiday is halloween, Professor Davidson is looking to watch a horror movie. But first, she wants to answer a long-standing question in her mind: are there more horror movies during October? \n",
        "\n",
        "**TODO**: Using **pandas and pandasql**,\n",
        "- add a column `month` to movies_df that contains the month of the movie's original date of release.\n",
        "- Find the number of movies classified as `Horror`, grouped by month. Store this number in a column `num_movies` in descending order, and store the results in `pd/sql_horror_df` which should have the following format:\n",
        "\n",
        ">month | num_movies\n",
        ">--- | ---\n"
      ]
    },
    {
      "cell_type": "code",
      "metadata": {
        "id": "djfer4T0uFa4"
      },
      "source": [
        "# TODO: pandas version\n",
        "movies_df['month'] = movies_df['original_release_date'].dt.month\n",
        "pd_horror_df = movies_df.copy()\n",
        "pd_horror_df = pd_horror_df[pd_horror_df['genres'].str.contains('Horror')]\n",
        "pd_horror_df = pd_horror_df.groupby('month').aggregate({'movie_title': 'count'}).reset_index()\n",
        "pd_horror_df = pd_horror_df.rename(columns={'movie_title':'num_movies'}).sort_values('num_movies', ascending = False)\n"
      ],
      "execution_count": 34,
      "outputs": []
    },
    {
      "cell_type": "code",
      "metadata": {
        "id": "GRewUlHAvGnR"
      },
      "source": [
        "# TODO: pandasql version\n",
        "horror_query = \"\"\"\n",
        "SELECT CAST(strftime('%m',original_release_date) as integer) month, COUNT(*) num_movies\n",
        "FROM movies_df\n",
        "WHERE genres LIKE '%Horror%'\n",
        "GROUP BY month\n",
        "ORDER BY num_movies DESC\n",
        "\"\"\"\n",
        "\n",
        "sql_horror_df = ps.sqldf(horror_query, locals())"
      ],
      "execution_count": 35,
      "outputs": []
    },
    {
      "cell_type": "code",
      "metadata": {
        "id": "EdqFmCL6xBPv",
        "colab": {
          "base_uri": "https://localhost:8080/"
        },
        "outputId": "44224b73-3eec-48eb-9207-517f7f277db2"
      },
      "source": [
        "# 4 points\n",
        "grader.grade(test_case_id = 'test_horror_month', answer = (horror_query, pd_horror_df, sql_horror_df))"
      ],
      "execution_count": 36,
      "outputs": [
        {
          "output_type": "stream",
          "name": "stdout",
          "text": [
            "Correct! You earned 4/4 points. You are a star!\n",
            "\n",
            "Your submission has been successfully recorded in the gradebook.\n"
          ]
        }
      ]
    },
    {
      "cell_type": "markdown",
      "metadata": {
        "id": "uW4VQc6BgD-6"
      },
      "source": [
        "It seems like October is not the most popular month in which horror movies are released. \n",
        "\n",
        "**TODO:**\n",
        "Using **pandas and pandasql**, find the movies classified as `Horror` that were originally released in **January**. Store the results in `pd/sql_jan_df` which should have the following format, sorted in descending order of `audience_count`:\n",
        "\n",
        ">rotten_tomatoes_link | movie_title | audience_count\n",
        ">--- | --- | ---"
      ]
    },
    {
      "cell_type": "code",
      "metadata": {
        "id": "JULj_WXFPIuQ"
      },
      "source": [
        "# TODO: pandas version\n",
        "pd_jan_df = movies_df.copy()\n",
        "pd_jan_df['month'] = pd_jan_df['original_release_date'].dt.month\n",
        "pd_jan_df = pd_jan_df[pd_jan_df['genres'].str.contains('Horror')]\n",
        "pd_jan_df = pd_jan_df[pd_jan_df['month'] == 1]\n",
        "pd_jan_df = pd_jan_df[['rotten_tomatoes_link',\t'movie_title',\t'audience_count']].sort_values('audience_count', ascending=False)"
      ],
      "execution_count": 37,
      "outputs": []
    },
    {
      "cell_type": "code",
      "metadata": {
        "id": "_EMJdmivPIuR"
      },
      "source": [
        "# TODO: pandasql version\n",
        "jan_query = \"\"\"\n",
        "SELECT rotten_tomatoes_link,\tmovie_title,\taudience_count\n",
        "FROM movies_df\n",
        "WHERE genres LIKE '%Horror%'\n",
        "AND CAST(strftime('%m',original_release_date) as integer) = 1\n",
        "ORDER BY audience_count DESC\n",
        "\"\"\"\n",
        "\n",
        "sql_jan_df = ps.sqldf(jan_query, locals())"
      ],
      "execution_count": 38,
      "outputs": []
    },
    {
      "cell_type": "code",
      "metadata": {
        "id": "JdUsAosuSq1Z",
        "colab": {
          "base_uri": "https://localhost:8080/"
        },
        "outputId": "1487b42e-0b1e-45a5-c669-ac439954a23c"
      },
      "source": [
        "# 4 points\n",
        "grader.grade(test_case_id = 'test_horror_jan', answer = (jan_query, pd_jan_df, sql_jan_df))"
      ],
      "execution_count": 39,
      "outputs": [
        {
          "output_type": "stream",
          "name": "stdout",
          "text": [
            "Correct! You earned 4/4 points. You are a star!\n",
            "\n",
            "Your submission has been successfully recorded in the gradebook.\n"
          ]
        }
      ]
    },
    {
      "cell_type": "markdown",
      "metadata": {
        "id": "KqlpHrijkIEY"
      },
      "source": [
        "With all the information about these movies, we are ready to help Professor Davidson find her dream movie. In particular, she wants a movie that: \n",
        "- is a horror movie\n",
        "- was originally released in January \n",
        "- has been watched by at least 50000 audience members, with an overall `audience_rating` of `Upright`.  \n",
        "\n",
        "**TODO**:\n",
        "* Using the information provided above, and using **pandasql**, find the top 10 movies that fit her criteria, sorted by descending order of `audience_count`. Store this in a dataframe called `movie_recs_df`, that has the following schema:\n",
        "\n",
        ">rotten_tomatoes_link | movie_title | audience_count\n",
        ">--- | --- | ---\n",
        "\n",
        "**Hint**: you may find it helpful to leverage `good_audience_df` and `pd_jan_df`."
      ]
    },
    {
      "cell_type": "code",
      "metadata": {
        "id": "UHqwEGTCkDU1"
      },
      "source": [
        "# TODO: use pandasql to find top 10 movies that fit criteria\n",
        "recs_query = \"\"\"\n",
        "SELECT b.rotten_tomatoes_link,\tb.movie_title,\tb.audience_count\n",
        "FROM\n",
        "  (\n",
        "    SELECT rotten_tomatoes_link,\tmovie_title\n",
        "    FROM good_audience_df\n",
        "    INTERSECT\n",
        "    SELECT rotten_tomatoes_link,\tmovie_title\n",
        "    FROM pd_jan_df\n",
        "  ) a\n",
        "LEFT JOIN pd_jan_df b\n",
        "ON a.movie_title = b.movie_title\n",
        "WHERE b.audience_count >= 50000\n",
        "ORDER BY b.audience_count DESC\n",
        "LIMIT 10\n",
        "\"\"\"\n",
        "\n",
        "movie_recs_df = ps.sqldf(recs_query, locals())"
      ],
      "execution_count": 40,
      "outputs": []
    },
    {
      "cell_type": "code",
      "metadata": {
        "id": "c1wy0ftelRit",
        "colab": {
          "base_uri": "https://localhost:8080/"
        },
        "outputId": "0a0518e8-a90a-437f-a4db-c000b9de3593"
      },
      "source": [
        "# 6 points\n",
        "grader.grade(test_case_id = 'test_recs', answer = (recs_query, movie_recs_df))"
      ],
      "execution_count": 41,
      "outputs": [
        {
          "output_type": "stream",
          "name": "stdout",
          "text": [
            "Correct! You earned 6/6 points. You are a star!\n",
            "\n",
            "Your submission has been successfully recorded in the gradebook.\n"
          ]
        }
      ]
    },
    {
      "cell_type": "markdown",
      "source": [
        "### 2.2 Good Critic Reviews \n",
        "\n",
        "Now let us switch gears and examine `reviews_df`. In particular, we want to find the critics who are good at writing reviews.\n",
        "\n",
        "The first criteria that defines a good reviewer is balance and objectivity. Just like people (other than me), no movie is perfect, and so we probably want reviews to cover both the good and the bad. \n",
        "\n",
        "**TODO**: Using `reviews_df` and **pandasql**, find the reviews that contain both the word `\"good\"` and the word `\"bad\"` (case-insensitive). Include substrings (ie. it can be part of a word, such as '**good**-natured' or 'for**bad**e').\n",
        "\n",
        "Store the results in `balanced_df`, ordered by lexicographical order of `review_content`, with the following schema:\n",
        "\n",
        ">critic_name | review_content | \n",
        ">--- | --- | \n",
        "\n",
        "HINT: This involves checking for string similarity.\n",
        "- for Pandas, you can use str.contains()\n",
        "- for Pandasql, you may take a look at `LIKE()` and the wildcards `_` and/or `%`.\n",
        "\n"
      ],
      "metadata": {
        "id": "RAGGwxXzUvqE"
      }
    },
    {
      "cell_type": "code",
      "source": [
        "# TODO: use pandasql to find reviews with both words \"good\" and \"bad\"\n",
        "balanced_query = \"\"\"\n",
        "SELECT critic_name,\treview_content\n",
        "FROM reviews_df\n",
        "WHERE review_content LIKE ('%good%')\n",
        "AND review_content LIKE ('%bad%')\n",
        "ORDER BY review_content\n",
        "\"\"\"\n",
        "balanced_df = ps.sqldf(balanced_query, locals())"
      ],
      "metadata": {
        "id": "089mErwoUvqE"
      },
      "execution_count": 42,
      "outputs": []
    },
    {
      "cell_type": "code",
      "source": [
        "# 2 points\n",
        "grader.grade(test_case_id = 'test_balanced_df', answer = (balanced_df, balanced_query))"
      ],
      "metadata": {
        "id": "X0m5C19CUvqF",
        "colab": {
          "base_uri": "https://localhost:8080/"
        },
        "outputId": "3f0f5e84-0b3b-47c1-b73d-0c0ccfaa9322"
      },
      "execution_count": 43,
      "outputs": [
        {
          "output_type": "stream",
          "name": "stdout",
          "text": [
            "Correct! You earned 2/2 points. You are a star!\n",
            "\n",
            "Your submission has been successfully recorded in the gradebook.\n"
          ]
        }
      ]
    },
    {
      "cell_type": "markdown",
      "source": [
        "*Good cause, bad movie.* One of my favourite quotes.\n",
        "\n",
        "The second criteria we have for good critics is tenure. Let us find the \"seasoned\" reviewers, ie. those who have been writing reviews for a long period of time.\n",
        "\n",
        "**TODO**: Using `reviews_df` and **pandasql**:\n",
        "- Create a column `date_diff` which contains the difference (in number of days) between each critic's first review and most recent review\n",
        "- Only include reviews from the 21st Century (ie. published from 2000 onward)\n",
        "- Only include critics whose first and most recent reviews are at least 10 years **(3652 days)** apart\n",
        "- Do not include reviews by `'Anonymous'`\n",
        "- Make sure your `date_diff` column contains integer values (HINT: see `CAST()`).\n",
        "\n",
        "You may consider casting the dates into a [format](https://www.sqlite.org/lang_datefunc.html) that will help produce the difference in days. \n",
        "\n",
        "Store the results in `critics_time_df`, ordered by descending order of `date_diff`, with the following schema:\n",
        "\n",
        ">critic_name | date_diff | \n",
        ">--- | --- | "
      ],
      "metadata": {
        "id": "-SfmLpQWOtS3"
      }
    },
    {
      "cell_type": "code",
      "source": [
        "reviews_df.info()\n"
      ],
      "metadata": {
        "colab": {
          "base_uri": "https://localhost:8080/"
        },
        "id": "tofWADTE-fb0",
        "outputId": "1ecd3471-80c3-4cce-fc16-090272b79fc9"
      },
      "execution_count": 44,
      "outputs": [
        {
          "output_type": "stream",
          "name": "stdout",
          "text": [
            "<class 'pandas.core.frame.DataFrame'>\n",
            "Int64Index: 758709 entries, 3 to 1130016\n",
            "Data columns (total 8 columns):\n",
            " #   Column                Non-Null Count   Dtype         \n",
            "---  ------                --------------   -----         \n",
            " 0   rotten_tomatoes_link  758709 non-null  object        \n",
            " 1   critic_name           758709 non-null  object        \n",
            " 2   top_critic            758709 non-null  bool          \n",
            " 3   publisher_name        758709 non-null  object        \n",
            " 4   review_type           758709 non-null  object        \n",
            " 5   review_score          758709 non-null  object        \n",
            " 6   review_date           758709 non-null  datetime64[ns]\n",
            " 7   review_content        758709 non-null  object        \n",
            "dtypes: bool(1), datetime64[ns](1), object(6)\n",
            "memory usage: 47.0+ MB\n"
          ]
        }
      ]
    },
    {
      "cell_type": "code",
      "source": [
        "# TODO: use pandasql to find seasoned reviewers\n",
        "time_query = \"\"\"\n",
        "SELECT critic_name, CAST(MAX(JULIANDAY(review_date))-MIN(JULIANDAY(review_date)) as integer) date_diff\n",
        "FROM reviews_df\n",
        "WHERE JULIANDAY(review_date) >= 2451544.5\n",
        "AND critic_name <> \"Anonymous\"\n",
        "GROUP BY critic_name\n",
        "HAVING date_diff >= 3652\n",
        "ORDER BY date_diff DESC\n",
        "\"\"\"\n",
        "\n",
        "critics_time_df = ps.sqldf(time_query, locals())"
      ],
      "metadata": {
        "id": "SiYCPV3KXO3J"
      },
      "execution_count": 45,
      "outputs": []
    },
    {
      "cell_type": "code",
      "source": [
        "# 6 points\n",
        "grader.grade(test_case_id = 'test_critic_review_time', answer = (critics_time_df, time_query))"
      ],
      "metadata": {
        "id": "iMQicmZgB8Xc",
        "colab": {
          "base_uri": "https://localhost:8080/"
        },
        "outputId": "f06a0636-8b50-49bf-a10e-8041e4878ebe"
      },
      "execution_count": 46,
      "outputs": [
        {
          "output_type": "stream",
          "name": "stdout",
          "text": [
            "Correct! You earned 6/6 points. You are a star!\n",
            "\n",
            "Your submission has been successfully recorded in the gradebook.\n"
          ]
        }
      ]
    },
    {
      "cell_type": "markdown",
      "source": [
        "### 2.3 What do we watch on Netflix tonight?\n",
        "\n",
        "Now let's run a tougher analysis. I'm sure we've all experienced the aimless scrolling through the Netflix homepage, trying (and sometimes failing) to find a movie that interests us. It's painful to manually search up the reviews of each movie we see, so why don't we try to automate this process? Let's determine the best on Netflix for each genre using both critics' and audiences' opinions on Rotten Tomatoes.\n",
        "\n",
        "This (and the next 2 questions) will require you to write a [nested SQL query](https://learnsql.com/blog/sql-nested-select/). That is, there will be at least one SELECT statement inside of another SELECT statement. This means that you should **NOT** write two separate SQL commands and call ps.sqldf() twice. \n",
        "\n",
        "**TODO**: Using `exploded_movies_df` and `streaming_df`:\n",
        "- Find all movies on Netflix, then **for each genre,** identify the ones with the highest combined RT tomatometer and audience rating (include all ties). Call this new column `combined_rt_rating`.\n",
        "- Rename the key `genre_category`, and sort your final result by this column in ascending order.\n",
        "\n",
        "Though it could be helpful, **you do NOT have to implement this in pandas**. Store the results in `netflix_best_df`, which should have the following format:\n",
        "\n",
        ">movie_title | genres | genre_category | combined_rt_rating\n",
        ">--- | --- | --- | ---\n",
        "\n",
        "where `genres` represents all the genres of the movie, and `genre_category` represents the genre that the movie's RT ratings are compared to."
      ],
      "metadata": {
        "id": "b_D-YM4gWLdi"
      }
    },
    {
      "cell_type": "code",
      "source": [
        "streaming_df.info()"
      ],
      "metadata": {
        "colab": {
          "base_uri": "https://localhost:8080/"
        },
        "id": "LqxGebrTxfGu",
        "outputId": "855fd5e2-1b5f-4613-d99d-461cc9eaf879"
      },
      "execution_count": 47,
      "outputs": [
        {
          "output_type": "stream",
          "name": "stdout",
          "text": [
            "<class 'pandas.core.frame.DataFrame'>\n",
            "RangeIndex: 9515 entries, 0 to 9514\n",
            "Data columns (total 11 columns):\n",
            " #   Column           Non-Null Count  Dtype \n",
            "---  ------           --------------  ----- \n",
            " 0   Unnamed: 0       9515 non-null   int64 \n",
            " 1   ID               9515 non-null   int64 \n",
            " 2   Title            9515 non-null   object\n",
            " 3   Year             9515 non-null   int64 \n",
            " 4   Age              5338 non-null   object\n",
            " 5   Rotten Tomatoes  9508 non-null   object\n",
            " 6   Netflix          9515 non-null   int64 \n",
            " 7   Hulu             9515 non-null   int64 \n",
            " 8   Prime Video      9515 non-null   int64 \n",
            " 9   Disney+          9515 non-null   int64 \n",
            " 10  Type             9515 non-null   int64 \n",
            "dtypes: int64(8), object(3)\n",
            "memory usage: 817.8+ KB\n"
          ]
        }
      ]
    },
    {
      "cell_type": "code",
      "source": [
        "# TODO: use pandasql to find the best on Netflix\n",
        "\n",
        "netflix_best_query = \"\"\"\n",
        "WITH title_best AS (\n",
        "  SELECT genre, MAX(tomatometer_rating + audience_rating) combined_rt_rating\n",
        "  FROM exploded_movies_df e\n",
        "  INNER JOIN streaming_df s\n",
        "  ON e.movie_title = s.Title\n",
        "  WHERE s.Netflix = 1\n",
        "  GROUP BY genre\n",
        "),\n",
        "title_comb AS (\n",
        "  SELECT movie_title, (tomatometer_rating + audience_rating) combined_rt_rating, genre, rotten_tomatoes_link\n",
        "  FROM exploded_movies_df ex\n",
        "  INNER JOIN streaming_df st\n",
        "  ON ex.movie_title = st.Title\n",
        "  WHERE st.Netflix = 1\n",
        ")\n",
        "\n",
        "SELECT tc.movie_title, m.genres, tb.genre genre_category, tb.combined_rt_rating\n",
        "FROM title_best tb\n",
        "INNER JOIN title_comb tc\n",
        "ON tc.genre = tb.genre\n",
        "AND tc.combined_rt_rating = tb.combined_rt_rating\n",
        "INNER JOIN movies_df m\n",
        "ON m.movie_title = tc.movie_title\n",
        "AND m.rotten_tomatoes_link = tc.rotten_tomatoes_link\n",
        "ORDER BY genre_category\n",
        "\"\"\"\n",
        "\n",
        "netflix_best_df = ps.sqldf(netflix_best_query, locals())"
      ],
      "metadata": {
        "id": "nrsP2KQkOviH"
      },
      "execution_count": 48,
      "outputs": []
    },
    {
      "cell_type": "code",
      "source": [
        "# 10 points\n",
        "grader.grade(test_case_id = 'test_netflix_best', answer = (netflix_best_query, netflix_best_df))"
      ],
      "metadata": {
        "id": "Vyj46kAZ2MQA",
        "colab": {
          "base_uri": "https://localhost:8080/"
        },
        "outputId": "65097d38-00fd-4135-d7a3-ce82b8430295"
      },
      "execution_count": 49,
      "outputs": [
        {
          "output_type": "stream",
          "name": "stdout",
          "text": [
            "Correct! You earned 10/10 points. You are a star!\n",
            "\n",
            "Your submission has been successfully recorded in the gradebook.\n"
          ]
        }
      ]
    },
    {
      "cell_type": "markdown",
      "source": [
        "### 2.4 Which months of the year does each streaming service have the most number of movies available?\n",
        "\n",
        "Maybe you don't care about picking out the \"good\" movies from the \"bad\" ones. Maybe you just want to watch as many movies as possible each month. Still, paying those monthly bills for all these streaming services (which seem to be increasing in number every day) doesn't seem to be a sustainable strategy. It would be much easier to pay for certain streaming services in the month they have the most movies.\n",
        "\n",
        "**TODO**: Using `movies_df` and `streaming_df`,\n",
        "- Count the number of movies for each streaming service per month using the `month` column in `movies_df` you created earlier.\n",
        "- For each streaming service, find the month in which they have the most movies available and how many movies are available in that month. Include ties, if there are any.\n",
        "\n",
        "Store the results in `best_streaming_df`, which should have the following format:\n",
        "\n",
        ">streaming_service | max_month | num_movies\n",
        ">--- | --- | --- |\n",
        "\n",
        "For example, if Netflix has the most movies (100) in October and Hulu has the most movies (90) in January, your query should output:\n",
        "\n",
        "streaming_service  | max_month        | num_movies\n",
        "-------------------|------------------|--------------\n",
        "Netflix    | 10                       | 100\n",
        "Hulu       | 1                        | 90\n",
        "\n",
        "and so on, for all four streaming services.\n",
        "\n",
        "**Hints:**\n",
        "- Make use of `UNION ALL` to stack tables with the same column names."
      ],
      "metadata": {
        "id": "6NJEomBiFNB_"
      }
    },
    {
      "cell_type": "code",
      "source": [
        "movies_df.info()"
      ],
      "metadata": {
        "colab": {
          "base_uri": "https://localhost:8080/"
        },
        "id": "rhsTMCfpC2j-",
        "outputId": "0cd9cbe9-e139-4470-f762-48023a23a85f"
      },
      "execution_count": 50,
      "outputs": [
        {
          "output_type": "stream",
          "name": "stdout",
          "text": [
            "<class 'pandas.core.frame.DataFrame'>\n",
            "Int64Index: 14627 entries, 0 to 17711\n",
            "Data columns (total 20 columns):\n",
            " #   Column                            Non-Null Count  Dtype         \n",
            "---  ------                            --------------  -----         \n",
            " 0   rotten_tomatoes_link              14627 non-null  object        \n",
            " 1   movie_title                       14627 non-null  object        \n",
            " 2   movie_info                        14627 non-null  object        \n",
            " 3   content_rating                    14627 non-null  object        \n",
            " 4   genres                            14627 non-null  object        \n",
            " 5   directors                         14627 non-null  object        \n",
            " 6   authors                           14627 non-null  object        \n",
            " 7   actors                            14627 non-null  object        \n",
            " 8   original_release_date             14627 non-null  datetime64[ns]\n",
            " 9   streaming_release_date            14627 non-null  datetime64[ns]\n",
            " 10  runtime                           14627 non-null  int64         \n",
            " 11  tomatometer_status                14627 non-null  object        \n",
            " 12  tomatometer_rating                14627 non-null  int64         \n",
            " 13  tomatometer_count                 14627 non-null  int64         \n",
            " 14  audience_status                   14627 non-null  object        \n",
            " 15  audience_rating                   14627 non-null  int64         \n",
            " 16  audience_count                    14627 non-null  int64         \n",
            " 17  tomatometer_fresh_critics_count   14627 non-null  int64         \n",
            " 18  tomatometer_rotten_critics_count  14627 non-null  int64         \n",
            " 19  month                             14627 non-null  int64         \n",
            "dtypes: datetime64[ns](2), int64(8), object(10)\n",
            "memory usage: 2.3+ MB\n"
          ]
        }
      ]
    },
    {
      "cell_type": "code",
      "source": [
        "# TODO: use pandasql to find the month where each streaming service has the most movies\n",
        "best_streaming_query = \"\"\"\n",
        "WITH list AS (\n",
        "  SELECT 'Netflix' streaming_service, COUNT(*) num_movies, month\n",
        "  FROM streaming_df \n",
        "  INNER JOIN movies_df \n",
        "  ON Title = movie_title\n",
        "  WHERE Netflix = 1\n",
        "  GROUP BY month\n",
        "\n",
        "  UNION\n",
        "  SELECT 'Hulu' streaming_service, COUNT(*) num_movies, month\n",
        "  FROM streaming_df \n",
        "  INNER JOIN movies_df \n",
        "  ON Title = movie_title\n",
        "  WHERE Hulu = 1\n",
        "  GROUP BY month\n",
        "\n",
        "  UNION\n",
        "  SELECT 'Prime Video' streaming_service, COUNT(*) num_movies, month\n",
        "  FROM streaming_df \n",
        "  INNER JOIN movies_df \n",
        "  ON Title = movie_title\n",
        "  WHERE `Prime Video` = 1\n",
        "  GROUP BY month\n",
        "  \n",
        "  UNION\n",
        "  SELECT 'Disney+' streaming_service, COUNT(*) num_movies, month\n",
        "  FROM streaming_df \n",
        "  INNER JOIN movies_df \n",
        "  ON Title = movie_title\n",
        "  WHERE `Disney+` = 1\n",
        "  GROUP BY month\n",
        "),\n",
        "most_list AS(\n",
        "  SELECT streaming_service, MAX(num_movies) num_movies\n",
        "  FROM list\n",
        "  GROUP BY streaming_service\n",
        ")\n",
        "SELECT m.streaming_service, l.month max_month, m.num_movies\n",
        "FROM most_list m\n",
        "INNER JOIN list l\n",
        "ON m.streaming_service = l.streaming_service\n",
        "AND m.num_movies = l.num_movies\n",
        "\"\"\"\n",
        "\n",
        "best_streaming_df = ps.sqldf(best_streaming_query, locals())\n",
        "best_streaming_df"
      ],
      "metadata": {
        "id": "xzFrXckUFMAr",
        "colab": {
          "base_uri": "https://localhost:8080/",
          "height": 175
        },
        "outputId": "e9638adb-c375-4701-d904-f79e1cbdf5ba"
      },
      "execution_count": 51,
      "outputs": [
        {
          "output_type": "execute_result",
          "data": {
            "text/html": [
              "\n",
              "  <div id=\"df-b893b692-591d-49a6-984e-67129445d40e\">\n",
              "    <div class=\"colab-df-container\">\n",
              "      <div>\n",
              "<style scoped>\n",
              "    .dataframe tbody tr th:only-of-type {\n",
              "        vertical-align: middle;\n",
              "    }\n",
              "\n",
              "    .dataframe tbody tr th {\n",
              "        vertical-align: top;\n",
              "    }\n",
              "\n",
              "    .dataframe thead th {\n",
              "        text-align: right;\n",
              "    }\n",
              "</style>\n",
              "<table border=\"1\" class=\"dataframe\">\n",
              "  <thead>\n",
              "    <tr style=\"text-align: right;\">\n",
              "      <th></th>\n",
              "      <th>streaming_service</th>\n",
              "      <th>max_month</th>\n",
              "      <th>num_movies</th>\n",
              "    </tr>\n",
              "  </thead>\n",
              "  <tbody>\n",
              "    <tr>\n",
              "      <th>0</th>\n",
              "      <td>Disney+</td>\n",
              "      <td>6</td>\n",
              "      <td>44</td>\n",
              "    </tr>\n",
              "    <tr>\n",
              "      <th>1</th>\n",
              "      <td>Hulu</td>\n",
              "      <td>8</td>\n",
              "      <td>65</td>\n",
              "    </tr>\n",
              "    <tr>\n",
              "      <th>2</th>\n",
              "      <td>Netflix</td>\n",
              "      <td>10</td>\n",
              "      <td>92</td>\n",
              "    </tr>\n",
              "    <tr>\n",
              "      <th>3</th>\n",
              "      <td>Prime Video</td>\n",
              "      <td>9</td>\n",
              "      <td>126</td>\n",
              "    </tr>\n",
              "  </tbody>\n",
              "</table>\n",
              "</div>\n",
              "      <button class=\"colab-df-convert\" onclick=\"convertToInteractive('df-b893b692-591d-49a6-984e-67129445d40e')\"\n",
              "              title=\"Convert this dataframe to an interactive table.\"\n",
              "              style=\"display:none;\">\n",
              "        \n",
              "  <svg xmlns=\"http://www.w3.org/2000/svg\" height=\"24px\"viewBox=\"0 0 24 24\"\n",
              "       width=\"24px\">\n",
              "    <path d=\"M0 0h24v24H0V0z\" fill=\"none\"/>\n",
              "    <path d=\"M18.56 5.44l.94 2.06.94-2.06 2.06-.94-2.06-.94-.94-2.06-.94 2.06-2.06.94zm-11 1L8.5 8.5l.94-2.06 2.06-.94-2.06-.94L8.5 2.5l-.94 2.06-2.06.94zm10 10l.94 2.06.94-2.06 2.06-.94-2.06-.94-.94-2.06-.94 2.06-2.06.94z\"/><path d=\"M17.41 7.96l-1.37-1.37c-.4-.4-.92-.59-1.43-.59-.52 0-1.04.2-1.43.59L10.3 9.45l-7.72 7.72c-.78.78-.78 2.05 0 2.83L4 21.41c.39.39.9.59 1.41.59.51 0 1.02-.2 1.41-.59l7.78-7.78 2.81-2.81c.8-.78.8-2.07 0-2.86zM5.41 20L4 18.59l7.72-7.72 1.47 1.35L5.41 20z\"/>\n",
              "  </svg>\n",
              "      </button>\n",
              "      \n",
              "  <style>\n",
              "    .colab-df-container {\n",
              "      display:flex;\n",
              "      flex-wrap:wrap;\n",
              "      gap: 12px;\n",
              "    }\n",
              "\n",
              "    .colab-df-convert {\n",
              "      background-color: #E8F0FE;\n",
              "      border: none;\n",
              "      border-radius: 50%;\n",
              "      cursor: pointer;\n",
              "      display: none;\n",
              "      fill: #1967D2;\n",
              "      height: 32px;\n",
              "      padding: 0 0 0 0;\n",
              "      width: 32px;\n",
              "    }\n",
              "\n",
              "    .colab-df-convert:hover {\n",
              "      background-color: #E2EBFA;\n",
              "      box-shadow: 0px 1px 2px rgba(60, 64, 67, 0.3), 0px 1px 3px 1px rgba(60, 64, 67, 0.15);\n",
              "      fill: #174EA6;\n",
              "    }\n",
              "\n",
              "    [theme=dark] .colab-df-convert {\n",
              "      background-color: #3B4455;\n",
              "      fill: #D2E3FC;\n",
              "    }\n",
              "\n",
              "    [theme=dark] .colab-df-convert:hover {\n",
              "      background-color: #434B5C;\n",
              "      box-shadow: 0px 1px 3px 1px rgba(0, 0, 0, 0.15);\n",
              "      filter: drop-shadow(0px 1px 2px rgba(0, 0, 0, 0.3));\n",
              "      fill: #FFFFFF;\n",
              "    }\n",
              "  </style>\n",
              "\n",
              "      <script>\n",
              "        const buttonEl =\n",
              "          document.querySelector('#df-b893b692-591d-49a6-984e-67129445d40e button.colab-df-convert');\n",
              "        buttonEl.style.display =\n",
              "          google.colab.kernel.accessAllowed ? 'block' : 'none';\n",
              "\n",
              "        async function convertToInteractive(key) {\n",
              "          const element = document.querySelector('#df-b893b692-591d-49a6-984e-67129445d40e');\n",
              "          const dataTable =\n",
              "            await google.colab.kernel.invokeFunction('convertToInteractive',\n",
              "                                                     [key], {});\n",
              "          if (!dataTable) return;\n",
              "\n",
              "          const docLinkHtml = 'Like what you see? Visit the ' +\n",
              "            '<a target=\"_blank\" href=https://colab.research.google.com/notebooks/data_table.ipynb>data table notebook</a>'\n",
              "            + ' to learn more about interactive tables.';\n",
              "          element.innerHTML = '';\n",
              "          dataTable['output_type'] = 'display_data';\n",
              "          await google.colab.output.renderOutput(dataTable, element);\n",
              "          const docLink = document.createElement('div');\n",
              "          docLink.innerHTML = docLinkHtml;\n",
              "          element.appendChild(docLink);\n",
              "        }\n",
              "      </script>\n",
              "    </div>\n",
              "  </div>\n",
              "  "
            ],
            "text/plain": [
              "  streaming_service  max_month  num_movies\n",
              "0           Disney+          6          44\n",
              "1              Hulu          8          65\n",
              "2           Netflix         10          92\n",
              "3       Prime Video          9         126"
            ]
          },
          "metadata": {},
          "execution_count": 51
        }
      ]
    },
    {
      "cell_type": "code",
      "source": [
        "# 10 points\n",
        "grader.grade(test_case_id = 'test_best_streaming', answer = (best_streaming_query, best_streaming_df))"
      ],
      "metadata": {
        "id": "B6INUivb2Khz",
        "colab": {
          "base_uri": "https://localhost:8080/"
        },
        "outputId": "bac59752-ebca-4ca4-f9cc-177869ad8df6"
      },
      "execution_count": 52,
      "outputs": [
        {
          "output_type": "stream",
          "name": "stdout",
          "text": [
            "Correct! You earned 10/10 points. You are a star!\n",
            "\n",
            "Your submission has been successfully recorded in the gradebook.\n"
          ]
        }
      ]
    },
    {
      "cell_type": "markdown",
      "source": [
        "### 2.5 What movies are underrated by critics (ft. top critics)?\n",
        "\n",
        "[According to the Rotten Tomatoes website](https://www.rottentomatoes.com/critics/top_critics), \"Top Critic is a designation created to distinguish Tomatometer-approved critics who excel at their craft. Critics selected are well-established, influential, and prolific...\" Although all critics on RT are officially approved, we want to establish a top-critic-only score that only includes the opinions of the \"cream of the crop\". Certain films could be poorly received by regular critics, but top critics see something special in them. Let's try and find these underappreciated movies!\n",
        "\n",
        "**TODO**: Using `reviews_df` and `movies_df`:\n",
        "- Filter out all non-top critics, then compute a new Tomatometer rating for each movie based on its proportion of Fresh reviews to total reviews (*both statistics among top critics only*). Call this new column `top_critic_tomatometer`, and **round this percentage to the nearest integer.**\n",
        "- Constrain the movie pool to **only ones that have more than 5 top critic reviews** to mitigate outlier impact.\n",
        "- Retrieve the top 10 movies with the highest difference between `top_critic_tomatometer` and its provided Tomatometer rating (`tomatometer_rating`) - name this difference `score_diff`. \n",
        "  - `top_critic_tomatometer` - `tomatometer_rating`. Not the absolute value of the difference.\n",
        "\n",
        "Store the results in `underrated_movies_df`, which should have the following format:\n",
        "\n",
        ">movie_title | top_critic_tomatometer | tomatometer_rating | score_diff\n",
        ">--- | --- | --- | ---\n",
        "\n",
        "**Hints:**\n",
        "- SQLite stores booleans as integers 1 (True) and 0 (False), respectively.\n",
        "- Tomatometer ratings are provided as percentages (i.e. 84 not 0.84), so make sure your top critic scores are as well.\n",
        "- Since there are numerous remakes included in the dataset with the same name as the original/multiple other versions, make sure you conduct aggregate/join operations on `rotten_tomatoes_link` to ensure uniqueness.\n",
        "- Dividing two integers in SQL yields a rounded integer."
      ],
      "metadata": {
        "id": "t3mlQcJhtlgz"
      }
    },
    {
      "cell_type": "code",
      "source": [
        "reviews_df.head()"
      ],
      "metadata": {
        "colab": {
          "base_uri": "https://localhost:8080/",
          "height": 424
        },
        "id": "jCECeEIOKdkL",
        "outputId": "54e2cecd-afaf-495c-801e-637d0c60f5ec"
      },
      "execution_count": 53,
      "outputs": [
        {
          "output_type": "execute_result",
          "data": {
            "text/html": [
              "\n",
              "  <div id=\"df-9d6059ac-b3ab-4eaf-ac67-ddc767a358b0\">\n",
              "    <div class=\"colab-df-container\">\n",
              "      <div>\n",
              "<style scoped>\n",
              "    .dataframe tbody tr th:only-of-type {\n",
              "        vertical-align: middle;\n",
              "    }\n",
              "\n",
              "    .dataframe tbody tr th {\n",
              "        vertical-align: top;\n",
              "    }\n",
              "\n",
              "    .dataframe thead th {\n",
              "        text-align: right;\n",
              "    }\n",
              "</style>\n",
              "<table border=\"1\" class=\"dataframe\">\n",
              "  <thead>\n",
              "    <tr style=\"text-align: right;\">\n",
              "      <th></th>\n",
              "      <th>rotten_tomatoes_link</th>\n",
              "      <th>critic_name</th>\n",
              "      <th>top_critic</th>\n",
              "      <th>publisher_name</th>\n",
              "      <th>review_type</th>\n",
              "      <th>review_score</th>\n",
              "      <th>review_date</th>\n",
              "      <th>review_content</th>\n",
              "    </tr>\n",
              "  </thead>\n",
              "  <tbody>\n",
              "    <tr>\n",
              "      <th>3</th>\n",
              "      <td>m/0814255</td>\n",
              "      <td>Ben McEachen</td>\n",
              "      <td>False</td>\n",
              "      <td>Sunday Mail (Australia)</td>\n",
              "      <td>Fresh</td>\n",
              "      <td>3.5/5</td>\n",
              "      <td>2010-02-09</td>\n",
              "      <td>Whether audiences will get behind The Lightnin...</td>\n",
              "    </tr>\n",
              "    <tr>\n",
              "      <th>6</th>\n",
              "      <td>m/0814255</td>\n",
              "      <td>Nick Schager</td>\n",
              "      <td>False</td>\n",
              "      <td>Slant Magazine</td>\n",
              "      <td>Rotten</td>\n",
              "      <td>1/4</td>\n",
              "      <td>2010-02-10</td>\n",
              "      <td>Harry Potter knockoffs don't come more transpa...</td>\n",
              "    </tr>\n",
              "    <tr>\n",
              "      <th>7</th>\n",
              "      <td>m/0814255</td>\n",
              "      <td>Bill Goodykoontz</td>\n",
              "      <td>True</td>\n",
              "      <td>Arizona Republic</td>\n",
              "      <td>Fresh</td>\n",
              "      <td>3.5/5</td>\n",
              "      <td>2010-02-10</td>\n",
              "      <td>Percy Jackson isn't a great movie, but it's a ...</td>\n",
              "    </tr>\n",
              "    <tr>\n",
              "      <th>8</th>\n",
              "      <td>m/0814255</td>\n",
              "      <td>Jordan Hoffman</td>\n",
              "      <td>False</td>\n",
              "      <td>UGO</td>\n",
              "      <td>Fresh</td>\n",
              "      <td>B</td>\n",
              "      <td>2010-02-10</td>\n",
              "      <td>Fun, brisk and imaginative</td>\n",
              "    </tr>\n",
              "    <tr>\n",
              "      <th>9</th>\n",
              "      <td>m/0814255</td>\n",
              "      <td>Jim Schembri</td>\n",
              "      <td>True</td>\n",
              "      <td>The Age (Australia)</td>\n",
              "      <td>Fresh</td>\n",
              "      <td>3/5</td>\n",
              "      <td>2010-02-10</td>\n",
              "      <td>Crammed with dragons, set-destroying fights an...</td>\n",
              "    </tr>\n",
              "  </tbody>\n",
              "</table>\n",
              "</div>\n",
              "      <button class=\"colab-df-convert\" onclick=\"convertToInteractive('df-9d6059ac-b3ab-4eaf-ac67-ddc767a358b0')\"\n",
              "              title=\"Convert this dataframe to an interactive table.\"\n",
              "              style=\"display:none;\">\n",
              "        \n",
              "  <svg xmlns=\"http://www.w3.org/2000/svg\" height=\"24px\"viewBox=\"0 0 24 24\"\n",
              "       width=\"24px\">\n",
              "    <path d=\"M0 0h24v24H0V0z\" fill=\"none\"/>\n",
              "    <path d=\"M18.56 5.44l.94 2.06.94-2.06 2.06-.94-2.06-.94-.94-2.06-.94 2.06-2.06.94zm-11 1L8.5 8.5l.94-2.06 2.06-.94-2.06-.94L8.5 2.5l-.94 2.06-2.06.94zm10 10l.94 2.06.94-2.06 2.06-.94-2.06-.94-.94-2.06-.94 2.06-2.06.94z\"/><path d=\"M17.41 7.96l-1.37-1.37c-.4-.4-.92-.59-1.43-.59-.52 0-1.04.2-1.43.59L10.3 9.45l-7.72 7.72c-.78.78-.78 2.05 0 2.83L4 21.41c.39.39.9.59 1.41.59.51 0 1.02-.2 1.41-.59l7.78-7.78 2.81-2.81c.8-.78.8-2.07 0-2.86zM5.41 20L4 18.59l7.72-7.72 1.47 1.35L5.41 20z\"/>\n",
              "  </svg>\n",
              "      </button>\n",
              "      \n",
              "  <style>\n",
              "    .colab-df-container {\n",
              "      display:flex;\n",
              "      flex-wrap:wrap;\n",
              "      gap: 12px;\n",
              "    }\n",
              "\n",
              "    .colab-df-convert {\n",
              "      background-color: #E8F0FE;\n",
              "      border: none;\n",
              "      border-radius: 50%;\n",
              "      cursor: pointer;\n",
              "      display: none;\n",
              "      fill: #1967D2;\n",
              "      height: 32px;\n",
              "      padding: 0 0 0 0;\n",
              "      width: 32px;\n",
              "    }\n",
              "\n",
              "    .colab-df-convert:hover {\n",
              "      background-color: #E2EBFA;\n",
              "      box-shadow: 0px 1px 2px rgba(60, 64, 67, 0.3), 0px 1px 3px 1px rgba(60, 64, 67, 0.15);\n",
              "      fill: #174EA6;\n",
              "    }\n",
              "\n",
              "    [theme=dark] .colab-df-convert {\n",
              "      background-color: #3B4455;\n",
              "      fill: #D2E3FC;\n",
              "    }\n",
              "\n",
              "    [theme=dark] .colab-df-convert:hover {\n",
              "      background-color: #434B5C;\n",
              "      box-shadow: 0px 1px 3px 1px rgba(0, 0, 0, 0.15);\n",
              "      filter: drop-shadow(0px 1px 2px rgba(0, 0, 0, 0.3));\n",
              "      fill: #FFFFFF;\n",
              "    }\n",
              "  </style>\n",
              "\n",
              "      <script>\n",
              "        const buttonEl =\n",
              "          document.querySelector('#df-9d6059ac-b3ab-4eaf-ac67-ddc767a358b0 button.colab-df-convert');\n",
              "        buttonEl.style.display =\n",
              "          google.colab.kernel.accessAllowed ? 'block' : 'none';\n",
              "\n",
              "        async function convertToInteractive(key) {\n",
              "          const element = document.querySelector('#df-9d6059ac-b3ab-4eaf-ac67-ddc767a358b0');\n",
              "          const dataTable =\n",
              "            await google.colab.kernel.invokeFunction('convertToInteractive',\n",
              "                                                     [key], {});\n",
              "          if (!dataTable) return;\n",
              "\n",
              "          const docLinkHtml = 'Like what you see? Visit the ' +\n",
              "            '<a target=\"_blank\" href=https://colab.research.google.com/notebooks/data_table.ipynb>data table notebook</a>'\n",
              "            + ' to learn more about interactive tables.';\n",
              "          element.innerHTML = '';\n",
              "          dataTable['output_type'] = 'display_data';\n",
              "          await google.colab.output.renderOutput(dataTable, element);\n",
              "          const docLink = document.createElement('div');\n",
              "          docLink.innerHTML = docLinkHtml;\n",
              "          element.appendChild(docLink);\n",
              "        }\n",
              "      </script>\n",
              "    </div>\n",
              "  </div>\n",
              "  "
            ],
            "text/plain": [
              "  rotten_tomatoes_link  ...                                     review_content\n",
              "3            m/0814255  ...  Whether audiences will get behind The Lightnin...\n",
              "6            m/0814255  ...  Harry Potter knockoffs don't come more transpa...\n",
              "7            m/0814255  ...  Percy Jackson isn't a great movie, but it's a ...\n",
              "8            m/0814255  ...                         Fun, brisk and imaginative\n",
              "9            m/0814255  ...  Crammed with dragons, set-destroying fights an...\n",
              "\n",
              "[5 rows x 8 columns]"
            ]
          },
          "metadata": {},
          "execution_count": 53
        }
      ]
    },
    {
      "cell_type": "code",
      "source": [
        "# TODO: use pandasql to find the regular critics' underrated movies\n",
        "underrated_movies_query = \"\"\"\n",
        "WITH top AS(\n",
        "  SELECT rotten_tomatoes_link, CASE WHEN review_type='Fresh' THEN 1 ELSE 0 END counter\n",
        "  FROM reviews_df\n",
        "  WHERE top_critic = 1\n",
        "),\n",
        "top_per AS(\n",
        "  SELECT rotten_tomatoes_link, 100*SUM(counter)/COUNT(*) top_critic_tomatometer\n",
        "  FROM top\n",
        "  WHERE rotten_tomatoes_link IN (SELECT DISTINCT rotten_tomatoes_link FROM reviews_df WHERE review_type = 'Fresh')\n",
        "  GROUP BY rotten_tomatoes_link\n",
        "  HAVING COUNT(*)>5\n",
        ")\n",
        "\n",
        "SELECT b.movie_title, a.top_critic_tomatometer, b.tomatometer_rating, (a.top_critic_tomatometer - b.tomatometer_rating) score_diff\n",
        "FROM top_per a\n",
        "INNER JOIN movies_df b\n",
        "ON a.rotten_tomatoes_link = b.rotten_tomatoes_link\n",
        "ORDER BY score_diff DESC\n",
        "LIMIT 10\n",
        "\"\"\""
      ],
      "metadata": {
        "id": "x2V5Lnk9toNi"
      },
      "execution_count": 102,
      "outputs": []
    },
    {
      "cell_type": "markdown",
      "source": [
        "**Note:** This query should take no more than a minute to run. If yours has been running for longer than a few minutes, then you're probably on the wrong track."
      ],
      "metadata": {
        "id": "ui1DHXOxLN7X"
      }
    },
    {
      "cell_type": "code",
      "source": [
        "underrated_movies_df = ps.sqldf(underrated_movies_query, locals())"
      ],
      "metadata": {
        "id": "6zkhy0-qVQBG"
      },
      "execution_count": 103,
      "outputs": []
    },
    {
      "cell_type": "code",
      "metadata": {
        "id": "l3P9WxuSU_Yc",
        "colab": {
          "base_uri": "https://localhost:8080/"
        },
        "outputId": "60d19a8f-6e6e-4e5e-efbb-220eef9f4189"
      },
      "source": [
        "# 15 points\n",
        "grader.grade(test_case_id = 'test_underrated_movies', answer = (underrated_movies_query, underrated_movies_df))"
      ],
      "execution_count": 104,
      "outputs": [
        {
          "output_type": "stream",
          "name": "stdout",
          "text": [
            "Correct! You earned 15/15 points. You are a star!\n",
            "\n",
            "Your submission has been successfully recorded in the gradebook.\n"
          ]
        }
      ]
    },
    {
      "cell_type": "markdown",
      "metadata": {
        "id": "QbNUhlz9ftHI"
      },
      "source": [
        "## Part 3: Working with Text Data [16 points]\n",
        "\n",
        "Shifting gears, let's now try to do some text-based analysis. Text data is complex, but can also be used to generate extremely interpretable results, making it valuable and interesting. \n",
        "\n",
        "Throughout this section, we will attempt to answer the following question:\n",
        "\n",
        "**How do reviews by top critics differ from reviews made by non-top critics?**\n"
      ]
    },
    {
      "cell_type": "markdown",
      "metadata": {
        "id": "p9bd5kwIENXe"
      },
      "source": [
        "###3.1 Extract Data\n",
        "**TODO**: Using `reviews_df`, create two dataframes:\n",
        "* `top_critics_df`: where `top_critic` is True\n",
        "* `regular_critics_df`: where `top_critic` is False.\n",
        "\n",
        "Then, for each dataframe, convert the `review_content` column into two lists called `top_content` and `regular_content`, respectively."
      ]
    },
    {
      "cell_type": "code",
      "metadata": {
        "id": "flAxhXQUpFDo"
      },
      "source": [
        "# TODO: create two dataframes & two lists\n",
        "top_critics_df = reviews_df[reviews_df['top_critic'] == True]\n",
        "top_content = top_critics_df['review_content']\n",
        "regular_critics_df= reviews_df[reviews_df['top_critic'] == False]\n",
        "regular_content = regular_critics_df['review_content']"
      ],
      "execution_count": 111,
      "outputs": []
    },
    {
      "cell_type": "code",
      "metadata": {
        "id": "AQhF6QxnFAx7",
        "colab": {
          "base_uri": "https://localhost:8080/"
        },
        "outputId": "59ea1e71-001d-44e7-e969-dc776798a741"
      },
      "source": [
        "# 1 point\n",
        "grader.grade(test_case_id = 'test_top_content_df', answer = len(top_content))"
      ],
      "execution_count": 112,
      "outputs": [
        {
          "output_type": "stream",
          "name": "stdout",
          "text": [
            "Correct! You earned 1/1 points. You are a star!\n",
            "\n",
            "Your submission has been successfully recorded in the gradebook.\n"
          ]
        }
      ]
    },
    {
      "cell_type": "code",
      "metadata": {
        "id": "Gj9v2Gq2FNfm",
        "colab": {
          "base_uri": "https://localhost:8080/"
        },
        "outputId": "8621f631-ffe1-449f-ebf0-a643967f4ce2"
      },
      "source": [
        "# 1 point\n",
        "grader.grade(test_case_id = 'test_regular_content_df', answer = len(regular_content))"
      ],
      "execution_count": 113,
      "outputs": [
        {
          "output_type": "stream",
          "name": "stdout",
          "text": [
            "Correct! You earned 1/1 points. You are a star!\n",
            "\n",
            "Your submission has been successfully recorded in the gradebook.\n"
          ]
        }
      ]
    },
    {
      "cell_type": "markdown",
      "metadata": {
        "id": "RNwLCBeTOLy3"
      },
      "source": [
        "###3.2 Tokenize the Text\n",
        "\n",
        "Here, we are going to split up the content into a list of words. We will use the **nltk** package, which contains an extensive set of tools to process text. Of course, like regex, this homework would be miles long if we really went into detail, so we are only going to utilize the following components:\n",
        "- `nltk.word_tokenize()`: a function used to tokenize our text\n",
        "- `nltk.corpus.stopwords`: a list of commonly used words such as \"a\",\"an\",\"in\" that are often ignored in text-related analysis\n",
        "\n",
        "Note that prior to this step for text analysis, we would typically clean the text first using regex. We didn't have to do that because the dataset was already well-cleaned, bt keep that in mind.\n",
        "\n",
        "**TODO:** First, use **stopwords** to create a set of the most common english stopwords. Then, implement **tokenized_content(content)** that takes in a content string and:\n",
        "1. tokenizes the text\n",
        "2. lowercases the token\n",
        "3. removes stop words (commonly used words such as \"a\",\"an\", \"in\")\n",
        "4. keeps words with only alphabet characters (no punctuation)"
      ]
    },
    {
      "cell_type": "code",
      "metadata": {
        "id": "AnFn2xJY5YK_",
        "colab": {
          "base_uri": "https://localhost:8080/",
          "height": 35
        },
        "outputId": "fa7a8a48-bb7a-48e8-b61d-fed0cbb96f0e"
      },
      "source": [
        "import nltk\n",
        "nltk.__version__"
      ],
      "execution_count": 114,
      "outputs": [
        {
          "output_type": "execute_result",
          "data": {
            "application/vnd.google.colaboratory.intrinsic+json": {
              "type": "string"
            },
            "text/plain": [
              "'3.2.5'"
            ]
          },
          "metadata": {},
          "execution_count": 114
        }
      ]
    },
    {
      "cell_type": "code",
      "metadata": {
        "id": "mUDt0d68oCfu",
        "colab": {
          "base_uri": "https://localhost:8080/"
        },
        "outputId": "e74a626a-91bc-41c7-dbff-a2808e90e384"
      },
      "source": [
        "from nltk.corpus import stopwords\n",
        "nltk.download('stopwords')\n",
        "stopwords = set(stopwords.words('english'))\n",
        "# Note that stopwords are all in lowercase format"
      ],
      "execution_count": 115,
      "outputs": [
        {
          "output_type": "stream",
          "name": "stdout",
          "text": [
            "[nltk_data] Downloading package stopwords to /root/nltk_data...\n",
            "[nltk_data]   Unzipping corpora/stopwords.zip.\n"
          ]
        }
      ]
    },
    {
      "cell_type": "code",
      "metadata": {
        "id": "3bLwPIx2nPy-"
      },
      "source": [
        "# TODO: Create tokenized_content(content) function\n",
        "def tokenized_content(content):\n",
        "  words = nltk.word_tokenize(content)\n",
        "  words = [word.lower() for word in words if word.isalpha()]\n",
        "  words = [word for word in words if word not in stopwords]\n",
        "  return words"
      ],
      "execution_count": 120,
      "outputs": []
    },
    {
      "cell_type": "markdown",
      "metadata": {
        "id": "Es5zPleHSROw"
      },
      "source": [
        "Now, apply your `tokenize_content()` function to each piece of content in **top_content** and **regular_content** and flatten both of the lists to create **top_tokens** and **regular_tokens**\n"
      ]
    },
    {
      "cell_type": "code",
      "metadata": {
        "id": "3F5mW4qoq2n8"
      },
      "source": [
        "# TODO: tokenize and flatten\n",
        "top_content = [tokenized_content(sent) for sent in top_content]\n",
        "top_tokens = [word for sent in top_content for word in sent]\n",
        "regular_content  = [tokenized_content(sent) for sent in regular_content]\n",
        "regular_tokens = [word for sent in regular_content for word in sent]"
      ],
      "execution_count": 123,
      "outputs": []
    },
    {
      "cell_type": "code",
      "metadata": {
        "id": "A7PcX0mtG40R",
        "colab": {
          "base_uri": "https://localhost:8080/"
        },
        "outputId": "d7e3dacb-ac0d-44a4-83de-582f66dad716"
      },
      "source": [
        "# 1 point\n",
        "grader.grade(test_case_id = 'test_top_tokens', answer = len(top_tokens))"
      ],
      "execution_count": 125,
      "outputs": [
        {
          "output_type": "stream",
          "name": "stdout",
          "text": [
            "Correct! You earned 1/1 points. You are a star!\n",
            "\n",
            "Your submission has been successfully recorded in the gradebook.\n"
          ]
        }
      ]
    },
    {
      "cell_type": "code",
      "metadata": {
        "id": "mVQN15_bG5Af",
        "colab": {
          "base_uri": "https://localhost:8080/"
        },
        "outputId": "8f56ec17-3410-407f-d454-2139cab8d8c6"
      },
      "source": [
        "# 1 point\n",
        "grader.grade(test_case_id = 'test_regular_tokens', answer = len(regular_tokens))"
      ],
      "execution_count": 124,
      "outputs": [
        {
          "output_type": "stream",
          "name": "stdout",
          "text": [
            "Correct! You earned 1/1 points. You are a star!\n",
            "\n",
            "Your submission has been successfully recorded in the gradebook.\n"
          ]
        }
      ]
    },
    {
      "cell_type": "markdown",
      "metadata": {
        "id": "JT0sTQHvp5E6"
      },
      "source": [
        "### 3.3 Most Frequent Words\n",
        "**TODO**: Now, find the 20 most common words amongst the content of `top_tokens` and `regular_tokens`. Return this as a list of `(word, count)` tuples, in descending order of `count`.\n",
        "\n",
        "**Hint**: You can use `Counter` in this question: https://docs.python.org/2/library/collections.html#counter-objects"
      ]
    },
    {
      "cell_type": "code",
      "metadata": {
        "id": "SB-DiBperGEU"
      },
      "source": [
        "# TODO: Find 20 most common words amongst the content of the top and regular critic reviews\n",
        "top_most_common = Counter(top_tokens).most_common(20)\n",
        "regular_most_common = Counter(regular_tokens).most_common(20)"
      ],
      "execution_count": 126,
      "outputs": []
    },
    {
      "cell_type": "code",
      "metadata": {
        "id": "4VPDgzbuIyKO",
        "colab": {
          "base_uri": "https://localhost:8080/"
        },
        "outputId": "27822409-b7c7-4f2e-8fca-7572fbe0e25b"
      },
      "source": [
        "# 2 points\n",
        "grader.grade(test_case_id = 'test_top_most_common', answer = top_most_common)"
      ],
      "execution_count": 127,
      "outputs": [
        {
          "output_type": "stream",
          "name": "stdout",
          "text": [
            "Correct! You earned 2/2 points. You are a star!\n",
            "\n",
            "Your submission has been successfully recorded in the gradebook.\n"
          ]
        }
      ]
    },
    {
      "cell_type": "code",
      "metadata": {
        "id": "PmPqBlD_I0Og",
        "colab": {
          "base_uri": "https://localhost:8080/"
        },
        "outputId": "5e8f92ea-f8b3-4e4a-e36b-b7b0951753c0"
      },
      "source": [
        "# 2 points\n",
        "grader.grade(test_case_id = 'test_regular_most_common', answer = regular_most_common)"
      ],
      "execution_count": 128,
      "outputs": [
        {
          "output_type": "stream",
          "name": "stdout",
          "text": [
            "Correct! You earned 2/2 points. You are a star!\n",
            "\n",
            "Your submission has been successfully recorded in the gradebook.\n"
          ]
        }
      ]
    },
    {
      "cell_type": "markdown",
      "metadata": {
        "id": "pvwIdmhNZmhY"
      },
      "source": [
        "###3.4 Refining our Lists\n",
        "\n",
        "Hmmm...both of these lists seem to display similar words. Let's try to tease out words that distinguish the high from the low scoring questions. \n",
        "\n",
        "One approach would be to find words in one list that are not in the other. This, however, may be too naive, as even if a word is extremely common in our high list, if it appears only once in our low list, it would get removed from consideration.\n",
        "\n",
        "Let's instead find the difference between the counts within our two lists. Thus, if a word is really common in one, but not the other, the count would only decrease slightly. Alternatively, if a word is common in both lists, it would effectively zero out. \n",
        "\n",
        "However, given that the number of regular tokens is about three times that of top tokens, we need to make sure both lists are of equal length before applying the difference method. \n",
        "\n",
        "**TODO:** Randomly sample 1 million (1000000) tokens from `top_tokens` and `regular_tokens`, and place them in lists `top_sample` and `regular_sample` respectively.\n",
        "-Then, using the difference method, create **distinct_top_counter** and **distinct_regular_counter** to find the top 20 counts of words within each group. Pass this into two lists, `distinct_top_most_common` and `distinct_regular_most_common` respectively. These should be lists of `(word, count)` tuples (`.most_common()` should help!)\n",
        "\n",
        "Be careful on which list you are subtracting!\n"
      ]
    },
    {
      "cell_type": "code",
      "metadata": {
        "id": "uyjdbIgmrQ--"
      },
      "source": [
        "# TODO: randomly sample 1 million tokens from top_tokens and regular_tokens\n",
        "top_sample = random.sample(top_tokens,1000000)\n",
        "regular_sample = random.sample(regular_tokens,1000000)"
      ],
      "execution_count": 129,
      "outputs": []
    },
    {
      "cell_type": "code",
      "metadata": {
        "id": "lxDn4bzPLd2L"
      },
      "source": [
        "# TODO: use difference to find the top 20 counts of words within each group\n",
        "distinct_top = Counter(top_sample)\n",
        "distinct_regular = Counter(regular_sample)\n",
        "distinct_top.subtract(regular_sample)\n",
        "distinct_regular.subtract(top_sample)"
      ],
      "execution_count": 141,
      "outputs": []
    },
    {
      "cell_type": "code",
      "source": [
        "distinct_top_most_common = distinct_top.most_common(20)\n",
        "distinct_regular_most_common = distinct_regular.most_common(20)"
      ],
      "metadata": {
        "id": "cTjDjQ10UV7f"
      },
      "execution_count": 143,
      "outputs": []
    },
    {
      "cell_type": "code",
      "metadata": {
        "id": "279IYd6jL12_",
        "colab": {
          "base_uri": "https://localhost:8080/"
        },
        "outputId": "677198ea-0e28-4394-8411-bc62bf8bbbfa"
      },
      "source": [
        "# 2 points\n",
        "grader.grade(test_case_id = 'test_distinct_top_most_common', answer = distinct_top_most_common)"
      ],
      "execution_count": 144,
      "outputs": [
        {
          "output_type": "stream",
          "name": "stdout",
          "text": [
            "Correct! You earned 2/2 points. You are a star!\n",
            "\n",
            "Your submission has been successfully recorded in the gradebook.\n"
          ]
        }
      ]
    },
    {
      "cell_type": "code",
      "metadata": {
        "id": "byiqTRGuL2E3",
        "colab": {
          "base_uri": "https://localhost:8080/"
        },
        "outputId": "1779408c-4288-44b0-cf78-c3810d4b4406"
      },
      "source": [
        "# 2 points\n",
        "grader.grade(test_case_id = 'test_distinct_regular_most_common', answer = distinct_regular_most_common)"
      ],
      "execution_count": 145,
      "outputs": [
        {
          "output_type": "stream",
          "name": "stdout",
          "text": [
            "Correct! You earned 2/2 points. You are a star!\n",
            "\n",
            "Your submission has been successfully recorded in the gradebook.\n"
          ]
        }
      ]
    },
    {
      "cell_type": "markdown",
      "metadata": {
        "id": "HEAi4a6OcjE4"
      },
      "source": [
        "### 3.5 Word Clouds\n",
        "\n",
        "Before we move on from this dataset, let's do one final step and visualize our results with wordclouds.\n",
        "\n",
        "**TODO**: Take a look at [this documentation](https://amueller.github.io/word_cloud/generated/wordcloud.WordCloud.html) and create two word clouds for our two groups of distinct tokens.\n",
        "\n",
        "Be sure to create these on the list of distinct tokens that you randomly sampled, and not just the top 20. We will be going through your notebooks and manually grading your world clouds (worth 4 points combined). \n"
      ]
    },
    {
      "cell_type": "code",
      "metadata": {
        "id": "1Yt7PRqUrb8Z"
      },
      "source": [
        "# TODO: make a word cloud for top tokens\n",
        "from wordcloud import WordCloud\n",
        "import matplotlib.pyplot as plt\n",
        "top_plot = dict(distinct_top)\n",
        "wc1 = WordCloud(width=2400,height=1500,).generate_from_frequencies(top_plot)\n",
        "plt.imshow(wc1)\n",
        "plt.axis(\"off\")\n",
        "plt.show()"
      ],
      "execution_count": null,
      "outputs": []
    },
    {
      "cell_type": "code",
      "metadata": {
        "id": "OMfxDjbRreF1"
      },
      "source": [
        "# TODO: make a word cloud for regular tokens\n",
        "regular_plot = dict(distinct_regular)\n",
        "wc2 = WordCloud(width=2400,height=1500,).generate_from_frequencies(regular_plot)\n",
        "plt.imshow(wc2)\n",
        "plt.axis(\"off\")\n",
        "plt.show()"
      ],
      "execution_count": null,
      "outputs": []
    },
    {
      "cell_type": "markdown",
      "source": [
        "# HW Submission\n",
        "\n",
        "<br>\n",
        "<center><img src = \"https://memegenerator.net/img/instances/73124265/good-job.jpg\" width= \"500\" align =\"center\"/></center>\n",
        "<br>\n",
        "\n",
        "Big congratulations for getting this far! The piece of good news is that similar to HW1, you basically know the score you have when you submit to Gradescope. However, this time, we will be manually grading your wordclouds, so the autograder score is not final! Remember also that since we'll be checking for plagiarism, make sure to cite your sources (if any) using simple urls / links.\n",
        "\n",
        "Before you submit on Gradescope (you must submit your notebook to receive credit):\n",
        "\n",
        "1.   Restart and Run-All to make sure there's nothing wrong with your notebook\n",
        "2.   **Double check that you have the correct PennID (all numbers) in the autograder**. \n",
        "3. Make sure you've run all the PennGrader cells (and gotten the score that you want and deserve)\n",
        "4. Go to the \"File\" tab at the top left, and click \"Download .ipynb\" + \"Download .py\" and upload both the Python file and ipnyb notebook to Gradescope directly, naming the files **\"homework2.ipynb\"** and **\"homework2.py\"** respectively!\n",
        "\n",
        "###Be sure to name your files correctly!!!\n",
        "\n",
        "**Let the course staff know ASAP if you have any issues submitting.**"
      ],
      "metadata": {
        "id": "1L2nBxkcOnma"
      }
    }
  ]
}