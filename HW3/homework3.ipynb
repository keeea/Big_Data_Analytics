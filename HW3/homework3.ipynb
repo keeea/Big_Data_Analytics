{
  "cells": [
    {
      "cell_type": "markdown",
      "metadata": {
        "id": "qVMCjEV1IEC7"
      },
      "source": [
        "# CIS 545 Homework 3: Spark SQL\n",
        "\n",
        "#### **Worth 100 points**\n",
        "\n",
        "Welcome to CIS 545 Homework 3! In this homework you will gain a mastery of using Spark SQL. By the end, you'll be a star (not that you aren't already one). Over the next few days you will be using an EMR cluster to use Spark to manipulate the  `basic_stats2.json` and `defensive.json` datasets, as well as `superbowl3.csv`.\n",
        "\n",
        "The goal of the homework will be to create a dataset for a Time Series model.  Yes, we are training you for the portions of the class coming up in the not-so-distant future!!\n",
        "\n",
        "## The Necessary Notes and Nags\n",
        "Before we begin here are some important notes to keep in mind,\n",
        "\n",
        "\n",
        "1.   **IMPORTANT!** I said it twice, it's really important. In this homework, we will be using AWS resources. You are given a quota ($100) to use for the entirety of the homework. There is a small chance you will use all this money, however it is important that at the end of every session, you **shut down your EMR cluster**.\n",
        "2.   **Be sure you use Google Colab for this Homework** since we must connect to the EMR cluster and local Jupyter will have issues doing that. Using a Google Colab Notebook with an EMR cluster has two important abnormalities:\n",
        "    * The first line of any cell in which you will use the spark session must be `%%spark`. Notice that all cells below have this.\n",
        "    * You will, unfortunately, not be able to stop a cell while it is running. If you wish to do so, you will need to restart your cluster. See the Setup EMR Document for reference.\n",
        "3.   You are **required** to use Spark SQL queries to handle the data in the assignment. Mastering SQL is more beneficial than being able to use Spark commands (functions) as it will show up in more areas of programming and data science/analytics than just Spark. Use the following [function list](https://spark.apache.org/docs/latest/api/sql/index.html#) to see all the SQL functions avaliable in Spark.\n",
        "4.   Throughout the homework you will be manipulating Spark dataframes (sdfs). We do not specify any ordering on the final output. You are welcome to order your final tables in whatever way you deem fit. We will conduct our own ordering when we grade.\n",
        "5. Based on the challenges you've faced in the previous homework, we are including information on the expected schema of your results.  Apache Spark is very fiddly but we hope this will help.\n",
        "6. There are portions of this homework that are _very_ hard. We urge you start early to come to office hours and get help if you get stuck. But don't worry, I can see the future, and you all got this.\n",
        "\n",
        "With that said, let's dive in.\n",
        "\n",
        "\n"
      ]
    },
    {
      "cell_type": "code",
      "execution_count": 3,
      "metadata": {
        "colab": {
          "base_uri": "https://localhost:8080/"
        },
        "id": "PpCsXltQ9xId",
        "outputId": "1d3a58b5-6ed3-4eac-b5e1-8d705712c6f3"
      },
      "outputs": [
        {
          "output_type": "stream",
          "name": "stdout",
          "text": [
            "Requirement already satisfied: pandas==1.1.5 in /usr/local/lib/python3.7/dist-packages (1.1.5)\n",
            "Requirement already satisfied: pytz>=2017.2 in /usr/local/lib/python3.7/dist-packages (from pandas==1.1.5) (2018.9)\n",
            "Requirement already satisfied: numpy>=1.15.4 in /usr/local/lib/python3.7/dist-packages (from pandas==1.1.5) (1.21.5)\n",
            "Requirement already satisfied: python-dateutil>=2.7.3 in /usr/local/lib/python3.7/dist-packages (from pandas==1.1.5) (2.8.2)\n",
            "Requirement already satisfied: six>=1.5 in /usr/local/lib/python3.7/dist-packages (from python-dateutil>=2.7.3->pandas==1.1.5) (1.15.0)\n"
          ]
        }
      ],
      "source": [
        "# As always, run this, restart, rerun\n",
        "!pip install pandas==1.1.5"
      ]
    },
    {
      "cell_type": "markdown",
      "metadata": {
        "id": "7XEqGpEGBWs5"
      },
      "source": [
        "## Step 0: Set up EMR\n",
        "\n",
        "Follow the [AWS Academy Getting Started](https://docs.google.com/document/d/1JPitLGaorjTbXjGsaoIHcLTu2cj8rjm5UNr9bSpZ72k/edit?usp=sharing) instructions.\n",
        "\n",
        "Move on to Step 0.1 after you have completed all the steps in the document.\n",
        "\n",
        "![ACME GIANT RUBBER BAND](https://pbs.twimg.com/media/DRqbJh7UMAE2z4o?format=jpg&name=4096x4096)\n"
      ]
    },
    {
      "cell_type": "markdown",
      "metadata": {
        "id": "5iBPXxgAdXkv"
      },
      "source": [
        "### Step 0.1: The Superfluous Setup\n",
        "\n",
        "Run the following two cells. These will allow your colab notebook to connect to an use your EMR."
      ]
    },
    {
      "cell_type": "code",
      "execution_count": 4,
      "metadata": {
        "id": "pvkEbVaaAQ1e"
      },
      "outputs": [],
      "source": [
        "%%capture\n",
        "!apt update\n",
        "!apt install gcc python-dev libkrb5-dev\n",
        "!pip install sparkmagic\n",
        "!pip install penngrader\n"
      ]
    },
    {
      "cell_type": "code",
      "execution_count": 5,
      "metadata": {
        "id": "6WAJmQ8IAbRs"
      },
      "outputs": [],
      "source": [
        "%%capture\n",
        "%load_ext sparkmagic.magics "
      ]
    },
    {
      "cell_type": "markdown",
      "metadata": {
        "id": "CL6n768EPt9E"
      },
      "source": [
        "### Step 0.2: The Sharp Spark\n",
        "\n",
        "Now, connect your notebook to the EMR cluster you created. In the first cell, copy the link to the Master Public DNS specified in the setup document. You will need to add `http://` to the beginning of the address and the auth details to the end.\n",
        "\n",
        "For example, if my DNS (directly from the AWS EMR console) is `ec2-3-15-237-211.us-east-2.compute.amazonaws.com` my address would be,\n",
        "\n",
        "`http://ec2-3-15-237-211.us-east-2.compute.amazonaws.com -a cis545-livy -p password1 -t Basic_Access`\n",
        "\n",
        "Insert this in the `# TODO # below`. For our example, the cell would read,\n",
        "\n",
        "```\n",
        "%spark add -s spark_session -l python -u http://ec2-3-15-237-211.us-east-2.compute.amazonaws.com -a cis545-livy -p password1 -t Basic_Access\n",
        "```"
      ]
    },
    {
      "cell_type": "code",
      "execution_count": null,
      "metadata": {
        "colab": {
          "base_uri": "https://localhost:8080/",
          "height": 97,
          "referenced_widgets": [
            "c047481c9ff944bea484e9e1ff6e7d28",
            "a9965493e2c0470a91c829c6c12abc56",
            "67b2004347bf4ea18e2476bd3915d882"
          ]
        },
        "id": "G9QbylT-jqX9",
        "outputId": "29f596ae-346a-4fe6-f713-827200899951"
      },
      "outputs": [
        {
          "name": "stdout",
          "output_type": "stream",
          "text": [
            "Starting Spark application\n"
          ]
        },
        {
          "data": {
            "text/html": [
              "<table>\n",
              "<tr><th>ID</th><th>YARN Application ID</th><th>Kind</th><th>State</th><th>Spark UI</th><th>Driver log</th><th>User</th><th>Current session?</th></tr><tr><td>0</td><td>application_1647746093953_0001</td><td>pyspark</td><td>idle</td><td><a target=\"_blank\" href=\"http://ip-172-31-79-43.ec2.internal:20888/proxy/application_1647746093953_0001/\">Link</a></td><td><a target=\"_blank\" href=\"http://ip-172-31-67-158.ec2.internal:8042/node/containerlogs/container_1647746093953_0001_01_000001/livy\">Link</a></td><td>None</td><td>✔</td></tr></table>"
            ],
            "text/plain": [
              "<IPython.core.display.HTML object>"
            ]
          },
          "metadata": {},
          "output_type": "display_data"
        },
        {
          "data": {
            "application/vnd.jupyter.widget-view+json": {
              "model_id": "c047481c9ff944bea484e9e1ff6e7d28",
              "version_major": 2,
              "version_minor": 0
            },
            "text/plain": [
              "FloatProgress(value=0.0, bar_style='info', description='Progress:', layout=Layout(height='25px', width='50%'),…"
            ]
          },
          "metadata": {},
          "output_type": "display_data"
        },
        {
          "name": "stdout",
          "output_type": "stream",
          "text": [
            "SparkSession available as 'spark'.\n"
          ]
        }
      ],
      "source": [
        "# TODO: Copy the line above, enter your Master Public DNS with the proper formatting and host, and update the password\n",
        "%spark add -s spark_session -l python -u http://ec2-3-234-213-47.compute-1.amazonaws.com -a cis545-livy -p llhh11042030 -t Basic_Access"
      ]
    },
    {
      "cell_type": "code",
      "execution_count": null,
      "metadata": {
        "id": "QwKAHhQL0lf7"
      },
      "outputs": [],
      "source": [
        "# If you ever need to restart, you may need to...\n",
        "# %spark delete -s my_session\n",
        "#OR just factory reset runtime under the runtime tab"
      ]
    },
    {
      "cell_type": "markdown",
      "metadata": {
        "id": "6yzJetbCfgh3"
      },
      "source": [
        "### Step 0.3: Cluster Log\n",
        "\n",
        "In order to keep track of clusters you have created and terminated as well as give us information about time spent on this assignment, please enter each date and time you created a cluster and the date and time you terminated the cluster. This will not impact your score."
      ]
    },
    {
      "cell_type": "markdown",
      "metadata": {
        "id": "powXPhtphhyy"
      },
      "source": [
        "EX: \n",
        "\n",
        "10/12 9:00am - 10/12 13:00pm\n",
        "\n",
        "10/13 7:00pm - 10/13 11:00pm\n",
        "\n",
        "...\n",
        "    "
      ]
    },
    {
      "cell_type": "markdown",
      "metadata": {
        "id": "SokSZv4vih0c"
      },
      "source": [
        "TODO: Create cluster log"
      ]
    },
    {
      "cell_type": "markdown",
      "metadata": {
        "id": "fPN4fiJIAwAX"
      },
      "source": [
        "03/12 2:15am - 03/12 03:15am\n",
        "\n",
        "03/12 4:00pm - 03/12 8:00pm\n",
        "\n",
        "03/17 15:40pm - 10/17 19:40pm"
      ]
    },
    {
      "cell_type": "markdown",
      "metadata": {
        "id": "1oNVisGgAtyM"
      },
      "source": [
        ""
      ]
    },
    {
      "cell_type": "markdown",
      "metadata": {
        "id": "v1IQjUwNObb8"
      },
      "source": [
        "Enter your 8-digit Penn Key as an integer in the cell \n",
        "below. This will be used in the autograder.  **Please also update the cell below, with the same ID!**"
      ]
    },
    {
      "cell_type": "code",
      "execution_count": 6,
      "metadata": {
        "id": "7zM20juwqqQF"
      },
      "outputs": [],
      "source": [
        "\n",
        "from penngrader.grader import *\n",
        "STUDENT_ID = 83510311"
      ]
    },
    {
      "cell_type": "code",
      "execution_count": 7,
      "metadata": {
        "colab": {
          "base_uri": "https://localhost:8080/"
        },
        "id": "V8Oo_5D7qoWp",
        "outputId": "6e2882a8-c30e-4ab2-9af4-949fe74f7d4f"
      },
      "outputs": [
        {
          "output_type": "stream",
          "name": "stdout",
          "text": [
            "PennGrader initialized with Student ID: 83510311\n",
            "\n",
            "Make sure this correct or we will not be able to store your grade\n"
          ]
        }
      ],
      "source": [
        "grader = PennGrader(homework_id = 'CIS545_Spring_2022_HW3', student_id = STUDENT_ID)"
      ]
    },
    {
      "cell_type": "markdown",
      "metadata": {
        "id": "kvl5MJg6cLHr"
      },
      "source": [
        "**Please make sure you also update this one, so the grader can similarly be updated on Spark/EMR!**"
      ]
    },
    {
      "cell_type": "code",
      "execution_count": 8,
      "metadata": {
        "colab": {
          "base_uri": "https://localhost:8080/"
        },
        "id": "9NQjHLyKcL5H",
        "outputId": "218ade54-6398-4c05-a0db-1e45c3ae7401"
      },
      "outputs": [
        {
          "output_type": "stream",
          "name": "stderr",
          "text": [
            "An error was encountered:\n",
            "You need to have at least 1 client created to execute commands.\n"
          ]
        }
      ],
      "source": [
        "%%spark\n",
        "from penngrader.grader import *\n",
        "STUDENT_ID = 83510311\n",
        "grader = PennGrader(homework_id = 'CIS545_Spring_2022_HW3', student_id = STUDENT_ID)"
      ]
    },
    {
      "cell_type": "markdown",
      "metadata": {
        "id": "Bfs-EQZUzF4j"
      },
      "source": [
        "Run the above cells to setup the autograder in BOTH the Spark session as well as locally, make sure to have set your 8 digit Penn ID in the cell above. It will also import all the modules you need for the homework.\n",
        "\n",
        "_Note_: Since we are using an EMR cluster we will only have access to some of modules that exist for Python, meaning things like `pandas`, `numpy`, etc. may not all be available. We have written the entire homework such that the solution does not require any of these."
      ]
    },
    {
      "cell_type": "markdown",
      "metadata": {
        "id": "4nyAa0wn1XCD"
      },
      "source": [
        "## Step 1: Data Wrangling, Cleaning, and Shaping\n",
        "\n",
        "It's football fever! We very recently witnessed Super Bowl LVI, in which Los Angeles Rams trumped the Cincinnati Bengals to clinch the title at their brand new home stadium. To continue the hype, we thought it would be exciting for you to work on NFL data and that's what we will be doing today.\n",
        "\n",
        "<br>\n",
        "\n",
        "![Winners](https://imagez.tmz.com/image/d6/4by3/2022/02/14/d62fc8c540c348c0aa75730b9c9a5b8d_md.jpg)\n",
        "\n",
        "<br>\n",
        "\n",
        "The data you will use is stored in an S3 bucket, a cloud storage service. You now need to download it onto the nodes of your [EMR cluster](https://docs.aws.amazon.com/emr/latest/ManagementGuide/emr-what-is-emr.html). "
      ]
    },
    {
      "cell_type": "markdown",
      "metadata": {
        "id": "Nf_ADEXnIK0b"
      },
      "source": [
        "### Step 1.1: The Stupendous Schema\n",
        "\n",
        "When loading data, Spark will try to infer its structure on its own. This process is faulty because Spark will sometimes infer the type incorrectly. Spark's ability to determine types is not reliable, thus you will need to define a schema for `basic_stats2.json` and `defensive3.json`.\n",
        "\n",
        "A schema is a description of the structure of data. We have given you an example with `defensive3.json` and you will be defining an explicit schema for `basic_stats2.json`. \n",
        "\n",
        "\n",
        "In Spark, schemas are defined using a `StructType` object. This is a collection of data types, termed `StructField`'s, that specify the structure and variable type of each component of the dataset. For example, suppose we have the following simple JSON object,\n",
        "\n",
        "\n",
        "```\n",
        "{\n",
        " \"student_name\": \"Data Wrangler\",\n",
        " \"GPA\": 1.4,\n",
        " \"courses\": [\n",
        "    {\"department\": \"Computer and Information Science\",\n",
        "     \"course_id\": \"CIS 545\",\n",
        "     \"semester\": \"Fall 2021\"},\n",
        "    {\"department\": \"Computer and Information Science\",\n",
        "     \"course_id\": \"CIS 555\",\n",
        "     \"semester\": \"Fall 2021\"}\n",
        " ],\n",
        " \"grad_year\": 2022\n",
        " }\n",
        "```\n",
        "\n",
        "We would define its schema as follows,\n",
        "\n",
        "```       \n",
        "schema = StructType([\n",
        "           StructField(\"student_name\", StringType(), nullable=True),\n",
        "           StructField(\"GPA\", FloatType(), nullable=True),\n",
        "           StructField(\"courses\", ArrayType(\n",
        "                StructType([\n",
        "                  StructField(\"department\", StringType(), nullable=True),\n",
        "                  StructField(\"course_id\", StringType(), nullable=True),\n",
        "                  StructField(\"semester\", StringType(), nullable=True)\n",
        "                ])\n",
        "           ), nullable=True),\n",
        "           StructField(\"grad_year\", IntegerType(), nullable=True)\n",
        "         ])\n",
        "```\n",
        "\n",
        "\n",
        "Each `StructField` has the following structure: `(name, type, nullable)`. The `nullable` flag defines that the specified field may be empty. Your first task is to define the `schema` of `basic_stats2.json`. You can take a look at the schema for `defensive3.json` for reference. A smaller version of the JSON dataset can be found here. [defensive3.json](https://drive.google.com/file/d/1B75g3-GEdrXTiWn9069bDwvIia9xQIQR/view?usp=sharing), [basic_stats2.json](https://drive.google.com/file/d/1aF4fnH4JI_r8wWN27qFdyjiXWOs4mlg9/view?usp=sharing).\n",
        "\n",
        "\n",
        "\n",
        "\n",
        "There is also no grading cell for this step.  But your JSON file won't load if it's wrong, so you have a way of testing.\n",
        "\n"
      ]
    },
    {
      "cell_type": "code",
      "execution_count": null,
      "metadata": {
        "colab": {
          "base_uri": "https://localhost:8080/",
          "height": 17,
          "referenced_widgets": [
            "82293377854d42debb5e3e6188bc3733",
            "d5453e985a964ad0ad079ba4327bbde8",
            "cde1ec57da374a82999aa1a6a5bb6955"
          ]
        },
        "id": "pL-Ps4KWIJ9e",
        "outputId": "60a662ed-273f-4b7f-917d-3322e0221797"
      },
      "outputs": [
        {
          "data": {
            "application/vnd.jupyter.widget-view+json": {
              "model_id": "82293377854d42debb5e3e6188bc3733",
              "version_major": 2,
              "version_minor": 0
            },
            "text/plain": [
              "FloatProgress(value=0.0, bar_style='info', description='Progress:', layout=Layout(height='25px', width='50%'),…"
            ]
          },
          "metadata": {},
          "output_type": "display_data"
        }
      ],
      "source": [
        "%%spark\n",
        "\n",
        "from pyspark.sql.types import *\n",
        "\n",
        "#schema for defensive.json\n",
        "\n",
        "schema_defensive = StructType([\n",
        "                     \n",
        "                     StructField(\"Player Id\", StringType(), nullable = True),\n",
        "                     StructField(\"Name\", StringType(), nullable = True),\n",
        "                     StructField(\"Position\", StringType(), nullable = True),\n",
        "                     StructField(\"Year\", IntegerType(), nullable = True),\n",
        "                     StructField(\"Team\", StringType(), nullable = True),\n",
        "                     StructField(\"Games Played\", StringType(), nullable = True),\n",
        "                     StructField(\"Total Tackles\", StringType(), nullable = True),\n",
        "                     StructField(\"Solo Tackles\", StringType(), nullable = True),\n",
        "                     StructField(\"Assisted Tackles\", StringType(), nullable = True),\n",
        "                     StructField(\"Sacks\", StringType(), nullable = True),\n",
        "                     StructField(\"Safties\", StringType(), nullable = True),\n",
        "                     StructField(\"Passes Defended\", StringType(), nullable = True),\n",
        "                     StructField(\"Ints\", StringType(), nullable = True),\n",
        "                     StructField(\"Ints for TDs\", StringType(), nullable = True),\n",
        "                     StructField(\"Int Yards\", StringType(), nullable = True),\n",
        "                     StructField(\"Yards Per Int\", StringType(), nullable = True),\n",
        "                     StructField(\"Longest Int Return\", StringType(), nullable = True),            \n",
        "                ])\n",
        "\n",
        "\n",
        "#TODO: Create a schema for basic_stats2.json\n",
        "\n",
        "schema_basic_stats = StructType([\n",
        "                                 StructField(\"Age\", IntegerType(), nullable = True),\n",
        "                                 StructField(\"Birth Place\", StringType(), nullable = True),\n",
        "                                 StructField(\"Birthday\", StringType(), nullable = True),\n",
        "                                 StructField(\"College\", StringType(), nullable = True),\n",
        "                                 StructField(\"Current Status\", StringType(), nullable = True),\n",
        "                                 StructField(\"Current Team\", StringType(), nullable = True),\n",
        "                                 StructField(\"Experience\", StringType(), nullable = True),\n",
        "                                 StructField(\"Height (inches)\", IntegerType(), nullable = True),\n",
        "                                 StructField(\"High School\", StringType(), nullable = True),\n",
        "                                 StructField(\"High School Location\", StringType(), nullable = True),\n",
        "                                 StructField(\"Name\", StringType(), nullable = True),\n",
        "                                 StructField(\"Number\", IntegerType(), nullable = True),\n",
        "                                 StructField(\"Player Id\", StringType(), nullable = True),\n",
        "                                 StructField(\"Position\", StringType(), nullable = True),\n",
        "                                 StructField(\"Weight (lbs)\", IntegerType(), nullable = True),\n",
        "                                 StructField(\"Years Played\", StringType(), nullable = True),\n",
        "                                 ])\n",
        "\n",
        "\n",
        "                    "
      ]
    },
    {
      "cell_type": "markdown",
      "metadata": {
        "id": "2Su604X9ggc2"
      },
      "source": [
        "### Step 1.2: The Langorous Load\n",
        "\n",
        "In the following cell, load the `basic_stats2.json` dataset and the `defensive3.json` from your S3 bucket into Spark dataframes (sdf) called `basic_stats_sdf` and `defensive_sdf` respectively. If you have constructed `schema1` and `schema2` correctly, `spark.read.json()` will read in the dataset. \n",
        "\n",
        "***You do not need to edit this cell***. If this doesn't work, go back to the prior cell and update your schema."
      ]
    },
    {
      "cell_type": "code",
      "execution_count": null,
      "metadata": {
        "colab": {
          "base_uri": "https://localhost:8080/",
          "height": 17,
          "referenced_widgets": [
            "2004236628594c39b531653dfd346279",
            "9076164ff79e4aa0882418e3fd8d99aa",
            "3229b3aa77774216a6f3927c0ca04796"
          ]
        },
        "id": "ji-KW2sAiB6r",
        "outputId": "8411b0fb-e92b-4697-dcad-70807132ef79"
      },
      "outputs": [
        {
          "data": {
            "application/vnd.jupyter.widget-view+json": {
              "model_id": "2004236628594c39b531653dfd346279",
              "version_major": 2,
              "version_minor": 0
            },
            "text/plain": [
              "FloatProgress(value=0.0, bar_style='info', description='Progress:', layout=Layout(height='25px', width='50%'),…"
            ]
          },
          "metadata": {},
          "output_type": "display_data"
        }
      ],
      "source": [
        "%%spark\n",
        "\n",
        "defensive_stats_sdf = spark.read.json(\"s3://penn-cis545-files/defensive3.json\", schema=schema_defensive, multiLine = True, primitivesAsString = True)\n"
      ]
    },
    {
      "cell_type": "code",
      "execution_count": null,
      "metadata": {
        "colab": {
          "base_uri": "https://localhost:8080/",
          "height": 215,
          "referenced_widgets": [
            "29608576739a4b20943887009857be09",
            "e4da5937462c4569b4e27b8eb16bccfa",
            "a72626a2c679451aba1b9e9465da4a4a"
          ]
        },
        "id": "nvurIgjLkdZL",
        "outputId": "3aeb84a2-4f78-454b-f92d-16ebb8ff5420"
      },
      "outputs": [
        {
          "data": {
            "application/vnd.jupyter.widget-view+json": {
              "model_id": "29608576739a4b20943887009857be09",
              "version_major": 2,
              "version_minor": 0
            },
            "text/plain": [
              "FloatProgress(value=0.0, bar_style='info', description='Progress:', layout=Layout(height='25px', width='50%'),…"
            ]
          },
          "metadata": {},
          "output_type": "display_data"
        },
        {
          "name": "stdout",
          "output_type": "stream",
          "text": [
            "+------------------+--------------+--------+----+-----------------+------------+-------------+------------+----------------+-----+-------+---------------+----+------------+---------+-------------+------------------+\n",
            "|         Player Id|          Name|Position|Year|             Team|Games Played|Total Tackles|Solo Tackles|Assisted Tackles|Sacks|Safties|Passes Defended|Ints|Ints for TDs|Int Yards|Yards Per Int|Longest Int Return|\n",
            "+------------------+--------------+--------+----+-----------------+------------+-------------+------------+----------------+-----+-------+---------------+----+------------+---------+-------------+------------------+\n",
            "|quinnjohnson/79593|Johnson, Quinn|        |2013| Tennessee Titans|           4|            0|          --|              --|   --|     --|             --|  --|          --|       --|            0|                --|\n",
            "|quinnjohnson/79593|Johnson, Quinn|        |2012| Tennessee Titans|          16|            1|           1|               0|    0|     --|              0|  --|          --|       --|            0|                --|\n",
            "|quinnjohnson/79593|Johnson, Quinn|        |2011| Tennessee Titans|           4|            0|          --|              --|   --|     --|             --|  --|          --|       --|            0|                --|\n",
            "|quinnjohnson/79593|Johnson, Quinn|        |2011|   Denver Broncos|           0|            0|          --|              --|   --|     --|             --|  --|          --|       --|            0|                --|\n",
            "|quinnjohnson/79593|Johnson, Quinn|        |2010|Green Bay Packers|          11|            4|           4|               0|    0|     --|              0|  --|          --|       --|            0|                --|\n",
            "+------------------+--------------+--------+----+-----------------+------------+-------------+------------+----------------+-----+-------+---------------+----+------------+---------+-------------+------------------+\n",
            "only showing top 5 rows"
          ]
        }
      ],
      "source": [
        "%%spark\n",
        "# Let's print out the first few rows to see how the data looks like in tabular form\n",
        "defensive_stats_sdf.show(5)"
      ]
    },
    {
      "cell_type": "code",
      "execution_count": null,
      "metadata": {
        "colab": {
          "base_uri": "https://localhost:8080/",
          "height": 215,
          "referenced_widgets": [
            "96b33ab490da493383fab91bb2f2c834",
            "05d946d3067f48eb939a9aaefa99ac43",
            "d93087002bfb4600b53d0dfdb16c1b53"
          ]
        },
        "id": "8DIpp8P8NM7t",
        "outputId": "39646630-aa36-43fb-939f-4658936a8471"
      },
      "outputs": [
        {
          "data": {
            "application/vnd.jupyter.widget-view+json": {
              "model_id": "96b33ab490da493383fab91bb2f2c834",
              "version_major": 2,
              "version_minor": 0
            },
            "text/plain": [
              "FloatProgress(value=0.0, bar_style='info', description='Progress:', layout=Layout(height='25px', width='50%'),…"
            ]
          },
          "metadata": {},
          "output_type": "display_data"
        },
        {
          "name": "stdout",
          "output_type": "stream",
          "text": [
            "+----+-----------------+----------+----------------+--------------+-------------------+----------+---------------+--------------+--------------------+--------------+------+-------------------+--------+------------+------------+\n",
            "| Age|      Birth Place|  Birthday|         College|Current Status|       Current Team|Experience|Height (inches)|   High School|High School Location|          Name|Number|          Player Id|Position|Weight (lbs)|Years Played|\n",
            "+----+-----------------+----------+----------------+--------------+-------------------+----------+---------------+--------------+--------------------+--------------+------+-------------------+--------+------------+------------+\n",
            "|null|Grand Rapids , MI| 5/23/1921|      Notre Dame|       Retired|                   | 3 Seasons|             71|              |                    |   Evans, Fred|  null|  fredevans/2513736|        |         185| 1946 - 1948|\n",
            "|null|      Dayton , OH|12/21/1930|          Dayton|       Retired|                   |  1 Season|             70|              |                    |    Raiff, Jim|  null|   jimraiff/2523700|        |         235| 1954 - 1954|\n",
            "|  56|      Temple , TX| 9/11/1960|  Louisiana Tech|       Retired|                   |  1 Season|             74|              |                    | Fowler, Bobby|  null|bobbyfowler/2514295|        |         230| 1985 - 1985|\n",
            "|  30| New Orleans , LA| 9/30/1986|             LSU|       Retired|                   | 5 Seasons|             73|              |                    |Johnson, Quinn|  null| quinnjohnson/79593|        |         255| 2009 - 2013|\n",
            "|  25|     Detroit , MI| 3/31/1992|Central Michigan|        Active|Pittsburgh Steelers|3rd season|             77|Clintondale HS|Clinton Twp.,Maco...|  Walton, L.T.|    96| l.t.walton/2552444|      DE|         305|            |\n",
            "+----+-----------------+----------+----------------+--------------+-------------------+----------+---------------+--------------+--------------------+--------------+------+-------------------+--------+------------+------------+\n",
            "only showing top 5 rows"
          ]
        }
      ],
      "source": [
        "%%spark\n",
        "\n",
        "#TODO: Create a spark dataframe for basic_stats2\n",
        "basic_stats_sdf = spark.read.json(\"s3://penn-cis545-files/basic_stats2.json\", schema=schema_basic_stats, multiLine = True, primitivesAsString = True)\n",
        "\n",
        "basic_stats_sdf.show(5)"
      ]
    },
    {
      "cell_type": "markdown",
      "metadata": {
        "id": "jMVCVotcE1wv"
      },
      "source": [
        "The cell below shows how to run SQL commands on Spark tables. Use this as a template for all your SQL queries in this notebook. \n",
        "\n",
        "***You do not need to edit this cell***."
      ]
    },
    {
      "cell_type": "code",
      "execution_count": null,
      "metadata": {
        "colab": {
          "base_uri": "https://localhost:8080/",
          "height": 287,
          "referenced_widgets": [
            "18670ecb002e4e50becd8ba9dcdc8780",
            "dbad83ed97604c89b056040d7373d749",
            "69641ebd2ba145519ca9f25068955fee"
          ]
        },
        "id": "NJSVWeGiEO5c",
        "outputId": "38264f6d-8029-4862-b0d8-9cbedfbe5ddf"
      },
      "outputs": [
        {
          "data": {
            "application/vnd.jupyter.widget-view+json": {
              "model_id": "18670ecb002e4e50becd8ba9dcdc8780",
              "version_major": 2,
              "version_minor": 0
            },
            "text/plain": [
              "FloatProgress(value=0.0, bar_style='info', description='Progress:', layout=Layout(height='25px', width='50%'),…"
            ]
          },
          "metadata": {},
          "output_type": "display_data"
        },
        {
          "name": "stdout",
          "output_type": "stream",
          "text": [
            "+----+---------------+---------+--------------------+--------------+--------------------+----------+---------------+--------------------+--------------------+-----------------+------+--------------------+--------+------------+------------+\n",
            "| Age|    Birth Place| Birthday|             College|Current Status|        Current Team|Experience|Height (inches)|         High School|High School Location|             Name|Number|           Player Id|Position|Weight (lbs)|Years Played|\n",
            "+----+---------------+---------+--------------------+--------------+--------------------+----------+---------------+--------------------+--------------------+-----------------+------+--------------------+--------+------------+------------+\n",
            "|  45|   Griffin , GA|10/8/1971|       Florida State|       Retired|                    | 2 Seasons|             73|                    |                    |   Ellison, 'Omar|  null|'omarellison/2500540|        |         200| 1995 - 1996|\n",
            "|  22|Fort Worth , TX|3/21/1995|             Alabama|        Active|       Detroit Lions|2nd season|             75|Arlington Heights HS|      Fort Worth, TX|Robinson, A'Shawn|    91|a'shawnrobinson/2...|      DT|         320|            |\n",
            "|null|               |         |             Unknown|       Retired|                    |  1 Season|             74|                    |                    |      Bauer, A.C.|  null|   a.c.bauer/2509176|        |         210| 1923 - 1923|\n",
            "|  25|    Dallas , TX|8/16/1991|     Central Florida|        Active|Jacksonville Jaguars|5th season|             72|           Tucker HS|                  GA|      Bouye, A.J.|  null|   a.j.bouye/2541162|      CB|         191|            |\n",
            "|  25|   Bamberg , SC|10/3/1991|      South Carolina|        Active|Jacksonville Jaguars|3rd season|             75| Bamberg-Ehrhardt HS|         Bamberg, SC|       Cann, A.J.|    60|    a.j.cann/2552330|      OG|         317|            |\n",
            "|  25|               |2/17/1992|       Robert Morris|       Retired|                    |  1 Season|             76|                    |                    |     Dalton, A.J.|  null|  a.j.dalton/2550553|        |         280| 2014 - 2014|\n",
            "|  34|    Durham , NC|5/29/1983|North Carolina State|       Retired|                    | 2 Seasons|             70|                    |                    |      Davis, A.J.|  null|   a.j.davis/2507194|        |         189| 2007 - 2009|\n",
            "|  27|Birmingham , AL| 7/6/1989|  Jacksonville State|       Retired|                    | 3 Seasons|             72|                    |                    |      Davis, A.J.|  null|   a.j.davis/2534821|        |         183| 2012 - 2014|\n",
            "|  25| Iowa City , IA|9/20/1991|            Arkansas|        Active|      Denver Broncos|3rd season|             77|        Iowa City HS|                  IA|      Derby, A.J.|    83|   a.j.derby/2552580|      TE|         255|            |\n",
            "|  29|    Marion , IN|9/18/1987|                Iowa|       Retired|                    | 5 Seasons|             76|                    |                    |       Edds, A.J.|  null|     a.j.edds/496921|        |         256| 2010 - 2014|\n",
            "+----+---------------+---------+--------------------+--------------+--------------------+----------+---------------+--------------------+--------------------+-----------------+------+--------------------+--------+------------+------------+"
          ]
        }
      ],
      "source": [
        "%%spark\n",
        "\n",
        "import pandas as pd\n",
        "\n",
        "# Create SQL-accesible table\n",
        "basic_stats_sdf.createOrReplaceTempView(\"basic_stats\")\n",
        "\n",
        "# Declare SQL query to be excecuted\n",
        "query = '''SELECT * \n",
        "           FROM basic_stats ORDER BY `Player Id` LIMIT 10'''\n",
        "\n",
        "# Save the output sdf of spark.sql() as answer_sdf and convert to Pandas\n",
        "answer_basic_sdf = spark.sql(query)\n",
        "answer_basic_sdf.show()\n",
        "\n",
        "answer_basic_df = answer_basic_sdf.toPandas()\n",
        "to_submit = pd.read_json(answer_basic_df.to_json())"
      ]
    },
    {
      "cell_type": "markdown",
      "metadata": {
        "id": "MLF-swRBTuZG"
      },
      "source": [
        "We will copy the `answer_sdf` to Colab to submit to PennGrader..."
      ]
    },
    {
      "cell_type": "code",
      "execution_count": null,
      "metadata": {
        "colab": {
          "base_uri": "https://localhost:8080/",
          "height": 70,
          "referenced_widgets": [
            "cfb0cb9fbf2e4a6c87cd327325414c6c",
            "d6de1238f7f8400880b6400ebdb945a5",
            "8caf9d77a1ba4f4493cc23deb2440fc6"
          ]
        },
        "id": "wOyxJ6aORvs6",
        "outputId": "03aa8151-05df-4b80-f178-cefed0705f00"
      },
      "outputs": [
        {
          "data": {
            "application/vnd.jupyter.widget-view+json": {
              "model_id": "cfb0cb9fbf2e4a6c87cd327325414c6c",
              "version_major": 2,
              "version_minor": 0
            },
            "text/plain": [
              "FloatProgress(value=0.0, bar_style='info', description='Progress:', layout=Layout(height='25px', width='50%'),…"
            ]
          },
          "metadata": {},
          "output_type": "display_data"
        },
        {
          "name": "stdout",
          "output_type": "stream",
          "text": [
            "Correct! You earned 4/4 points. You are a star!\n",
            "\n",
            "Your submission has been successfully recorded in the gradebook."
          ]
        }
      ],
      "source": [
        "%%spark\n",
        "\n",
        "## 4 points\n",
        "\n",
        "## AUTOGRADER Step 1.2:   \n",
        "\n",
        "grader.grade(test_case_id = 'first', answer = to_submit)"
      ]
    },
    {
      "cell_type": "markdown",
      "metadata": {
        "id": "-A9nzeVaG4QV"
      },
      "source": [
        "Now, you will implement the exact same thing yourself for defensive_stats_sdf."
      ]
    },
    {
      "cell_type": "code",
      "execution_count": null,
      "metadata": {
        "colab": {
          "base_uri": "https://localhost:8080/",
          "height": 287,
          "referenced_widgets": [
            "1d409b7d6cef4a3094e8fd3c6e09f22e",
            "a47fd21fad0b461ba28f93128a84e979",
            "d0c12bec72414c5f85cd94758fd6d21a"
          ]
        },
        "id": "-TGpKgWrG3DC",
        "outputId": "a77adb9b-a65a-485b-e59a-989aa037883d"
      },
      "outputs": [
        {
          "data": {
            "application/vnd.jupyter.widget-view+json": {
              "model_id": "1d409b7d6cef4a3094e8fd3c6e09f22e",
              "version_major": 2,
              "version_minor": 0
            },
            "text/plain": [
              "FloatProgress(value=0.0, bar_style='info', description='Progress:', layout=Layout(height='25px', width='50%'),…"
            ]
          },
          "metadata": {},
          "output_type": "display_data"
        },
        {
          "name": "stdout",
          "output_type": "stream",
          "text": [
            "+--------------------+-----------------+--------+----+--------------------+------------+-------------+------------+----------------+-----+-------+---------------+----+------------+---------+-------------+------------------+\n",
            "|           Player Id|             Name|Position|Year|                Team|Games Played|Total Tackles|Solo Tackles|Assisted Tackles|Sacks|Safties|Passes Defended|Ints|Ints for TDs|Int Yards|Yards Per Int|Longest Int Return|\n",
            "+--------------------+-----------------+--------+----+--------------------+------------+-------------+------------+----------------+-----+-------+---------------+----+------------+---------+-------------+------------------+\n",
            "|a'shawnrobinson/2...|Robinson, A'Shawn|      DT|2016|       Detroit Lions|          16|           30|          22|               8|    2|     --|              7|  --|          --|       --|            0|                --|\n",
            "|   a.j.bouye/2541162|      Bouye, A.J.|      CB|2016|      Houston Texans|          15|           63|          48|              15|    1|     --|             16|   1|           0|        0|            0|                 0|\n",
            "|   a.j.bouye/2541162|      Bouye, A.J.|      CB|2015|      Houston Texans|          15|           16|          15|               1|    0|     --|              6|   2|           0|        9|          4.5|                 9|\n",
            "|   a.j.bouye/2541162|      Bouye, A.J.|      CB|2014|      Houston Texans|          14|           59|          52|               7|    0|      0|             10|   3|           1|      120|           40|                67|\n",
            "|   a.j.bouye/2541162|      Bouye, A.J.|      CB|2013|      Houston Texans|           6|            2|           2|               0|    0|     --|              0|  --|          --|       --|            0|                --|\n",
            "|     a.j.edds/496921|       Edds, A.J.|        |2014|       New York Jets|           4|            1|           1|               0|    0|     --|              0|  --|          --|       --|            0|                --|\n",
            "|     a.j.edds/496921|       Edds, A.J.|        |2011|  Indianapolis Colts|           9|           12|           2|              10|    0|     --|              0|  --|          --|       --|            0|                --|\n",
            "|     a.j.edds/496921|       Edds, A.J.|        |2011|New England Patriots|           2|            1|           1|               0|    0|     --|              0|  --|          --|       --|            0|                --|\n",
            "|     a.j.edds/496921|       Edds, A.J.|        |2014|Jacksonville Jaguars|           2|            0|          --|              --|   --|     --|             --|  --|          --|       --|            0|                --|\n",
            "|  a.j.feeley/2504566|     Feeley, A.J.|        |2011|      St. Louis Rams|           5|            0|          --|              --|   --|     --|             --|  --|          --|       --|            0|                --|\n",
            "+--------------------+-----------------+--------+----+--------------------+------------+-------------+------------+----------------+-----+-------+---------------+----+------------+---------+-------------+------------------+"
          ]
        }
      ],
      "source": [
        "%%spark\n",
        "\n",
        "# TODO: Create SQL-accesible table\n",
        "defensive_stats_sdf.createOrReplaceTempView(\"defensive_stats\")\n",
        "\n",
        "#TODO: Declare SQL query to be excecuted\n",
        "query = '''SELECT *\n",
        "           FROM defensive_stats ORDER BY `Player ID` LIMIT 10'''\n",
        "\n",
        "#TODO: Save the output sdf of spark.sql() as answer_defensive_sdf and convert to Pandas\n",
        "answer_defensive_sdf = spark.sql(query)\n",
        "answer_defensive_sdf.show()\n",
        "\n",
        "answer_defensive_df = answer_defensive_sdf.toPandas()\n",
        "to_submit = pd.read_json(answer_defensive_df.to_json())"
      ]
    },
    {
      "cell_type": "code",
      "execution_count": null,
      "metadata": {
        "colab": {
          "base_uri": "https://localhost:8080/",
          "height": 70,
          "referenced_widgets": [
            "14461c164b0c4e7589b7c48144dd6ca0",
            "f7b1eae1c48b4d88b782bc9cb6a9bb2c",
            "0bc968477222438abceb97446b0f602f"
          ]
        },
        "id": "sfVITUBotr73",
        "outputId": "141920d8-39e4-44c7-9477-0ec3a618bc1b"
      },
      "outputs": [
        {
          "data": {
            "application/vnd.jupyter.widget-view+json": {
              "model_id": "14461c164b0c4e7589b7c48144dd6ca0",
              "version_major": 2,
              "version_minor": 0
            },
            "text/plain": [
              "FloatProgress(value=0.0, bar_style='info', description='Progress:', layout=Layout(height='25px', width='50%'),…"
            ]
          },
          "metadata": {},
          "output_type": "display_data"
        },
        {
          "name": "stdout",
          "output_type": "stream",
          "text": [
            "Correct! You earned 4/4 points. You are a star!\n",
            "\n",
            "Your submission has been successfully recorded in the gradebook."
          ]
        }
      ],
      "source": [
        "%%spark\n",
        "\n",
        "## 4 points\n",
        "\n",
        "## AUTOGRADER Step 1.2:   \n",
        "\n",
        "grader.grade(test_case_id = 'second', answer = to_submit)"
      ]
    },
    {
      "cell_type": "markdown",
      "metadata": {
        "id": "705XndyQYW6f"
      },
      "source": [
        "In the next cell, create `step_1_2_sdf` to fetch the data from the above basic_stats table, returning rows with schema `(Player Id, Name)`, in **lexicographical order** of `Name`.  Limit your sdf to 10 rows. Save your final answer to Colab to submit to PennGrader, as demonstrated above."
      ]
    },
    {
      "cell_type": "code",
      "execution_count": null,
      "metadata": {
        "colab": {
          "base_uri": "https://localhost:8080/",
          "height": 17,
          "referenced_widgets": [
            "2a178afba4714b3c8a21cd1e81de3c30",
            "5b83a81fc9e0498ca8e96304c4dbaa69",
            "28c91c87beb8464b90f2906808765a0e"
          ]
        },
        "id": "zOpHsWR2qQAY",
        "outputId": "60ce7305-ae89-49f6-8ced-1af3fceba47e"
      },
      "outputs": [
        {
          "data": {
            "application/vnd.jupyter.widget-view+json": {
              "model_id": "2a178afba4714b3c8a21cd1e81de3c30",
              "version_major": 2,
              "version_minor": 0
            },
            "text/plain": [
              "FloatProgress(value=0.0, bar_style='info', description='Progress:', layout=Layout(height='25px', width='50%'),…"
            ]
          },
          "metadata": {},
          "output_type": "display_data"
        }
      ],
      "source": [
        "%%spark \n",
        "\n",
        "# TODO: create step_1_2_sdf\n",
        "query = '''SELECT `Player Id`, Name\n",
        "           FROM basic_stats\n",
        "           ORDER BY Name\n",
        "           LIMIT 10'''\n",
        "\n",
        "step_1_2_sdf = spark.sql(query)"
      ]
    },
    {
      "cell_type": "code",
      "execution_count": null,
      "metadata": {
        "colab": {
          "base_uri": "https://localhost:8080/",
          "height": 70,
          "referenced_widgets": [
            "2b7284f7e7a141c495d74ee668577673",
            "0716779635194c5d88a3b66349b1c787",
            "2504b3aa4a2b4a01bf43a8b5759f3483"
          ]
        },
        "id": "p4hU1ihWYjL6",
        "outputId": "6c678ed3-c040-44ae-9115-6e8a3d3cc7b6"
      },
      "outputs": [
        {
          "data": {
            "application/vnd.jupyter.widget-view+json": {
              "model_id": "2b7284f7e7a141c495d74ee668577673",
              "version_major": 2,
              "version_minor": 0
            },
            "text/plain": [
              "FloatProgress(value=0.0, bar_style='info', description='Progress:', layout=Layout(height='25px', width='50%'),…"
            ]
          },
          "metadata": {},
          "output_type": "display_data"
        },
        {
          "name": "stdout",
          "output_type": "stream",
          "text": [
            "Correct! You earned 5/5 points. You are a star!\n",
            "\n",
            "Your submission has been successfully recorded in the gradebook."
          ]
        }
      ],
      "source": [
        "%%spark\n",
        "\n",
        "# 5 points\n",
        "grader.grade(test_case_id = 'lex_10_ids_last_names', answer = step_1_2_sdf.toPandas())"
      ]
    },
    {
      "cell_type": "markdown",
      "metadata": {
        "id": "-2vq-3ZfBYZD"
      },
      "source": [
        "### Step 1.3: Further Cleaning\n",
        "\n",
        "Now, we can see that our data is a little ill-formatted, so let us do some cleaning for our two dataframes. Here is what you will do:\n",
        "\n",
        "For Defensive:\n",
        "\n",
        "1. Drop all the rows that have null values in Total Tackles and Games Played.\n",
        "2. We only want to consider data post 2000 (inclusive).\n",
        "\n",
        "\n",
        "Save this in `defensive_cleaned_sdf`.\n",
        "\n",
        "Once you have done that, we want to select the basic stats only for those filtered players in `defensive_cleaned_sdf` and create a cumulated dataframe called `defensive_player_stats_sdf`."
      ]
    },
    {
      "cell_type": "code",
      "execution_count": null,
      "metadata": {
        "colab": {
          "base_uri": "https://localhost:8080/",
          "height": 17,
          "referenced_widgets": [
            "0edf8b2d171043ab8dcf61c2f91968f6",
            "f9fd1f2e372d4f78936f47254b0e26c8",
            "6fb8925c4fbd4a5198e8394c4f5452ef"
          ]
        },
        "id": "0G7tYJOJDp1q",
        "outputId": "810e91c0-19c0-4a2d-c2b3-bcc0d409edb7"
      },
      "outputs": [
        {
          "data": {
            "application/vnd.jupyter.widget-view+json": {
              "model_id": "0edf8b2d171043ab8dcf61c2f91968f6",
              "version_major": 2,
              "version_minor": 0
            },
            "text/plain": [
              "FloatProgress(value=0.0, bar_style='info', description='Progress:', layout=Layout(height='25px', width='50%'),…"
            ]
          },
          "metadata": {},
          "output_type": "display_data"
        }
      ],
      "source": [
        "%%spark\n",
        "\n",
        "#TODO: Create defensive_cleaned_sdf\n",
        "query = '''SELECT *\n",
        "           FROM defensive_stats\n",
        "           WHERE isnotnull(`Total Tackles`)\n",
        "           AND isnotnull(`Games Played`)\n",
        "           AND Year >= 2000'''\n",
        "\n",
        "defensive_cleaned_sdf = spark.sql(query)\n"
      ]
    },
    {
      "cell_type": "code",
      "execution_count": null,
      "metadata": {
        "colab": {
          "base_uri": "https://localhost:8080/",
          "height": 70,
          "referenced_widgets": [
            "5fb0d1035ebf4cd79d6c2ec01130c17e",
            "2f5ae742cddc4b4aa7ba6d4f30c9d1ab",
            "86a2ae354c6847a791d4bc0f3df9805d"
          ]
        },
        "id": "nqflA81xVKoo",
        "outputId": "8f877165-69f8-4529-9256-bd5e9a8d0372"
      },
      "outputs": [
        {
          "data": {
            "application/vnd.jupyter.widget-view+json": {
              "model_id": "5fb0d1035ebf4cd79d6c2ec01130c17e",
              "version_major": 2,
              "version_minor": 0
            },
            "text/plain": [
              "FloatProgress(value=0.0, bar_style='info', description='Progress:', layout=Layout(height='25px', width='50%'),…"
            ]
          },
          "metadata": {},
          "output_type": "display_data"
        },
        {
          "name": "stdout",
          "output_type": "stream",
          "text": [
            "Correct! You earned 4/4 points. You are a star!\n",
            "\n",
            "Your submission has been successfully recorded in the gradebook."
          ]
        }
      ],
      "source": [
        "%%spark\n",
        "\n",
        "# 4 points\n",
        "grader.grade(test_case_id = 'defensive_cleaned', answer = defensive_cleaned_sdf.toPandas())"
      ]
    },
    {
      "cell_type": "code",
      "execution_count": null,
      "metadata": {
        "colab": {
          "base_uri": "https://localhost:8080/",
          "height": 215,
          "referenced_widgets": [
            "c821705c38e04b8a8f8f31ee666fddd1",
            "546a0cd305054c778fdfca04026ffed2",
            "9f62b498858d41be8db4e283a052e85f"
          ]
        },
        "id": "Ot-WaWfYNO7t",
        "outputId": "66d3a99a-ffbd-4557-9877-7411a7903057"
      },
      "outputs": [
        {
          "data": {
            "application/vnd.jupyter.widget-view+json": {
              "model_id": "c821705c38e04b8a8f8f31ee666fddd1",
              "version_major": 2,
              "version_minor": 0
            },
            "text/plain": [
              "FloatProgress(value=0.0, bar_style='info', description='Progress:', layout=Layout(height='25px', width='50%'),…"
            ]
          },
          "metadata": {},
          "output_type": "display_data"
        },
        {
          "name": "stdout",
          "output_type": "stream",
          "text": [
            "+--------------------+--------------+--------+----+-------------------+------------+-------------+------------+----------------+-----+-------+---------------+----+------------+---------+-------------+------------------+---+--------------------+----------+----------------+-------------------+------------------+-----------+---------------+---------------+--------------------+--------------+------+--------+------------+------------+\n",
            "|           Player Id|          Name|Position|Year|               Team|Games Played|Total Tackles|Solo Tackles|Assisted Tackles|Sacks|Safties|Passes Defended|Ints|Ints for TDs|Int Yards|Yards Per Int|Longest Int Return|Age|         Birth Place|  Birthday|         College|     Current Status|      Current Team| Experience|Height (inches)|    High School|High School Location|          Name|Number|Position|Weight (lbs)|Years Played|\n",
            "+--------------------+--------------+--------+----+-------------------+------------+-------------+------------+----------------+-----+-------+---------------+----+------------+---------+-------------+------------------+---+--------------------+----------+----------------+-------------------+------------------+-----------+---------------+---------------+--------------------+--------------+------+--------+------------+------------+\n",
            "|lionaldalton/2500276|Dalton, Lional|        |2003|Washington Redskins|          12|           14|          11|               3|    1|     --|              1|  --|          --|       --|            0|                --| 42|        Detroit , MI| 2/21/1975|Eastern Michigan|            Retired|                  |  9 Seasons|             73|               |                    |Dalton, Lional|  null|        |         315| 1998 - 2006|\n",
            "| joesalave'a/2502805| Salave'a, Joe|        |2005|Washington Redskins|          14|           31|          23|               8|  0.5|     --|              0|  --|          --|       --|            0|                --| 42|Leone American Samoa| 3/25/1975|         Arizona|            Retired|                  |  8 Seasons|             75|               |                    | Salave'a, Joe|  null|        |         337| 1998 - 2007|\n",
            "|dukewilliams/2539269|Williams, Duke|      SS|2016|      Buffalo Bills|           9|            4|           4|               0|    0|     --|              1|  --|          --|       --|            0|                --| 26|         Monroe , LA|10/15/1990|          Nevada|Unsigned free agent|Indianapolis Colts| 5th season|             71|         Hug HS|            Reno, NV|Williams, Duke|    31|      SS|         201|            |\n",
            "| morannorris/2504757| Norris, Moran|        |2007|San Francisco 49ers|          16|            3|           2|               1|    0|      1|              0|  --|          --|       --|            0|                --| 38|        Houston , TX| 6/16/1978|          Kansas|            Retired|                  | 12 Seasons|             73|               |                    | Norris, Moran|  null|        |         250| 2001 - 2012|\n",
            "|chadgreenway/2506881|Greenway, Chad|     OLB|2010|  Minnesota Vikings|          16|          144|         109|              35|    1|     --|              3|  --|          --|       --|            0|                --| 34|   Mount Vernon , SD| 1/12/1983|            Iowa|Unsigned free agent| Minnesota Vikings|12th season|             75|Mount Vernon HS|                  SD|Greenway, Chad|    52|     OLB|         237|            |\n",
            "+--------------------+--------------+--------+----+-------------------+------------+-------------+------------+----------------+-----+-------+---------------+----+------------+---------+-------------+------------------+---+--------------------+----------+----------------+-------------------+------------------+-----------+---------------+---------------+--------------------+--------------+------+--------+------------+------------+\n",
            "only showing top 5 rows"
          ]
        }
      ],
      "source": [
        "%%spark\n",
        "\n",
        "#TODO: Create defensive_player_stats_sdf\n",
        "defensive_cleaned_sdf.createOrReplaceTempView(\"defensive_cleaned\")\n",
        "\n",
        "query = '''SELECT DISTINCT *\n",
        "           FROM defensive_cleaned d\n",
        "           INNER JOIN basic_stats b\n",
        "           USING (`Player Id`)'''\n",
        "\n",
        "defensive_player_stats_sdf = spark.sql(query)\n",
        "\n",
        "defensive_player_stats_sdf.show(5)"
      ]
    },
    {
      "cell_type": "code",
      "execution_count": null,
      "metadata": {
        "colab": {
          "base_uri": "https://localhost:8080/",
          "height": 70,
          "referenced_widgets": [
            "6e6d02b8e4104162a5df03f81d298b65",
            "90d6b433339543d19c24e7db4f530b8a",
            "f5111e8f9684405cbf05c41c0b7c7bd8"
          ]
        },
        "id": "1HO4WgzDXhql",
        "outputId": "87d434c1-a800-40c1-b648-35fd960aac35"
      },
      "outputs": [
        {
          "data": {
            "application/vnd.jupyter.widget-view+json": {
              "model_id": "6e6d02b8e4104162a5df03f81d298b65",
              "version_major": 2,
              "version_minor": 0
            },
            "text/plain": [
              "FloatProgress(value=0.0, bar_style='info', description='Progress:', layout=Layout(height='25px', width='50%'),…"
            ]
          },
          "metadata": {},
          "output_type": "display_data"
        },
        {
          "name": "stdout",
          "output_type": "stream",
          "text": [
            "Correct! You earned 4/4 points. You are a star!\n",
            "\n",
            "Your submission has been successfully recorded in the gradebook."
          ]
        }
      ],
      "source": [
        "%%spark\n",
        "\n",
        "# 4 points\n",
        "grader.grade(test_case_id = 'defensive_player_stats', answer = defensive_player_stats_sdf.toPandas())"
      ]
    },
    {
      "cell_type": "markdown",
      "metadata": {
        "id": "CsLea-1Tyu0v"
      },
      "source": [
        "## Step 2: Analysis!"
      ]
    },
    {
      "cell_type": "markdown",
      "metadata": {
        "id": "svOO4iLPist4"
      },
      "source": [
        "### Step 2.1: The Robust Ratio\n",
        "\n",
        "Now, we are interested in seeing the player with the highest total tackles / games played ratio from each team for each year and their corresponding experience. This involves derieving data from both the dataframes we created just now.\n",
        "\n",
        "Your task is to first find the player with the highest ratio for each team per year from the defensive_player_stats_df, and then join that with the basic_stats_df to find the experience of that player.\n",
        "\n",
        "Create an sdf called `best_tackles_sdf` that contains the above information. Then, make sure to only retain data pertaining to Name, player Id, Year, tackle_ratio, and experience. \n",
        "\n",
        "Remember we will sort the dataframe when grading so you can sort the elements however you wish (you don't need to if you don't want to). \n"
      ]
    },
    {
      "cell_type": "code",
      "execution_count": null,
      "metadata": {
        "colab": {
          "base_uri": "https://localhost:8080/",
          "height": 17,
          "referenced_widgets": [
            "90c7a336293e4bf792d9719af93afdba",
            "cc3ca439e07743abba157498c873f9a9",
            "fbf08df0a02243b39d4fedf57ca5c630"
          ]
        },
        "id": "Kt16tyP0klQX",
        "outputId": "9026258c-06f6-49b0-be3b-4a7c4669080b"
      },
      "outputs": [
        {
          "data": {
            "application/vnd.jupyter.widget-view+json": {
              "model_id": "90c7a336293e4bf792d9719af93afdba",
              "version_major": 2,
              "version_minor": 0
            },
            "text/plain": [
              "FloatProgress(value=0.0, bar_style='info', description='Progress:', layout=Layout(height='25px', width='50%'),…"
            ]
          },
          "metadata": {},
          "output_type": "display_data"
        }
      ],
      "source": [
        "%%spark\n",
        "\n",
        "# TODO: Create best_tackles_sdf\n",
        "\n",
        "# Compute the values for solo tackles / games\n",
        "\n",
        "# Find the player with the highest ratio for each team\n",
        "\n",
        "defensive_player_stats_sdf.createOrReplaceTempView(\"defensive_player_stats\")\n",
        "\n",
        "query = '''WITH tackle AS(\n",
        "    SELECT Team, Year, `Total Tackles`/`Games Played` AS tackle_ratio, `player Id`\n",
        "    FROM defensive_player_stats\n",
        "  ),\n",
        "  bst_tackle AS(\n",
        "    SELECT Team, Year, MAX(tackle_ratio) AS tackle_ratio\n",
        "    FROM tackle\n",
        "    GROUP BY Team, Year\n",
        "  ),\n",
        "  bst_tackle_player AS(\n",
        "    SELECT a.Year, a.tackle_ratio, b.`player Id`, a.Team\n",
        "    FROM bst_tackle a\n",
        "    INNER JOIN tackle b\n",
        "    USING (Team, Year, tackle_ratio)\n",
        "  )\n",
        "  SELECT a.Year, a.tackle_ratio Ratio, a.`player Id` ID, a.Team, b.Experience\n",
        "  FROM bst_tackle_player a\n",
        "  INNER JOIN basic_stats b\n",
        "  USING (`player Id`)'''\n",
        "\n",
        "best_tackles_sdf = spark.sql(query)\n"
      ]
    },
    {
      "cell_type": "code",
      "execution_count": null,
      "metadata": {
        "colab": {
          "base_uri": "https://localhost:8080/",
          "height": 177,
          "referenced_widgets": [
            "9a0f68ca58d2475a92bc2989300aa375",
            "b30590e994034d5eb3b01d80192fbd18",
            "ec5f2beae82140708ff44a6e83f7a21b"
          ]
        },
        "id": "-a3xLDEYCcwl",
        "outputId": "20265dfa-8b31-46d7-83bf-fb9ec8d352c5"
      },
      "outputs": [
        {
          "data": {
            "application/vnd.jupyter.widget-view+json": {
              "model_id": "9a0f68ca58d2475a92bc2989300aa375",
              "version_major": 2,
              "version_minor": 0
            },
            "text/plain": [
              "FloatProgress(value=0.0, bar_style='info', description='Progress:', layout=Layout(height='25px', width='50%'),…"
            ]
          },
          "metadata": {},
          "output_type": "display_data"
        },
        {
          "name": "stdout",
          "output_type": "stream",
          "text": [
            "+----+------+--------------------+------------------+-----------+\n",
            "|Year| Ratio|                  ID|              Team| Experience|\n",
            "+----+------+--------------------+------------------+-----------+\n",
            "|2014| 7.125|  ericweddle/2495775|San Diego Chargers|11th season|\n",
            "|2002|9.4375|brianurlacher/250...|     Chicago Bears| 13 Seasons|\n",
            "|2009|8.3125|  briancushing/80421|    Houston Texans| 9th season|\n",
            "|2005|   5.5|     iangold/2504263|    Denver Broncos|  8 Seasons|\n",
            "+----+------+--------------------+------------------+-----------+\n",
            "only showing top 4 rows"
          ]
        }
      ],
      "source": [
        "%%spark\n",
        "# Print out the first few rows to see if the dataframe looks reasonable\n",
        "best_tackles_sdf.show(4)"
      ]
    },
    {
      "cell_type": "code",
      "execution_count": null,
      "metadata": {
        "colab": {
          "base_uri": "https://localhost:8080/",
          "height": 70,
          "referenced_widgets": [
            "68f71441db3d456eba79f841c4409df0",
            "468534474c0d427da8826c78807858ba",
            "5f5ea08076a14ad7855988c84e064fba"
          ]
        },
        "id": "LTukZvW9Pj04",
        "outputId": "57e65517-d12a-4de7-cf1d-81b504f94abb"
      },
      "outputs": [
        {
          "data": {
            "application/vnd.jupyter.widget-view+json": {
              "model_id": "68f71441db3d456eba79f841c4409df0",
              "version_major": 2,
              "version_minor": 0
            },
            "text/plain": [
              "FloatProgress(value=0.0, bar_style='info', description='Progress:', layout=Layout(height='25px', width='50%'),…"
            ]
          },
          "metadata": {},
          "output_type": "display_data"
        },
        {
          "name": "stdout",
          "output_type": "stream",
          "text": [
            "Correct! You earned 10/10 points. You are a star!\n",
            "\n",
            "Your submission has been successfully recorded in the gradebook."
          ]
        }
      ],
      "source": [
        "%%spark\n",
        "\n",
        "# 10 points\n",
        "grader.grade(test_case_id = 'tackle_ratio', answer = best_tackles_sdf.toPandas())"
      ]
    },
    {
      "cell_type": "markdown",
      "metadata": {
        "id": "MCcU96OwwqT1"
      },
      "source": [
        "\n",
        "### Step 2.2: The Tremendous Tackles\n",
        "\n",
        "Your task is to answer the following questions: \n",
        "\n",
        "1. Which team has the player which the best ratio? Save their ID to the variable `highest_tackle_ratio_person`.\n",
        "2. Which team has the total highest ratio? Save this to the variable `highest_tackle_ratio_team`\n",
        "3. For each player who has played for more than a year, what is the percentage change in their ratio from the first year they played to the last year they played? Save this df in `percentage_change_sdf`, and make sure to order by ID. This DF should just contain two columns- percentage change and ID, as shown below.\n",
        "\n",
        "```\n",
        "+-------------------+--------------------+\n",
        "|  Percentage Change|                  ID|\n",
        "+-------------------+--------------------+\n",
        "|                   |                    |\n",
        "+-------------------+--------------------+\n",
        "```"
      ]
    },
    {
      "cell_type": "code",
      "execution_count": null,
      "metadata": {
        "colab": {
          "base_uri": "https://localhost:8080/",
          "height": 17,
          "referenced_widgets": [
            "79a47ecd084a483ea553e4d9e4f98202",
            "e416de5bf7c349b8966fe55da07cafc1",
            "8775789e0afd449eb8150b422185c1d1"
          ]
        },
        "id": "vLTmvD9WNQH3",
        "outputId": "1d9b752e-2079-4836-ad87-a1c71d03f018"
      },
      "outputs": [
        {
          "data": {
            "application/vnd.jupyter.widget-view+json": {
              "model_id": "79a47ecd084a483ea553e4d9e4f98202",
              "version_major": 2,
              "version_minor": 0
            },
            "text/plain": [
              "FloatProgress(value=0.0, bar_style='info', description='Progress:', layout=Layout(height='25px', width='50%'),…"
            ]
          },
          "metadata": {},
          "output_type": "display_data"
        }
      ],
      "source": [
        "%%spark\n",
        "\n",
        "#TODO: highest_tackle_ratio_person\n",
        "best_tackles_sdf.createOrReplaceTempView(\"best_tackles\")\n",
        "\n",
        "query = '''SELECT ID \n",
        "           FROM best_tackles\n",
        "           ORDER BY Ratio DESC\n",
        "           LIMIT 1'''\n",
        "\n",
        "df = spark.sql(query).toPandas()\n",
        "\n",
        "highest_tackle_ratio_person = df['ID'].values"
      ]
    },
    {
      "cell_type": "code",
      "execution_count": null,
      "metadata": {
        "colab": {
          "base_uri": "https://localhost:8080/",
          "height": 17,
          "referenced_widgets": [
            "baff32af34f547b0885fde232ba7675b",
            "f3ca8435dc9a402781b469f6d8803118",
            "305627c6147c41caaa55fbf979674753"
          ]
        },
        "id": "TKuL697RleAy",
        "outputId": "495bedf1-1a39-49cb-dc34-3b2ed02618b6"
      },
      "outputs": [
        {
          "data": {
            "application/vnd.jupyter.widget-view+json": {
              "model_id": "baff32af34f547b0885fde232ba7675b",
              "version_major": 2,
              "version_minor": 0
            },
            "text/plain": [
              "FloatProgress(value=0.0, bar_style='info', description='Progress:', layout=Layout(height='25px', width='50%'),…"
            ]
          },
          "metadata": {},
          "output_type": "display_data"
        }
      ],
      "source": [
        "%%spark\n",
        "#TODO: highest_tackle_ratio_team\n",
        "query = '''SELECT Team \n",
        "           FROM best_tackles\n",
        "           ORDER BY Ratio DESC\n",
        "           LIMIT 1'''\n",
        "\n",
        "df = spark.sql(query).toPandas()\n",
        "\n",
        "highest_tackle_ratio_team = df['Team'].values"
      ]
    },
    {
      "cell_type": "code",
      "execution_count": null,
      "metadata": {
        "colab": {
          "base_uri": "https://localhost:8080/",
          "height": 70,
          "referenced_widgets": [
            "374244e04bd94ec0b29a6e613d15f581",
            "c8b40bca21fe40c2aa0e672a27da5f20",
            "8e157bccf55f4292b5a44c5fd31013de"
          ]
        },
        "id": "a6Ot6rFKUrH3",
        "outputId": "5876fe80-c3de-49ec-f9bb-b9b7946eb2fb"
      },
      "outputs": [
        {
          "data": {
            "application/vnd.jupyter.widget-view+json": {
              "model_id": "374244e04bd94ec0b29a6e613d15f581",
              "version_major": 2,
              "version_minor": 0
            },
            "text/plain": [
              "FloatProgress(value=0.0, bar_style='info', description='Progress:', layout=Layout(height='25px', width='50%'),…"
            ]
          },
          "metadata": {},
          "output_type": "display_data"
        },
        {
          "name": "stdout",
          "output_type": "stream",
          "text": [
            "Correct! You earned 2/2 points. You are a star!\n",
            "\n",
            "Your submission has been successfully recorded in the gradebook."
          ]
        }
      ],
      "source": [
        "%%spark\n",
        "\n",
        "# 2 points\n",
        "grader.grade(test_case_id = 'best_player', answer = highest_tackle_ratio_person)"
      ]
    },
    {
      "cell_type": "code",
      "execution_count": null,
      "metadata": {
        "colab": {
          "base_uri": "https://localhost:8080/",
          "height": 70,
          "referenced_widgets": [
            "c062576b5ba44a1e9b37c6e741d36fd8",
            "90d8cdb5cf2e48c093a435db11546d5a",
            "f96e281455624fa4bf1aa2c4c2ced573"
          ]
        },
        "id": "YZa4prSwQUJQ",
        "outputId": "94d59290-6bbd-4b65-88b7-2523a8e02100"
      },
      "outputs": [
        {
          "data": {
            "application/vnd.jupyter.widget-view+json": {
              "model_id": "c062576b5ba44a1e9b37c6e741d36fd8",
              "version_major": 2,
              "version_minor": 0
            },
            "text/plain": [
              "FloatProgress(value=0.0, bar_style='info', description='Progress:', layout=Layout(height='25px', width='50%'),…"
            ]
          },
          "metadata": {},
          "output_type": "display_data"
        },
        {
          "name": "stdout",
          "output_type": "stream",
          "text": [
            "Correct! You earned 2/2 points. You are a star!\n",
            "\n",
            "Your submission has been successfully recorded in the gradebook."
          ]
        }
      ],
      "source": [
        "%%spark\n",
        "\n",
        "# 2 points\n",
        "grader.grade(test_case_id = 'best_team', answer = highest_tackle_ratio_team)"
      ]
    },
    {
      "cell_type": "code",
      "execution_count": null,
      "metadata": {
        "colab": {
          "base_uri": "https://localhost:8080/",
          "height": 17,
          "referenced_widgets": [
            "a5e2b0817ad1443285267e57558442e6",
            "6d0d2f390c2140489c68d7c56d7e3650",
            "1375bd73b55c4fbca7402cadca90f5ad"
          ]
        },
        "id": "NyVBZzE9Zg-G",
        "outputId": "ecebd287-bd3e-4366-d031-494efe79236a"
      },
      "outputs": [
        {
          "data": {
            "application/vnd.jupyter.widget-view+json": {
              "model_id": "a5e2b0817ad1443285267e57558442e6",
              "version_major": 2,
              "version_minor": 0
            },
            "text/plain": [
              "FloatProgress(value=0.0, bar_style='info', description='Progress:', layout=Layout(height='25px', width='50%'),…"
            ]
          },
          "metadata": {},
          "output_type": "display_data"
        }
      ],
      "source": [
        "%%spark\n",
        "\n",
        "#TODO Create % change table\n",
        "\n",
        "query = '''WITH tackle AS(\n",
        "    SELECT Year, Team, `Total Tackles`/`Games Played` AS tackle_ratio, `player Id` AS ID\n",
        "    FROM defensive_player_stats\n",
        "  ),\n",
        "  year AS (\n",
        "    SELECT ID, MAX(year) AS last_year, MIN(year) AS first_year\n",
        "    FROM tackle\n",
        "    GROUP BY ID\n",
        "  ),\n",
        "  tackle_first AS(\n",
        "    SELECT a.ID, b.tackle_ratio AS first_ratio\n",
        "    FROM year a\n",
        "    INNER JOIN tackle b \n",
        "    ON a.ID = b.ID\n",
        "    AND a.first_year = b.year\n",
        "    WHERE b.tackle_ratio <> 0\n",
        "    AND isnotnull(b.tackle_ratio)\n",
        "  ),\n",
        "  tackle_last AS(\n",
        "    SELECT a.ID, b.tackle_ratio AS last_ratio\n",
        "    FROM year a\n",
        "    INNER JOIN tackle b \n",
        "    ON a.ID = b.ID\n",
        "    AND a.last_year = b.year\n",
        "  )\n",
        "  SELECT (last_ratio - first_ratio)/first_ratio*100 AS `Percentage Change`, f.ID\n",
        "  FROM tackle_first f\n",
        "  INNER JOIN tackle_last l\n",
        "  ON f.ID = l.ID\n",
        "  ORDER BY ID\n",
        "'''\n",
        "\n",
        "percentage_change_sdf = spark.sql(query)\n"
      ]
    },
    {
      "cell_type": "code",
      "execution_count": null,
      "metadata": {
        "colab": {
          "base_uri": "https://localhost:8080/",
          "height": 463,
          "referenced_widgets": [
            "3202f303690c44298dda92f0b0e81c7c",
            "9c2fc12b60f54c6aa0ede1793d7db5cf",
            "cea60acbef274c3e8c11b3365d6f9328"
          ]
        },
        "id": "SzCb93YH7BcB",
        "outputId": "b4453666-b6a8-475f-a179-443f9c6c735e"
      },
      "outputs": [
        {
          "data": {
            "application/vnd.jupyter.widget-view+json": {
              "model_id": "3202f303690c44298dda92f0b0e81c7c",
              "version_major": 2,
              "version_minor": 0
            },
            "text/plain": [
              "FloatProgress(value=0.0, bar_style='info', description='Progress:', layout=Layout(height='25px', width='50%'),…"
            ]
          },
          "metadata": {},
          "output_type": "display_data"
        },
        {
          "name": "stdout",
          "output_type": "stream",
          "text": [
            "+-------------------+--------------------+\n",
            "|  Percentage Change|                  ID|\n",
            "+-------------------+--------------------+\n",
            "|                0.0|a'shawnrobinson/2...|\n",
            "| 1160.0000000000002|   a.j.bouye/2541162|\n",
            "|             -81.25|     a.j.edds/496921|\n",
            "|              -50.0|     a.j.edds/496921|\n",
            "|             -100.0|     a.j.edds/496921|\n",
            "|             -100.0|     a.j.edds/496921|\n",
            "|             -100.0|   a.j.green/2495450|\n",
            "|                0.0|a.j.jefferson/494275|\n",
            "| 57.460317460317476|   a.j.klein/2539982|\n",
            "|                0.0| a.j.schable/2506734|\n",
            "|                0.0| a.j.tarpley/2553605|\n",
            "| -51.64835164835166|aaronbeasley/2499587|\n",
            "|                0.0|aaronburbridge/25...|\n",
            "| -51.11111111111111| aaroncolvin/2543501|\n",
            "|               null| aarondobson/2539256|\n",
            "| -2.083333333333333| aarondonald/2543485|\n",
            "| -55.55555555555556| aaronelling/2504975|\n",
            "|  672.6190476190476|aaronfrancisco/25...|\n",
            "|-21.212121212121207|  aaronglenn/2500813|\n",
            "|             -100.0|aaronkampman/2505138|\n",
            "+-------------------+--------------------+\n",
            "only showing top 20 rows"
          ]
        }
      ],
      "source": [
        "%%spark\n",
        "\n",
        "# Let's visualize the results\n",
        "percentage_change_sdf.show(20)"
      ]
    },
    {
      "cell_type": "code",
      "execution_count": null,
      "metadata": {
        "colab": {
          "base_uri": "https://localhost:8080/",
          "height": 17,
          "referenced_widgets": [
            "d6a83a53f294441c8368303ebcdbe38a",
            "6897f0c7b10a4318aacd6a1cac017289",
            "aa2cbebeb3584304a680268867da8eb6"
          ]
        },
        "id": "W3MZT21Qp5Fk",
        "outputId": "dbdeb3f8-2402-4085-8557-405e373423f8"
      },
      "outputs": [
        {
          "data": {
            "application/vnd.jupyter.widget-view+json": {
              "model_id": "d6a83a53f294441c8368303ebcdbe38a",
              "version_major": 2,
              "version_minor": 0
            },
            "text/plain": [
              "FloatProgress(value=0.0, bar_style='info', description='Progress:', layout=Layout(height='25px', width='50%'),…"
            ]
          },
          "metadata": {},
          "output_type": "display_data"
        }
      ],
      "source": [
        "%%spark\n",
        "\n",
        "## AUTOGRADER Step 2.2: ##\n",
        "percentage_change_sdf.createOrReplaceTempView(\"test_2_2\")\n",
        "test_2_2_sdf = spark.sql(\"SELECT * FROM test_2_2 ORDER BY ID\")"
      ]
    },
    {
      "cell_type": "code",
      "execution_count": null,
      "metadata": {
        "colab": {
          "base_uri": "https://localhost:8080/",
          "height": 70,
          "referenced_widgets": [
            "5f1ea94b654d4e6bbf06cf0332f2eccc",
            "7245949a205c4889bbc8168186c7f801",
            "3097a22a23d644368c579e2c86ece46f"
          ]
        },
        "id": "S8i_bc6bU93w",
        "outputId": "ccf30849-0f2e-4d0d-ab91-f4ed72ebe73f"
      },
      "outputs": [
        {
          "data": {
            "application/vnd.jupyter.widget-view+json": {
              "model_id": "5f1ea94b654d4e6bbf06cf0332f2eccc",
              "version_major": 2,
              "version_minor": 0
            },
            "text/plain": [
              "FloatProgress(value=0.0, bar_style='info', description='Progress:', layout=Layout(height='25px', width='50%'),…"
            ]
          },
          "metadata": {},
          "output_type": "display_data"
        },
        {
          "name": "stdout",
          "output_type": "stream",
          "text": [
            "Correct! You earned 12/12 points. You are a star!\n",
            "\n",
            "Your submission has been successfully recorded in the gradebook."
          ]
        }
      ],
      "source": [
        "%%spark\n",
        "\n",
        "# 12 points\n",
        "grader.grade(test_case_id = 'percentage_change', answer = test_2_2_sdf.toPandas())"
      ]
    },
    {
      "cell_type": "markdown",
      "metadata": {
        "id": "VZIfJGqDqKzX"
      },
      "source": [
        "## 2.3 The Blessed Break\n",
        "\n",
        "That last section was hard. And it's gonna get harder. Take a break. Sit back and relax for a minute. Listen to some music. Here's a [suggestion](https://www.youtube.com/watch?v=A3yCcXgbKrE).\n",
        "\n",
        "In the cell below fill out the boolean variable `whatd_you_think` with `True` if you liked it or `False` if you didn't. You will be graded on your response."
      ]
    },
    {
      "cell_type": "code",
      "execution_count": null,
      "metadata": {
        "id": "WkA0_E2485jy"
      },
      "outputs": [],
      "source": [
        "whatd_you_think = True"
      ]
    },
    {
      "cell_type": "code",
      "execution_count": null,
      "metadata": {
        "colab": {
          "base_uri": "https://localhost:8080/"
        },
        "id": "4lS-XkWl2deZ",
        "outputId": "9a074a9f-39ed-4537-a1cc-0c3d1b6af4a7"
      },
      "outputs": [
        {
          "name": "stdout",
          "output_type": "stream",
          "text": [
            "Correct! You earned 1/1 points. You are a star!\n",
            "\n",
            "Your submission has been successfully recorded in the gradebook.\n"
          ]
        }
      ],
      "source": [
        "# 1 point\n",
        "grader.grade(test_case_id = 'tunes', answer = whatd_you_think)"
      ]
    },
    {
      "cell_type": "markdown",
      "metadata": {
        "id": "QkF2RfLSXO0u"
      },
      "source": [
        "## Step 3: Formatting the Time Series Data\n",
        "\n",
        "\n",
        "Our overarching goal is to create an annual time series model that will use the highest tackle ratio per year for each team to predict the highest tackle ratio for that team over the next season. The model is trained on a set of observations. Each observation contains the team name, and the highest tackle ratios for each year from 2001 to 2016. \n",
        "\n",
        "```\n",
        "+----+-----+----------+---------+----------+---\n",
        "|Team |2001 |...  |2008 |2009 |   ...   |2016 |\n",
        "+----+-----+----------+---------+----------+---\n",
        "|TEN  |...  |...  |...  |...  |   ...   |...  |\n",
        "|SF   |...  |...  |...  |...  |   ...   |...  |\n",
        "|...  |...  |...  |...  |...  |   ...   |...  |\n",
        "+----+-----+----------+---------+----------+---\n",
        "```\n"
      ]
    },
    {
      "cell_type": "markdown",
      "metadata": {
        "id": "KzEa-C36_x45"
      },
      "source": [
        "\n",
        "### Step 3.1: The Annual Arrangement\n",
        "\n",
        "Your first task is to create the time series table, i.e. the `2001` through `2016` columns. This will involve reshaping `best_tackles_sdf`. Currently, `best_tackles_sdf` has columns `ID`, `Name`, `Team`, `Ratio` and `Year`. We want to group the rows together based on common `Team` and create new columns for the Ratio corresponding to each year.\n",
        "\n",
        "Create an sdf called `raw_tackles_time_series_sdf` that has for a single team, the highest tackle ratio in 2001 through 2016. It is ok if for a given team you don't have a given year. However, ensure that for a given team, each year column has an entry, i.e. if no Ratio value is present for the year, the entry for that year column should be `0`. The format of the sdf is shown below: \n",
        "```\n",
        "+----+-----+----------+---------+----------+----------+-------\n",
        "|Team                |2001 |...  |2008 |2009 |   ...   |2016 |\n",
        "+----+-----+----------+---------+----------+----------+-------\n",
        "|Tennessee Titans    |...  |...  |...  |...  |   ...   |...  |\n",
        "|San Francisco 49ers |...  |...  |...  |...  |   ...   |...  |\n",
        "|...                 |...  |...  |...  |...  |   ...   |...  |\n",
        "+----+-----+----------+---------+----------+----------+-------\n",
        "```\n",
        "_Hint_: This is a **fiddly and somewhat difficult** question. The tricky part is creating the additional columns of annual ratios, specifically when there are missing years. \n",
        "\n",
        "We suggest you look into `CASE` and `WHEN` statements in the [function list](https://spark.apache.org/docs/2.3.0/api/sql/index.html), and use these to **either** fill in a number for column (if appropriate) or put in a 0."
      ]
    },
    {
      "cell_type": "code",
      "execution_count": null,
      "metadata": {
        "colab": {
          "base_uri": "https://localhost:8080/",
          "height": 17,
          "referenced_widgets": [
            "25bd8fe120474e15936d79398fed9725",
            "7d58488d426e419091268fb50c7aa5b3",
            "6397ad37c8d34abf8f81b3983e753c1d"
          ]
        },
        "id": "btp2wboHqg2J",
        "outputId": "201b9f58-3751-4db3-e1fa-d64e925ebcd5"
      },
      "outputs": [
        {
          "data": {
            "application/vnd.jupyter.widget-view+json": {
              "model_id": "25bd8fe120474e15936d79398fed9725",
              "version_major": 2,
              "version_minor": 0
            },
            "text/plain": [
              "FloatProgress(value=0.0, bar_style='info', description='Progress:', layout=Layout(height='25px', width='50%'),…"
            ]
          },
          "metadata": {},
          "output_type": "display_data"
        }
      ],
      "source": [
        "%%spark\n",
        "\n",
        "# TODO: Create [raw_tackles_time_series_sdf]\n",
        "\n",
        "# CASE() statements are SQL's equivalent of if else statements. WHEN a CASE is\n",
        "# true THEN we define a function. ELSE we do another function and then END the\n",
        "# statement.\n",
        "\n",
        "# The query is a GROUP BY. We group data based on the same team, as in the\n",
        "# previous step. We then do a CASE statement. This will seperate out the sets of\n",
        "# data corresponding to the same year using the 'Year' volumn in the WHEN clause.\n",
        "# If we have a piece of data, it will be the Ratio value for a given team in \n",
        "# a given year and we will save it with a corresponding column name. If there is\n",
        "# no piece of data here, as per the question, we need to add a 0. This is the\n",
        "# ELSE clause. Lastly, we do a SUM() to find the final Ratio.\n",
        "\n",
        "query = '''SELECT Team, MAX(CASE Year WHEN 2001 THEN Ratio ELSE 0 END) AS `2001`,\\\n",
        "           MAX(CASE Year WHEN 2002 THEN Ratio ELSE 0 END) AS `2002`,\\\n",
        "           MAX(CASE Year WHEN 2003 THEN Ratio ELSE 0 END) AS `2003`,\\\n",
        "           MAX(CASE Year WHEN 2004 THEN Ratio ELSE 0 END) AS `2004`,\\\n",
        "           MAX(CASE Year WHEN 2005 THEN Ratio ELSE 0 END) AS `2005`,\\\n",
        "           MAX(CASE Year WHEN 2006 THEN Ratio ELSE 0 END) AS `2006`,\\\n",
        "           MAX(CASE Year WHEN 2007 THEN Ratio ELSE 0 END) AS `2007`,\\\n",
        "           MAX(CASE Year WHEN 2008 THEN Ratio ELSE 0 END) AS `2008`,\\\n",
        "           MAX(CASE Year WHEN 2009 THEN Ratio ELSE 0 END) AS `2009`,\\\n",
        "           MAX(CASE Year WHEN 2010 THEN Ratio ELSE 0 END) AS `2010`,\\\n",
        "           MAX(CASE Year WHEN 2011 THEN Ratio ELSE 0 END) AS `2011`,\\\n",
        "           MAX(CASE Year WHEN 2012 THEN Ratio ELSE 0 END) AS `2012`,\\\n",
        "           MAX(CASE Year WHEN 2013 THEN Ratio ELSE 0 END) AS `2013`,\\\n",
        "           MAX(CASE Year WHEN 2014 THEN Ratio ELSE 0 END) AS `2014`,\\\n",
        "           MAX(CASE Year WHEN 2015 THEN Ratio ELSE 0 END) AS `2015`,\\\n",
        "           MAX(CASE Year WHEN 2016 THEN Ratio ELSE 0 END) AS `2016`\n",
        "           FROM best_tackles\n",
        "           GROUP BY Team'''\n",
        "\n",
        "# Define and save raw_tackles_time_series_sdf\n",
        "raw_tackles_time_series_sdf = spark.sql(query)\n"
      ]
    },
    {
      "cell_type": "code",
      "execution_count": null,
      "metadata": {
        "colab": {
          "base_uri": "https://localhost:8080/",
          "height": 17,
          "referenced_widgets": [
            "5cc5e86b486943eb8a572581c4ad4c50",
            "20ed7c8a436445df880b383b7c6692fd",
            "38c9de9001624af292be2a92a6addb6b"
          ]
        },
        "id": "WRMSunHVq296",
        "outputId": "171a24fe-4803-42c0-eea1-f9048cb6ead6"
      },
      "outputs": [
        {
          "data": {
            "application/vnd.jupyter.widget-view+json": {
              "model_id": "5cc5e86b486943eb8a572581c4ad4c50",
              "version_major": 2,
              "version_minor": 0
            },
            "text/plain": [
              "FloatProgress(value=0.0, bar_style='info', description='Progress:', layout=Layout(height='25px', width='50%'),…"
            ]
          },
          "metadata": {},
          "output_type": "display_data"
        }
      ],
      "source": [
        "%%spark\n",
        "\n",
        "## AUTOGRADER Step 3.1: ##\n",
        "\n",
        "raw_tackles_time_series_sdf.createOrReplaceTempView(\"test_3_1\")\n",
        "test_3_1_sdf = spark.sql(\"SELECT * FROM test_3_1 ORDER BY Team DESC LIMIT 10\")"
      ]
    },
    {
      "cell_type": "code",
      "execution_count": null,
      "metadata": {
        "colab": {
          "base_uri": "https://localhost:8080/",
          "height": 70,
          "referenced_widgets": [
            "18b137c3ec3049eabfe44babd930858e",
            "5f100692174047bf852fa4426cb56b1e",
            "a02810512584448ea482f48f0abbd6b5"
          ]
        },
        "id": "NluLbb4HX5AS",
        "outputId": "7f55d8d0-9ba7-4d22-a338-0346e7ddbed5"
      },
      "outputs": [
        {
          "data": {
            "application/vnd.jupyter.widget-view+json": {
              "model_id": "18b137c3ec3049eabfe44babd930858e",
              "version_major": 2,
              "version_minor": 0
            },
            "text/plain": [
              "FloatProgress(value=0.0, bar_style='info', description='Progress:', layout=Layout(height='25px', width='50%'),…"
            ]
          },
          "metadata": {},
          "output_type": "display_data"
        },
        {
          "name": "stdout",
          "output_type": "stream",
          "text": [
            "Correct! You earned 14/14 points. You are a star!\n",
            "\n",
            "Your submission has been successfully recorded in the gradebook."
          ]
        }
      ],
      "source": [
        "%%spark\n",
        "\n",
        "# 14 points\n",
        "grader.grade(test_case_id = 'arrangement', answer = test_3_1_sdf.toPandas())"
      ]
    },
    {
      "cell_type": "markdown",
      "metadata": {
        "id": "KZRuAU0XI84l"
      },
      "source": [
        "### Step 3.2 The Clairvoyant Cleaning\n",
        "\n",
        "We now want to format the `Team` names to an appropriate abbreviation. The formatting will consist of 2 steps."
      ]
    },
    {
      "cell_type": "markdown",
      "metadata": {
        "id": "0DdnoFkP7mxz"
      },
      "source": [
        "#### Step 3.2.1 The Ubiquitous UDF\n",
        "\n",
        "The teams in our dataset are defined by their full names. We think that it would be *cleaner* to have names represented by using abbreviations. Often times when using Spark, there may not be a built-in SQL function that can do the operation we desired. Instead, we can create one on our own with a user-defined function (udf).\n",
        "\n",
        "A udf is defined as a normal Python function and then registered to be used as a Spark SQL function. Your task is to create a udf, `NAME_TO_ABBV()` that will convert the `Team` field in `raw_tackles_time_series_sdf` to their appropriate abbreviations. This will be done using the provided `name_to_abbv_dict` dictionary. We are only interested in the teams in that dictionary.\n",
        "\n",
        "Fill out the function `name_to_abbv()` below. Then use `spark.udf.register()` to register it as a SQL function. The command is provided. ***You do not need to edit it***. Note, we have defined the udf as returning `StringType()`. Ensure that your function returns this. You must also deal with any potential `null` cases."
      ]
    },
    {
      "cell_type": "code",
      "execution_count": null,
      "metadata": {
        "colab": {
          "base_uri": "https://localhost:8080/",
          "height": 35,
          "referenced_widgets": [
            "0a95fdc2e4374fe4a48e655b9171fba7",
            "ba322917f4254271a80b5e3b3922c647",
            "1fc4adb1bfa24fa5895ef89361bca699"
          ]
        },
        "id": "P4cJWZsr8iNC",
        "outputId": "b26b31ea-07e4-4ce9-d85f-b47c6345a3f8"
      },
      "outputs": [
        {
          "data": {
            "application/vnd.jupyter.widget-view+json": {
              "model_id": "0a95fdc2e4374fe4a48e655b9171fba7",
              "version_major": 2,
              "version_minor": 0
            },
            "text/plain": [
              "FloatProgress(value=0.0, bar_style='info', description='Progress:', layout=Layout(height='25px', width='50%'),…"
            ]
          },
          "metadata": {},
          "output_type": "display_data"
        },
        {
          "name": "stdout",
          "output_type": "stream",
          "text": [
            "<function name_to_abbv at 0x7f5ea9029b00>"
          ]
        }
      ],
      "source": [
        "%%spark\n",
        "\n",
        "# Dictionary linking stock ticker symbols to their names\n",
        "name_to_abbv_dict = {'Tennessee Titans': 'TEN',\n",
        "                     'Denver Broncos': 'DEN',\n",
        "                     'Green Bay Packers': 'GBP',\n",
        "                     'Pittsburgh Steelers': 'PIT',\n",
        "                     'Chicago Bears': 'CHI',\n",
        "                     'Philadelphia Eagles': 'PHI',\n",
        "                     'Indianapolis Colts': 'IND',\n",
        "                     'Arizona Cardinals': 'ARI',\n",
        "                     'Seattle Seahawks': 'SEA',\n",
        "                     'Baltimore Ravens': 'BAR',\n",
        "                     'Carolina Panthers': 'CAR',\n",
        "                     'Kansas City Chiefs': 'KAN',\n",
        "                     'Oakland Raiders': 'OAK',\n",
        "                     'St. Louis Rams': 'SLR',\n",
        "                     'Atlanta Falcons': 'ATL',\n",
        "                     'New Orleans Saints': 'NOS',\n",
        "                     'San Francisco 49ers': 'SFF',\n",
        "                     'New England Patriots': 'NEP',\n",
        "                     'Buffalo Bills': 'BUF',\n",
        "                     'Los Angeles Rams': 'LAR',\n",
        "                     'Dallas Cowboys': 'DAL',\n",
        "                     'Minnesota Vikings': 'MIN',\n",
        "                     'Detroit Lions': 'DET',\n",
        "                     'Washington Redskins': 'WAS',\n",
        "                     'Jacksonville Jaguars': 'JAC',\n",
        "                     'New York Giants': 'NYG',\n",
        "                     'Tampa Bay Buccaneers': 'TBB',\n",
        "                     'Cleveland Browns': 'CLE',\n",
        "                     'Houston Texans': 'HOT',\n",
        "                     'Los Angeles Raiders': 'LOS',\n",
        "                     'Miami Dolphins': 'MIA',\n",
        "                     'Houston Oilers': 'HOU',\n",
        "                     'Cincinnati Bengals': 'CIN',\n",
        "                     'San Diego Chargers': 'SDC',\n",
        "                     'Tennessee Oilers': 'TEO',\n",
        "                     'New York Jets': 'NYJ',\n",
        "                     'Phoenix Cardinals': 'PHO',\n",
        "                     'St. Louis Cardinals': 'SLC',\n",
        "                     'Baltimore Colts': 'BAC'}\n",
        "\n",
        "# TODO: Fill out [name_to_abbv()] and register it as a udf.\n",
        "# Fill out name_to_abbv()\n",
        "\n",
        "# In UDFs we have to cover all possible output cases, or else the function will\n",
        "# crash. Specifically, this means we need to handle the case when \"name\" is\n",
        "# not in \"name_to_abbv_dict\". We use a try and except statement to return null\n",
        "# for this case.\n",
        "\n",
        "def name_to_abbv(name):\n",
        "  if name in name_to_abbv_dict.keys():\n",
        "    abv = name_to_abbv_dict[name]\n",
        "  else:\n",
        "    abv = None\n",
        "  return abv\n",
        "  \n",
        "\n",
        "# Register udf as a SQL function. DO NOT EDIT\n",
        "spark.udf.register(\"NAME_TO_ABBV\", name_to_abbv, StringType())\n"
      ]
    },
    {
      "cell_type": "markdown",
      "metadata": {
        "id": "LSM0mzPRaKKr"
      },
      "source": [
        "Submit a tuple to the autograder for the ticker value of San Franscisco 49ers and Washington Commanders. If the name value in the table, set it to a string equal to \"None\""
      ]
    },
    {
      "cell_type": "code",
      "execution_count": null,
      "metadata": {
        "colab": {
          "base_uri": "https://localhost:8080/",
          "height": 35,
          "referenced_widgets": [
            "3950abb456714040aa855fbe00c74f9f",
            "45e65c4d846549e39f6bcc783c210fef",
            "476d2ba395b64682bc68336769ddfd34"
          ]
        },
        "id": "NkdrFilOtKqx",
        "outputId": "2b4f925d-0ac6-4795-a310-eb01ecb20fa3"
      },
      "outputs": [
        {
          "data": {
            "application/vnd.jupyter.widget-view+json": {
              "model_id": "3950abb456714040aa855fbe00c74f9f",
              "version_major": 2,
              "version_minor": 0
            },
            "text/plain": [
              "FloatProgress(value=0.0, bar_style='info', description='Progress:', layout=Layout(height='25px', width='50%'),…"
            ]
          },
          "metadata": {},
          "output_type": "display_data"
        },
        {
          "name": "stdout",
          "output_type": "stream",
          "text": [
            "('SFF', 'None')"
          ]
        }
      ],
      "source": [
        "%%spark\n",
        "\n",
        "## AUTOGRADER Step 3.2.1: ##\n",
        "\n",
        "print((str(name_to_abbv(\"San Francisco 49ers\")),str(name_to_abbv(\"Washington Commanders\"))))\n",
        "to_submit = ((str(name_to_abbv(\"San Francisco 49ers\")),str(name_to_abbv(\"Washington Commanders\"))))"
      ]
    },
    {
      "cell_type": "code",
      "execution_count": null,
      "metadata": {
        "colab": {
          "base_uri": "https://localhost:8080/",
          "height": 70,
          "referenced_widgets": [
            "aa05244e65aa45f2857444a7b5210dfa",
            "07317ef0574b4eefaf75d8056b31b68b",
            "cf5faac1c7da471fb2b77f51f7e239ec"
          ]
        },
        "id": "BA95n1lpZ4yy",
        "outputId": "1ecacdf3-f07e-41f8-9387-e5ec7ffe9348"
      },
      "outputs": [
        {
          "data": {
            "application/vnd.jupyter.widget-view+json": {
              "model_id": "aa05244e65aa45f2857444a7b5210dfa",
              "version_major": 2,
              "version_minor": 0
            },
            "text/plain": [
              "FloatProgress(value=0.0, bar_style='info', description='Progress:', layout=Layout(height='25px', width='50%'),…"
            ]
          },
          "metadata": {},
          "output_type": "display_data"
        },
        {
          "name": "stdout",
          "output_type": "stream",
          "text": [
            "Correct! You earned 2/2 points. You are a star!\n",
            "\n",
            "Your submission has been successfully recorded in the gradebook."
          ]
        }
      ],
      "source": [
        "%%spark\n",
        "\n",
        "# 2 points\n",
        "grader.grade(test_case_id = 'clairvoyant', answer = to_submit)"
      ]
    },
    {
      "cell_type": "markdown",
      "metadata": {
        "id": "u9YOYO9L-_GS"
      },
      "source": [
        "#### Step 3.2.2: The Clean Conversion\n",
        "\n",
        "With our new `NAME_TO_ABBV()` function we will begin to wrangle `raw_tackles_time_series_sdf`.\n",
        "\n",
        "Create an sdf called `tackles_time_series_sdf` as follows. Convert all the team names in `raw_tackles_time_series_sdf` to the appropriate abbreviations and save it as `Team`. Drop any team abbreviations that do not appear in `name_to_abbv_dict`. Using .dropna() is acceptable instead of IS NOT NULL. The final df should be in the format shown below:\n",
        "\n",
        "```\n",
        "+----+-----+----------+---------+----------+----------+--\n",
        "|Team |2000 |2001 |   ...   |2008 |2009 |   ...   |2016 |\n",
        "+----+-----+----------+---------+----------+----------+--\n",
        "|TEN  |...  |...  |   ...   |...  |...  |   ...   |...  |\n",
        "|SFF  |...  |...  |   ...   |...  |...  |   ...   |...  |\n",
        "|...  |...  |...  |   ...   |...  |...  |   ...   |...  |\n",
        "+----+-----+----------+---------+----------+----------+--\n",
        "```"
      ]
    },
    {
      "cell_type": "code",
      "execution_count": null,
      "metadata": {
        "colab": {
          "base_uri": "https://localhost:8080/",
          "height": 17,
          "referenced_widgets": [
            "27ba1e2e08a945f7aee73a79967a17cb",
            "99b8e4bd988b43eb8165619db95c79ee",
            "9d14d225618447c6af2e63fd2e18b5a6"
          ]
        },
        "id": "RuiitnWlBYJ7",
        "outputId": "f411b3d8-2ca1-404f-be5f-a54f786adc22"
      },
      "outputs": [
        {
          "data": {
            "application/vnd.jupyter.widget-view+json": {
              "model_id": "27ba1e2e08a945f7aee73a79967a17cb",
              "version_major": 2,
              "version_minor": 0
            },
            "text/plain": [
              "FloatProgress(value=0.0, bar_style='info', description='Progress:', layout=Layout(height='25px', width='50%'),…"
            ]
          },
          "metadata": {},
          "output_type": "display_data"
        }
      ],
      "source": [
        "%%spark\n",
        "\n",
        "# Format the \"Team\" column using our UDF, NAME_TO_ABBV.\n",
        "# TODO: Create [tackles_time_series_sdf]\n",
        "raw_tackles_time_series_sdf.createOrReplaceTempView(\"raw_tackles_time_series\")\n",
        "\n",
        "query = '''SELECT NAME_TO_ABBV(Team) AS Team, `2001`, `2002`, `2003`, `2004`, `2005`, `2006`,\\\n",
        "           `2007`, `2008`, `2009`, `2010`, `2011`, `2012`, `2013`, `2014`, `2015`, `2016`\n",
        "           FROM raw_tackles_time_series\n",
        "           WHERE Team IS NOT NULL'''\n",
        "\n",
        "\n",
        "# Define and save tackles_time_series_sdf\n",
        "\n",
        "tackles_time_series_sdf = spark.sql(query)"
      ]
    },
    {
      "cell_type": "code",
      "execution_count": null,
      "metadata": {
        "colab": {
          "base_uri": "https://localhost:8080/",
          "height": 17,
          "referenced_widgets": [
            "ca5c32460e3b4cf38717bdacad543fde",
            "7919512b52d64bbc91ba9f1dc8cbbfd6",
            "e0832475162049118ab43f2da5dcfad4"
          ]
        },
        "id": "qBm-D6FXtdv6",
        "outputId": "807c64cb-ccc1-4d68-9cb6-cb2aa90d62e3"
      },
      "outputs": [
        {
          "data": {
            "application/vnd.jupyter.widget-view+json": {
              "model_id": "ca5c32460e3b4cf38717bdacad543fde",
              "version_major": 2,
              "version_minor": 0
            },
            "text/plain": [
              "FloatProgress(value=0.0, bar_style='info', description='Progress:', layout=Layout(height='25px', width='50%'),…"
            ]
          },
          "metadata": {},
          "output_type": "display_data"
        }
      ],
      "source": [
        "%%spark\n",
        "\n",
        "## AUTOGRADER Step 3.2.2: ##\n",
        "\n",
        "tackles_time_series_sdf.createOrReplaceTempView(\"test_3_2_2\")\n",
        "test_3_2_2_sdf = spark.sql(\"SELECT * FROM test_3_2_2 ORDER BY Team LIMIT 10\")"
      ]
    },
    {
      "cell_type": "code",
      "execution_count": null,
      "metadata": {
        "colab": {
          "base_uri": "https://localhost:8080/",
          "height": 70,
          "referenced_widgets": [
            "10ae89479f4d450a874a6a526e44790e",
            "be337de1dfc04fd7921befe68a675e95",
            "8a2f90f9f72b4aed8928beb7d91184a3"
          ]
        },
        "id": "ghKZ3HHOaXIq",
        "outputId": "731b2356-3b04-414b-b140-325d3b84f54f"
      },
      "outputs": [
        {
          "data": {
            "application/vnd.jupyter.widget-view+json": {
              "model_id": "10ae89479f4d450a874a6a526e44790e",
              "version_major": 2,
              "version_minor": 0
            },
            "text/plain": [
              "FloatProgress(value=0.0, bar_style='info', description='Progress:', layout=Layout(height='25px', width='50%'),…"
            ]
          },
          "metadata": {},
          "output_type": "display_data"
        },
        {
          "name": "stdout",
          "output_type": "stream",
          "text": [
            "Correct! You earned 10/10 points. You are a star!\n",
            "\n",
            "Your submission has been successfully recorded in the gradebook."
          ]
        }
      ],
      "source": [
        "%%spark\n",
        "\n",
        "# 10 points\n",
        "grader.grade(test_case_id = 'conversion', answer = test_3_2_2_sdf.toPandas())"
      ]
    },
    {
      "cell_type": "markdown",
      "metadata": {
        "id": "VvDlOG74JPl7"
      },
      "source": [
        "And there you go! Now we have formatted a simple time series dataset for the highest tackle ratios of all teams."
      ]
    },
    {
      "cell_type": "markdown",
      "metadata": {
        "id": "ZnwHS5-kPtVl"
      },
      "source": [
        "## Step 4: The Super... Bacon?\n",
        "\n",
        "Let's introduce a fun little concept called the Bacon Number! The Bacon number of an actor or actress is the number of degrees of separation they have from actor Kevin Bacon, as defined by the game known as Six Degrees of Kevin Bacon. For example, Kevin Bacon's Bacon number is 0. If an actor works in a movie with Kevin Bacon, the actor's Bacon number is 1. If an actor works with an actor who worked with Kevin Bacon in a movie, the first actor's Bacon number is 2, and so forth.\n",
        "\n",
        "How do we implement this for NFL though? Let's use a dataset specifically based on the history of the Super Bowl, and find a number we're calling \"The Super Bacon.\" We define this number as follows: if team A has beaten team B, and team B has beaten team C, then the super bacon of C with respect to A will be 2.\n",
        "\n",
        "Now to calculate this number, we'll use the concepts of graphs and BFS!\n"
      ]
    },
    {
      "cell_type": "markdown",
      "metadata": {
        "id": "VPOLIiHpYr86"
      },
      "source": [
        "*For this section, we will be using Pyspark instead of Spark on the EMR cluster. The syntax remains the same, except you don't need to use the `%%spark` call at the top of each code cell.\n",
        "Run the setup cells for Pyspark below.*"
      ]
    },
    {
      "cell_type": "code",
      "execution_count": 9,
      "metadata": {
        "colab": {
          "base_uri": "https://localhost:8080/"
        },
        "id": "nlrk--6d_6p7",
        "outputId": "e2fe6326-5cff-42bc-eb28-6055fd506992"
      },
      "outputs": [
        {
          "output_type": "stream",
          "name": "stdout",
          "text": [
            "Collecting pyspark\n",
            "  Downloading pyspark-3.2.1.tar.gz (281.4 MB)\n",
            "\u001b[K     |████████████████████████████████| 281.4 MB 34 kB/s \n",
            "\u001b[?25hCollecting py4j==0.10.9.3\n",
            "  Downloading py4j-0.10.9.3-py2.py3-none-any.whl (198 kB)\n",
            "\u001b[K     |████████████████████████████████| 198 kB 57.1 MB/s \n",
            "\u001b[?25hBuilding wheels for collected packages: pyspark\n",
            "  Building wheel for pyspark (setup.py) ... \u001b[?25l\u001b[?25hdone\n",
            "  Created wheel for pyspark: filename=pyspark-3.2.1-py2.py3-none-any.whl size=281853642 sha256=d0291fe5c32649e095e523abdee1011957fbe21fb913df7890f4206cc0e7992e\n",
            "  Stored in directory: /root/.cache/pip/wheels/9f/f5/07/7cd8017084dce4e93e84e92efd1e1d5334db05f2e83bcef74f\n",
            "Successfully built pyspark\n",
            "Installing collected packages: py4j, pyspark\n",
            "Successfully installed py4j-0.10.9.3 pyspark-3.2.1\n"
          ]
        }
      ],
      "source": [
        "!pip install pyspark"
      ]
    },
    {
      "cell_type": "code",
      "execution_count": 10,
      "metadata": {
        "id": "VGEag3L-3cp8"
      },
      "outputs": [],
      "source": [
        "from pyspark.sql import SparkSession\n",
        "\n",
        "appName = \"PySpark\"\n",
        "\n",
        "# Create Spark session\n",
        "spark = SparkSession.builder.appName(appName).getOrCreate()\n"
      ]
    },
    {
      "cell_type": "markdown",
      "metadata": {
        "id": "LK-JxKe0xBvS"
      },
      "source": [
        "### 4.1 “Traversing” a Graph\n",
        "\n",
        "Before we jump to finding the Super Bacons for the teams, let's review how BFS works."
      ]
    },
    {
      "cell_type": "code",
      "execution_count": 11,
      "metadata": {
        "id": "GT6WJwy5vK_G"
      },
      "outputs": [],
      "source": [
        "import pandas as pd\n",
        "from IPython.display import Image as I\n",
        "\n",
        "bfsgif =\\\n",
        "'https://upload.wikimedia.org/wikipedia/commons/5/5d/Breadth-First-S'+\\\n",
        "'earch-Algorithm.gif'\n",
        "dfsgif=\\\n",
        "'https://upload.wikimedia.org/wikipedia/commons/7/7f/Depth-First-Search.gif'\n"
      ]
    },
    {
      "cell_type": "markdown",
      "metadata": {
        "id": "wpanImv_x2l9"
      },
      "source": [
        "\n",
        "#### 4.1.1 Intro to Distributed Breadth-First Search\n",
        "\n",
        "\n",
        "To start off, we will be implementing a graph traversal algorithm known as Breadth First Search. It works in a way that's equivalent to how a stain spreads on a white t-shirt. Take a look at the graph below:\n",
        "\n",
        "<p align = \"center\">\n",
        "<img src = \"https://imgur.com/WU3AUwg.png\" width= \"600\" align =\"center\"/>\n",
        "\n",
        "* Consider starting BFS from point A (green). This is considered the starting frontier/singular origin node.\n",
        "* The first round of BFS would involve finding all the nodes directly reachable from A, namely B-F (blue circles). These blue nodes make up the next frontier at depth 1 away from our starting node A.\n",
        "* The second round would then be identifying the red nodes which are the neighbors of the blue nodes. Now, the red nodes all belong to a frontier 2 depth away from A. Note that node A is also a neighbor of a blue node. However, since it has already been visited, it does not get added to this frontier.\n",
        "\n",
        "This process continues until all the nodes in the graph have been visited.\n",
        "If you would like to learn more about BFS, we highly suggest looking [here](https://www.tutorialspoint.com/data_structures_algorithms/breadth_first_traversal.html).\n",
        "\n",
        "\n",
        "We will now be implementing **spark_bfs(G, N, d)**, our spark flavor of BFS that takes a graph **G**, a set of origin nodes **N**, and a max depth **d**.\n",
        "\n",
        "In order to write a successful BFS function, you are going to need to figure out \n",
        "1. how to keep track of nodes that we have visited\n",
        "2. how to properly find all the nodes at the next depth\n",
        "3. how to avoid cycles and ensure that we do not constantly loop through the same edges (take a look at J-K in the graph)\n"
      ]
    },
    {
      "cell_type": "markdown",
      "metadata": {
        "id": "I9QtEcHJyFTK"
      },
      "source": [
        "#### [OPTIONAL/ADDITIONAL] BFS vs. DFS Animation \n",
        "Run the code cells below to understand the difference between depth and breadth first search! (Source: Wikimedia Commons)"
      ]
    },
    {
      "cell_type": "code",
      "execution_count": null,
      "metadata": {
        "colab": {
          "base_uri": "https://localhost:8080/",
          "height": 538
        },
        "id": "KOOmbVszx2gu",
        "outputId": "02a3d45c-9197-4557-d324-8e5c6ccd38c8"
      },
      "outputs": [
        {
          "name": "stdout",
          "output_type": "stream",
          "text": [
            "BFS:\n"
          ]
        },
        {
          "data": {
            "text/html": [
              "<img src=\"https://upload.wikimedia.org/wikipedia/commons/5/5d/Breadth-First-Search-Algorithm.gif\"/>"
            ],
            "text/plain": [
              "<IPython.core.display.Image object>"
            ]
          },
          "execution_count": 10,
          "metadata": {},
          "output_type": "execute_result"
        }
      ],
      "source": [
        "# NOT GRADED\n",
        "print('BFS:')\n",
        "I(url=bfsgif)"
      ]
    },
    {
      "cell_type": "code",
      "execution_count": null,
      "metadata": {
        "colab": {
          "base_uri": "https://localhost:8080/",
          "height": 538
        },
        "id": "Aq2JPO0iyN4g",
        "outputId": "0c0d9d59-5da9-4a06-b3cd-e624fee513be"
      },
      "outputs": [
        {
          "name": "stdout",
          "output_type": "stream",
          "text": [
            "DFS:\n"
          ]
        },
        {
          "data": {
            "text/html": [
              "<img src=\"https://upload.wikimedia.org/wikipedia/commons/7/7f/Depth-First-Search.gif\"/>"
            ],
            "text/plain": [
              "<IPython.core.display.Image object>"
            ]
          },
          "execution_count": 11,
          "metadata": {},
          "output_type": "execute_result"
        }
      ],
      "source": [
        "#NOT GRADED\n",
        "print('DFS:')\n",
        "I(url=dfsgif)"
      ]
    },
    {
      "cell_type": "markdown",
      "metadata": {
        "id": "wp6kU4RWyQw4"
      },
      "source": [
        "#### 4.1.2 Implement One Traversal\n",
        "\n",
        "To break down this process, let's think about how we would implement a single traversal of the graph. That is given the green node in the graph above, how are we going to get the blue nodes?\n",
        "\n",
        "\n",
        "Consider the simple graph below **which is different from the graph in the image above**:"
      ]
    },
    {
      "cell_type": "code",
      "execution_count": 12,
      "metadata": {
        "colab": {
          "base_uri": "https://localhost:8080/"
        },
        "id": "VZV6fQIxyaww",
        "outputId": "0eac7825-5e9b-4c97-b2a0-f5e5e3e2e84e"
      },
      "outputs": [
        {
          "output_type": "stream",
          "name": "stdout",
          "text": [
            "+---------+-------+\n",
            "|from_node|to_node|\n",
            "+---------+-------+\n",
            "|        A|      B|\n",
            "|        A|      C|\n",
            "|        A|      D|\n",
            "|        C|      F|\n",
            "|        F|      A|\n",
            "|        B|      G|\n",
            "|        G|      H|\n",
            "|        D|      E|\n",
            "+---------+-------+\n",
            "\n"
          ]
        }
      ],
      "source": [
        "spark.conf.set(\"spark.sql.execution.arrow.enabled\", \"true\")\n",
        "\n",
        "simple = [('A', 'B'),\n",
        "         ('A', 'C'),\n",
        "         ('A', 'D'),\n",
        "         ('C', 'F'),\n",
        "         ('F', 'A'),\n",
        "         ('B', 'G'),\n",
        "         ('G', 'H'),\n",
        "         ('D', 'E')]\n",
        "\n",
        "simple_dict = {'from_node': ['A', 'A', 'A', 'C', 'F', 'B', 'G', 'D'],\n",
        "       'to_node': ['B', 'C', 'D', 'F', 'A', 'G', 'H', 'E']}\n",
        "\n",
        "simple_graph_df = pd.DataFrame.from_dict(simple_dict)\n",
        "simple_graph_sdf = spark.createDataFrame(simple_graph_df)\n",
        "simple_graph_sdf.show()"
      ]
    },
    {
      "cell_type": "markdown",
      "metadata": {
        "id": "MQuo6wH-yr9D"
      },
      "source": [
        "As you can see, each row of this dataframe represents an edge between two nodes Here, we are looking at a **directed graph**, which means that A-->B  does not represent the same edge as B-->A.\n",
        "\n",
        "Let's define our starting node as follows:"
      ]
    },
    {
      "cell_type": "code",
      "execution_count": 13,
      "metadata": {
        "id": "jmaJlqRuzEEv"
      },
      "outputs": [],
      "source": [
        "smallOrig = [{'node': 'A'}]\n",
        "smallOrig[0]['distance'] = 0"
      ]
    },
    {
      "cell_type": "markdown",
      "metadata": {
        "id": "g6hLLqHdzHmy"
      },
      "source": [
        "Then, bfs with graph G, starting from smallOrig to depth 1, or  **spark_bfs(G, smallOrig, 1)** would output as follows:"
      ]
    },
    {
      "cell_type": "code",
      "execution_count": 14,
      "metadata": {
        "colab": {
          "base_uri": "https://localhost:8080/"
        },
        "id": "MSWF2e-YzIud",
        "outputId": "8e01fb91-d5ce-4984-bb0c-c0780b69e899"
      },
      "outputs": [
        {
          "output_type": "stream",
          "name": "stdout",
          "text": [
            "+----+--------+\n",
            "|node|distance|\n",
            "+----+--------+\n",
            "|   B|       1|\n",
            "|   D|       1|\n",
            "|   C|       1|\n",
            "|   A|       0|\n",
            "+----+--------+\n",
            "\n"
          ]
        }
      ],
      "source": [
        "simple_1_round_dict = {'node': ['B', 'D', 'C', 'A'],\n",
        "       'distance': [1, 1, 1, 0]}\n",
        "simple_1_round_bfs_df = pd.DataFrame.from_dict(simple_1_round_dict)\n",
        "simple_1_round_bfs_sdf = spark.createDataFrame(simple_1_round_bfs_df)\n",
        "simple_1_round_bfs_sdf.show()"
      ]
    },
    {
      "cell_type": "markdown",
      "metadata": {
        "id": "eL9Jx1BLzZME"
      },
      "source": [
        "As you can see, this dataframe logs each node with its corresponding distance away from A. Moreover, we also know that these nodes are **visited**. \n",
        "\n",
        "Hopefully, you can see how we can use our original graph and this new information to find the nodes at depth two. \n",
        "\n",
        "This is exactly what we will try to accomplish with **spark_bfs_1_round(visited_nodes)** which will ultimately be the inner function of **spark_bfs** that we use to perform exactly one traversal of a graph.\n",
        "\n",
        "**TODO**: Write **spark_bfs_1_round(visted_nodes)** that takes the currently dataframe of visited_nodes, performs one round of BFS, and returns an updated visited nodes dataframe. You should assume that a temporary sdf G already exists."
      ]
    },
    {
      "cell_type": "code",
      "execution_count": 43,
      "metadata": {
        "id": "vZcC22Bfzi6F"
      },
      "outputs": [],
      "source": [
        "def spark_bfs_1_round(visited_nodes):\n",
        "  \"\"\"\n",
        "  :param visited_nodes: dataframe with columns node and distance\n",
        "  :return: dataframe of updated visuted nodes, with columns node and distance\n",
        "  \"\"\"\n",
        "  # TODO: Complete this function to implement 1 round of BFS\n",
        "  visited_nodes.createOrReplaceTempView(\"visited_nodes\")\n",
        "  \n",
        "  query = '''WITH node AS (\n",
        "    SELECT DISTINCT g.to_node AS node, (v.distance+1) AS new_distance\n",
        "    FROM visited_nodes v\n",
        "    INNER JOIN G g\n",
        "    ON v.node = g.from_node\n",
        "  ), final AS (\n",
        "    SELECT n.node, n.new_distance AS distance\n",
        "    FROM node n\n",
        "    UNION\n",
        "    SELECT *\n",
        "    FROM visited_nodes\n",
        "  )\n",
        "  SELECT node, MIN(distance) AS distance\n",
        "  FROM final\n",
        "  GROUP BY node\n",
        "  ORDER BY distance\n",
        "  '''\n",
        "\n",
        "  result = spark.sql(query)\n",
        "  spark.catalog.dropTempView(\"visited_nodes\")\n",
        "\n",
        "  return(result)"
      ]
    },
    {
      "cell_type": "markdown",
      "metadata": {
        "id": "VDY1lkNtz3zX"
      },
      "source": [
        "Now, run the inner function on **simple_1_round_bfs_sdf** (i.e. result of 1 round of BFS on the simple graph) and store the results in **simple_bfs_result**. This is ultimately what the output of BFS to depth 2 should look like."
      ]
    },
    {
      "cell_type": "code",
      "execution_count": 44,
      "metadata": {
        "id": "TxNEr82Z0EYY"
      },
      "outputs": [],
      "source": [
        "# TODO: Run spark_bfs_1_round on simple_1_round_bfs_sdf\n",
        "simple_graph_sdf.createOrReplaceTempView(\"G\")\n",
        "\n",
        "simple_bfs_result = spark_bfs_1_round(simple_1_round_bfs_sdf)\n"
      ]
    },
    {
      "cell_type": "code",
      "execution_count": 45,
      "metadata": {
        "colab": {
          "base_uri": "https://localhost:8080/"
        },
        "id": "yzOmKuJ0vQCy",
        "outputId": "09fce177-3f65-4933-a715-5a561bb88059"
      },
      "outputs": [
        {
          "output_type": "stream",
          "name": "stdout",
          "text": [
            "+----+--------+\n",
            "|node|distance|\n",
            "+----+--------+\n",
            "|   A|       0|\n",
            "|   B|       1|\n",
            "|   D|       1|\n",
            "|   C|       1|\n",
            "|   G|       2|\n",
            "|   E|       2|\n",
            "|   F|       2|\n",
            "+----+--------+\n",
            "\n"
          ]
        }
      ],
      "source": [
        "simple_bfs_result.show()"
      ]
    },
    {
      "cell_type": "markdown",
      "metadata": {
        "id": "_ful3r5fJXgd"
      },
      "source": [
        ""
      ]
    },
    {
      "cell_type": "markdown",
      "metadata": {
        "id": "IJMBU6I50Ls6"
      },
      "source": [
        "Convert this result to Pandas, sorted by the node (ascending), and submit it to the autograder.\n",
        "\n",
        "**HINT:** Make sure distance is formatted as a number!"
      ]
    },
    {
      "cell_type": "code",
      "execution_count": 46,
      "metadata": {
        "id": "DltsLEUz0PUg"
      },
      "outputs": [],
      "source": [
        "# TODO: Convert simple_bfs_result to Pandas sorted by node\n",
        "simple_bfs_test = simple_bfs_result.toPandas().sort_values(by=\"node\") "
      ]
    },
    {
      "cell_type": "code",
      "execution_count": 47,
      "metadata": {
        "colab": {
          "base_uri": "https://localhost:8080/"
        },
        "id": "rKpFy0tU0R8t",
        "outputId": "22c1ccac-e693-4bf5-99b3-7c74a752ca80"
      },
      "outputs": [
        {
          "output_type": "stream",
          "name": "stdout",
          "text": [
            "Correct! You earned 6/6 points. You are a star!\n",
            "\n",
            "Your submission has been successfully recorded in the gradebook.\n"
          ]
        }
      ],
      "source": [
        "# 6 points\n",
        "grader.grade(test_case_id = 'checksimpleBFS', answer = simple_bfs_test)"
      ]
    },
    {
      "cell_type": "markdown",
      "metadata": {
        "id": "wUZugRR20T4F"
      },
      "source": [
        "#### 4.1.3 Full BFS Implementation\n",
        "\n",
        "Now, we will fully implement **spark_bfs**. This function should iteratively call your implemented version of **spark_bfs_1_round** and ultimately return the output of this function at **max_depth**.\n",
        "\n",
        "You are also responsible for initializing the starting dataframe, that is converting the list of origin nodes into a spark dataframe with the nodes logged at distance 0.\n",
        "\n",
        "Consider the following: \n",
        "\n",
        "```\n",
        "schema = StructType([\n",
        "            StructField(\"node\", StringType(), True)\n",
        "        ])\n",
        "\n",
        "    my_sdf = spark.createDataFrame(origins, schema)\n",
        "```\n",
        "\n",
        "The schema ultimately specifies the structure of the Spark DataFrame with a string `node` column. It then calls **spark.createDataFrame** to map this schema to the **origins** nodes. Also, you are responsible for ensuring that a view of your graph is available within this function. (Note: you will also need to add in a distance column)\n",
        "\n",
        "**TODO:** implement **spark_bfs(G,origins,max_depth)** and run on **teams_graph_sdf** initalized in 4.3. Note: you may want to run tests on the **simple_graph** example as the `teams_graph_sdf` will take quite some time to run.\n",
        "\n",
        "These imports might be useful: \n",
        "`from pyspark.sql.types import StructType, StructField, StringType, IntegerType`"
      ]
    },
    {
      "cell_type": "code",
      "execution_count": 48,
      "metadata": {
        "id": "2OpEOcsT1Vwu"
      },
      "outputs": [],
      "source": [
        "# TODO: iterative search over directed graph\n",
        "# Worth 5 points directly, but will be needed later\n",
        "from pyspark.sql.types import StructType, StructField, StringType, IntegerType\n",
        "\n",
        "def spark_bfs(G, origins, max_depth):\n",
        "  \"\"\" runs distributed BFS to a specified max depth\n",
        "\n",
        "  :param G: graph dataframe from 4.3\n",
        "  :param origins: list of origin nodes stored as {\"node\": nodeValue}\n",
        "  :param max_depth: integer value of max depth to run BFS to\n",
        "  :return: dataframe with columns node, distance of all visited nodes\n",
        "  \"\"\"\n",
        "  # initialized G\n",
        "  spark.catalog.dropTempView(\"G\")\n",
        "  G.createOrReplaceTempView(\"G\")\n",
        "  \n",
        "  # initialized origins\n",
        "  schema = StructType([\n",
        "            StructField(\"node\", StringType(), True),\n",
        "            StructField(\"distance\", IntegerType(), False)\n",
        "        ])\n",
        "  \n",
        "  for i in range(0, len(origins)):\n",
        "    origins[i]['distance'] = 0\n",
        "    \n",
        "  origins_df = pd.DataFrame.from_dict(origins)\n",
        "  origins_sdf = spark.createDataFrame(origins_df, schema)\n",
        "  visited_nodes = origins_sdf\n",
        "\n",
        "  for i in range(max_depth):\n",
        "    result = spark_bfs_1_round(visited_nodes)\n",
        "    visited_nodes = result\n",
        "\n",
        "  return visited_nodes\n"
      ]
    },
    {
      "cell_type": "markdown",
      "metadata": {
        "id": "7ZsmVVlE1r_v"
      },
      "source": [
        "Test that this function works on the simple example. "
      ]
    },
    {
      "cell_type": "code",
      "execution_count": 49,
      "metadata": {
        "colab": {
          "base_uri": "https://localhost:8080/"
        },
        "id": "Ideb3M_c1t4N",
        "outputId": "639f1a1c-6956-4fbe-fbef-15862150bdf5"
      },
      "outputs": [
        {
          "output_type": "stream",
          "name": "stdout",
          "text": [
            "+----+--------+\n",
            "|node|distance|\n",
            "+----+--------+\n",
            "|   A|       0|\n",
            "|   C|       1|\n",
            "|   D|       1|\n",
            "|   B|       1|\n",
            "|   G|       2|\n",
            "|   F|       2|\n",
            "|   E|       2|\n",
            "|   H|       3|\n",
            "+----+--------+\n",
            "\n"
          ]
        }
      ],
      "source": [
        "simple_bfs_iterative_result = spark_bfs(simple_graph_sdf, smallOrig, 3)\n",
        "simple_bfs_iterative_result.show()"
      ]
    },
    {
      "cell_type": "markdown",
      "metadata": {
        "id": "V6mLUZvAuwDK"
      },
      "source": [
        "### Step 4.2: History of the Super Bowl"
      ]
    },
    {
      "cell_type": "markdown",
      "metadata": {
        "id": "HUJ49VklGB92"
      },
      "source": [
        "Time to look at the Super Bowl history dataset. Here we have data for all Super Bowls from 1967 to 2020. Let's load the data to **superbowl_sdf** and see how it looks."
      ]
    },
    {
      "cell_type": "markdown",
      "metadata": {
        "id": "OFT-guWHa4iU"
      },
      "source": [
        "Download the `superbowl.csv` dataset from [here](https://drive.google.com/file/d/1QFLg2hvrjOi_QpDnKb0rWiszvP-g6txo/view?usp=sharing), and upload it to the content folder of this Colab notebook."
      ]
    },
    {
      "cell_type": "code",
      "execution_count": 27,
      "metadata": {
        "id": "ih_KUCTAvvWo"
      },
      "outputs": [],
      "source": [
        "superbowl_sdf = spark.read.csv(\"superbowl.csv\", header=True)"
      ]
    },
    {
      "cell_type": "code",
      "execution_count": 28,
      "metadata": {
        "colab": {
          "base_uri": "https://localhost:8080/"
        },
        "id": "FMy3cSNTvvnF",
        "outputId": "a26e4327-0b26-43ac-82c9-5c92d967e5c9"
      },
      "outputs": [
        {
          "output_type": "stream",
          "name": "stdout",
          "text": [
            "+-----------+------------+--------------------+----------+--------------------+---------+---------------+--------------------+---------------+----------+\n",
            "|       Date|          SB|              Winner|Winner Pts|               Loser|Loser Pts|            MVP|             Stadium|           City|     State|\n",
            "+-----------+------------+--------------------+----------+--------------------+---------+---------------+--------------------+---------------+----------+\n",
            "| Feb 2 2020|    LIV (54)|  Kansas City Chiefs|        31| San Francisco 49ers|       20|Patrick Mahomes|   Hard Rock Stadium|  Miami Gardens|   Florida|\n",
            "| Feb 3 2019|   LIII (53)|New England Patriots|        13|    Los Angeles Rams|        3| Julian Edelman|Mercedes-Benz Sta...|        Atlanta|   Georgia|\n",
            "| Feb 4 2018|    LII (52)| Philadelphia Eagles|        41|New England Patriots|       33|     Nick Foles|   U.S. Bank Stadium|    Minneapolis| Minnesota|\n",
            "| Feb 5 2017|     LI (51)|New England Patriots|        34|     Atlanta Falcons|       28|      Tom Brady|         NRG Stadium|        Houston|     Texas|\n",
            "| Feb 7 2016|          50|      Denver Broncos|        24|   Carolina Panthers|       10|     Von Miller|      Levi's Stadium|    Santa Clara|California|\n",
            "| Feb 1 2015|   XLIX (49)|New England Patriots|        28|    Seattle Seahawks|       24|      Tom Brady|University of Pho...|       Glendale|   Arizona|\n",
            "| Feb 2 2014| XLVIII (48)|    Seattle Seahawks|        43|      Denver Broncos|        8|  Malcolm Smith|     MetLife Stadium|East Rutherford|New Jersey|\n",
            "| Feb 3 2013|  XLVII (47)|    Baltimore Ravens|        34| San Francisco 49ers|       31|     Joe Flacco|Mercedes-Benz Sup...|    New Orleans| Louisiana|\n",
            "| Feb 5 2012|   XLVI (46)|     New York Giants|        21|New England Patriots|       17|    Eli Manning|   Lucas Oil Stadium|   Indianapolis|   Indiana|\n",
            "| Feb 6 2011|    XLV (45)|   Green Bay Packers|        31| Pittsburgh Steelers|       25|  Aaron Rodgers|     Cowboys Stadium|      Arlington|     Texas|\n",
            "| Feb 7 2010|   XLIV (44)|  New Orleans Saints|        31|  Indianapolis Colts|       17|     Drew Brees|    Sun Life Stadium|  Miami Gardens|   Florida|\n",
            "| Feb 1 2009|  XLIII (43)| Pittsburgh Steelers|        27|   Arizona Cardinals|       23|Santonio Holmes|Raymond James Sta...|          Tampa|   Florida|\n",
            "| Feb 3 2008|   XLII (42)|     New York Giants|        17|New England Patriots|       14|    Eli Manning|University of Pho...|       Glendale|   Arizona|\n",
            "| Feb 4 2007|    XLI (41)|  Indianapolis Colts|        29|       Chicago Bears|       17| Peyton Manning|     Dolphin Stadium|  Miami Gardens|   Florida|\n",
            "| Feb 5 2006|     XL (40)| Pittsburgh Steelers|        21|    Seattle Seahawks|       10|     Hines Ward|          Ford Field|        Detroit|  Michigan|\n",
            "| Feb 6 2005|  XXXIX (39)|New England Patriots|        24| Philadelphia Eagles|       21|   Deion Branch|      Alltel Stadium|   Jacksonville|   Florida|\n",
            "| Feb 1 2004|XXXVIII (38)|New England Patriots|        32|   Carolina Panthers|       29|      Tom Brady|     Reliant Stadium|        Houston|     Texas|\n",
            "|Jan 26 2003| XXXVII (37)|Tampa Bay Buccaneers|        48|     Oakland Raiders|       21| Dexter Jackson|    Qualcomm Stadium|      San Diego|California|\n",
            "| Feb 3 2002|  XXXVI (36)|New England Patriots|        20|      St. Louis Rams|       17|      Tom Brady| Louisiana Superdome|    New Orleans| Louisiana|\n",
            "|Jan 28 2001|   XXXV (35)|    Baltimore Ravens|        34|     New York Giants|        7|     Ray Lewis+|Raymond James Sta...|          Tampa|   Florida|\n",
            "+-----------+------------+--------------------+----------+--------------------+---------+---------------+--------------------+---------------+----------+\n",
            "only showing top 20 rows\n",
            "\n"
          ]
        }
      ],
      "source": [
        "superbowl_sdf.show()"
      ]
    },
    {
      "cell_type": "markdown",
      "metadata": {
        "id": "RUxD2OD0GeYE"
      },
      "source": [
        "Do you know which teams have been the most successful during this period? Let's find out!\n",
        "\n",
        "**TODO:** Calculate the number of times each team appears in the *Winner* column, and store this **count_sdf**. This should have two columns: *Winner* and *win_count*."
      ]
    },
    {
      "cell_type": "code",
      "execution_count": 29,
      "metadata": {
        "id": "LwDGFymQv66L"
      },
      "outputs": [],
      "source": [
        "# TODO\n",
        "superbowl_sdf.createOrReplaceTempView(\"superbowl\")\n",
        "\n",
        "query = '''SELECT Winner, COUNT(*) AS win_count\n",
        "           FROM superbowl\n",
        "           GROUP BY Winner'''\n",
        "\n",
        "count_sdf = spark.sql(query)"
      ]
    },
    {
      "cell_type": "markdown",
      "metadata": {
        "id": "Qpjvw2j3I9Nt"
      },
      "source": [
        "Convert the dataframe to pandas and pass it to the grader."
      ]
    },
    {
      "cell_type": "code",
      "execution_count": 30,
      "metadata": {
        "id": "FJ_GNxFeIvH6"
      },
      "outputs": [],
      "source": [
        "count_df = count_sdf.toPandas()"
      ]
    },
    {
      "cell_type": "code",
      "execution_count": 31,
      "metadata": {
        "colab": {
          "base_uri": "https://localhost:8080/"
        },
        "id": "0y-AIOxyH3s-",
        "outputId": "da19a1f2-1f73-4504-a936-30f5c9b29865"
      },
      "outputs": [
        {
          "output_type": "stream",
          "name": "stdout",
          "text": [
            "Correct! You earned 3/3 points. You are a star!\n",
            "\n",
            "Your submission has been successfully recorded in the gradebook.\n"
          ]
        }
      ],
      "source": [
        "# 3 points\n",
        "grader.grade(test_case_id = 'checkSuperBowlCount', answer = count_df)"
      ]
    },
    {
      "cell_type": "markdown",
      "metadata": {
        "id": "NDQHXODMI35m"
      },
      "source": [
        "Now that we have the Super Bowl dataset, let's convert it to a graph sdf just like the one we had in section 4.1 (P.S. it's not as hard as it sounds).\n",
        "\n",
        "**TODO:** Create **teams_graph_sdf** that has the columns *from_node* and *to_node*. from_node has all the entries from the *Winner* column and to_node has all the entries from the *Loser* column."
      ]
    },
    {
      "cell_type": "code",
      "execution_count": 32,
      "metadata": {
        "id": "N85KxevSv4ei"
      },
      "outputs": [],
      "source": [
        "query = '''SELECT Winner AS from_node, Loser AS to_node\n",
        "           FROM superbowl'''\n",
        "\n",
        "teams_graph_sdf = spark.sql(query)"
      ]
    },
    {
      "cell_type": "code",
      "execution_count": 33,
      "metadata": {
        "colab": {
          "base_uri": "https://localhost:8080/"
        },
        "id": "w0fOpuwt7qM3",
        "outputId": "8e329c85-9990-45bb-9901-58daeeba0cf8"
      },
      "outputs": [
        {
          "output_type": "stream",
          "name": "stdout",
          "text": [
            "+--------------------+--------------------+\n",
            "|           from_node|             to_node|\n",
            "+--------------------+--------------------+\n",
            "|  Kansas City Chiefs| San Francisco 49ers|\n",
            "|New England Patriots|    Los Angeles Rams|\n",
            "| Philadelphia Eagles|New England Patriots|\n",
            "|New England Patriots|     Atlanta Falcons|\n",
            "|      Denver Broncos|   Carolina Panthers|\n",
            "|New England Patriots|    Seattle Seahawks|\n",
            "|    Seattle Seahawks|      Denver Broncos|\n",
            "|    Baltimore Ravens| San Francisco 49ers|\n",
            "|     New York Giants|New England Patriots|\n",
            "|   Green Bay Packers| Pittsburgh Steelers|\n",
            "|  New Orleans Saints|  Indianapolis Colts|\n",
            "| Pittsburgh Steelers|   Arizona Cardinals|\n",
            "|     New York Giants|New England Patriots|\n",
            "|  Indianapolis Colts|       Chicago Bears|\n",
            "| Pittsburgh Steelers|    Seattle Seahawks|\n",
            "|New England Patriots| Philadelphia Eagles|\n",
            "|New England Patriots|   Carolina Panthers|\n",
            "|Tampa Bay Buccaneers|     Oakland Raiders|\n",
            "|New England Patriots|      St. Louis Rams|\n",
            "|    Baltimore Ravens|     New York Giants|\n",
            "+--------------------+--------------------+\n",
            "only showing top 20 rows\n",
            "\n"
          ]
        }
      ],
      "source": [
        "teams_graph_sdf.show()"
      ]
    },
    {
      "cell_type": "code",
      "execution_count": 34,
      "metadata": {
        "colab": {
          "base_uri": "https://localhost:8080/"
        },
        "id": "sQrBW1FcMNEP",
        "outputId": "38bb7a3b-915e-4241-ebf8-1b0efa6c5581"
      },
      "outputs": [
        {
          "output_type": "stream",
          "name": "stdout",
          "text": [
            "Correct! You earned 2/2 points. You are a star!\n",
            "\n",
            "Your submission has been successfully recorded in the gradebook.\n"
          ]
        }
      ],
      "source": [
        "# 2 points\n",
        "grader.grade(test_case_id = 'checkSuperBowlGraph', answer = teams_graph_sdf.toPandas())"
      ]
    },
    {
      "cell_type": "markdown",
      "metadata": {
        "id": "C5hCeztRMe2D"
      },
      "source": [
        "We have our graph ready! All that's left is running full BFS on it find the Super Bacons."
      ]
    },
    {
      "cell_type": "markdown",
      "metadata": {
        "id": "HYMybeI82fgC"
      },
      "source": [
        "### Step 4.3: The Super Bacon Search"
      ]
    },
    {
      "cell_type": "markdown",
      "metadata": {
        "id": "oQyp_EjeM_16"
      },
      "source": [
        "In the previous section, we found out that the New England Patriots and the Pittsburgh Steelers have been the most successful teams in the 54 years. So let's find out the Super Bacons of teams with respect to the New England Patriots."
      ]
    },
    {
      "cell_type": "markdown",
      "metadata": {
        "id": "W4iQD5nJOrJy"
      },
      "source": [
        "First, we'll create an origin node using the New England Patriots."
      ]
    },
    {
      "cell_type": "code",
      "execution_count": 35,
      "metadata": {
        "id": "YolRMKEl2xJG"
      },
      "outputs": [],
      "source": [
        "orig = [{'node': 'New England Patriots'}]"
      ]
    },
    {
      "cell_type": "markdown",
      "metadata": {
        "id": "rw_lX0nPPoYT"
      },
      "source": [
        "Now, run the **spark_bfs()** function on **teams_graph_sdf** using this origin node and a max depth of 5. Store the result in **bfs_5**."
      ]
    },
    {
      "cell_type": "code",
      "execution_count": 50,
      "metadata": {
        "id": "9Zk2EHsU6jXX"
      },
      "outputs": [],
      "source": [
        "spark.catalog.dropTempView(\"visited_nodes\")\n",
        "spark.catalog.dropTempView(\"G\")"
      ]
    },
    {
      "cell_type": "code",
      "execution_count": 51,
      "metadata": {
        "id": "rGG2g_dWPmG-"
      },
      "outputs": [],
      "source": [
        "bfs_5 = spark_bfs(teams_graph_sdf, orig, 5)"
      ]
    },
    {
      "cell_type": "code",
      "execution_count": 53,
      "metadata": {
        "colab": {
          "base_uri": "https://localhost:8080/"
        },
        "id": "L3nwp0ly20oD",
        "outputId": "8c0818b8-ffa3-468b-eacf-3ebfed9c47b2"
      },
      "outputs": [
        {
          "output_type": "stream",
          "name": "stdout",
          "text": [
            "+--------------------+--------+\n",
            "|                node|distance|\n",
            "+--------------------+--------+\n",
            "|New England Patriots|       0|\n",
            "|      St. Louis Rams|       1|\n",
            "|    Los Angeles Rams|       1|\n",
            "| Philadelphia Eagles|       1|\n",
            "|     Atlanta Falcons|       1|\n",
            "|   Carolina Panthers|       1|\n",
            "|    Seattle Seahawks|       1|\n",
            "|      Denver Broncos|       2|\n",
            "|    Tennessee Titans|       2|\n",
            "|   Green Bay Packers|       3|\n",
            "|     Oakland Raiders|       4|\n",
            "|  Kansas City Chiefs|       4|\n",
            "| Pittsburgh Steelers|       4|\n",
            "|   Arizona Cardinals|       5|\n",
            "|   Minnesota Vikings|       5|\n",
            "|      Dallas Cowboys|       5|\n",
            "| San Francisco 49ers|       5|\n",
            "+--------------------+--------+\n",
            "\n"
          ]
        }
      ],
      "source": [
        "bfs_5.show(20)"
      ]
    },
    {
      "cell_type": "markdown",
      "metadata": {
        "id": "gkmBQnFJQJjz"
      },
      "source": [
        "Converty the result to pandas, store it to answer_df and pass this to the grader."
      ]
    },
    {
      "cell_type": "code",
      "execution_count": 52,
      "metadata": {
        "id": "8VmoiLtK21Ru"
      },
      "outputs": [],
      "source": [
        "# TODO\n",
        "answer_df = bfs_5.toPandas()"
      ]
    },
    {
      "cell_type": "code",
      "execution_count": 54,
      "metadata": {
        "colab": {
          "base_uri": "https://localhost:8080/"
        },
        "id": "oCCXO6Wv4KNR",
        "outputId": "8f138205-95fe-407c-b9f4-b827a72712a4"
      },
      "outputs": [
        {
          "output_type": "stream",
          "name": "stdout",
          "text": [
            "Correct! You earned 15/15 points. You are a star!\n",
            "\n",
            "Your submission has been successfully recorded in the gradebook.\n"
          ]
        }
      ],
      "source": [
        "# 15 points\n",
        "grader.grade(test_case_id = 'checkBFS', answer = answer_df)"
      ]
    },
    {
      "cell_type": "markdown",
      "metadata": {
        "id": "3dePHd9CQW-C"
      },
      "source": [
        "Voila! We're all done. Just like this NFL season, you've completed the homework."
      ]
    },
    {
      "cell_type": "markdown",
      "metadata": {
        "id": "FxT6ovVpbR-k"
      },
      "source": [
        ""
      ]
    },
    {
      "cell_type": "markdown",
      "metadata": {
        "id": "4FJDDdPButTi"
      },
      "source": [
        "One last thing, as we predicted before, you're a star."
      ]
    },
    {
      "cell_type": "markdown",
      "metadata": {
        "id": "EHVFHPVIrvu1"
      },
      "source": [
        "# HW Submission\n",
        "\n",
        "Before you submit on Gradescope (you must submit your notebook to receive credit):\n",
        "\n",
        "\n",
        "1.   Restart and Run-All to make sure there's nothing wrong with your notebook\n",
        "2.   **Double check that you have the correct PennID (all numbers) in the autograder**. \n",
        "3. Make sure you've run all the PennGrader cells\n",
        "4. Go to the \"File\" tab at the top left, and click \"Download .ipynb\" and then \"Download .py\".  **Rename** the files to \"homework3.ipynb\" and \"homework3.py\" respectively and upload them to Gradescope \n",
        "\n",
        "**Let the course staff know ASAP if you have any issues submitting, but otherwise best of luck!**"
      ]
    }
  ],
  "metadata": {
    "accelerator": "TPU",
    "colab": {
      "collapsed_sections": [],
      "name": "Copy of Spring 2022 Homework 3.ipynb",
      "provenance": []
    },
    "kernelspec": {
      "display_name": "Python 3",
      "name": "python3"
    },
    "widgets": {
      "application/vnd.jupyter.widget-state+json": {
        "05d946d3067f48eb939a9aaefa99ac43": {
          "model_module": "@jupyter-widgets/base",
          "model_module_version": "1.2.0",
          "model_name": "LayoutModel",
          "state": {
            "_model_module": "@jupyter-widgets/base",
            "_model_module_version": "1.2.0",
            "_model_name": "LayoutModel",
            "_view_count": null,
            "_view_module": "@jupyter-widgets/base",
            "_view_module_version": "1.2.0",
            "_view_name": "LayoutView",
            "align_content": null,
            "align_items": null,
            "align_self": null,
            "border": null,
            "bottom": null,
            "display": null,
            "flex": null,
            "flex_flow": null,
            "grid_area": null,
            "grid_auto_columns": null,
            "grid_auto_flow": null,
            "grid_auto_rows": null,
            "grid_column": null,
            "grid_gap": null,
            "grid_row": null,
            "grid_template_areas": null,
            "grid_template_columns": null,
            "grid_template_rows": null,
            "height": "25px",
            "justify_content": null,
            "justify_items": null,
            "left": null,
            "margin": null,
            "max_height": null,
            "max_width": null,
            "min_height": null,
            "min_width": null,
            "object_fit": null,
            "object_position": null,
            "order": null,
            "overflow": null,
            "overflow_x": null,
            "overflow_y": null,
            "padding": null,
            "right": null,
            "top": null,
            "visibility": null,
            "width": "50%"
          }
        },
        "0716779635194c5d88a3b66349b1c787": {
          "model_module": "@jupyter-widgets/base",
          "model_module_version": "1.2.0",
          "model_name": "LayoutModel",
          "state": {
            "_model_module": "@jupyter-widgets/base",
            "_model_module_version": "1.2.0",
            "_model_name": "LayoutModel",
            "_view_count": null,
            "_view_module": "@jupyter-widgets/base",
            "_view_module_version": "1.2.0",
            "_view_name": "LayoutView",
            "align_content": null,
            "align_items": null,
            "align_self": null,
            "border": null,
            "bottom": null,
            "display": null,
            "flex": null,
            "flex_flow": null,
            "grid_area": null,
            "grid_auto_columns": null,
            "grid_auto_flow": null,
            "grid_auto_rows": null,
            "grid_column": null,
            "grid_gap": null,
            "grid_row": null,
            "grid_template_areas": null,
            "grid_template_columns": null,
            "grid_template_rows": null,
            "height": "25px",
            "justify_content": null,
            "justify_items": null,
            "left": null,
            "margin": null,
            "max_height": null,
            "max_width": null,
            "min_height": null,
            "min_width": null,
            "object_fit": null,
            "object_position": null,
            "order": null,
            "overflow": null,
            "overflow_x": null,
            "overflow_y": null,
            "padding": null,
            "right": null,
            "top": null,
            "visibility": null,
            "width": "50%"
          }
        },
        "07317ef0574b4eefaf75d8056b31b68b": {
          "model_module": "@jupyter-widgets/base",
          "model_module_version": "1.2.0",
          "model_name": "LayoutModel",
          "state": {
            "_model_module": "@jupyter-widgets/base",
            "_model_module_version": "1.2.0",
            "_model_name": "LayoutModel",
            "_view_count": null,
            "_view_module": "@jupyter-widgets/base",
            "_view_module_version": "1.2.0",
            "_view_name": "LayoutView",
            "align_content": null,
            "align_items": null,
            "align_self": null,
            "border": null,
            "bottom": null,
            "display": null,
            "flex": null,
            "flex_flow": null,
            "grid_area": null,
            "grid_auto_columns": null,
            "grid_auto_flow": null,
            "grid_auto_rows": null,
            "grid_column": null,
            "grid_gap": null,
            "grid_row": null,
            "grid_template_areas": null,
            "grid_template_columns": null,
            "grid_template_rows": null,
            "height": "25px",
            "justify_content": null,
            "justify_items": null,
            "left": null,
            "margin": null,
            "max_height": null,
            "max_width": null,
            "min_height": null,
            "min_width": null,
            "object_fit": null,
            "object_position": null,
            "order": null,
            "overflow": null,
            "overflow_x": null,
            "overflow_y": null,
            "padding": null,
            "right": null,
            "top": null,
            "visibility": null,
            "width": "50%"
          }
        },
        "0a95fdc2e4374fe4a48e655b9171fba7": {
          "model_module": "@jupyter-widgets/controls",
          "model_module_version": "1.5.0",
          "model_name": "FloatProgressModel",
          "state": {
            "_dom_classes": [],
            "_model_module": "@jupyter-widgets/controls",
            "_model_module_version": "1.5.0",
            "_model_name": "FloatProgressModel",
            "_view_count": null,
            "_view_module": "@jupyter-widgets/controls",
            "_view_module_version": "1.5.0",
            "_view_name": "ProgressView",
            "bar_style": "info",
            "description": "Progress:",
            "description_tooltip": null,
            "layout": "IPY_MODEL_ba322917f4254271a80b5e3b3922c647",
            "max": 1,
            "min": 0,
            "orientation": "horizontal",
            "style": "IPY_MODEL_1fc4adb1bfa24fa5895ef89361bca699",
            "value": 0
          }
        },
        "0bc968477222438abceb97446b0f602f": {
          "model_module": "@jupyter-widgets/controls",
          "model_module_version": "1.5.0",
          "model_name": "ProgressStyleModel",
          "state": {
            "_model_module": "@jupyter-widgets/controls",
            "_model_module_version": "1.5.0",
            "_model_name": "ProgressStyleModel",
            "_view_count": null,
            "_view_module": "@jupyter-widgets/base",
            "_view_module_version": "1.2.0",
            "_view_name": "StyleView",
            "bar_color": null,
            "description_width": ""
          }
        },
        "0edf8b2d171043ab8dcf61c2f91968f6": {
          "model_module": "@jupyter-widgets/controls",
          "model_module_version": "1.5.0",
          "model_name": "FloatProgressModel",
          "state": {
            "_dom_classes": [],
            "_model_module": "@jupyter-widgets/controls",
            "_model_module_version": "1.5.0",
            "_model_name": "FloatProgressModel",
            "_view_count": null,
            "_view_module": "@jupyter-widgets/controls",
            "_view_module_version": "1.5.0",
            "_view_name": "ProgressView",
            "bar_style": "info",
            "description": "Progress:",
            "description_tooltip": null,
            "layout": "IPY_MODEL_f9fd1f2e372d4f78936f47254b0e26c8",
            "max": 1,
            "min": 0,
            "orientation": "horizontal",
            "style": "IPY_MODEL_6fb8925c4fbd4a5198e8394c4f5452ef",
            "value": 0
          }
        },
        "10ae89479f4d450a874a6a526e44790e": {
          "model_module": "@jupyter-widgets/controls",
          "model_module_version": "1.5.0",
          "model_name": "FloatProgressModel",
          "state": {
            "_dom_classes": [],
            "_model_module": "@jupyter-widgets/controls",
            "_model_module_version": "1.5.0",
            "_model_name": "FloatProgressModel",
            "_view_count": null,
            "_view_module": "@jupyter-widgets/controls",
            "_view_module_version": "1.5.0",
            "_view_name": "ProgressView",
            "bar_style": "info",
            "description": "Progress:",
            "description_tooltip": null,
            "layout": "IPY_MODEL_be337de1dfc04fd7921befe68a675e95",
            "max": 1,
            "min": 0,
            "orientation": "horizontal",
            "style": "IPY_MODEL_8a2f90f9f72b4aed8928beb7d91184a3",
            "value": 0.43005181347150256
          }
        },
        "1375bd73b55c4fbca7402cadca90f5ad": {
          "model_module": "@jupyter-widgets/controls",
          "model_module_version": "1.5.0",
          "model_name": "ProgressStyleModel",
          "state": {
            "_model_module": "@jupyter-widgets/controls",
            "_model_module_version": "1.5.0",
            "_model_name": "ProgressStyleModel",
            "_view_count": null,
            "_view_module": "@jupyter-widgets/base",
            "_view_module_version": "1.2.0",
            "_view_name": "StyleView",
            "bar_color": null,
            "description_width": ""
          }
        },
        "14461c164b0c4e7589b7c48144dd6ca0": {
          "model_module": "@jupyter-widgets/controls",
          "model_module_version": "1.5.0",
          "model_name": "FloatProgressModel",
          "state": {
            "_dom_classes": [],
            "_model_module": "@jupyter-widgets/controls",
            "_model_module_version": "1.5.0",
            "_model_name": "FloatProgressModel",
            "_view_count": null,
            "_view_module": "@jupyter-widgets/controls",
            "_view_module_version": "1.5.0",
            "_view_name": "ProgressView",
            "bar_style": "info",
            "description": "Progress:",
            "description_tooltip": null,
            "layout": "IPY_MODEL_f7b1eae1c48b4d88b782bc9cb6a9bb2c",
            "max": 1,
            "min": 0,
            "orientation": "horizontal",
            "style": "IPY_MODEL_0bc968477222438abceb97446b0f602f",
            "value": 0
          }
        },
        "18670ecb002e4e50becd8ba9dcdc8780": {
          "model_module": "@jupyter-widgets/controls",
          "model_module_version": "1.5.0",
          "model_name": "FloatProgressModel",
          "state": {
            "_dom_classes": [],
            "_model_module": "@jupyter-widgets/controls",
            "_model_module_version": "1.5.0",
            "_model_name": "FloatProgressModel",
            "_view_count": null,
            "_view_module": "@jupyter-widgets/controls",
            "_view_module_version": "1.5.0",
            "_view_name": "ProgressView",
            "bar_style": "info",
            "description": "Progress:",
            "description_tooltip": null,
            "layout": "IPY_MODEL_dbad83ed97604c89b056040d7373d749",
            "max": 1,
            "min": 0,
            "orientation": "horizontal",
            "style": "IPY_MODEL_69641ebd2ba145519ca9f25068955fee",
            "value": 0
          }
        },
        "18b137c3ec3049eabfe44babd930858e": {
          "model_module": "@jupyter-widgets/controls",
          "model_module_version": "1.5.0",
          "model_name": "FloatProgressModel",
          "state": {
            "_dom_classes": [],
            "_model_module": "@jupyter-widgets/controls",
            "_model_module_version": "1.5.0",
            "_model_name": "FloatProgressModel",
            "_view_count": null,
            "_view_module": "@jupyter-widgets/controls",
            "_view_module_version": "1.5.0",
            "_view_name": "ProgressView",
            "bar_style": "info",
            "description": "Progress:",
            "description_tooltip": null,
            "layout": "IPY_MODEL_5f100692174047bf852fa4426cb56b1e",
            "max": 1,
            "min": 0,
            "orientation": "horizontal",
            "style": "IPY_MODEL_a02810512584448ea482f48f0abbd6b5",
            "value": 0.47560975609756095
          }
        },
        "1d409b7d6cef4a3094e8fd3c6e09f22e": {
          "model_module": "@jupyter-widgets/controls",
          "model_module_version": "1.5.0",
          "model_name": "FloatProgressModel",
          "state": {
            "_dom_classes": [],
            "_model_module": "@jupyter-widgets/controls",
            "_model_module_version": "1.5.0",
            "_model_name": "FloatProgressModel",
            "_view_count": null,
            "_view_module": "@jupyter-widgets/controls",
            "_view_module_version": "1.5.0",
            "_view_name": "ProgressView",
            "bar_style": "info",
            "description": "Progress:",
            "description_tooltip": null,
            "layout": "IPY_MODEL_a47fd21fad0b461ba28f93128a84e979",
            "max": 1,
            "min": 0,
            "orientation": "horizontal",
            "style": "IPY_MODEL_d0c12bec72414c5f85cd94758fd6d21a",
            "value": 0.6666666666666666
          }
        },
        "1fc4adb1bfa24fa5895ef89361bca699": {
          "model_module": "@jupyter-widgets/controls",
          "model_module_version": "1.5.0",
          "model_name": "ProgressStyleModel",
          "state": {
            "_model_module": "@jupyter-widgets/controls",
            "_model_module_version": "1.5.0",
            "_model_name": "ProgressStyleModel",
            "_view_count": null,
            "_view_module": "@jupyter-widgets/base",
            "_view_module_version": "1.2.0",
            "_view_name": "StyleView",
            "bar_color": null,
            "description_width": ""
          }
        },
        "2004236628594c39b531653dfd346279": {
          "model_module": "@jupyter-widgets/controls",
          "model_module_version": "1.5.0",
          "model_name": "FloatProgressModel",
          "state": {
            "_dom_classes": [],
            "_model_module": "@jupyter-widgets/controls",
            "_model_module_version": "1.5.0",
            "_model_name": "FloatProgressModel",
            "_view_count": null,
            "_view_module": "@jupyter-widgets/controls",
            "_view_module_version": "1.5.0",
            "_view_name": "ProgressView",
            "bar_style": "info",
            "description": "Progress:",
            "description_tooltip": null,
            "layout": "IPY_MODEL_9076164ff79e4aa0882418e3fd8d99aa",
            "max": 1,
            "min": 0,
            "orientation": "horizontal",
            "style": "IPY_MODEL_3229b3aa77774216a6f3927c0ca04796",
            "value": 0
          }
        },
        "20ed7c8a436445df880b383b7c6692fd": {
          "model_module": "@jupyter-widgets/base",
          "model_module_version": "1.2.0",
          "model_name": "LayoutModel",
          "state": {
            "_model_module": "@jupyter-widgets/base",
            "_model_module_version": "1.2.0",
            "_model_name": "LayoutModel",
            "_view_count": null,
            "_view_module": "@jupyter-widgets/base",
            "_view_module_version": "1.2.0",
            "_view_name": "LayoutView",
            "align_content": null,
            "align_items": null,
            "align_self": null,
            "border": null,
            "bottom": null,
            "display": null,
            "flex": null,
            "flex_flow": null,
            "grid_area": null,
            "grid_auto_columns": null,
            "grid_auto_flow": null,
            "grid_auto_rows": null,
            "grid_column": null,
            "grid_gap": null,
            "grid_row": null,
            "grid_template_areas": null,
            "grid_template_columns": null,
            "grid_template_rows": null,
            "height": "25px",
            "justify_content": null,
            "justify_items": null,
            "left": null,
            "margin": null,
            "max_height": null,
            "max_width": null,
            "min_height": null,
            "min_width": null,
            "object_fit": null,
            "object_position": null,
            "order": null,
            "overflow": null,
            "overflow_x": null,
            "overflow_y": null,
            "padding": null,
            "right": null,
            "top": null,
            "visibility": null,
            "width": "50%"
          }
        },
        "2504b3aa4a2b4a01bf43a8b5759f3483": {
          "model_module": "@jupyter-widgets/controls",
          "model_module_version": "1.5.0",
          "model_name": "ProgressStyleModel",
          "state": {
            "_model_module": "@jupyter-widgets/controls",
            "_model_module_version": "1.5.0",
            "_model_name": "ProgressStyleModel",
            "_view_count": null,
            "_view_module": "@jupyter-widgets/base",
            "_view_module_version": "1.2.0",
            "_view_name": "StyleView",
            "bar_color": null,
            "description_width": ""
          }
        },
        "25bd8fe120474e15936d79398fed9725": {
          "model_module": "@jupyter-widgets/controls",
          "model_module_version": "1.5.0",
          "model_name": "FloatProgressModel",
          "state": {
            "_dom_classes": [],
            "_model_module": "@jupyter-widgets/controls",
            "_model_module_version": "1.5.0",
            "_model_name": "FloatProgressModel",
            "_view_count": null,
            "_view_module": "@jupyter-widgets/controls",
            "_view_module_version": "1.5.0",
            "_view_name": "ProgressView",
            "bar_style": "info",
            "description": "Progress:",
            "description_tooltip": null,
            "layout": "IPY_MODEL_7d58488d426e419091268fb50c7aa5b3",
            "max": 1,
            "min": 0,
            "orientation": "horizontal",
            "style": "IPY_MODEL_6397ad37c8d34abf8f81b3983e753c1d",
            "value": 0
          }
        },
        "27ba1e2e08a945f7aee73a79967a17cb": {
          "model_module": "@jupyter-widgets/controls",
          "model_module_version": "1.5.0",
          "model_name": "FloatProgressModel",
          "state": {
            "_dom_classes": [],
            "_model_module": "@jupyter-widgets/controls",
            "_model_module_version": "1.5.0",
            "_model_name": "FloatProgressModel",
            "_view_count": null,
            "_view_module": "@jupyter-widgets/controls",
            "_view_module_version": "1.5.0",
            "_view_name": "ProgressView",
            "bar_style": "info",
            "description": "Progress:",
            "description_tooltip": null,
            "layout": "IPY_MODEL_99b8e4bd988b43eb8165619db95c79ee",
            "max": 1,
            "min": 0,
            "orientation": "horizontal",
            "style": "IPY_MODEL_9d14d225618447c6af2e63fd2e18b5a6",
            "value": 0
          }
        },
        "28c91c87beb8464b90f2906808765a0e": {
          "model_module": "@jupyter-widgets/controls",
          "model_module_version": "1.5.0",
          "model_name": "ProgressStyleModel",
          "state": {
            "_model_module": "@jupyter-widgets/controls",
            "_model_module_version": "1.5.0",
            "_model_name": "ProgressStyleModel",
            "_view_count": null,
            "_view_module": "@jupyter-widgets/base",
            "_view_module_version": "1.2.0",
            "_view_name": "StyleView",
            "bar_color": null,
            "description_width": ""
          }
        },
        "29608576739a4b20943887009857be09": {
          "model_module": "@jupyter-widgets/controls",
          "model_module_version": "1.5.0",
          "model_name": "FloatProgressModel",
          "state": {
            "_dom_classes": [],
            "_model_module": "@jupyter-widgets/controls",
            "_model_module_version": "1.5.0",
            "_model_name": "FloatProgressModel",
            "_view_count": null,
            "_view_module": "@jupyter-widgets/controls",
            "_view_module_version": "1.5.0",
            "_view_name": "ProgressView",
            "bar_style": "info",
            "description": "Progress:",
            "description_tooltip": null,
            "layout": "IPY_MODEL_e4da5937462c4569b4e27b8eb16bccfa",
            "max": 1,
            "min": 0,
            "orientation": "horizontal",
            "style": "IPY_MODEL_a72626a2c679451aba1b9e9465da4a4a",
            "value": 0
          }
        },
        "2a178afba4714b3c8a21cd1e81de3c30": {
          "model_module": "@jupyter-widgets/controls",
          "model_module_version": "1.5.0",
          "model_name": "FloatProgressModel",
          "state": {
            "_dom_classes": [],
            "_model_module": "@jupyter-widgets/controls",
            "_model_module_version": "1.5.0",
            "_model_name": "FloatProgressModel",
            "_view_count": null,
            "_view_module": "@jupyter-widgets/controls",
            "_view_module_version": "1.5.0",
            "_view_name": "ProgressView",
            "bar_style": "info",
            "description": "Progress:",
            "description_tooltip": null,
            "layout": "IPY_MODEL_5b83a81fc9e0498ca8e96304c4dbaa69",
            "max": 1,
            "min": 0,
            "orientation": "horizontal",
            "style": "IPY_MODEL_28c91c87beb8464b90f2906808765a0e",
            "value": 0
          }
        },
        "2b7284f7e7a141c495d74ee668577673": {
          "model_module": "@jupyter-widgets/controls",
          "model_module_version": "1.5.0",
          "model_name": "FloatProgressModel",
          "state": {
            "_dom_classes": [],
            "_model_module": "@jupyter-widgets/controls",
            "_model_module_version": "1.5.0",
            "_model_name": "FloatProgressModel",
            "_view_count": null,
            "_view_module": "@jupyter-widgets/controls",
            "_view_module_version": "1.5.0",
            "_view_name": "ProgressView",
            "bar_style": "info",
            "description": "Progress:",
            "description_tooltip": null,
            "layout": "IPY_MODEL_0716779635194c5d88a3b66349b1c787",
            "max": 1,
            "min": 0,
            "orientation": "horizontal",
            "style": "IPY_MODEL_2504b3aa4a2b4a01bf43a8b5759f3483",
            "value": 0
          }
        },
        "2f5ae742cddc4b4aa7ba6d4f30c9d1ab": {
          "model_module": "@jupyter-widgets/base",
          "model_module_version": "1.2.0",
          "model_name": "LayoutModel",
          "state": {
            "_model_module": "@jupyter-widgets/base",
            "_model_module_version": "1.2.0",
            "_model_name": "LayoutModel",
            "_view_count": null,
            "_view_module": "@jupyter-widgets/base",
            "_view_module_version": "1.2.0",
            "_view_name": "LayoutView",
            "align_content": null,
            "align_items": null,
            "align_self": null,
            "border": null,
            "bottom": null,
            "display": null,
            "flex": null,
            "flex_flow": null,
            "grid_area": null,
            "grid_auto_columns": null,
            "grid_auto_flow": null,
            "grid_auto_rows": null,
            "grid_column": null,
            "grid_gap": null,
            "grid_row": null,
            "grid_template_areas": null,
            "grid_template_columns": null,
            "grid_template_rows": null,
            "height": "25px",
            "justify_content": null,
            "justify_items": null,
            "left": null,
            "margin": null,
            "max_height": null,
            "max_width": null,
            "min_height": null,
            "min_width": null,
            "object_fit": null,
            "object_position": null,
            "order": null,
            "overflow": null,
            "overflow_x": null,
            "overflow_y": null,
            "padding": null,
            "right": null,
            "top": null,
            "visibility": null,
            "width": "50%"
          }
        },
        "305627c6147c41caaa55fbf979674753": {
          "model_module": "@jupyter-widgets/controls",
          "model_module_version": "1.5.0",
          "model_name": "ProgressStyleModel",
          "state": {
            "_model_module": "@jupyter-widgets/controls",
            "_model_module_version": "1.5.0",
            "_model_name": "ProgressStyleModel",
            "_view_count": null,
            "_view_module": "@jupyter-widgets/base",
            "_view_module_version": "1.2.0",
            "_view_name": "StyleView",
            "bar_color": null,
            "description_width": ""
          }
        },
        "3097a22a23d644368c579e2c86ece46f": {
          "model_module": "@jupyter-widgets/controls",
          "model_module_version": "1.5.0",
          "model_name": "ProgressStyleModel",
          "state": {
            "_model_module": "@jupyter-widgets/controls",
            "_model_module_version": "1.5.0",
            "_model_name": "ProgressStyleModel",
            "_view_count": null,
            "_view_module": "@jupyter-widgets/base",
            "_view_module_version": "1.2.0",
            "_view_name": "StyleView",
            "bar_color": null,
            "description_width": ""
          }
        },
        "3202f303690c44298dda92f0b0e81c7c": {
          "model_module": "@jupyter-widgets/controls",
          "model_module_version": "1.5.0",
          "model_name": "FloatProgressModel",
          "state": {
            "_dom_classes": [],
            "_model_module": "@jupyter-widgets/controls",
            "_model_module_version": "1.5.0",
            "_model_name": "FloatProgressModel",
            "_view_count": null,
            "_view_module": "@jupyter-widgets/controls",
            "_view_module_version": "1.5.0",
            "_view_name": "ProgressView",
            "bar_style": "info",
            "description": "Progress:",
            "description_tooltip": null,
            "layout": "IPY_MODEL_9c2fc12b60f54c6aa0ede1793d7db5cf",
            "max": 1,
            "min": 0,
            "orientation": "horizontal",
            "style": "IPY_MODEL_cea60acbef274c3e8c11b3365d6f9328",
            "value": 0.6666666666666666
          }
        },
        "3229b3aa77774216a6f3927c0ca04796": {
          "model_module": "@jupyter-widgets/controls",
          "model_module_version": "1.5.0",
          "model_name": "ProgressStyleModel",
          "state": {
            "_model_module": "@jupyter-widgets/controls",
            "_model_module_version": "1.5.0",
            "_model_name": "ProgressStyleModel",
            "_view_count": null,
            "_view_module": "@jupyter-widgets/base",
            "_view_module_version": "1.2.0",
            "_view_name": "StyleView",
            "bar_color": null,
            "description_width": ""
          }
        },
        "374244e04bd94ec0b29a6e613d15f581": {
          "model_module": "@jupyter-widgets/controls",
          "model_module_version": "1.5.0",
          "model_name": "FloatProgressModel",
          "state": {
            "_dom_classes": [],
            "_model_module": "@jupyter-widgets/controls",
            "_model_module_version": "1.5.0",
            "_model_name": "FloatProgressModel",
            "_view_count": null,
            "_view_module": "@jupyter-widgets/controls",
            "_view_module_version": "1.5.0",
            "_view_name": "ProgressView",
            "bar_style": "info",
            "description": "Progress:",
            "description_tooltip": null,
            "layout": "IPY_MODEL_c8b40bca21fe40c2aa0e672a27da5f20",
            "max": 1,
            "min": 0,
            "orientation": "horizontal",
            "style": "IPY_MODEL_8e157bccf55f4292b5a44c5fd31013de",
            "value": 0
          }
        },
        "38c9de9001624af292be2a92a6addb6b": {
          "model_module": "@jupyter-widgets/controls",
          "model_module_version": "1.5.0",
          "model_name": "ProgressStyleModel",
          "state": {
            "_model_module": "@jupyter-widgets/controls",
            "_model_module_version": "1.5.0",
            "_model_name": "ProgressStyleModel",
            "_view_count": null,
            "_view_module": "@jupyter-widgets/base",
            "_view_module_version": "1.2.0",
            "_view_name": "StyleView",
            "bar_color": null,
            "description_width": ""
          }
        },
        "3950abb456714040aa855fbe00c74f9f": {
          "model_module": "@jupyter-widgets/controls",
          "model_module_version": "1.5.0",
          "model_name": "FloatProgressModel",
          "state": {
            "_dom_classes": [],
            "_model_module": "@jupyter-widgets/controls",
            "_model_module_version": "1.5.0",
            "_model_name": "FloatProgressModel",
            "_view_count": null,
            "_view_module": "@jupyter-widgets/controls",
            "_view_module_version": "1.5.0",
            "_view_name": "ProgressView",
            "bar_style": "info",
            "description": "Progress:",
            "description_tooltip": null,
            "layout": "IPY_MODEL_45e65c4d846549e39f6bcc783c210fef",
            "max": 1,
            "min": 0,
            "orientation": "horizontal",
            "style": "IPY_MODEL_476d2ba395b64682bc68336769ddfd34",
            "value": 0
          }
        },
        "45e65c4d846549e39f6bcc783c210fef": {
          "model_module": "@jupyter-widgets/base",
          "model_module_version": "1.2.0",
          "model_name": "LayoutModel",
          "state": {
            "_model_module": "@jupyter-widgets/base",
            "_model_module_version": "1.2.0",
            "_model_name": "LayoutModel",
            "_view_count": null,
            "_view_module": "@jupyter-widgets/base",
            "_view_module_version": "1.2.0",
            "_view_name": "LayoutView",
            "align_content": null,
            "align_items": null,
            "align_self": null,
            "border": null,
            "bottom": null,
            "display": null,
            "flex": null,
            "flex_flow": null,
            "grid_area": null,
            "grid_auto_columns": null,
            "grid_auto_flow": null,
            "grid_auto_rows": null,
            "grid_column": null,
            "grid_gap": null,
            "grid_row": null,
            "grid_template_areas": null,
            "grid_template_columns": null,
            "grid_template_rows": null,
            "height": "25px",
            "justify_content": null,
            "justify_items": null,
            "left": null,
            "margin": null,
            "max_height": null,
            "max_width": null,
            "min_height": null,
            "min_width": null,
            "object_fit": null,
            "object_position": null,
            "order": null,
            "overflow": null,
            "overflow_x": null,
            "overflow_y": null,
            "padding": null,
            "right": null,
            "top": null,
            "visibility": null,
            "width": "50%"
          }
        },
        "468534474c0d427da8826c78807858ba": {
          "model_module": "@jupyter-widgets/base",
          "model_module_version": "1.2.0",
          "model_name": "LayoutModel",
          "state": {
            "_model_module": "@jupyter-widgets/base",
            "_model_module_version": "1.2.0",
            "_model_name": "LayoutModel",
            "_view_count": null,
            "_view_module": "@jupyter-widgets/base",
            "_view_module_version": "1.2.0",
            "_view_name": "LayoutView",
            "align_content": null,
            "align_items": null,
            "align_self": null,
            "border": null,
            "bottom": null,
            "display": null,
            "flex": null,
            "flex_flow": null,
            "grid_area": null,
            "grid_auto_columns": null,
            "grid_auto_flow": null,
            "grid_auto_rows": null,
            "grid_column": null,
            "grid_gap": null,
            "grid_row": null,
            "grid_template_areas": null,
            "grid_template_columns": null,
            "grid_template_rows": null,
            "height": "25px",
            "justify_content": null,
            "justify_items": null,
            "left": null,
            "margin": null,
            "max_height": null,
            "max_width": null,
            "min_height": null,
            "min_width": null,
            "object_fit": null,
            "object_position": null,
            "order": null,
            "overflow": null,
            "overflow_x": null,
            "overflow_y": null,
            "padding": null,
            "right": null,
            "top": null,
            "visibility": null,
            "width": "50%"
          }
        },
        "476d2ba395b64682bc68336769ddfd34": {
          "model_module": "@jupyter-widgets/controls",
          "model_module_version": "1.5.0",
          "model_name": "ProgressStyleModel",
          "state": {
            "_model_module": "@jupyter-widgets/controls",
            "_model_module_version": "1.5.0",
            "_model_name": "ProgressStyleModel",
            "_view_count": null,
            "_view_module": "@jupyter-widgets/base",
            "_view_module_version": "1.2.0",
            "_view_name": "StyleView",
            "bar_color": null,
            "description_width": ""
          }
        },
        "546a0cd305054c778fdfca04026ffed2": {
          "model_module": "@jupyter-widgets/base",
          "model_module_version": "1.2.0",
          "model_name": "LayoutModel",
          "state": {
            "_model_module": "@jupyter-widgets/base",
            "_model_module_version": "1.2.0",
            "_model_name": "LayoutModel",
            "_view_count": null,
            "_view_module": "@jupyter-widgets/base",
            "_view_module_version": "1.2.0",
            "_view_name": "LayoutView",
            "align_content": null,
            "align_items": null,
            "align_self": null,
            "border": null,
            "bottom": null,
            "display": null,
            "flex": null,
            "flex_flow": null,
            "grid_area": null,
            "grid_auto_columns": null,
            "grid_auto_flow": null,
            "grid_auto_rows": null,
            "grid_column": null,
            "grid_gap": null,
            "grid_row": null,
            "grid_template_areas": null,
            "grid_template_columns": null,
            "grid_template_rows": null,
            "height": "25px",
            "justify_content": null,
            "justify_items": null,
            "left": null,
            "margin": null,
            "max_height": null,
            "max_width": null,
            "min_height": null,
            "min_width": null,
            "object_fit": null,
            "object_position": null,
            "order": null,
            "overflow": null,
            "overflow_x": null,
            "overflow_y": null,
            "padding": null,
            "right": null,
            "top": null,
            "visibility": null,
            "width": "50%"
          }
        },
        "5b83a81fc9e0498ca8e96304c4dbaa69": {
          "model_module": "@jupyter-widgets/base",
          "model_module_version": "1.2.0",
          "model_name": "LayoutModel",
          "state": {
            "_model_module": "@jupyter-widgets/base",
            "_model_module_version": "1.2.0",
            "_model_name": "LayoutModel",
            "_view_count": null,
            "_view_module": "@jupyter-widgets/base",
            "_view_module_version": "1.2.0",
            "_view_name": "LayoutView",
            "align_content": null,
            "align_items": null,
            "align_self": null,
            "border": null,
            "bottom": null,
            "display": null,
            "flex": null,
            "flex_flow": null,
            "grid_area": null,
            "grid_auto_columns": null,
            "grid_auto_flow": null,
            "grid_auto_rows": null,
            "grid_column": null,
            "grid_gap": null,
            "grid_row": null,
            "grid_template_areas": null,
            "grid_template_columns": null,
            "grid_template_rows": null,
            "height": "25px",
            "justify_content": null,
            "justify_items": null,
            "left": null,
            "margin": null,
            "max_height": null,
            "max_width": null,
            "min_height": null,
            "min_width": null,
            "object_fit": null,
            "object_position": null,
            "order": null,
            "overflow": null,
            "overflow_x": null,
            "overflow_y": null,
            "padding": null,
            "right": null,
            "top": null,
            "visibility": null,
            "width": "50%"
          }
        },
        "5cc5e86b486943eb8a572581c4ad4c50": {
          "model_module": "@jupyter-widgets/controls",
          "model_module_version": "1.5.0",
          "model_name": "FloatProgressModel",
          "state": {
            "_dom_classes": [],
            "_model_module": "@jupyter-widgets/controls",
            "_model_module_version": "1.5.0",
            "_model_name": "FloatProgressModel",
            "_view_count": null,
            "_view_module": "@jupyter-widgets/controls",
            "_view_module_version": "1.5.0",
            "_view_name": "ProgressView",
            "bar_style": "info",
            "description": "Progress:",
            "description_tooltip": null,
            "layout": "IPY_MODEL_20ed7c8a436445df880b383b7c6692fd",
            "max": 1,
            "min": 0,
            "orientation": "horizontal",
            "style": "IPY_MODEL_38c9de9001624af292be2a92a6addb6b",
            "value": 0
          }
        },
        "5f100692174047bf852fa4426cb56b1e": {
          "model_module": "@jupyter-widgets/base",
          "model_module_version": "1.2.0",
          "model_name": "LayoutModel",
          "state": {
            "_model_module": "@jupyter-widgets/base",
            "_model_module_version": "1.2.0",
            "_model_name": "LayoutModel",
            "_view_count": null,
            "_view_module": "@jupyter-widgets/base",
            "_view_module_version": "1.2.0",
            "_view_name": "LayoutView",
            "align_content": null,
            "align_items": null,
            "align_self": null,
            "border": null,
            "bottom": null,
            "display": null,
            "flex": null,
            "flex_flow": null,
            "grid_area": null,
            "grid_auto_columns": null,
            "grid_auto_flow": null,
            "grid_auto_rows": null,
            "grid_column": null,
            "grid_gap": null,
            "grid_row": null,
            "grid_template_areas": null,
            "grid_template_columns": null,
            "grid_template_rows": null,
            "height": "25px",
            "justify_content": null,
            "justify_items": null,
            "left": null,
            "margin": null,
            "max_height": null,
            "max_width": null,
            "min_height": null,
            "min_width": null,
            "object_fit": null,
            "object_position": null,
            "order": null,
            "overflow": null,
            "overflow_x": null,
            "overflow_y": null,
            "padding": null,
            "right": null,
            "top": null,
            "visibility": null,
            "width": "50%"
          }
        },
        "5f1ea94b654d4e6bbf06cf0332f2eccc": {
          "model_module": "@jupyter-widgets/controls",
          "model_module_version": "1.5.0",
          "model_name": "FloatProgressModel",
          "state": {
            "_dom_classes": [],
            "_model_module": "@jupyter-widgets/controls",
            "_model_module_version": "1.5.0",
            "_model_name": "FloatProgressModel",
            "_view_count": null,
            "_view_module": "@jupyter-widgets/controls",
            "_view_module_version": "1.5.0",
            "_view_name": "ProgressView",
            "bar_style": "info",
            "description": "Progress:",
            "description_tooltip": null,
            "layout": "IPY_MODEL_7245949a205c4889bbc8168186c7f801",
            "max": 1,
            "min": 0,
            "orientation": "horizontal",
            "style": "IPY_MODEL_3097a22a23d644368c579e2c86ece46f",
            "value": 0.5783582089552238
          }
        },
        "5f5ea08076a14ad7855988c84e064fba": {
          "model_module": "@jupyter-widgets/controls",
          "model_module_version": "1.5.0",
          "model_name": "ProgressStyleModel",
          "state": {
            "_model_module": "@jupyter-widgets/controls",
            "_model_module_version": "1.5.0",
            "_model_name": "ProgressStyleModel",
            "_view_count": null,
            "_view_module": "@jupyter-widgets/base",
            "_view_module_version": "1.2.0",
            "_view_name": "StyleView",
            "bar_color": null,
            "description_width": ""
          }
        },
        "5fb0d1035ebf4cd79d6c2ec01130c17e": {
          "model_module": "@jupyter-widgets/controls",
          "model_module_version": "1.5.0",
          "model_name": "FloatProgressModel",
          "state": {
            "_dom_classes": [],
            "_model_module": "@jupyter-widgets/controls",
            "_model_module_version": "1.5.0",
            "_model_name": "FloatProgressModel",
            "_view_count": null,
            "_view_module": "@jupyter-widgets/controls",
            "_view_module_version": "1.5.0",
            "_view_name": "ProgressView",
            "bar_style": "info",
            "description": "Progress:",
            "description_tooltip": null,
            "layout": "IPY_MODEL_2f5ae742cddc4b4aa7ba6d4f30c9d1ab",
            "max": 1,
            "min": 0,
            "orientation": "horizontal",
            "style": "IPY_MODEL_86a2ae354c6847a791d4bc0f3df9805d",
            "value": 1
          }
        },
        "6397ad37c8d34abf8f81b3983e753c1d": {
          "model_module": "@jupyter-widgets/controls",
          "model_module_version": "1.5.0",
          "model_name": "ProgressStyleModel",
          "state": {
            "_model_module": "@jupyter-widgets/controls",
            "_model_module_version": "1.5.0",
            "_model_name": "ProgressStyleModel",
            "_view_count": null,
            "_view_module": "@jupyter-widgets/base",
            "_view_module_version": "1.2.0",
            "_view_name": "StyleView",
            "bar_color": null,
            "description_width": ""
          }
        },
        "67b2004347bf4ea18e2476bd3915d882": {
          "model_module": "@jupyter-widgets/controls",
          "model_module_version": "1.5.0",
          "model_name": "ProgressStyleModel",
          "state": {
            "_model_module": "@jupyter-widgets/controls",
            "_model_module_version": "1.5.0",
            "_model_name": "ProgressStyleModel",
            "_view_count": null,
            "_view_module": "@jupyter-widgets/base",
            "_view_module_version": "1.2.0",
            "_view_name": "StyleView",
            "bar_color": null,
            "description_width": ""
          }
        },
        "6897f0c7b10a4318aacd6a1cac017289": {
          "model_module": "@jupyter-widgets/base",
          "model_module_version": "1.2.0",
          "model_name": "LayoutModel",
          "state": {
            "_model_module": "@jupyter-widgets/base",
            "_model_module_version": "1.2.0",
            "_model_name": "LayoutModel",
            "_view_count": null,
            "_view_module": "@jupyter-widgets/base",
            "_view_module_version": "1.2.0",
            "_view_name": "LayoutView",
            "align_content": null,
            "align_items": null,
            "align_self": null,
            "border": null,
            "bottom": null,
            "display": null,
            "flex": null,
            "flex_flow": null,
            "grid_area": null,
            "grid_auto_columns": null,
            "grid_auto_flow": null,
            "grid_auto_rows": null,
            "grid_column": null,
            "grid_gap": null,
            "grid_row": null,
            "grid_template_areas": null,
            "grid_template_columns": null,
            "grid_template_rows": null,
            "height": "25px",
            "justify_content": null,
            "justify_items": null,
            "left": null,
            "margin": null,
            "max_height": null,
            "max_width": null,
            "min_height": null,
            "min_width": null,
            "object_fit": null,
            "object_position": null,
            "order": null,
            "overflow": null,
            "overflow_x": null,
            "overflow_y": null,
            "padding": null,
            "right": null,
            "top": null,
            "visibility": null,
            "width": "50%"
          }
        },
        "68f71441db3d456eba79f841c4409df0": {
          "model_module": "@jupyter-widgets/controls",
          "model_module_version": "1.5.0",
          "model_name": "FloatProgressModel",
          "state": {
            "_dom_classes": [],
            "_model_module": "@jupyter-widgets/controls",
            "_model_module_version": "1.5.0",
            "_model_name": "FloatProgressModel",
            "_view_count": null,
            "_view_module": "@jupyter-widgets/controls",
            "_view_module_version": "1.5.0",
            "_view_name": "ProgressView",
            "bar_style": "info",
            "description": "Progress:",
            "description_tooltip": null,
            "layout": "IPY_MODEL_468534474c0d427da8826c78807858ba",
            "max": 1,
            "min": 0,
            "orientation": "horizontal",
            "style": "IPY_MODEL_5f5ea08076a14ad7855988c84e064fba",
            "value": 0.4954128440366973
          }
        },
        "69641ebd2ba145519ca9f25068955fee": {
          "model_module": "@jupyter-widgets/controls",
          "model_module_version": "1.5.0",
          "model_name": "ProgressStyleModel",
          "state": {
            "_model_module": "@jupyter-widgets/controls",
            "_model_module_version": "1.5.0",
            "_model_name": "ProgressStyleModel",
            "_view_count": null,
            "_view_module": "@jupyter-widgets/base",
            "_view_module_version": "1.2.0",
            "_view_name": "StyleView",
            "bar_color": null,
            "description_width": ""
          }
        },
        "6d0d2f390c2140489c68d7c56d7e3650": {
          "model_module": "@jupyter-widgets/base",
          "model_module_version": "1.2.0",
          "model_name": "LayoutModel",
          "state": {
            "_model_module": "@jupyter-widgets/base",
            "_model_module_version": "1.2.0",
            "_model_name": "LayoutModel",
            "_view_count": null,
            "_view_module": "@jupyter-widgets/base",
            "_view_module_version": "1.2.0",
            "_view_name": "LayoutView",
            "align_content": null,
            "align_items": null,
            "align_self": null,
            "border": null,
            "bottom": null,
            "display": null,
            "flex": null,
            "flex_flow": null,
            "grid_area": null,
            "grid_auto_columns": null,
            "grid_auto_flow": null,
            "grid_auto_rows": null,
            "grid_column": null,
            "grid_gap": null,
            "grid_row": null,
            "grid_template_areas": null,
            "grid_template_columns": null,
            "grid_template_rows": null,
            "height": "25px",
            "justify_content": null,
            "justify_items": null,
            "left": null,
            "margin": null,
            "max_height": null,
            "max_width": null,
            "min_height": null,
            "min_width": null,
            "object_fit": null,
            "object_position": null,
            "order": null,
            "overflow": null,
            "overflow_x": null,
            "overflow_y": null,
            "padding": null,
            "right": null,
            "top": null,
            "visibility": null,
            "width": "50%"
          }
        },
        "6e6d02b8e4104162a5df03f81d298b65": {
          "model_module": "@jupyter-widgets/controls",
          "model_module_version": "1.5.0",
          "model_name": "FloatProgressModel",
          "state": {
            "_dom_classes": [],
            "_model_module": "@jupyter-widgets/controls",
            "_model_module_version": "1.5.0",
            "_model_name": "FloatProgressModel",
            "_view_count": null,
            "_view_module": "@jupyter-widgets/controls",
            "_view_module_version": "1.5.0",
            "_view_name": "ProgressView",
            "bar_style": "info",
            "description": "Progress:",
            "description_tooltip": null,
            "layout": "IPY_MODEL_90d6b433339543d19c24e7db4f530b8a",
            "max": 1,
            "min": 0,
            "orientation": "horizontal",
            "style": "IPY_MODEL_f5111e8f9684405cbf05c41c0b7c7bd8",
            "value": 0.9642857142857143
          }
        },
        "6fb8925c4fbd4a5198e8394c4f5452ef": {
          "model_module": "@jupyter-widgets/controls",
          "model_module_version": "1.5.0",
          "model_name": "ProgressStyleModel",
          "state": {
            "_model_module": "@jupyter-widgets/controls",
            "_model_module_version": "1.5.0",
            "_model_name": "ProgressStyleModel",
            "_view_count": null,
            "_view_module": "@jupyter-widgets/base",
            "_view_module_version": "1.2.0",
            "_view_name": "StyleView",
            "bar_color": null,
            "description_width": ""
          }
        },
        "7245949a205c4889bbc8168186c7f801": {
          "model_module": "@jupyter-widgets/base",
          "model_module_version": "1.2.0",
          "model_name": "LayoutModel",
          "state": {
            "_model_module": "@jupyter-widgets/base",
            "_model_module_version": "1.2.0",
            "_model_name": "LayoutModel",
            "_view_count": null,
            "_view_module": "@jupyter-widgets/base",
            "_view_module_version": "1.2.0",
            "_view_name": "LayoutView",
            "align_content": null,
            "align_items": null,
            "align_self": null,
            "border": null,
            "bottom": null,
            "display": null,
            "flex": null,
            "flex_flow": null,
            "grid_area": null,
            "grid_auto_columns": null,
            "grid_auto_flow": null,
            "grid_auto_rows": null,
            "grid_column": null,
            "grid_gap": null,
            "grid_row": null,
            "grid_template_areas": null,
            "grid_template_columns": null,
            "grid_template_rows": null,
            "height": "25px",
            "justify_content": null,
            "justify_items": null,
            "left": null,
            "margin": null,
            "max_height": null,
            "max_width": null,
            "min_height": null,
            "min_width": null,
            "object_fit": null,
            "object_position": null,
            "order": null,
            "overflow": null,
            "overflow_x": null,
            "overflow_y": null,
            "padding": null,
            "right": null,
            "top": null,
            "visibility": null,
            "width": "50%"
          }
        },
        "7919512b52d64bbc91ba9f1dc8cbbfd6": {
          "model_module": "@jupyter-widgets/base",
          "model_module_version": "1.2.0",
          "model_name": "LayoutModel",
          "state": {
            "_model_module": "@jupyter-widgets/base",
            "_model_module_version": "1.2.0",
            "_model_name": "LayoutModel",
            "_view_count": null,
            "_view_module": "@jupyter-widgets/base",
            "_view_module_version": "1.2.0",
            "_view_name": "LayoutView",
            "align_content": null,
            "align_items": null,
            "align_self": null,
            "border": null,
            "bottom": null,
            "display": null,
            "flex": null,
            "flex_flow": null,
            "grid_area": null,
            "grid_auto_columns": null,
            "grid_auto_flow": null,
            "grid_auto_rows": null,
            "grid_column": null,
            "grid_gap": null,
            "grid_row": null,
            "grid_template_areas": null,
            "grid_template_columns": null,
            "grid_template_rows": null,
            "height": "25px",
            "justify_content": null,
            "justify_items": null,
            "left": null,
            "margin": null,
            "max_height": null,
            "max_width": null,
            "min_height": null,
            "min_width": null,
            "object_fit": null,
            "object_position": null,
            "order": null,
            "overflow": null,
            "overflow_x": null,
            "overflow_y": null,
            "padding": null,
            "right": null,
            "top": null,
            "visibility": null,
            "width": "50%"
          }
        },
        "79a47ecd084a483ea553e4d9e4f98202": {
          "model_module": "@jupyter-widgets/controls",
          "model_module_version": "1.5.0",
          "model_name": "FloatProgressModel",
          "state": {
            "_dom_classes": [],
            "_model_module": "@jupyter-widgets/controls",
            "_model_module_version": "1.5.0",
            "_model_name": "FloatProgressModel",
            "_view_count": null,
            "_view_module": "@jupyter-widgets/controls",
            "_view_module_version": "1.5.0",
            "_view_name": "ProgressView",
            "bar_style": "info",
            "description": "Progress:",
            "description_tooltip": null,
            "layout": "IPY_MODEL_e416de5bf7c349b8966fe55da07cafc1",
            "max": 1,
            "min": 0,
            "orientation": "horizontal",
            "style": "IPY_MODEL_8775789e0afd449eb8150b422185c1d1",
            "value": 0.3944954128440367
          }
        },
        "7d58488d426e419091268fb50c7aa5b3": {
          "model_module": "@jupyter-widgets/base",
          "model_module_version": "1.2.0",
          "model_name": "LayoutModel",
          "state": {
            "_model_module": "@jupyter-widgets/base",
            "_model_module_version": "1.2.0",
            "_model_name": "LayoutModel",
            "_view_count": null,
            "_view_module": "@jupyter-widgets/base",
            "_view_module_version": "1.2.0",
            "_view_name": "LayoutView",
            "align_content": null,
            "align_items": null,
            "align_self": null,
            "border": null,
            "bottom": null,
            "display": null,
            "flex": null,
            "flex_flow": null,
            "grid_area": null,
            "grid_auto_columns": null,
            "grid_auto_flow": null,
            "grid_auto_rows": null,
            "grid_column": null,
            "grid_gap": null,
            "grid_row": null,
            "grid_template_areas": null,
            "grid_template_columns": null,
            "grid_template_rows": null,
            "height": "25px",
            "justify_content": null,
            "justify_items": null,
            "left": null,
            "margin": null,
            "max_height": null,
            "max_width": null,
            "min_height": null,
            "min_width": null,
            "object_fit": null,
            "object_position": null,
            "order": null,
            "overflow": null,
            "overflow_x": null,
            "overflow_y": null,
            "padding": null,
            "right": null,
            "top": null,
            "visibility": null,
            "width": "50%"
          }
        },
        "82293377854d42debb5e3e6188bc3733": {
          "model_module": "@jupyter-widgets/controls",
          "model_module_version": "1.5.0",
          "model_name": "FloatProgressModel",
          "state": {
            "_dom_classes": [],
            "_model_module": "@jupyter-widgets/controls",
            "_model_module_version": "1.5.0",
            "_model_name": "FloatProgressModel",
            "_view_count": null,
            "_view_module": "@jupyter-widgets/controls",
            "_view_module_version": "1.5.0",
            "_view_name": "ProgressView",
            "bar_style": "info",
            "description": "Progress:",
            "description_tooltip": null,
            "layout": "IPY_MODEL_d5453e985a964ad0ad079ba4327bbde8",
            "max": 1,
            "min": 0,
            "orientation": "horizontal",
            "style": "IPY_MODEL_cde1ec57da374a82999aa1a6a5bb6955",
            "value": 0
          }
        },
        "86a2ae354c6847a791d4bc0f3df9805d": {
          "model_module": "@jupyter-widgets/controls",
          "model_module_version": "1.5.0",
          "model_name": "ProgressStyleModel",
          "state": {
            "_model_module": "@jupyter-widgets/controls",
            "_model_module_version": "1.5.0",
            "_model_name": "ProgressStyleModel",
            "_view_count": null,
            "_view_module": "@jupyter-widgets/base",
            "_view_module_version": "1.2.0",
            "_view_name": "StyleView",
            "bar_color": null,
            "description_width": ""
          }
        },
        "8775789e0afd449eb8150b422185c1d1": {
          "model_module": "@jupyter-widgets/controls",
          "model_module_version": "1.5.0",
          "model_name": "ProgressStyleModel",
          "state": {
            "_model_module": "@jupyter-widgets/controls",
            "_model_module_version": "1.5.0",
            "_model_name": "ProgressStyleModel",
            "_view_count": null,
            "_view_module": "@jupyter-widgets/base",
            "_view_module_version": "1.2.0",
            "_view_name": "StyleView",
            "bar_color": null,
            "description_width": ""
          }
        },
        "8a2f90f9f72b4aed8928beb7d91184a3": {
          "model_module": "@jupyter-widgets/controls",
          "model_module_version": "1.5.0",
          "model_name": "ProgressStyleModel",
          "state": {
            "_model_module": "@jupyter-widgets/controls",
            "_model_module_version": "1.5.0",
            "_model_name": "ProgressStyleModel",
            "_view_count": null,
            "_view_module": "@jupyter-widgets/base",
            "_view_module_version": "1.2.0",
            "_view_name": "StyleView",
            "bar_color": null,
            "description_width": ""
          }
        },
        "8caf9d77a1ba4f4493cc23deb2440fc6": {
          "model_module": "@jupyter-widgets/controls",
          "model_module_version": "1.5.0",
          "model_name": "ProgressStyleModel",
          "state": {
            "_model_module": "@jupyter-widgets/controls",
            "_model_module_version": "1.5.0",
            "_model_name": "ProgressStyleModel",
            "_view_count": null,
            "_view_module": "@jupyter-widgets/base",
            "_view_module_version": "1.2.0",
            "_view_name": "StyleView",
            "bar_color": null,
            "description_width": ""
          }
        },
        "8e157bccf55f4292b5a44c5fd31013de": {
          "model_module": "@jupyter-widgets/controls",
          "model_module_version": "1.5.0",
          "model_name": "ProgressStyleModel",
          "state": {
            "_model_module": "@jupyter-widgets/controls",
            "_model_module_version": "1.5.0",
            "_model_name": "ProgressStyleModel",
            "_view_count": null,
            "_view_module": "@jupyter-widgets/base",
            "_view_module_version": "1.2.0",
            "_view_name": "StyleView",
            "bar_color": null,
            "description_width": ""
          }
        },
        "9076164ff79e4aa0882418e3fd8d99aa": {
          "model_module": "@jupyter-widgets/base",
          "model_module_version": "1.2.0",
          "model_name": "LayoutModel",
          "state": {
            "_model_module": "@jupyter-widgets/base",
            "_model_module_version": "1.2.0",
            "_model_name": "LayoutModel",
            "_view_count": null,
            "_view_module": "@jupyter-widgets/base",
            "_view_module_version": "1.2.0",
            "_view_name": "LayoutView",
            "align_content": null,
            "align_items": null,
            "align_self": null,
            "border": null,
            "bottom": null,
            "display": null,
            "flex": null,
            "flex_flow": null,
            "grid_area": null,
            "grid_auto_columns": null,
            "grid_auto_flow": null,
            "grid_auto_rows": null,
            "grid_column": null,
            "grid_gap": null,
            "grid_row": null,
            "grid_template_areas": null,
            "grid_template_columns": null,
            "grid_template_rows": null,
            "height": "25px",
            "justify_content": null,
            "justify_items": null,
            "left": null,
            "margin": null,
            "max_height": null,
            "max_width": null,
            "min_height": null,
            "min_width": null,
            "object_fit": null,
            "object_position": null,
            "order": null,
            "overflow": null,
            "overflow_x": null,
            "overflow_y": null,
            "padding": null,
            "right": null,
            "top": null,
            "visibility": null,
            "width": "50%"
          }
        },
        "90c7a336293e4bf792d9719af93afdba": {
          "model_module": "@jupyter-widgets/controls",
          "model_module_version": "1.5.0",
          "model_name": "FloatProgressModel",
          "state": {
            "_dom_classes": [],
            "_model_module": "@jupyter-widgets/controls",
            "_model_module_version": "1.5.0",
            "_model_name": "FloatProgressModel",
            "_view_count": null,
            "_view_module": "@jupyter-widgets/controls",
            "_view_module_version": "1.5.0",
            "_view_name": "ProgressView",
            "bar_style": "info",
            "description": "Progress:",
            "description_tooltip": null,
            "layout": "IPY_MODEL_cc3ca439e07743abba157498c873f9a9",
            "max": 1,
            "min": 0,
            "orientation": "horizontal",
            "style": "IPY_MODEL_fbf08df0a02243b39d4fedf57ca5c630",
            "value": 0
          }
        },
        "90d6b433339543d19c24e7db4f530b8a": {
          "model_module": "@jupyter-widgets/base",
          "model_module_version": "1.2.0",
          "model_name": "LayoutModel",
          "state": {
            "_model_module": "@jupyter-widgets/base",
            "_model_module_version": "1.2.0",
            "_model_name": "LayoutModel",
            "_view_count": null,
            "_view_module": "@jupyter-widgets/base",
            "_view_module_version": "1.2.0",
            "_view_name": "LayoutView",
            "align_content": null,
            "align_items": null,
            "align_self": null,
            "border": null,
            "bottom": null,
            "display": null,
            "flex": null,
            "flex_flow": null,
            "grid_area": null,
            "grid_auto_columns": null,
            "grid_auto_flow": null,
            "grid_auto_rows": null,
            "grid_column": null,
            "grid_gap": null,
            "grid_row": null,
            "grid_template_areas": null,
            "grid_template_columns": null,
            "grid_template_rows": null,
            "height": "25px",
            "justify_content": null,
            "justify_items": null,
            "left": null,
            "margin": null,
            "max_height": null,
            "max_width": null,
            "min_height": null,
            "min_width": null,
            "object_fit": null,
            "object_position": null,
            "order": null,
            "overflow": null,
            "overflow_x": null,
            "overflow_y": null,
            "padding": null,
            "right": null,
            "top": null,
            "visibility": null,
            "width": "50%"
          }
        },
        "90d8cdb5cf2e48c093a435db11546d5a": {
          "model_module": "@jupyter-widgets/base",
          "model_module_version": "1.2.0",
          "model_name": "LayoutModel",
          "state": {
            "_model_module": "@jupyter-widgets/base",
            "_model_module_version": "1.2.0",
            "_model_name": "LayoutModel",
            "_view_count": null,
            "_view_module": "@jupyter-widgets/base",
            "_view_module_version": "1.2.0",
            "_view_name": "LayoutView",
            "align_content": null,
            "align_items": null,
            "align_self": null,
            "border": null,
            "bottom": null,
            "display": null,
            "flex": null,
            "flex_flow": null,
            "grid_area": null,
            "grid_auto_columns": null,
            "grid_auto_flow": null,
            "grid_auto_rows": null,
            "grid_column": null,
            "grid_gap": null,
            "grid_row": null,
            "grid_template_areas": null,
            "grid_template_columns": null,
            "grid_template_rows": null,
            "height": "25px",
            "justify_content": null,
            "justify_items": null,
            "left": null,
            "margin": null,
            "max_height": null,
            "max_width": null,
            "min_height": null,
            "min_width": null,
            "object_fit": null,
            "object_position": null,
            "order": null,
            "overflow": null,
            "overflow_x": null,
            "overflow_y": null,
            "padding": null,
            "right": null,
            "top": null,
            "visibility": null,
            "width": "50%"
          }
        },
        "96b33ab490da493383fab91bb2f2c834": {
          "model_module": "@jupyter-widgets/controls",
          "model_module_version": "1.5.0",
          "model_name": "FloatProgressModel",
          "state": {
            "_dom_classes": [],
            "_model_module": "@jupyter-widgets/controls",
            "_model_module_version": "1.5.0",
            "_model_name": "FloatProgressModel",
            "_view_count": null,
            "_view_module": "@jupyter-widgets/controls",
            "_view_module_version": "1.5.0",
            "_view_name": "ProgressView",
            "bar_style": "info",
            "description": "Progress:",
            "description_tooltip": null,
            "layout": "IPY_MODEL_05d946d3067f48eb939a9aaefa99ac43",
            "max": 1,
            "min": 0,
            "orientation": "horizontal",
            "style": "IPY_MODEL_d93087002bfb4600b53d0dfdb16c1b53",
            "value": 0
          }
        },
        "99b8e4bd988b43eb8165619db95c79ee": {
          "model_module": "@jupyter-widgets/base",
          "model_module_version": "1.2.0",
          "model_name": "LayoutModel",
          "state": {
            "_model_module": "@jupyter-widgets/base",
            "_model_module_version": "1.2.0",
            "_model_name": "LayoutModel",
            "_view_count": null,
            "_view_module": "@jupyter-widgets/base",
            "_view_module_version": "1.2.0",
            "_view_name": "LayoutView",
            "align_content": null,
            "align_items": null,
            "align_self": null,
            "border": null,
            "bottom": null,
            "display": null,
            "flex": null,
            "flex_flow": null,
            "grid_area": null,
            "grid_auto_columns": null,
            "grid_auto_flow": null,
            "grid_auto_rows": null,
            "grid_column": null,
            "grid_gap": null,
            "grid_row": null,
            "grid_template_areas": null,
            "grid_template_columns": null,
            "grid_template_rows": null,
            "height": "25px",
            "justify_content": null,
            "justify_items": null,
            "left": null,
            "margin": null,
            "max_height": null,
            "max_width": null,
            "min_height": null,
            "min_width": null,
            "object_fit": null,
            "object_position": null,
            "order": null,
            "overflow": null,
            "overflow_x": null,
            "overflow_y": null,
            "padding": null,
            "right": null,
            "top": null,
            "visibility": null,
            "width": "50%"
          }
        },
        "9a0f68ca58d2475a92bc2989300aa375": {
          "model_module": "@jupyter-widgets/controls",
          "model_module_version": "1.5.0",
          "model_name": "FloatProgressModel",
          "state": {
            "_dom_classes": [],
            "_model_module": "@jupyter-widgets/controls",
            "_model_module_version": "1.5.0",
            "_model_name": "FloatProgressModel",
            "_view_count": null,
            "_view_module": "@jupyter-widgets/controls",
            "_view_module_version": "1.5.0",
            "_view_name": "ProgressView",
            "bar_style": "info",
            "description": "Progress:",
            "description_tooltip": null,
            "layout": "IPY_MODEL_b30590e994034d5eb3b01d80192fbd18",
            "max": 1,
            "min": 0,
            "orientation": "horizontal",
            "style": "IPY_MODEL_ec5f2beae82140708ff44a6e83f7a21b",
            "value": 0.7339449541284404
          }
        },
        "9c2fc12b60f54c6aa0ede1793d7db5cf": {
          "model_module": "@jupyter-widgets/base",
          "model_module_version": "1.2.0",
          "model_name": "LayoutModel",
          "state": {
            "_model_module": "@jupyter-widgets/base",
            "_model_module_version": "1.2.0",
            "_model_name": "LayoutModel",
            "_view_count": null,
            "_view_module": "@jupyter-widgets/base",
            "_view_module_version": "1.2.0",
            "_view_name": "LayoutView",
            "align_content": null,
            "align_items": null,
            "align_self": null,
            "border": null,
            "bottom": null,
            "display": null,
            "flex": null,
            "flex_flow": null,
            "grid_area": null,
            "grid_auto_columns": null,
            "grid_auto_flow": null,
            "grid_auto_rows": null,
            "grid_column": null,
            "grid_gap": null,
            "grid_row": null,
            "grid_template_areas": null,
            "grid_template_columns": null,
            "grid_template_rows": null,
            "height": "25px",
            "justify_content": null,
            "justify_items": null,
            "left": null,
            "margin": null,
            "max_height": null,
            "max_width": null,
            "min_height": null,
            "min_width": null,
            "object_fit": null,
            "object_position": null,
            "order": null,
            "overflow": null,
            "overflow_x": null,
            "overflow_y": null,
            "padding": null,
            "right": null,
            "top": null,
            "visibility": null,
            "width": "50%"
          }
        },
        "9d14d225618447c6af2e63fd2e18b5a6": {
          "model_module": "@jupyter-widgets/controls",
          "model_module_version": "1.5.0",
          "model_name": "ProgressStyleModel",
          "state": {
            "_model_module": "@jupyter-widgets/controls",
            "_model_module_version": "1.5.0",
            "_model_name": "ProgressStyleModel",
            "_view_count": null,
            "_view_module": "@jupyter-widgets/base",
            "_view_module_version": "1.2.0",
            "_view_name": "StyleView",
            "bar_color": null,
            "description_width": ""
          }
        },
        "9f62b498858d41be8db4e283a052e85f": {
          "model_module": "@jupyter-widgets/controls",
          "model_module_version": "1.5.0",
          "model_name": "ProgressStyleModel",
          "state": {
            "_model_module": "@jupyter-widgets/controls",
            "_model_module_version": "1.5.0",
            "_model_name": "ProgressStyleModel",
            "_view_count": null,
            "_view_module": "@jupyter-widgets/base",
            "_view_module_version": "1.2.0",
            "_view_name": "StyleView",
            "bar_color": null,
            "description_width": ""
          }
        },
        "a02810512584448ea482f48f0abbd6b5": {
          "model_module": "@jupyter-widgets/controls",
          "model_module_version": "1.5.0",
          "model_name": "ProgressStyleModel",
          "state": {
            "_model_module": "@jupyter-widgets/controls",
            "_model_module_version": "1.5.0",
            "_model_name": "ProgressStyleModel",
            "_view_count": null,
            "_view_module": "@jupyter-widgets/base",
            "_view_module_version": "1.2.0",
            "_view_name": "StyleView",
            "bar_color": null,
            "description_width": ""
          }
        },
        "a47fd21fad0b461ba28f93128a84e979": {
          "model_module": "@jupyter-widgets/base",
          "model_module_version": "1.2.0",
          "model_name": "LayoutModel",
          "state": {
            "_model_module": "@jupyter-widgets/base",
            "_model_module_version": "1.2.0",
            "_model_name": "LayoutModel",
            "_view_count": null,
            "_view_module": "@jupyter-widgets/base",
            "_view_module_version": "1.2.0",
            "_view_name": "LayoutView",
            "align_content": null,
            "align_items": null,
            "align_self": null,
            "border": null,
            "bottom": null,
            "display": null,
            "flex": null,
            "flex_flow": null,
            "grid_area": null,
            "grid_auto_columns": null,
            "grid_auto_flow": null,
            "grid_auto_rows": null,
            "grid_column": null,
            "grid_gap": null,
            "grid_row": null,
            "grid_template_areas": null,
            "grid_template_columns": null,
            "grid_template_rows": null,
            "height": "25px",
            "justify_content": null,
            "justify_items": null,
            "left": null,
            "margin": null,
            "max_height": null,
            "max_width": null,
            "min_height": null,
            "min_width": null,
            "object_fit": null,
            "object_position": null,
            "order": null,
            "overflow": null,
            "overflow_x": null,
            "overflow_y": null,
            "padding": null,
            "right": null,
            "top": null,
            "visibility": null,
            "width": "50%"
          }
        },
        "a5e2b0817ad1443285267e57558442e6": {
          "model_module": "@jupyter-widgets/controls",
          "model_module_version": "1.5.0",
          "model_name": "FloatProgressModel",
          "state": {
            "_dom_classes": [],
            "_model_module": "@jupyter-widgets/controls",
            "_model_module_version": "1.5.0",
            "_model_name": "FloatProgressModel",
            "_view_count": null,
            "_view_module": "@jupyter-widgets/controls",
            "_view_module_version": "1.5.0",
            "_view_name": "ProgressView",
            "bar_style": "info",
            "description": "Progress:",
            "description_tooltip": null,
            "layout": "IPY_MODEL_6d0d2f390c2140489c68d7c56d7e3650",
            "max": 1,
            "min": 0,
            "orientation": "horizontal",
            "style": "IPY_MODEL_1375bd73b55c4fbca7402cadca90f5ad",
            "value": 0
          }
        },
        "a72626a2c679451aba1b9e9465da4a4a": {
          "model_module": "@jupyter-widgets/controls",
          "model_module_version": "1.5.0",
          "model_name": "ProgressStyleModel",
          "state": {
            "_model_module": "@jupyter-widgets/controls",
            "_model_module_version": "1.5.0",
            "_model_name": "ProgressStyleModel",
            "_view_count": null,
            "_view_module": "@jupyter-widgets/base",
            "_view_module_version": "1.2.0",
            "_view_name": "StyleView",
            "bar_color": null,
            "description_width": ""
          }
        },
        "a9965493e2c0470a91c829c6c12abc56": {
          "model_module": "@jupyter-widgets/base",
          "model_module_version": "1.2.0",
          "model_name": "LayoutModel",
          "state": {
            "_model_module": "@jupyter-widgets/base",
            "_model_module_version": "1.2.0",
            "_model_name": "LayoutModel",
            "_view_count": null,
            "_view_module": "@jupyter-widgets/base",
            "_view_module_version": "1.2.0",
            "_view_name": "LayoutView",
            "align_content": null,
            "align_items": null,
            "align_self": null,
            "border": null,
            "bottom": null,
            "display": null,
            "flex": null,
            "flex_flow": null,
            "grid_area": null,
            "grid_auto_columns": null,
            "grid_auto_flow": null,
            "grid_auto_rows": null,
            "grid_column": null,
            "grid_gap": null,
            "grid_row": null,
            "grid_template_areas": null,
            "grid_template_columns": null,
            "grid_template_rows": null,
            "height": "25px",
            "justify_content": null,
            "justify_items": null,
            "left": null,
            "margin": null,
            "max_height": null,
            "max_width": null,
            "min_height": null,
            "min_width": null,
            "object_fit": null,
            "object_position": null,
            "order": null,
            "overflow": null,
            "overflow_x": null,
            "overflow_y": null,
            "padding": null,
            "right": null,
            "top": null,
            "visibility": null,
            "width": "50%"
          }
        },
        "aa05244e65aa45f2857444a7b5210dfa": {
          "model_module": "@jupyter-widgets/controls",
          "model_module_version": "1.5.0",
          "model_name": "FloatProgressModel",
          "state": {
            "_dom_classes": [],
            "_model_module": "@jupyter-widgets/controls",
            "_model_module_version": "1.5.0",
            "_model_name": "FloatProgressModel",
            "_view_count": null,
            "_view_module": "@jupyter-widgets/controls",
            "_view_module_version": "1.5.0",
            "_view_name": "ProgressView",
            "bar_style": "info",
            "description": "Progress:",
            "description_tooltip": null,
            "layout": "IPY_MODEL_07317ef0574b4eefaf75d8056b31b68b",
            "max": 1,
            "min": 0,
            "orientation": "horizontal",
            "style": "IPY_MODEL_cf5faac1c7da471fb2b77f51f7e239ec",
            "value": 0
          }
        },
        "aa2cbebeb3584304a680268867da8eb6": {
          "model_module": "@jupyter-widgets/controls",
          "model_module_version": "1.5.0",
          "model_name": "ProgressStyleModel",
          "state": {
            "_model_module": "@jupyter-widgets/controls",
            "_model_module_version": "1.5.0",
            "_model_name": "ProgressStyleModel",
            "_view_count": null,
            "_view_module": "@jupyter-widgets/base",
            "_view_module_version": "1.2.0",
            "_view_name": "StyleView",
            "bar_color": null,
            "description_width": ""
          }
        },
        "b30590e994034d5eb3b01d80192fbd18": {
          "model_module": "@jupyter-widgets/base",
          "model_module_version": "1.2.0",
          "model_name": "LayoutModel",
          "state": {
            "_model_module": "@jupyter-widgets/base",
            "_model_module_version": "1.2.0",
            "_model_name": "LayoutModel",
            "_view_count": null,
            "_view_module": "@jupyter-widgets/base",
            "_view_module_version": "1.2.0",
            "_view_name": "LayoutView",
            "align_content": null,
            "align_items": null,
            "align_self": null,
            "border": null,
            "bottom": null,
            "display": null,
            "flex": null,
            "flex_flow": null,
            "grid_area": null,
            "grid_auto_columns": null,
            "grid_auto_flow": null,
            "grid_auto_rows": null,
            "grid_column": null,
            "grid_gap": null,
            "grid_row": null,
            "grid_template_areas": null,
            "grid_template_columns": null,
            "grid_template_rows": null,
            "height": "25px",
            "justify_content": null,
            "justify_items": null,
            "left": null,
            "margin": null,
            "max_height": null,
            "max_width": null,
            "min_height": null,
            "min_width": null,
            "object_fit": null,
            "object_position": null,
            "order": null,
            "overflow": null,
            "overflow_x": null,
            "overflow_y": null,
            "padding": null,
            "right": null,
            "top": null,
            "visibility": null,
            "width": "50%"
          }
        },
        "ba322917f4254271a80b5e3b3922c647": {
          "model_module": "@jupyter-widgets/base",
          "model_module_version": "1.2.0",
          "model_name": "LayoutModel",
          "state": {
            "_model_module": "@jupyter-widgets/base",
            "_model_module_version": "1.2.0",
            "_model_name": "LayoutModel",
            "_view_count": null,
            "_view_module": "@jupyter-widgets/base",
            "_view_module_version": "1.2.0",
            "_view_name": "LayoutView",
            "align_content": null,
            "align_items": null,
            "align_self": null,
            "border": null,
            "bottom": null,
            "display": null,
            "flex": null,
            "flex_flow": null,
            "grid_area": null,
            "grid_auto_columns": null,
            "grid_auto_flow": null,
            "grid_auto_rows": null,
            "grid_column": null,
            "grid_gap": null,
            "grid_row": null,
            "grid_template_areas": null,
            "grid_template_columns": null,
            "grid_template_rows": null,
            "height": "25px",
            "justify_content": null,
            "justify_items": null,
            "left": null,
            "margin": null,
            "max_height": null,
            "max_width": null,
            "min_height": null,
            "min_width": null,
            "object_fit": null,
            "object_position": null,
            "order": null,
            "overflow": null,
            "overflow_x": null,
            "overflow_y": null,
            "padding": null,
            "right": null,
            "top": null,
            "visibility": null,
            "width": "50%"
          }
        },
        "baff32af34f547b0885fde232ba7675b": {
          "model_module": "@jupyter-widgets/controls",
          "model_module_version": "1.5.0",
          "model_name": "FloatProgressModel",
          "state": {
            "_dom_classes": [],
            "_model_module": "@jupyter-widgets/controls",
            "_model_module_version": "1.5.0",
            "_model_name": "FloatProgressModel",
            "_view_count": null,
            "_view_module": "@jupyter-widgets/controls",
            "_view_module_version": "1.5.0",
            "_view_name": "ProgressView",
            "bar_style": "info",
            "description": "Progress:",
            "description_tooltip": null,
            "layout": "IPY_MODEL_f3ca8435dc9a402781b469f6d8803118",
            "max": 1,
            "min": 0,
            "orientation": "horizontal",
            "style": "IPY_MODEL_305627c6147c41caaa55fbf979674753",
            "value": 0.8214285714285714
          }
        },
        "be337de1dfc04fd7921befe68a675e95": {
          "model_module": "@jupyter-widgets/base",
          "model_module_version": "1.2.0",
          "model_name": "LayoutModel",
          "state": {
            "_model_module": "@jupyter-widgets/base",
            "_model_module_version": "1.2.0",
            "_model_name": "LayoutModel",
            "_view_count": null,
            "_view_module": "@jupyter-widgets/base",
            "_view_module_version": "1.2.0",
            "_view_name": "LayoutView",
            "align_content": null,
            "align_items": null,
            "align_self": null,
            "border": null,
            "bottom": null,
            "display": null,
            "flex": null,
            "flex_flow": null,
            "grid_area": null,
            "grid_auto_columns": null,
            "grid_auto_flow": null,
            "grid_auto_rows": null,
            "grid_column": null,
            "grid_gap": null,
            "grid_row": null,
            "grid_template_areas": null,
            "grid_template_columns": null,
            "grid_template_rows": null,
            "height": "25px",
            "justify_content": null,
            "justify_items": null,
            "left": null,
            "margin": null,
            "max_height": null,
            "max_width": null,
            "min_height": null,
            "min_width": null,
            "object_fit": null,
            "object_position": null,
            "order": null,
            "overflow": null,
            "overflow_x": null,
            "overflow_y": null,
            "padding": null,
            "right": null,
            "top": null,
            "visibility": null,
            "width": "50%"
          }
        },
        "c047481c9ff944bea484e9e1ff6e7d28": {
          "model_module": "@jupyter-widgets/controls",
          "model_module_version": "1.5.0",
          "model_name": "FloatProgressModel",
          "state": {
            "_dom_classes": [],
            "_model_module": "@jupyter-widgets/controls",
            "_model_module_version": "1.5.0",
            "_model_name": "FloatProgressModel",
            "_view_count": null,
            "_view_module": "@jupyter-widgets/controls",
            "_view_module_version": "1.5.0",
            "_view_name": "ProgressView",
            "bar_style": "info",
            "description": "Progress:",
            "description_tooltip": null,
            "layout": "IPY_MODEL_a9965493e2c0470a91c829c6c12abc56",
            "max": 1,
            "min": 0,
            "orientation": "horizontal",
            "style": "IPY_MODEL_67b2004347bf4ea18e2476bd3915d882",
            "value": 0
          }
        },
        "c062576b5ba44a1e9b37c6e741d36fd8": {
          "model_module": "@jupyter-widgets/controls",
          "model_module_version": "1.5.0",
          "model_name": "FloatProgressModel",
          "state": {
            "_dom_classes": [],
            "_model_module": "@jupyter-widgets/controls",
            "_model_module_version": "1.5.0",
            "_model_name": "FloatProgressModel",
            "_view_count": null,
            "_view_module": "@jupyter-widgets/controls",
            "_view_module_version": "1.5.0",
            "_view_name": "ProgressView",
            "bar_style": "info",
            "description": "Progress:",
            "description_tooltip": null,
            "layout": "IPY_MODEL_90d8cdb5cf2e48c093a435db11546d5a",
            "max": 1,
            "min": 0,
            "orientation": "horizontal",
            "style": "IPY_MODEL_f96e281455624fa4bf1aa2c4c2ced573",
            "value": 0
          }
        },
        "c821705c38e04b8a8f8f31ee666fddd1": {
          "model_module": "@jupyter-widgets/controls",
          "model_module_version": "1.5.0",
          "model_name": "FloatProgressModel",
          "state": {
            "_dom_classes": [],
            "_model_module": "@jupyter-widgets/controls",
            "_model_module_version": "1.5.0",
            "_model_name": "FloatProgressModel",
            "_view_count": null,
            "_view_module": "@jupyter-widgets/controls",
            "_view_module_version": "1.5.0",
            "_view_name": "ProgressView",
            "bar_style": "info",
            "description": "Progress:",
            "description_tooltip": null,
            "layout": "IPY_MODEL_546a0cd305054c778fdfca04026ffed2",
            "max": 1,
            "min": 0,
            "orientation": "horizontal",
            "style": "IPY_MODEL_9f62b498858d41be8db4e283a052e85f",
            "value": 0.3333333333333333
          }
        },
        "c8b40bca21fe40c2aa0e672a27da5f20": {
          "model_module": "@jupyter-widgets/base",
          "model_module_version": "1.2.0",
          "model_name": "LayoutModel",
          "state": {
            "_model_module": "@jupyter-widgets/base",
            "_model_module_version": "1.2.0",
            "_model_name": "LayoutModel",
            "_view_count": null,
            "_view_module": "@jupyter-widgets/base",
            "_view_module_version": "1.2.0",
            "_view_name": "LayoutView",
            "align_content": null,
            "align_items": null,
            "align_self": null,
            "border": null,
            "bottom": null,
            "display": null,
            "flex": null,
            "flex_flow": null,
            "grid_area": null,
            "grid_auto_columns": null,
            "grid_auto_flow": null,
            "grid_auto_rows": null,
            "grid_column": null,
            "grid_gap": null,
            "grid_row": null,
            "grid_template_areas": null,
            "grid_template_columns": null,
            "grid_template_rows": null,
            "height": "25px",
            "justify_content": null,
            "justify_items": null,
            "left": null,
            "margin": null,
            "max_height": null,
            "max_width": null,
            "min_height": null,
            "min_width": null,
            "object_fit": null,
            "object_position": null,
            "order": null,
            "overflow": null,
            "overflow_x": null,
            "overflow_y": null,
            "padding": null,
            "right": null,
            "top": null,
            "visibility": null,
            "width": "50%"
          }
        },
        "ca5c32460e3b4cf38717bdacad543fde": {
          "model_module": "@jupyter-widgets/controls",
          "model_module_version": "1.5.0",
          "model_name": "FloatProgressModel",
          "state": {
            "_dom_classes": [],
            "_model_module": "@jupyter-widgets/controls",
            "_model_module_version": "1.5.0",
            "_model_name": "FloatProgressModel",
            "_view_count": null,
            "_view_module": "@jupyter-widgets/controls",
            "_view_module_version": "1.5.0",
            "_view_name": "ProgressView",
            "bar_style": "info",
            "description": "Progress:",
            "description_tooltip": null,
            "layout": "IPY_MODEL_7919512b52d64bbc91ba9f1dc8cbbfd6",
            "max": 1,
            "min": 0,
            "orientation": "horizontal",
            "style": "IPY_MODEL_e0832475162049118ab43f2da5dcfad4",
            "value": 0
          }
        },
        "cc3ca439e07743abba157498c873f9a9": {
          "model_module": "@jupyter-widgets/base",
          "model_module_version": "1.2.0",
          "model_name": "LayoutModel",
          "state": {
            "_model_module": "@jupyter-widgets/base",
            "_model_module_version": "1.2.0",
            "_model_name": "LayoutModel",
            "_view_count": null,
            "_view_module": "@jupyter-widgets/base",
            "_view_module_version": "1.2.0",
            "_view_name": "LayoutView",
            "align_content": null,
            "align_items": null,
            "align_self": null,
            "border": null,
            "bottom": null,
            "display": null,
            "flex": null,
            "flex_flow": null,
            "grid_area": null,
            "grid_auto_columns": null,
            "grid_auto_flow": null,
            "grid_auto_rows": null,
            "grid_column": null,
            "grid_gap": null,
            "grid_row": null,
            "grid_template_areas": null,
            "grid_template_columns": null,
            "grid_template_rows": null,
            "height": "25px",
            "justify_content": null,
            "justify_items": null,
            "left": null,
            "margin": null,
            "max_height": null,
            "max_width": null,
            "min_height": null,
            "min_width": null,
            "object_fit": null,
            "object_position": null,
            "order": null,
            "overflow": null,
            "overflow_x": null,
            "overflow_y": null,
            "padding": null,
            "right": null,
            "top": null,
            "visibility": null,
            "width": "50%"
          }
        },
        "cde1ec57da374a82999aa1a6a5bb6955": {
          "model_module": "@jupyter-widgets/controls",
          "model_module_version": "1.5.0",
          "model_name": "ProgressStyleModel",
          "state": {
            "_model_module": "@jupyter-widgets/controls",
            "_model_module_version": "1.5.0",
            "_model_name": "ProgressStyleModel",
            "_view_count": null,
            "_view_module": "@jupyter-widgets/base",
            "_view_module_version": "1.2.0",
            "_view_name": "StyleView",
            "bar_color": null,
            "description_width": ""
          }
        },
        "cea60acbef274c3e8c11b3365d6f9328": {
          "model_module": "@jupyter-widgets/controls",
          "model_module_version": "1.5.0",
          "model_name": "ProgressStyleModel",
          "state": {
            "_model_module": "@jupyter-widgets/controls",
            "_model_module_version": "1.5.0",
            "_model_name": "ProgressStyleModel",
            "_view_count": null,
            "_view_module": "@jupyter-widgets/base",
            "_view_module_version": "1.2.0",
            "_view_name": "StyleView",
            "bar_color": null,
            "description_width": ""
          }
        },
        "cf5faac1c7da471fb2b77f51f7e239ec": {
          "model_module": "@jupyter-widgets/controls",
          "model_module_version": "1.5.0",
          "model_name": "ProgressStyleModel",
          "state": {
            "_model_module": "@jupyter-widgets/controls",
            "_model_module_version": "1.5.0",
            "_model_name": "ProgressStyleModel",
            "_view_count": null,
            "_view_module": "@jupyter-widgets/base",
            "_view_module_version": "1.2.0",
            "_view_name": "StyleView",
            "bar_color": null,
            "description_width": ""
          }
        },
        "cfb0cb9fbf2e4a6c87cd327325414c6c": {
          "model_module": "@jupyter-widgets/controls",
          "model_module_version": "1.5.0",
          "model_name": "FloatProgressModel",
          "state": {
            "_dom_classes": [],
            "_model_module": "@jupyter-widgets/controls",
            "_model_module_version": "1.5.0",
            "_model_name": "FloatProgressModel",
            "_view_count": null,
            "_view_module": "@jupyter-widgets/controls",
            "_view_module_version": "1.5.0",
            "_view_name": "ProgressView",
            "bar_style": "info",
            "description": "Progress:",
            "description_tooltip": null,
            "layout": "IPY_MODEL_d6de1238f7f8400880b6400ebdb945a5",
            "max": 1,
            "min": 0,
            "orientation": "horizontal",
            "style": "IPY_MODEL_8caf9d77a1ba4f4493cc23deb2440fc6",
            "value": 0
          }
        },
        "d0c12bec72414c5f85cd94758fd6d21a": {
          "model_module": "@jupyter-widgets/controls",
          "model_module_version": "1.5.0",
          "model_name": "ProgressStyleModel",
          "state": {
            "_model_module": "@jupyter-widgets/controls",
            "_model_module_version": "1.5.0",
            "_model_name": "ProgressStyleModel",
            "_view_count": null,
            "_view_module": "@jupyter-widgets/base",
            "_view_module_version": "1.2.0",
            "_view_name": "StyleView",
            "bar_color": null,
            "description_width": ""
          }
        },
        "d5453e985a964ad0ad079ba4327bbde8": {
          "model_module": "@jupyter-widgets/base",
          "model_module_version": "1.2.0",
          "model_name": "LayoutModel",
          "state": {
            "_model_module": "@jupyter-widgets/base",
            "_model_module_version": "1.2.0",
            "_model_name": "LayoutModel",
            "_view_count": null,
            "_view_module": "@jupyter-widgets/base",
            "_view_module_version": "1.2.0",
            "_view_name": "LayoutView",
            "align_content": null,
            "align_items": null,
            "align_self": null,
            "border": null,
            "bottom": null,
            "display": null,
            "flex": null,
            "flex_flow": null,
            "grid_area": null,
            "grid_auto_columns": null,
            "grid_auto_flow": null,
            "grid_auto_rows": null,
            "grid_column": null,
            "grid_gap": null,
            "grid_row": null,
            "grid_template_areas": null,
            "grid_template_columns": null,
            "grid_template_rows": null,
            "height": "25px",
            "justify_content": null,
            "justify_items": null,
            "left": null,
            "margin": null,
            "max_height": null,
            "max_width": null,
            "min_height": null,
            "min_width": null,
            "object_fit": null,
            "object_position": null,
            "order": null,
            "overflow": null,
            "overflow_x": null,
            "overflow_y": null,
            "padding": null,
            "right": null,
            "top": null,
            "visibility": null,
            "width": "50%"
          }
        },
        "d6a83a53f294441c8368303ebcdbe38a": {
          "model_module": "@jupyter-widgets/controls",
          "model_module_version": "1.5.0",
          "model_name": "FloatProgressModel",
          "state": {
            "_dom_classes": [],
            "_model_module": "@jupyter-widgets/controls",
            "_model_module_version": "1.5.0",
            "_model_name": "FloatProgressModel",
            "_view_count": null,
            "_view_module": "@jupyter-widgets/controls",
            "_view_module_version": "1.5.0",
            "_view_name": "ProgressView",
            "bar_style": "info",
            "description": "Progress:",
            "description_tooltip": null,
            "layout": "IPY_MODEL_6897f0c7b10a4318aacd6a1cac017289",
            "max": 1,
            "min": 0,
            "orientation": "horizontal",
            "style": "IPY_MODEL_aa2cbebeb3584304a680268867da8eb6",
            "value": 0
          }
        },
        "d6de1238f7f8400880b6400ebdb945a5": {
          "model_module": "@jupyter-widgets/base",
          "model_module_version": "1.2.0",
          "model_name": "LayoutModel",
          "state": {
            "_model_module": "@jupyter-widgets/base",
            "_model_module_version": "1.2.0",
            "_model_name": "LayoutModel",
            "_view_count": null,
            "_view_module": "@jupyter-widgets/base",
            "_view_module_version": "1.2.0",
            "_view_name": "LayoutView",
            "align_content": null,
            "align_items": null,
            "align_self": null,
            "border": null,
            "bottom": null,
            "display": null,
            "flex": null,
            "flex_flow": null,
            "grid_area": null,
            "grid_auto_columns": null,
            "grid_auto_flow": null,
            "grid_auto_rows": null,
            "grid_column": null,
            "grid_gap": null,
            "grid_row": null,
            "grid_template_areas": null,
            "grid_template_columns": null,
            "grid_template_rows": null,
            "height": "25px",
            "justify_content": null,
            "justify_items": null,
            "left": null,
            "margin": null,
            "max_height": null,
            "max_width": null,
            "min_height": null,
            "min_width": null,
            "object_fit": null,
            "object_position": null,
            "order": null,
            "overflow": null,
            "overflow_x": null,
            "overflow_y": null,
            "padding": null,
            "right": null,
            "top": null,
            "visibility": null,
            "width": "50%"
          }
        },
        "d93087002bfb4600b53d0dfdb16c1b53": {
          "model_module": "@jupyter-widgets/controls",
          "model_module_version": "1.5.0",
          "model_name": "ProgressStyleModel",
          "state": {
            "_model_module": "@jupyter-widgets/controls",
            "_model_module_version": "1.5.0",
            "_model_name": "ProgressStyleModel",
            "_view_count": null,
            "_view_module": "@jupyter-widgets/base",
            "_view_module_version": "1.2.0",
            "_view_name": "StyleView",
            "bar_color": null,
            "description_width": ""
          }
        },
        "dbad83ed97604c89b056040d7373d749": {
          "model_module": "@jupyter-widgets/base",
          "model_module_version": "1.2.0",
          "model_name": "LayoutModel",
          "state": {
            "_model_module": "@jupyter-widgets/base",
            "_model_module_version": "1.2.0",
            "_model_name": "LayoutModel",
            "_view_count": null,
            "_view_module": "@jupyter-widgets/base",
            "_view_module_version": "1.2.0",
            "_view_name": "LayoutView",
            "align_content": null,
            "align_items": null,
            "align_self": null,
            "border": null,
            "bottom": null,
            "display": null,
            "flex": null,
            "flex_flow": null,
            "grid_area": null,
            "grid_auto_columns": null,
            "grid_auto_flow": null,
            "grid_auto_rows": null,
            "grid_column": null,
            "grid_gap": null,
            "grid_row": null,
            "grid_template_areas": null,
            "grid_template_columns": null,
            "grid_template_rows": null,
            "height": "25px",
            "justify_content": null,
            "justify_items": null,
            "left": null,
            "margin": null,
            "max_height": null,
            "max_width": null,
            "min_height": null,
            "min_width": null,
            "object_fit": null,
            "object_position": null,
            "order": null,
            "overflow": null,
            "overflow_x": null,
            "overflow_y": null,
            "padding": null,
            "right": null,
            "top": null,
            "visibility": null,
            "width": "50%"
          }
        },
        "e0832475162049118ab43f2da5dcfad4": {
          "model_module": "@jupyter-widgets/controls",
          "model_module_version": "1.5.0",
          "model_name": "ProgressStyleModel",
          "state": {
            "_model_module": "@jupyter-widgets/controls",
            "_model_module_version": "1.5.0",
            "_model_name": "ProgressStyleModel",
            "_view_count": null,
            "_view_module": "@jupyter-widgets/base",
            "_view_module_version": "1.2.0",
            "_view_name": "StyleView",
            "bar_color": null,
            "description_width": ""
          }
        },
        "e416de5bf7c349b8966fe55da07cafc1": {
          "model_module": "@jupyter-widgets/base",
          "model_module_version": "1.2.0",
          "model_name": "LayoutModel",
          "state": {
            "_model_module": "@jupyter-widgets/base",
            "_model_module_version": "1.2.0",
            "_model_name": "LayoutModel",
            "_view_count": null,
            "_view_module": "@jupyter-widgets/base",
            "_view_module_version": "1.2.0",
            "_view_name": "LayoutView",
            "align_content": null,
            "align_items": null,
            "align_self": null,
            "border": null,
            "bottom": null,
            "display": null,
            "flex": null,
            "flex_flow": null,
            "grid_area": null,
            "grid_auto_columns": null,
            "grid_auto_flow": null,
            "grid_auto_rows": null,
            "grid_column": null,
            "grid_gap": null,
            "grid_row": null,
            "grid_template_areas": null,
            "grid_template_columns": null,
            "grid_template_rows": null,
            "height": "25px",
            "justify_content": null,
            "justify_items": null,
            "left": null,
            "margin": null,
            "max_height": null,
            "max_width": null,
            "min_height": null,
            "min_width": null,
            "object_fit": null,
            "object_position": null,
            "order": null,
            "overflow": null,
            "overflow_x": null,
            "overflow_y": null,
            "padding": null,
            "right": null,
            "top": null,
            "visibility": null,
            "width": "50%"
          }
        },
        "e4da5937462c4569b4e27b8eb16bccfa": {
          "model_module": "@jupyter-widgets/base",
          "model_module_version": "1.2.0",
          "model_name": "LayoutModel",
          "state": {
            "_model_module": "@jupyter-widgets/base",
            "_model_module_version": "1.2.0",
            "_model_name": "LayoutModel",
            "_view_count": null,
            "_view_module": "@jupyter-widgets/base",
            "_view_module_version": "1.2.0",
            "_view_name": "LayoutView",
            "align_content": null,
            "align_items": null,
            "align_self": null,
            "border": null,
            "bottom": null,
            "display": null,
            "flex": null,
            "flex_flow": null,
            "grid_area": null,
            "grid_auto_columns": null,
            "grid_auto_flow": null,
            "grid_auto_rows": null,
            "grid_column": null,
            "grid_gap": null,
            "grid_row": null,
            "grid_template_areas": null,
            "grid_template_columns": null,
            "grid_template_rows": null,
            "height": "25px",
            "justify_content": null,
            "justify_items": null,
            "left": null,
            "margin": null,
            "max_height": null,
            "max_width": null,
            "min_height": null,
            "min_width": null,
            "object_fit": null,
            "object_position": null,
            "order": null,
            "overflow": null,
            "overflow_x": null,
            "overflow_y": null,
            "padding": null,
            "right": null,
            "top": null,
            "visibility": null,
            "width": "50%"
          }
        },
        "ec5f2beae82140708ff44a6e83f7a21b": {
          "model_module": "@jupyter-widgets/controls",
          "model_module_version": "1.5.0",
          "model_name": "ProgressStyleModel",
          "state": {
            "_model_module": "@jupyter-widgets/controls",
            "_model_module_version": "1.5.0",
            "_model_name": "ProgressStyleModel",
            "_view_count": null,
            "_view_module": "@jupyter-widgets/base",
            "_view_module_version": "1.2.0",
            "_view_name": "StyleView",
            "bar_color": null,
            "description_width": ""
          }
        },
        "f3ca8435dc9a402781b469f6d8803118": {
          "model_module": "@jupyter-widgets/base",
          "model_module_version": "1.2.0",
          "model_name": "LayoutModel",
          "state": {
            "_model_module": "@jupyter-widgets/base",
            "_model_module_version": "1.2.0",
            "_model_name": "LayoutModel",
            "_view_count": null,
            "_view_module": "@jupyter-widgets/base",
            "_view_module_version": "1.2.0",
            "_view_name": "LayoutView",
            "align_content": null,
            "align_items": null,
            "align_self": null,
            "border": null,
            "bottom": null,
            "display": null,
            "flex": null,
            "flex_flow": null,
            "grid_area": null,
            "grid_auto_columns": null,
            "grid_auto_flow": null,
            "grid_auto_rows": null,
            "grid_column": null,
            "grid_gap": null,
            "grid_row": null,
            "grid_template_areas": null,
            "grid_template_columns": null,
            "grid_template_rows": null,
            "height": "25px",
            "justify_content": null,
            "justify_items": null,
            "left": null,
            "margin": null,
            "max_height": null,
            "max_width": null,
            "min_height": null,
            "min_width": null,
            "object_fit": null,
            "object_position": null,
            "order": null,
            "overflow": null,
            "overflow_x": null,
            "overflow_y": null,
            "padding": null,
            "right": null,
            "top": null,
            "visibility": null,
            "width": "50%"
          }
        },
        "f5111e8f9684405cbf05c41c0b7c7bd8": {
          "model_module": "@jupyter-widgets/controls",
          "model_module_version": "1.5.0",
          "model_name": "ProgressStyleModel",
          "state": {
            "_model_module": "@jupyter-widgets/controls",
            "_model_module_version": "1.5.0",
            "_model_name": "ProgressStyleModel",
            "_view_count": null,
            "_view_module": "@jupyter-widgets/base",
            "_view_module_version": "1.2.0",
            "_view_name": "StyleView",
            "bar_color": null,
            "description_width": ""
          }
        },
        "f7b1eae1c48b4d88b782bc9cb6a9bb2c": {
          "model_module": "@jupyter-widgets/base",
          "model_module_version": "1.2.0",
          "model_name": "LayoutModel",
          "state": {
            "_model_module": "@jupyter-widgets/base",
            "_model_module_version": "1.2.0",
            "_model_name": "LayoutModel",
            "_view_count": null,
            "_view_module": "@jupyter-widgets/base",
            "_view_module_version": "1.2.0",
            "_view_name": "LayoutView",
            "align_content": null,
            "align_items": null,
            "align_self": null,
            "border": null,
            "bottom": null,
            "display": null,
            "flex": null,
            "flex_flow": null,
            "grid_area": null,
            "grid_auto_columns": null,
            "grid_auto_flow": null,
            "grid_auto_rows": null,
            "grid_column": null,
            "grid_gap": null,
            "grid_row": null,
            "grid_template_areas": null,
            "grid_template_columns": null,
            "grid_template_rows": null,
            "height": "25px",
            "justify_content": null,
            "justify_items": null,
            "left": null,
            "margin": null,
            "max_height": null,
            "max_width": null,
            "min_height": null,
            "min_width": null,
            "object_fit": null,
            "object_position": null,
            "order": null,
            "overflow": null,
            "overflow_x": null,
            "overflow_y": null,
            "padding": null,
            "right": null,
            "top": null,
            "visibility": null,
            "width": "50%"
          }
        },
        "f96e281455624fa4bf1aa2c4c2ced573": {
          "model_module": "@jupyter-widgets/controls",
          "model_module_version": "1.5.0",
          "model_name": "ProgressStyleModel",
          "state": {
            "_model_module": "@jupyter-widgets/controls",
            "_model_module_version": "1.5.0",
            "_model_name": "ProgressStyleModel",
            "_view_count": null,
            "_view_module": "@jupyter-widgets/base",
            "_view_module_version": "1.2.0",
            "_view_name": "StyleView",
            "bar_color": null,
            "description_width": ""
          }
        },
        "f9fd1f2e372d4f78936f47254b0e26c8": {
          "model_module": "@jupyter-widgets/base",
          "model_module_version": "1.2.0",
          "model_name": "LayoutModel",
          "state": {
            "_model_module": "@jupyter-widgets/base",
            "_model_module_version": "1.2.0",
            "_model_name": "LayoutModel",
            "_view_count": null,
            "_view_module": "@jupyter-widgets/base",
            "_view_module_version": "1.2.0",
            "_view_name": "LayoutView",
            "align_content": null,
            "align_items": null,
            "align_self": null,
            "border": null,
            "bottom": null,
            "display": null,
            "flex": null,
            "flex_flow": null,
            "grid_area": null,
            "grid_auto_columns": null,
            "grid_auto_flow": null,
            "grid_auto_rows": null,
            "grid_column": null,
            "grid_gap": null,
            "grid_row": null,
            "grid_template_areas": null,
            "grid_template_columns": null,
            "grid_template_rows": null,
            "height": "25px",
            "justify_content": null,
            "justify_items": null,
            "left": null,
            "margin": null,
            "max_height": null,
            "max_width": null,
            "min_height": null,
            "min_width": null,
            "object_fit": null,
            "object_position": null,
            "order": null,
            "overflow": null,
            "overflow_x": null,
            "overflow_y": null,
            "padding": null,
            "right": null,
            "top": null,
            "visibility": null,
            "width": "50%"
          }
        },
        "fbf08df0a02243b39d4fedf57ca5c630": {
          "model_module": "@jupyter-widgets/controls",
          "model_module_version": "1.5.0",
          "model_name": "ProgressStyleModel",
          "state": {
            "_model_module": "@jupyter-widgets/controls",
            "_model_module_version": "1.5.0",
            "_model_name": "ProgressStyleModel",
            "_view_count": null,
            "_view_module": "@jupyter-widgets/base",
            "_view_module_version": "1.2.0",
            "_view_name": "StyleView",
            "bar_color": null,
            "description_width": ""
          }
        }
      }
    }
  },
  "nbformat": 4,
  "nbformat_minor": 0
}